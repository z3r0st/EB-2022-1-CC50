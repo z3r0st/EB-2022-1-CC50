{
 "cells": [
  {
   "cell_type": "markdown",
   "id": "e21492ef",
   "metadata": {},
   "source": [
    "# Cargar los datos"
   ]
  },
  {
   "cell_type": "code",
   "execution_count": 9,
   "id": "91fe243d",
   "metadata": {
    "scrolled": true
   },
   "outputs": [],
   "source": [
    "import pandas as pd, numpy as np"
   ]
  },
  {
   "cell_type": "code",
   "execution_count": 10,
   "id": "2feaefd9",
   "metadata": {},
   "outputs": [],
   "source": [
    "url = \"https://raw.githubusercontent.com/z3r0st/EB-2022-1-CC50/main/data/CAvideos_cc50.csv\"\n",
    "df = pd.read_csv(url)"
   ]
  },
  {
   "cell_type": "code",
   "execution_count": 11,
   "id": "2741bef7",
   "metadata": {},
   "outputs": [],
   "source": [
    "url = \"https://raw.githubusercontent.com/z3r0st/EB-2022-1-CC50/main/data/CA_category_id.json\"\n",
    "categories = pd.read_json(url)"
   ]
  },
  {
   "cell_type": "markdown",
   "id": "c1cfc085",
   "metadata": {},
   "source": [
    "# Inspección de los datos"
   ]
  },
  {
   "cell_type": "markdown",
   "id": "482f278d",
   "metadata": {},
   "source": [
    "## DataFrame Principal"
   ]
  },
  {
   "cell_type": "code",
   "execution_count": 12,
   "id": "ba03c351",
   "metadata": {},
   "outputs": [
    {
     "data": {
      "text/html": [
       "<div>\n",
       "<style scoped>\n",
       "    .dataframe tbody tr th:only-of-type {\n",
       "        vertical-align: middle;\n",
       "    }\n",
       "\n",
       "    .dataframe tbody tr th {\n",
       "        vertical-align: top;\n",
       "    }\n",
       "\n",
       "    .dataframe thead th {\n",
       "        text-align: right;\n",
       "    }\n",
       "</style>\n",
       "<table border=\"1\" class=\"dataframe\">\n",
       "  <thead>\n",
       "    <tr style=\"text-align: right;\">\n",
       "      <th></th>\n",
       "      <th>video_id</th>\n",
       "      <th>trending_date</th>\n",
       "      <th>title</th>\n",
       "      <th>channel_title</th>\n",
       "      <th>category_id</th>\n",
       "      <th>publish_time</th>\n",
       "      <th>tags</th>\n",
       "      <th>views</th>\n",
       "      <th>likes</th>\n",
       "      <th>dislikes</th>\n",
       "      <th>comment_count</th>\n",
       "      <th>thumbnail_link</th>\n",
       "      <th>comments_disabled</th>\n",
       "      <th>ratings_disabled</th>\n",
       "      <th>video_error_or_removed</th>\n",
       "      <th>description</th>\n",
       "      <th>state</th>\n",
       "      <th>lat</th>\n",
       "      <th>lon</th>\n",
       "      <th>geometry</th>\n",
       "    </tr>\n",
       "  </thead>\n",
       "  <tbody>\n",
       "    <tr>\n",
       "      <th>0</th>\n",
       "      <td>n1WpP7iowLc</td>\n",
       "      <td>17.14.11</td>\n",
       "      <td>Eminem - Walk On Water (Audio) ft. Beyoncé</td>\n",
       "      <td>EminemVEVO</td>\n",
       "      <td>10</td>\n",
       "      <td>2017-11-10T17:00:03.000Z</td>\n",
       "      <td>Eminem|\"Walk\"|\"On\"|\"Water\"|\"Aftermath/Shady/In...</td>\n",
       "      <td>17158579</td>\n",
       "      <td>787425</td>\n",
       "      <td>43420</td>\n",
       "      <td>125882</td>\n",
       "      <td>https://i.ytimg.com/vi/n1WpP7iowLc/default.jpg</td>\n",
       "      <td>False</td>\n",
       "      <td>False</td>\n",
       "      <td>False</td>\n",
       "      <td>Eminem's new track Walk on Water ft. Beyoncé i...</td>\n",
       "      <td>Manitoba</td>\n",
       "      <td>50.150025</td>\n",
       "      <td>-96.883322</td>\n",
       "      <td>POINT (-96.88332178 50.15002545)</td>\n",
       "    </tr>\n",
       "    <tr>\n",
       "      <th>1</th>\n",
       "      <td>0dBIkQ4Mz1M</td>\n",
       "      <td>17.14.11</td>\n",
       "      <td>PLUSH - Bad Unboxing Fan Mail</td>\n",
       "      <td>iDubbbzTV</td>\n",
       "      <td>23</td>\n",
       "      <td>2017-11-13T17:00:00.000Z</td>\n",
       "      <td>plush|\"bad unboxing\"|\"unboxing\"|\"fan mail\"|\"id...</td>\n",
       "      <td>1014651</td>\n",
       "      <td>127794</td>\n",
       "      <td>1688</td>\n",
       "      <td>13030</td>\n",
       "      <td>https://i.ytimg.com/vi/0dBIkQ4Mz1M/default.jpg</td>\n",
       "      <td>False</td>\n",
       "      <td>False</td>\n",
       "      <td>False</td>\n",
       "      <td>STill got a lot of packages. Probably will las...</td>\n",
       "      <td>British Columbia</td>\n",
       "      <td>49.099960</td>\n",
       "      <td>-116.516697</td>\n",
       "      <td>POINT (-116.516697 49.09996035)</td>\n",
       "    </tr>\n",
       "    <tr>\n",
       "      <th>2</th>\n",
       "      <td>5qpjK5DgCt4</td>\n",
       "      <td>17.14.11</td>\n",
       "      <td>Racist Superman | Rudy Mancuso, King Bach &amp; Le...</td>\n",
       "      <td>Rudy Mancuso</td>\n",
       "      <td>23</td>\n",
       "      <td>2017-11-12T19:05:24.000Z</td>\n",
       "      <td>racist superman|\"rudy\"|\"mancuso\"|\"king\"|\"bach\"...</td>\n",
       "      <td>3191434</td>\n",
       "      <td>146035</td>\n",
       "      <td>5339</td>\n",
       "      <td>8181</td>\n",
       "      <td>https://i.ytimg.com/vi/5qpjK5DgCt4/default.jpg</td>\n",
       "      <td>False</td>\n",
       "      <td>False</td>\n",
       "      <td>False</td>\n",
       "      <td>WATCH MY PREVIOUS VIDEO ▶ \\n\\nSUBSCRIBE ► http...</td>\n",
       "      <td>New Brunswick</td>\n",
       "      <td>45.267042</td>\n",
       "      <td>-66.076675</td>\n",
       "      <td>POINT (-66.07667505000001 45.26704185)</td>\n",
       "    </tr>\n",
       "    <tr>\n",
       "      <th>3</th>\n",
       "      <td>d380meD0W0M</td>\n",
       "      <td>17.14.11</td>\n",
       "      <td>I Dare You: GOING BALD!?</td>\n",
       "      <td>nigahiga</td>\n",
       "      <td>24</td>\n",
       "      <td>2017-11-12T18:01:41.000Z</td>\n",
       "      <td>ryan|\"higa\"|\"higatv\"|\"nigahiga\"|\"i dare you\"|\"...</td>\n",
       "      <td>2095828</td>\n",
       "      <td>132239</td>\n",
       "      <td>1989</td>\n",
       "      <td>17518</td>\n",
       "      <td>https://i.ytimg.com/vi/d380meD0W0M/default.jpg</td>\n",
       "      <td>False</td>\n",
       "      <td>False</td>\n",
       "      <td>False</td>\n",
       "      <td>I know it's been a while since we did this sho...</td>\n",
       "      <td>Saskatchewan</td>\n",
       "      <td>50.933311</td>\n",
       "      <td>-102.799989</td>\n",
       "      <td>POINT (-102.7999891 50.93331097)</td>\n",
       "    </tr>\n",
       "    <tr>\n",
       "      <th>4</th>\n",
       "      <td>2Vv-BfVoq4g</td>\n",
       "      <td>17.14.11</td>\n",
       "      <td>Ed Sheeran - Perfect (Official Music Video)</td>\n",
       "      <td>Ed Sheeran</td>\n",
       "      <td>10</td>\n",
       "      <td>2017-11-09T11:04:14.000Z</td>\n",
       "      <td>edsheeran|\"ed sheeran\"|\"acoustic\"|\"live\"|\"cove...</td>\n",
       "      <td>33523622</td>\n",
       "      <td>1634130</td>\n",
       "      <td>21082</td>\n",
       "      <td>85067</td>\n",
       "      <td>https://i.ytimg.com/vi/2Vv-BfVoq4g/default.jpg</td>\n",
       "      <td>False</td>\n",
       "      <td>False</td>\n",
       "      <td>False</td>\n",
       "      <td>🎧: https://ad.gt/yt-perfect\\n💰: https://atlant...</td>\n",
       "      <td>Alberta</td>\n",
       "      <td>53.016698</td>\n",
       "      <td>-112.816639</td>\n",
       "      <td>POINT (-112.8166386 53.01669802)</td>\n",
       "    </tr>\n",
       "  </tbody>\n",
       "</table>\n",
       "</div>"
      ],
      "text/plain": [
       "      video_id trending_date  \\\n",
       "0  n1WpP7iowLc      17.14.11   \n",
       "1  0dBIkQ4Mz1M      17.14.11   \n",
       "2  5qpjK5DgCt4      17.14.11   \n",
       "3  d380meD0W0M      17.14.11   \n",
       "4  2Vv-BfVoq4g      17.14.11   \n",
       "\n",
       "                                               title channel_title  \\\n",
       "0         Eminem - Walk On Water (Audio) ft. Beyoncé    EminemVEVO   \n",
       "1                      PLUSH - Bad Unboxing Fan Mail     iDubbbzTV   \n",
       "2  Racist Superman | Rudy Mancuso, King Bach & Le...  Rudy Mancuso   \n",
       "3                           I Dare You: GOING BALD!?      nigahiga   \n",
       "4        Ed Sheeran - Perfect (Official Music Video)    Ed Sheeran   \n",
       "\n",
       "   category_id              publish_time  \\\n",
       "0           10  2017-11-10T17:00:03.000Z   \n",
       "1           23  2017-11-13T17:00:00.000Z   \n",
       "2           23  2017-11-12T19:05:24.000Z   \n",
       "3           24  2017-11-12T18:01:41.000Z   \n",
       "4           10  2017-11-09T11:04:14.000Z   \n",
       "\n",
       "                                                tags     views    likes  \\\n",
       "0  Eminem|\"Walk\"|\"On\"|\"Water\"|\"Aftermath/Shady/In...  17158579   787425   \n",
       "1  plush|\"bad unboxing\"|\"unboxing\"|\"fan mail\"|\"id...   1014651   127794   \n",
       "2  racist superman|\"rudy\"|\"mancuso\"|\"king\"|\"bach\"...   3191434   146035   \n",
       "3  ryan|\"higa\"|\"higatv\"|\"nigahiga\"|\"i dare you\"|\"...   2095828   132239   \n",
       "4  edsheeran|\"ed sheeran\"|\"acoustic\"|\"live\"|\"cove...  33523622  1634130   \n",
       "\n",
       "   dislikes  comment_count                                  thumbnail_link  \\\n",
       "0     43420         125882  https://i.ytimg.com/vi/n1WpP7iowLc/default.jpg   \n",
       "1      1688          13030  https://i.ytimg.com/vi/0dBIkQ4Mz1M/default.jpg   \n",
       "2      5339           8181  https://i.ytimg.com/vi/5qpjK5DgCt4/default.jpg   \n",
       "3      1989          17518  https://i.ytimg.com/vi/d380meD0W0M/default.jpg   \n",
       "4     21082          85067  https://i.ytimg.com/vi/2Vv-BfVoq4g/default.jpg   \n",
       "\n",
       "   comments_disabled  ratings_disabled  video_error_or_removed  \\\n",
       "0              False             False                   False   \n",
       "1              False             False                   False   \n",
       "2              False             False                   False   \n",
       "3              False             False                   False   \n",
       "4              False             False                   False   \n",
       "\n",
       "                                         description             state  \\\n",
       "0  Eminem's new track Walk on Water ft. Beyoncé i...          Manitoba   \n",
       "1  STill got a lot of packages. Probably will las...  British Columbia   \n",
       "2  WATCH MY PREVIOUS VIDEO ▶ \\n\\nSUBSCRIBE ► http...     New Brunswick   \n",
       "3  I know it's been a while since we did this sho...      Saskatchewan   \n",
       "4  🎧: https://ad.gt/yt-perfect\\n💰: https://atlant...           Alberta   \n",
       "\n",
       "         lat         lon                                geometry  \n",
       "0  50.150025  -96.883322        POINT (-96.88332178 50.15002545)  \n",
       "1  49.099960 -116.516697         POINT (-116.516697 49.09996035)  \n",
       "2  45.267042  -66.076675  POINT (-66.07667505000001 45.26704185)  \n",
       "3  50.933311 -102.799989        POINT (-102.7999891 50.93331097)  \n",
       "4  53.016698 -112.816639        POINT (-112.8166386 53.01669802)  "
      ]
     },
     "execution_count": 12,
     "metadata": {},
     "output_type": "execute_result"
    }
   ],
   "source": [
    "df.head()"
   ]
  },
  {
   "cell_type": "code",
   "execution_count": 13,
   "id": "e3251136",
   "metadata": {},
   "outputs": [
    {
     "name": "stdout",
     "output_type": "stream",
     "text": [
      "<class 'pandas.core.frame.DataFrame'>\n",
      "RangeIndex: 40881 entries, 0 to 40880\n",
      "Data columns (total 20 columns):\n",
      " #   Column                  Non-Null Count  Dtype  \n",
      "---  ------                  --------------  -----  \n",
      " 0   video_id                40881 non-null  object \n",
      " 1   trending_date           40881 non-null  object \n",
      " 2   title                   40881 non-null  object \n",
      " 3   channel_title           40881 non-null  object \n",
      " 4   category_id             40881 non-null  int64  \n",
      " 5   publish_time            40881 non-null  object \n",
      " 6   tags                    40881 non-null  object \n",
      " 7   views                   40881 non-null  int64  \n",
      " 8   likes                   40881 non-null  int64  \n",
      " 9   dislikes                40881 non-null  int64  \n",
      " 10  comment_count           40881 non-null  int64  \n",
      " 11  thumbnail_link          40881 non-null  object \n",
      " 12  comments_disabled       40881 non-null  bool   \n",
      " 13  ratings_disabled        40881 non-null  bool   \n",
      " 14  video_error_or_removed  40881 non-null  bool   \n",
      " 15  description             39585 non-null  object \n",
      " 16  state                   40881 non-null  object \n",
      " 17  lat                     40881 non-null  float64\n",
      " 18  lon                     40881 non-null  float64\n",
      " 19  geometry                40881 non-null  object \n",
      "dtypes: bool(3), float64(2), int64(5), object(10)\n",
      "memory usage: 5.4+ MB\n"
     ]
    }
   ],
   "source": [
    "df.info()"
   ]
  },
  {
   "cell_type": "code",
   "execution_count": 14,
   "id": "57dcc87d",
   "metadata": {},
   "outputs": [
    {
     "data": {
      "text/plain": [
       "video_id                     0\n",
       "trending_date                0\n",
       "title                        0\n",
       "channel_title                0\n",
       "category_id                  0\n",
       "publish_time                 0\n",
       "tags                         0\n",
       "views                        0\n",
       "likes                        0\n",
       "dislikes                     0\n",
       "comment_count                0\n",
       "thumbnail_link               0\n",
       "comments_disabled            0\n",
       "ratings_disabled             0\n",
       "video_error_or_removed       0\n",
       "description               1296\n",
       "state                        0\n",
       "lat                          0\n",
       "lon                          0\n",
       "geometry                     0\n",
       "dtype: int64"
      ]
     },
     "execution_count": 14,
     "metadata": {},
     "output_type": "execute_result"
    }
   ],
   "source": [
    "df.isna().sum()"
   ]
  },
  {
   "cell_type": "markdown",
   "id": "48cf2fb3",
   "metadata": {},
   "source": [
    "## Categorías"
   ]
  },
  {
   "cell_type": "code",
   "execution_count": 15,
   "id": "257dd04b",
   "metadata": {},
   "outputs": [
    {
     "data": {
      "text/html": [
       "<div>\n",
       "<style scoped>\n",
       "    .dataframe tbody tr th:only-of-type {\n",
       "        vertical-align: middle;\n",
       "    }\n",
       "\n",
       "    .dataframe tbody tr th {\n",
       "        vertical-align: top;\n",
       "    }\n",
       "\n",
       "    .dataframe thead th {\n",
       "        text-align: right;\n",
       "    }\n",
       "</style>\n",
       "<table border=\"1\" class=\"dataframe\">\n",
       "  <thead>\n",
       "    <tr style=\"text-align: right;\">\n",
       "      <th></th>\n",
       "      <th>kind</th>\n",
       "      <th>etag</th>\n",
       "      <th>items</th>\n",
       "    </tr>\n",
       "  </thead>\n",
       "  <tbody>\n",
       "    <tr>\n",
       "      <th>0</th>\n",
       "      <td>youtube#videoCategoryListResponse</td>\n",
       "      <td>\"ld9biNPKjAjgjV7EZ4EKeEGrhao/1v2mrzYSYG6onNLt2...</td>\n",
       "      <td>{'kind': 'youtube#videoCategory', 'etag': '\"ld...</td>\n",
       "    </tr>\n",
       "    <tr>\n",
       "      <th>1</th>\n",
       "      <td>youtube#videoCategoryListResponse</td>\n",
       "      <td>\"ld9biNPKjAjgjV7EZ4EKeEGrhao/1v2mrzYSYG6onNLt2...</td>\n",
       "      <td>{'kind': 'youtube#videoCategory', 'etag': '\"ld...</td>\n",
       "    </tr>\n",
       "    <tr>\n",
       "      <th>2</th>\n",
       "      <td>youtube#videoCategoryListResponse</td>\n",
       "      <td>\"ld9biNPKjAjgjV7EZ4EKeEGrhao/1v2mrzYSYG6onNLt2...</td>\n",
       "      <td>{'kind': 'youtube#videoCategory', 'etag': '\"ld...</td>\n",
       "    </tr>\n",
       "    <tr>\n",
       "      <th>3</th>\n",
       "      <td>youtube#videoCategoryListResponse</td>\n",
       "      <td>\"ld9biNPKjAjgjV7EZ4EKeEGrhao/1v2mrzYSYG6onNLt2...</td>\n",
       "      <td>{'kind': 'youtube#videoCategory', 'etag': '\"ld...</td>\n",
       "    </tr>\n",
       "    <tr>\n",
       "      <th>4</th>\n",
       "      <td>youtube#videoCategoryListResponse</td>\n",
       "      <td>\"ld9biNPKjAjgjV7EZ4EKeEGrhao/1v2mrzYSYG6onNLt2...</td>\n",
       "      <td>{'kind': 'youtube#videoCategory', 'etag': '\"ld...</td>\n",
       "    </tr>\n",
       "  </tbody>\n",
       "</table>\n",
       "</div>"
      ],
      "text/plain": [
       "                                kind  \\\n",
       "0  youtube#videoCategoryListResponse   \n",
       "1  youtube#videoCategoryListResponse   \n",
       "2  youtube#videoCategoryListResponse   \n",
       "3  youtube#videoCategoryListResponse   \n",
       "4  youtube#videoCategoryListResponse   \n",
       "\n",
       "                                                etag  \\\n",
       "0  \"ld9biNPKjAjgjV7EZ4EKeEGrhao/1v2mrzYSYG6onNLt2...   \n",
       "1  \"ld9biNPKjAjgjV7EZ4EKeEGrhao/1v2mrzYSYG6onNLt2...   \n",
       "2  \"ld9biNPKjAjgjV7EZ4EKeEGrhao/1v2mrzYSYG6onNLt2...   \n",
       "3  \"ld9biNPKjAjgjV7EZ4EKeEGrhao/1v2mrzYSYG6onNLt2...   \n",
       "4  \"ld9biNPKjAjgjV7EZ4EKeEGrhao/1v2mrzYSYG6onNLt2...   \n",
       "\n",
       "                                               items  \n",
       "0  {'kind': 'youtube#videoCategory', 'etag': '\"ld...  \n",
       "1  {'kind': 'youtube#videoCategory', 'etag': '\"ld...  \n",
       "2  {'kind': 'youtube#videoCategory', 'etag': '\"ld...  \n",
       "3  {'kind': 'youtube#videoCategory', 'etag': '\"ld...  \n",
       "4  {'kind': 'youtube#videoCategory', 'etag': '\"ld...  "
      ]
     },
     "execution_count": 15,
     "metadata": {},
     "output_type": "execute_result"
    }
   ],
   "source": [
    "categories.head()"
   ]
  },
  {
   "cell_type": "code",
   "execution_count": 16,
   "id": "ac0e7042",
   "metadata": {},
   "outputs": [
    {
     "data": {
      "text/plain": [
       "RangeIndex(start=0, stop=31, step=1)"
      ]
     },
     "execution_count": 16,
     "metadata": {},
     "output_type": "execute_result"
    }
   ],
   "source": [
    "categories.index"
   ]
  },
  {
   "cell_type": "code",
   "execution_count": 17,
   "id": "08623316",
   "metadata": {},
   "outputs": [
    {
     "data": {
      "text/plain": [
       "Index(['kind', 'etag', 'items'], dtype='object')"
      ]
     },
     "execution_count": 17,
     "metadata": {},
     "output_type": "execute_result"
    }
   ],
   "source": [
    "categories.columns"
   ]
  },
  {
   "cell_type": "code",
   "execution_count": 18,
   "id": "8cc05da2",
   "metadata": {},
   "outputs": [
    {
     "data": {
      "text/plain": [
       "0    {'kind': 'youtube#videoCategory', 'etag': '\"ld...\n",
       "1    {'kind': 'youtube#videoCategory', 'etag': '\"ld...\n",
       "2    {'kind': 'youtube#videoCategory', 'etag': '\"ld...\n",
       "3    {'kind': 'youtube#videoCategory', 'etag': '\"ld...\n",
       "4    {'kind': 'youtube#videoCategory', 'etag': '\"ld...\n",
       "Name: items, dtype: object"
      ]
     },
     "execution_count": 18,
     "metadata": {},
     "output_type": "execute_result"
    }
   ],
   "source": [
    "categories[\"items\"].head()"
   ]
  },
  {
   "cell_type": "code",
   "execution_count": 19,
   "id": "a59c00e2",
   "metadata": {},
   "outputs": [
    {
     "name": "stdout",
     "output_type": "stream",
     "text": [
      "<class 'pandas.core.frame.DataFrame'>\n",
      "RangeIndex: 31 entries, 0 to 30\n",
      "Data columns (total 3 columns):\n",
      " #   Column  Non-Null Count  Dtype \n",
      "---  ------  --------------  ----- \n",
      " 0   kind    31 non-null     object\n",
      " 1   etag    31 non-null     object\n",
      " 2   items   31 non-null     object\n",
      "dtypes: object(3)\n",
      "memory usage: 872.0+ bytes\n"
     ]
    }
   ],
   "source": [
    "categories.info()"
   ]
  },
  {
   "cell_type": "code",
   "execution_count": 20,
   "id": "3ac15048",
   "metadata": {},
   "outputs": [
    {
     "data": {
      "text/plain": [
       "array([{'kind': 'youtube#videoCategory', 'etag': '\"ld9biNPKjAjgjV7EZ4EKeEGrhao/Xy1mB4_yLrHy_BmKmPBggty2mZQ\"', 'id': '1', 'snippet': {'channelId': 'UCBR8-60-B28hp2BmDPdntcQ', 'title': 'Film & Animation', 'assignable': True}},\n",
       "       {'kind': 'youtube#videoCategory', 'etag': '\"ld9biNPKjAjgjV7EZ4EKeEGrhao/UZ1oLIIz2dxIhO45ZTFR3a3NyTA\"', 'id': '2', 'snippet': {'channelId': 'UCBR8-60-B28hp2BmDPdntcQ', 'title': 'Autos & Vehicles', 'assignable': True}},\n",
       "       {'kind': 'youtube#videoCategory', 'etag': '\"ld9biNPKjAjgjV7EZ4EKeEGrhao/nqRIq97-xe5XRZTxbknKFVe5Lmg\"', 'id': '10', 'snippet': {'channelId': 'UCBR8-60-B28hp2BmDPdntcQ', 'title': 'Music', 'assignable': True}},\n",
       "       {'kind': 'youtube#videoCategory', 'etag': '\"ld9biNPKjAjgjV7EZ4EKeEGrhao/HwXKamM1Q20q9BN-oBJavSGkfDI\"', 'id': '15', 'snippet': {'channelId': 'UCBR8-60-B28hp2BmDPdntcQ', 'title': 'Pets & Animals', 'assignable': True}},\n",
       "       {'kind': 'youtube#videoCategory', 'etag': '\"ld9biNPKjAjgjV7EZ4EKeEGrhao/9GQMSRjrZdHeb1OEM1XVQ9zbGec\"', 'id': '17', 'snippet': {'channelId': 'UCBR8-60-B28hp2BmDPdntcQ', 'title': 'Sports', 'assignable': True}}],\n",
       "      dtype=object)"
      ]
     },
     "execution_count": 20,
     "metadata": {},
     "output_type": "execute_result"
    }
   ],
   "source": [
    "categories[\"items\"].values[:5]"
   ]
  },
  {
   "cell_type": "code",
   "execution_count": 21,
   "id": "2aa2a556",
   "metadata": {},
   "outputs": [
    {
     "data": {
      "text/plain": [
       "[{'kind': 'youtube#videoCategory',\n",
       "  'etag': '\"ld9biNPKjAjgjV7EZ4EKeEGrhao/Xy1mB4_yLrHy_BmKmPBggty2mZQ\"',\n",
       "  'id': '1',\n",
       "  'snippet': {'channelId': 'UCBR8-60-B28hp2BmDPdntcQ',\n",
       "   'title': 'Film & Animation',\n",
       "   'assignable': True}},\n",
       " {'kind': 'youtube#videoCategory',\n",
       "  'etag': '\"ld9biNPKjAjgjV7EZ4EKeEGrhao/UZ1oLIIz2dxIhO45ZTFR3a3NyTA\"',\n",
       "  'id': '2',\n",
       "  'snippet': {'channelId': 'UCBR8-60-B28hp2BmDPdntcQ',\n",
       "   'title': 'Autos & Vehicles',\n",
       "   'assignable': True}},\n",
       " {'kind': 'youtube#videoCategory',\n",
       "  'etag': '\"ld9biNPKjAjgjV7EZ4EKeEGrhao/nqRIq97-xe5XRZTxbknKFVe5Lmg\"',\n",
       "  'id': '10',\n",
       "  'snippet': {'channelId': 'UCBR8-60-B28hp2BmDPdntcQ',\n",
       "   'title': 'Music',\n",
       "   'assignable': True}},\n",
       " {'kind': 'youtube#videoCategory',\n",
       "  'etag': '\"ld9biNPKjAjgjV7EZ4EKeEGrhao/HwXKamM1Q20q9BN-oBJavSGkfDI\"',\n",
       "  'id': '15',\n",
       "  'snippet': {'channelId': 'UCBR8-60-B28hp2BmDPdntcQ',\n",
       "   'title': 'Pets & Animals',\n",
       "   'assignable': True}},\n",
       " {'kind': 'youtube#videoCategory',\n",
       "  'etag': '\"ld9biNPKjAjgjV7EZ4EKeEGrhao/9GQMSRjrZdHeb1OEM1XVQ9zbGec\"',\n",
       "  'id': '17',\n",
       "  'snippet': {'channelId': 'UCBR8-60-B28hp2BmDPdntcQ',\n",
       "   'title': 'Sports',\n",
       "   'assignable': True}}]"
      ]
     },
     "execution_count": 21,
     "metadata": {},
     "output_type": "execute_result"
    }
   ],
   "source": [
    "categories[\"items\"].values.tolist()[:5]"
   ]
  },
  {
   "cell_type": "markdown",
   "id": "81e0b303",
   "metadata": {},
   "source": [
    "### Visualizar valores de la columna items"
   ]
  },
  {
   "cell_type": "code",
   "execution_count": 22,
   "id": "34a58723",
   "metadata": {},
   "outputs": [],
   "source": [
    "import urllib.request, json"
   ]
  },
  {
   "cell_type": "code",
   "execution_count": 23,
   "id": "3f417288",
   "metadata": {},
   "outputs": [],
   "source": [
    "url = \"https://raw.githubusercontent.com/z3r0st/EB-2022-1-CC50/main/data/CA_category_id.json\"                   \n",
    "with urllib.request.urlopen(url) as file:\n",
    "    cat_data = json.loads(file.read().decode())\n",
    "items = pd.json_normalize(cat_data, \"items\", record_prefix=\"item_\")"
   ]
  },
  {
   "cell_type": "code",
   "execution_count": 24,
   "id": "04294f56",
   "metadata": {},
   "outputs": [
    {
     "data": {
      "text/html": [
       "<div>\n",
       "<style scoped>\n",
       "    .dataframe tbody tr th:only-of-type {\n",
       "        vertical-align: middle;\n",
       "    }\n",
       "\n",
       "    .dataframe tbody tr th {\n",
       "        vertical-align: top;\n",
       "    }\n",
       "\n",
       "    .dataframe thead th {\n",
       "        text-align: right;\n",
       "    }\n",
       "</style>\n",
       "<table border=\"1\" class=\"dataframe\">\n",
       "  <thead>\n",
       "    <tr style=\"text-align: right;\">\n",
       "      <th></th>\n",
       "      <th>item_kind</th>\n",
       "      <th>item_etag</th>\n",
       "      <th>item_id</th>\n",
       "      <th>item_snippet.channelId</th>\n",
       "      <th>item_snippet.title</th>\n",
       "      <th>item_snippet.assignable</th>\n",
       "    </tr>\n",
       "  </thead>\n",
       "  <tbody>\n",
       "    <tr>\n",
       "      <th>0</th>\n",
       "      <td>youtube#videoCategory</td>\n",
       "      <td>\"ld9biNPKjAjgjV7EZ4EKeEGrhao/Xy1mB4_yLrHy_BmKm...</td>\n",
       "      <td>1</td>\n",
       "      <td>UCBR8-60-B28hp2BmDPdntcQ</td>\n",
       "      <td>Film &amp; Animation</td>\n",
       "      <td>True</td>\n",
       "    </tr>\n",
       "    <tr>\n",
       "      <th>1</th>\n",
       "      <td>youtube#videoCategory</td>\n",
       "      <td>\"ld9biNPKjAjgjV7EZ4EKeEGrhao/UZ1oLIIz2dxIhO45Z...</td>\n",
       "      <td>2</td>\n",
       "      <td>UCBR8-60-B28hp2BmDPdntcQ</td>\n",
       "      <td>Autos &amp; Vehicles</td>\n",
       "      <td>True</td>\n",
       "    </tr>\n",
       "    <tr>\n",
       "      <th>2</th>\n",
       "      <td>youtube#videoCategory</td>\n",
       "      <td>\"ld9biNPKjAjgjV7EZ4EKeEGrhao/nqRIq97-xe5XRZTxb...</td>\n",
       "      <td>10</td>\n",
       "      <td>UCBR8-60-B28hp2BmDPdntcQ</td>\n",
       "      <td>Music</td>\n",
       "      <td>True</td>\n",
       "    </tr>\n",
       "    <tr>\n",
       "      <th>3</th>\n",
       "      <td>youtube#videoCategory</td>\n",
       "      <td>\"ld9biNPKjAjgjV7EZ4EKeEGrhao/HwXKamM1Q20q9BN-o...</td>\n",
       "      <td>15</td>\n",
       "      <td>UCBR8-60-B28hp2BmDPdntcQ</td>\n",
       "      <td>Pets &amp; Animals</td>\n",
       "      <td>True</td>\n",
       "    </tr>\n",
       "    <tr>\n",
       "      <th>4</th>\n",
       "      <td>youtube#videoCategory</td>\n",
       "      <td>\"ld9biNPKjAjgjV7EZ4EKeEGrhao/9GQMSRjrZdHeb1OEM...</td>\n",
       "      <td>17</td>\n",
       "      <td>UCBR8-60-B28hp2BmDPdntcQ</td>\n",
       "      <td>Sports</td>\n",
       "      <td>True</td>\n",
       "    </tr>\n",
       "  </tbody>\n",
       "</table>\n",
       "</div>"
      ],
      "text/plain": [
       "               item_kind                                          item_etag  \\\n",
       "0  youtube#videoCategory  \"ld9biNPKjAjgjV7EZ4EKeEGrhao/Xy1mB4_yLrHy_BmKm...   \n",
       "1  youtube#videoCategory  \"ld9biNPKjAjgjV7EZ4EKeEGrhao/UZ1oLIIz2dxIhO45Z...   \n",
       "2  youtube#videoCategory  \"ld9biNPKjAjgjV7EZ4EKeEGrhao/nqRIq97-xe5XRZTxb...   \n",
       "3  youtube#videoCategory  \"ld9biNPKjAjgjV7EZ4EKeEGrhao/HwXKamM1Q20q9BN-o...   \n",
       "4  youtube#videoCategory  \"ld9biNPKjAjgjV7EZ4EKeEGrhao/9GQMSRjrZdHeb1OEM...   \n",
       "\n",
       "  item_id    item_snippet.channelId item_snippet.title  \\\n",
       "0       1  UCBR8-60-B28hp2BmDPdntcQ   Film & Animation   \n",
       "1       2  UCBR8-60-B28hp2BmDPdntcQ   Autos & Vehicles   \n",
       "2      10  UCBR8-60-B28hp2BmDPdntcQ              Music   \n",
       "3      15  UCBR8-60-B28hp2BmDPdntcQ     Pets & Animals   \n",
       "4      17  UCBR8-60-B28hp2BmDPdntcQ             Sports   \n",
       "\n",
       "   item_snippet.assignable  \n",
       "0                     True  \n",
       "1                     True  \n",
       "2                     True  \n",
       "3                     True  \n",
       "4                     True  "
      ]
     },
     "execution_count": 24,
     "metadata": {},
     "output_type": "execute_result"
    }
   ],
   "source": [
    "items.head()"
   ]
  },
  {
   "cell_type": "markdown",
   "id": "65658fb3",
   "metadata": {},
   "source": [
    "# Pre-procesar los datos"
   ]
  },
  {
   "cell_type": "markdown",
   "id": "d62881d2",
   "metadata": {},
   "source": [
    "## Añadir la información de categorías"
   ]
  },
  {
   "cell_type": "markdown",
   "id": "4aec4685",
   "metadata": {},
   "source": [
    "Se debe mofificar la estructura del DataFrame cat (categories) ya que se deben extraer los atributos anidados en \"items\" y posteriormente, aquellos anidados en \"snippet\".\n",
    "\n",
    "De esta forma se obtiene el DataFrame que tiene en cada fila la información de una categoría."
   ]
  },
  {
   "cell_type": "code",
   "execution_count": 25,
   "id": "03c8abff",
   "metadata": {},
   "outputs": [],
   "source": [
    "cat = pd.DataFrame(categories[\"items\"].values.tolist())\n",
    "cat[\"channelId\"] = pd.DataFrame(cat[\"snippet\"].values.tolist())[\"channelId\"]\n",
    "cat[\"title\"] = pd.DataFrame(cat[\"snippet\"].values.tolist())[\"title\"]\n",
    "cat[\"assignable\"] = pd.DataFrame(cat[\"snippet\"].values.tolist())[\"assignable\"]\n",
    "del cat[\"snippet\"]"
   ]
  },
  {
   "cell_type": "code",
   "execution_count": 26,
   "id": "bc79b725",
   "metadata": {},
   "outputs": [
    {
     "data": {
      "text/html": [
       "<div>\n",
       "<style scoped>\n",
       "    .dataframe tbody tr th:only-of-type {\n",
       "        vertical-align: middle;\n",
       "    }\n",
       "\n",
       "    .dataframe tbody tr th {\n",
       "        vertical-align: top;\n",
       "    }\n",
       "\n",
       "    .dataframe thead th {\n",
       "        text-align: right;\n",
       "    }\n",
       "</style>\n",
       "<table border=\"1\" class=\"dataframe\">\n",
       "  <thead>\n",
       "    <tr style=\"text-align: right;\">\n",
       "      <th></th>\n",
       "      <th>kind</th>\n",
       "      <th>etag</th>\n",
       "      <th>id</th>\n",
       "      <th>channelId</th>\n",
       "      <th>title</th>\n",
       "      <th>assignable</th>\n",
       "    </tr>\n",
       "  </thead>\n",
       "  <tbody>\n",
       "    <tr>\n",
       "      <th>0</th>\n",
       "      <td>youtube#videoCategory</td>\n",
       "      <td>\"ld9biNPKjAjgjV7EZ4EKeEGrhao/Xy1mB4_yLrHy_BmKm...</td>\n",
       "      <td>1</td>\n",
       "      <td>UCBR8-60-B28hp2BmDPdntcQ</td>\n",
       "      <td>Film &amp; Animation</td>\n",
       "      <td>True</td>\n",
       "    </tr>\n",
       "    <tr>\n",
       "      <th>1</th>\n",
       "      <td>youtube#videoCategory</td>\n",
       "      <td>\"ld9biNPKjAjgjV7EZ4EKeEGrhao/UZ1oLIIz2dxIhO45Z...</td>\n",
       "      <td>2</td>\n",
       "      <td>UCBR8-60-B28hp2BmDPdntcQ</td>\n",
       "      <td>Autos &amp; Vehicles</td>\n",
       "      <td>True</td>\n",
       "    </tr>\n",
       "    <tr>\n",
       "      <th>2</th>\n",
       "      <td>youtube#videoCategory</td>\n",
       "      <td>\"ld9biNPKjAjgjV7EZ4EKeEGrhao/nqRIq97-xe5XRZTxb...</td>\n",
       "      <td>10</td>\n",
       "      <td>UCBR8-60-B28hp2BmDPdntcQ</td>\n",
       "      <td>Music</td>\n",
       "      <td>True</td>\n",
       "    </tr>\n",
       "    <tr>\n",
       "      <th>3</th>\n",
       "      <td>youtube#videoCategory</td>\n",
       "      <td>\"ld9biNPKjAjgjV7EZ4EKeEGrhao/HwXKamM1Q20q9BN-o...</td>\n",
       "      <td>15</td>\n",
       "      <td>UCBR8-60-B28hp2BmDPdntcQ</td>\n",
       "      <td>Pets &amp; Animals</td>\n",
       "      <td>True</td>\n",
       "    </tr>\n",
       "    <tr>\n",
       "      <th>4</th>\n",
       "      <td>youtube#videoCategory</td>\n",
       "      <td>\"ld9biNPKjAjgjV7EZ4EKeEGrhao/9GQMSRjrZdHeb1OEM...</td>\n",
       "      <td>17</td>\n",
       "      <td>UCBR8-60-B28hp2BmDPdntcQ</td>\n",
       "      <td>Sports</td>\n",
       "      <td>True</td>\n",
       "    </tr>\n",
       "  </tbody>\n",
       "</table>\n",
       "</div>"
      ],
      "text/plain": [
       "                    kind                                               etag  \\\n",
       "0  youtube#videoCategory  \"ld9biNPKjAjgjV7EZ4EKeEGrhao/Xy1mB4_yLrHy_BmKm...   \n",
       "1  youtube#videoCategory  \"ld9biNPKjAjgjV7EZ4EKeEGrhao/UZ1oLIIz2dxIhO45Z...   \n",
       "2  youtube#videoCategory  \"ld9biNPKjAjgjV7EZ4EKeEGrhao/nqRIq97-xe5XRZTxb...   \n",
       "3  youtube#videoCategory  \"ld9biNPKjAjgjV7EZ4EKeEGrhao/HwXKamM1Q20q9BN-o...   \n",
       "4  youtube#videoCategory  \"ld9biNPKjAjgjV7EZ4EKeEGrhao/9GQMSRjrZdHeb1OEM...   \n",
       "\n",
       "   id                 channelId             title  assignable  \n",
       "0   1  UCBR8-60-B28hp2BmDPdntcQ  Film & Animation        True  \n",
       "1   2  UCBR8-60-B28hp2BmDPdntcQ  Autos & Vehicles        True  \n",
       "2  10  UCBR8-60-B28hp2BmDPdntcQ             Music        True  \n",
       "3  15  UCBR8-60-B28hp2BmDPdntcQ    Pets & Animals        True  \n",
       "4  17  UCBR8-60-B28hp2BmDPdntcQ            Sports        True  "
      ]
     },
     "execution_count": 26,
     "metadata": {},
     "output_type": "execute_result"
    }
   ],
   "source": [
    "cat.head()"
   ]
  },
  {
   "cell_type": "code",
   "execution_count": 27,
   "id": "5f24caed",
   "metadata": {},
   "outputs": [
    {
     "data": {
      "text/html": [
       "<div>\n",
       "<style scoped>\n",
       "    .dataframe tbody tr th:only-of-type {\n",
       "        vertical-align: middle;\n",
       "    }\n",
       "\n",
       "    .dataframe tbody tr th {\n",
       "        vertical-align: top;\n",
       "    }\n",
       "\n",
       "    .dataframe thead th {\n",
       "        text-align: right;\n",
       "    }\n",
       "</style>\n",
       "<table border=\"1\" class=\"dataframe\">\n",
       "  <thead>\n",
       "    <tr style=\"text-align: right;\">\n",
       "      <th></th>\n",
       "      <th>title</th>\n",
       "      <th>assignable</th>\n",
       "      <th>channelId</th>\n",
       "      <th>etag</th>\n",
       "    </tr>\n",
       "  </thead>\n",
       "  <tbody>\n",
       "    <tr>\n",
       "      <th>0</th>\n",
       "      <td>Film &amp; Animation</td>\n",
       "      <td>True</td>\n",
       "      <td>UCBR8-60-B28hp2BmDPdntcQ</td>\n",
       "      <td>\"ld9biNPKjAjgjV7EZ4EKeEGrhao/Xy1mB4_yLrHy_BmKm...</td>\n",
       "    </tr>\n",
       "    <tr>\n",
       "      <th>1</th>\n",
       "      <td>Autos &amp; Vehicles</td>\n",
       "      <td>True</td>\n",
       "      <td>UCBR8-60-B28hp2BmDPdntcQ</td>\n",
       "      <td>\"ld9biNPKjAjgjV7EZ4EKeEGrhao/UZ1oLIIz2dxIhO45Z...</td>\n",
       "    </tr>\n",
       "    <tr>\n",
       "      <th>2</th>\n",
       "      <td>Music</td>\n",
       "      <td>True</td>\n",
       "      <td>UCBR8-60-B28hp2BmDPdntcQ</td>\n",
       "      <td>\"ld9biNPKjAjgjV7EZ4EKeEGrhao/nqRIq97-xe5XRZTxb...</td>\n",
       "    </tr>\n",
       "    <tr>\n",
       "      <th>3</th>\n",
       "      <td>Pets &amp; Animals</td>\n",
       "      <td>True</td>\n",
       "      <td>UCBR8-60-B28hp2BmDPdntcQ</td>\n",
       "      <td>\"ld9biNPKjAjgjV7EZ4EKeEGrhao/HwXKamM1Q20q9BN-o...</td>\n",
       "    </tr>\n",
       "    <tr>\n",
       "      <th>4</th>\n",
       "      <td>Sports</td>\n",
       "      <td>True</td>\n",
       "      <td>UCBR8-60-B28hp2BmDPdntcQ</td>\n",
       "      <td>\"ld9biNPKjAjgjV7EZ4EKeEGrhao/9GQMSRjrZdHeb1OEM...</td>\n",
       "    </tr>\n",
       "  </tbody>\n",
       "</table>\n",
       "</div>"
      ],
      "text/plain": [
       "              title  assignable                 channelId  \\\n",
       "0  Film & Animation        True  UCBR8-60-B28hp2BmDPdntcQ   \n",
       "1  Autos & Vehicles        True  UCBR8-60-B28hp2BmDPdntcQ   \n",
       "2             Music        True  UCBR8-60-B28hp2BmDPdntcQ   \n",
       "3    Pets & Animals        True  UCBR8-60-B28hp2BmDPdntcQ   \n",
       "4            Sports        True  UCBR8-60-B28hp2BmDPdntcQ   \n",
       "\n",
       "                                                etag  \n",
       "0  \"ld9biNPKjAjgjV7EZ4EKeEGrhao/Xy1mB4_yLrHy_BmKm...  \n",
       "1  \"ld9biNPKjAjgjV7EZ4EKeEGrhao/UZ1oLIIz2dxIhO45Z...  \n",
       "2  \"ld9biNPKjAjgjV7EZ4EKeEGrhao/nqRIq97-xe5XRZTxb...  \n",
       "3  \"ld9biNPKjAjgjV7EZ4EKeEGrhao/HwXKamM1Q20q9BN-o...  \n",
       "4  \"ld9biNPKjAjgjV7EZ4EKeEGrhao/9GQMSRjrZdHeb1OEM...  "
      ]
     },
     "execution_count": 27,
     "metadata": {},
     "output_type": "execute_result"
    }
   ],
   "source": [
    "cat[[\"title\", \"assignable\", \"channelId\", \"etag\"]].head()"
   ]
  },
  {
   "cell_type": "code",
   "execution_count": 28,
   "id": "f7e9e127",
   "metadata": {},
   "outputs": [],
   "source": [
    "cat.index = cat[\"id\"]\n",
    "# cat.set_index(\"id\")"
   ]
  },
  {
   "cell_type": "code",
   "execution_count": 29,
   "id": "06a4918c",
   "metadata": {},
   "outputs": [
    {
     "data": {
      "text/html": [
       "<div>\n",
       "<style scoped>\n",
       "    .dataframe tbody tr th:only-of-type {\n",
       "        vertical-align: middle;\n",
       "    }\n",
       "\n",
       "    .dataframe tbody tr th {\n",
       "        vertical-align: top;\n",
       "    }\n",
       "\n",
       "    .dataframe thead th {\n",
       "        text-align: right;\n",
       "    }\n",
       "</style>\n",
       "<table border=\"1\" class=\"dataframe\">\n",
       "  <thead>\n",
       "    <tr style=\"text-align: right;\">\n",
       "      <th></th>\n",
       "      <th>title</th>\n",
       "      <th>assignable</th>\n",
       "      <th>channelId</th>\n",
       "      <th>etag</th>\n",
       "    </tr>\n",
       "    <tr>\n",
       "      <th>id</th>\n",
       "      <th></th>\n",
       "      <th></th>\n",
       "      <th></th>\n",
       "      <th></th>\n",
       "    </tr>\n",
       "  </thead>\n",
       "  <tbody>\n",
       "    <tr>\n",
       "      <th>1</th>\n",
       "      <td>Film &amp; Animation</td>\n",
       "      <td>True</td>\n",
       "      <td>UCBR8-60-B28hp2BmDPdntcQ</td>\n",
       "      <td>\"ld9biNPKjAjgjV7EZ4EKeEGrhao/Xy1mB4_yLrHy_BmKm...</td>\n",
       "    </tr>\n",
       "    <tr>\n",
       "      <th>2</th>\n",
       "      <td>Autos &amp; Vehicles</td>\n",
       "      <td>True</td>\n",
       "      <td>UCBR8-60-B28hp2BmDPdntcQ</td>\n",
       "      <td>\"ld9biNPKjAjgjV7EZ4EKeEGrhao/UZ1oLIIz2dxIhO45Z...</td>\n",
       "    </tr>\n",
       "    <tr>\n",
       "      <th>10</th>\n",
       "      <td>Music</td>\n",
       "      <td>True</td>\n",
       "      <td>UCBR8-60-B28hp2BmDPdntcQ</td>\n",
       "      <td>\"ld9biNPKjAjgjV7EZ4EKeEGrhao/nqRIq97-xe5XRZTxb...</td>\n",
       "    </tr>\n",
       "    <tr>\n",
       "      <th>15</th>\n",
       "      <td>Pets &amp; Animals</td>\n",
       "      <td>True</td>\n",
       "      <td>UCBR8-60-B28hp2BmDPdntcQ</td>\n",
       "      <td>\"ld9biNPKjAjgjV7EZ4EKeEGrhao/HwXKamM1Q20q9BN-o...</td>\n",
       "    </tr>\n",
       "    <tr>\n",
       "      <th>17</th>\n",
       "      <td>Sports</td>\n",
       "      <td>True</td>\n",
       "      <td>UCBR8-60-B28hp2BmDPdntcQ</td>\n",
       "      <td>\"ld9biNPKjAjgjV7EZ4EKeEGrhao/9GQMSRjrZdHeb1OEM...</td>\n",
       "    </tr>\n",
       "  </tbody>\n",
       "</table>\n",
       "</div>"
      ],
      "text/plain": [
       "               title  assignable                 channelId  \\\n",
       "id                                                           \n",
       "1   Film & Animation        True  UCBR8-60-B28hp2BmDPdntcQ   \n",
       "2   Autos & Vehicles        True  UCBR8-60-B28hp2BmDPdntcQ   \n",
       "10             Music        True  UCBR8-60-B28hp2BmDPdntcQ   \n",
       "15    Pets & Animals        True  UCBR8-60-B28hp2BmDPdntcQ   \n",
       "17            Sports        True  UCBR8-60-B28hp2BmDPdntcQ   \n",
       "\n",
       "                                                 etag  \n",
       "id                                                     \n",
       "1   \"ld9biNPKjAjgjV7EZ4EKeEGrhao/Xy1mB4_yLrHy_BmKm...  \n",
       "2   \"ld9biNPKjAjgjV7EZ4EKeEGrhao/UZ1oLIIz2dxIhO45Z...  \n",
       "10  \"ld9biNPKjAjgjV7EZ4EKeEGrhao/nqRIq97-xe5XRZTxb...  \n",
       "15  \"ld9biNPKjAjgjV7EZ4EKeEGrhao/HwXKamM1Q20q9BN-o...  \n",
       "17  \"ld9biNPKjAjgjV7EZ4EKeEGrhao/9GQMSRjrZdHeb1OEM...  "
      ]
     },
     "execution_count": 29,
     "metadata": {},
     "output_type": "execute_result"
    }
   ],
   "source": [
    "cat[[\"title\", \"assignable\", \"channelId\", \"etag\"]].head()"
   ]
  },
  {
   "cell_type": "code",
   "execution_count": 30,
   "id": "b9a39a94",
   "metadata": {},
   "outputs": [],
   "source": [
    "cat = cat[[\"title\", \"assignable\", \"channelId\", \"etag\"]]"
   ]
  },
  {
   "cell_type": "code",
   "execution_count": 31,
   "id": "344a460a",
   "metadata": {},
   "outputs": [],
   "source": [
    "cat.index.names = [\"category_id\"]"
   ]
  },
  {
   "cell_type": "code",
   "execution_count": 32,
   "id": "88cd9be7",
   "metadata": {},
   "outputs": [
    {
     "data": {
      "text/html": [
       "<div>\n",
       "<style scoped>\n",
       "    .dataframe tbody tr th:only-of-type {\n",
       "        vertical-align: middle;\n",
       "    }\n",
       "\n",
       "    .dataframe tbody tr th {\n",
       "        vertical-align: top;\n",
       "    }\n",
       "\n",
       "    .dataframe thead th {\n",
       "        text-align: right;\n",
       "    }\n",
       "</style>\n",
       "<table border=\"1\" class=\"dataframe\">\n",
       "  <thead>\n",
       "    <tr style=\"text-align: right;\">\n",
       "      <th></th>\n",
       "      <th>title</th>\n",
       "      <th>assignable</th>\n",
       "      <th>channelId</th>\n",
       "      <th>etag</th>\n",
       "    </tr>\n",
       "    <tr>\n",
       "      <th>category_id</th>\n",
       "      <th></th>\n",
       "      <th></th>\n",
       "      <th></th>\n",
       "      <th></th>\n",
       "    </tr>\n",
       "  </thead>\n",
       "  <tbody>\n",
       "    <tr>\n",
       "      <th>1</th>\n",
       "      <td>Film &amp; Animation</td>\n",
       "      <td>True</td>\n",
       "      <td>UCBR8-60-B28hp2BmDPdntcQ</td>\n",
       "      <td>\"ld9biNPKjAjgjV7EZ4EKeEGrhao/Xy1mB4_yLrHy_BmKm...</td>\n",
       "    </tr>\n",
       "    <tr>\n",
       "      <th>2</th>\n",
       "      <td>Autos &amp; Vehicles</td>\n",
       "      <td>True</td>\n",
       "      <td>UCBR8-60-B28hp2BmDPdntcQ</td>\n",
       "      <td>\"ld9biNPKjAjgjV7EZ4EKeEGrhao/UZ1oLIIz2dxIhO45Z...</td>\n",
       "    </tr>\n",
       "    <tr>\n",
       "      <th>10</th>\n",
       "      <td>Music</td>\n",
       "      <td>True</td>\n",
       "      <td>UCBR8-60-B28hp2BmDPdntcQ</td>\n",
       "      <td>\"ld9biNPKjAjgjV7EZ4EKeEGrhao/nqRIq97-xe5XRZTxb...</td>\n",
       "    </tr>\n",
       "    <tr>\n",
       "      <th>15</th>\n",
       "      <td>Pets &amp; Animals</td>\n",
       "      <td>True</td>\n",
       "      <td>UCBR8-60-B28hp2BmDPdntcQ</td>\n",
       "      <td>\"ld9biNPKjAjgjV7EZ4EKeEGrhao/HwXKamM1Q20q9BN-o...</td>\n",
       "    </tr>\n",
       "    <tr>\n",
       "      <th>17</th>\n",
       "      <td>Sports</td>\n",
       "      <td>True</td>\n",
       "      <td>UCBR8-60-B28hp2BmDPdntcQ</td>\n",
       "      <td>\"ld9biNPKjAjgjV7EZ4EKeEGrhao/9GQMSRjrZdHeb1OEM...</td>\n",
       "    </tr>\n",
       "  </tbody>\n",
       "</table>\n",
       "</div>"
      ],
      "text/plain": [
       "                        title  assignable                 channelId  \\\n",
       "category_id                                                           \n",
       "1            Film & Animation        True  UCBR8-60-B28hp2BmDPdntcQ   \n",
       "2            Autos & Vehicles        True  UCBR8-60-B28hp2BmDPdntcQ   \n",
       "10                      Music        True  UCBR8-60-B28hp2BmDPdntcQ   \n",
       "15             Pets & Animals        True  UCBR8-60-B28hp2BmDPdntcQ   \n",
       "17                     Sports        True  UCBR8-60-B28hp2BmDPdntcQ   \n",
       "\n",
       "                                                          etag  \n",
       "category_id                                                     \n",
       "1            \"ld9biNPKjAjgjV7EZ4EKeEGrhao/Xy1mB4_yLrHy_BmKm...  \n",
       "2            \"ld9biNPKjAjgjV7EZ4EKeEGrhao/UZ1oLIIz2dxIhO45Z...  \n",
       "10           \"ld9biNPKjAjgjV7EZ4EKeEGrhao/nqRIq97-xe5XRZTxb...  \n",
       "15           \"ld9biNPKjAjgjV7EZ4EKeEGrhao/HwXKamM1Q20q9BN-o...  \n",
       "17           \"ld9biNPKjAjgjV7EZ4EKeEGrhao/9GQMSRjrZdHeb1OEM...  "
      ]
     },
     "execution_count": 32,
     "metadata": {},
     "output_type": "execute_result"
    }
   ],
   "source": [
    "cat.head()"
   ]
  },
  {
   "cell_type": "markdown",
   "id": "0c258324",
   "metadata": {},
   "source": [
    "### Verificar duplicados"
   ]
  },
  {
   "cell_type": "code",
   "execution_count": 33,
   "id": "790076af",
   "metadata": {},
   "outputs": [
    {
     "data": {
      "text/plain": [
       "30"
      ]
     },
     "execution_count": 33,
     "metadata": {},
     "output_type": "execute_result"
    }
   ],
   "source": [
    "cat[\"title\"].nunique()"
   ]
  },
  {
   "cell_type": "code",
   "execution_count": 34,
   "id": "64d23d0a",
   "metadata": {},
   "outputs": [
    {
     "data": {
      "text/plain": [
       "31"
      ]
     },
     "execution_count": 34,
     "metadata": {},
     "output_type": "execute_result"
    }
   ],
   "source": [
    "cat[\"title\"].count()"
   ]
  },
  {
   "cell_type": "code",
   "execution_count": 35,
   "id": "47918b64",
   "metadata": {},
   "outputs": [
    {
     "data": {
      "text/plain": [
       "array(['Film & Animation', 'Autos & Vehicles', 'Music', 'Pets & Animals',\n",
       "       'Sports', 'Short Movies', 'Travel & Events', 'Gaming',\n",
       "       'Videoblogging', 'People & Blogs', 'Comedy', 'Entertainment',\n",
       "       'News & Politics', 'Howto & Style', 'Education',\n",
       "       'Science & Technology', 'Movies', 'Anime/Animation',\n",
       "       'Action/Adventure', 'Classics', 'Documentary', 'Drama', 'Family',\n",
       "       'Foreign', 'Horror', 'Sci-Fi/Fantasy', 'Thriller', 'Shorts',\n",
       "       'Shows', 'Trailers'], dtype=object)"
      ]
     },
     "execution_count": 35,
     "metadata": {},
     "output_type": "execute_result"
    }
   ],
   "source": [
    "cat[\"title\"].unique()"
   ]
  },
  {
   "cell_type": "code",
   "execution_count": 36,
   "id": "40ed5abe",
   "metadata": {},
   "outputs": [
    {
     "data": {
      "text/plain": [
       "Comedy    2\n",
       "Name: title, dtype: int64"
      ]
     },
     "execution_count": 36,
     "metadata": {},
     "output_type": "execute_result"
    }
   ],
   "source": [
    "cat[\"title\"].value_counts()[cat[\"title\"].value_counts() > 1]"
   ]
  },
  {
   "cell_type": "code",
   "execution_count": 37,
   "id": "6b00f56e",
   "metadata": {},
   "outputs": [
    {
     "data": {
      "text/plain": [
       "category_id\n",
       "23    Comedy\n",
       "34    Comedy\n",
       "Name: title, dtype: object"
      ]
     },
     "execution_count": 37,
     "metadata": {},
     "output_type": "execute_result"
    }
   ],
   "source": [
    "cat[cat[\"title\"] == \"Comedy\"][\"title\"]"
   ]
  },
  {
   "cell_type": "markdown",
   "id": "e16357fe",
   "metadata": {},
   "source": [
    "### Duplicados: Conclusión\n",
    "Los dos registros asociados a Comedy no tienen el mismo id, por lo que no es recomendable eliminar uno, ya que en el DataFrame principal pueden existir registros con cualquiera de los dos ids y en ambos casos deberán ser vinculados con la categoría \"Comedy\"."
   ]
  },
  {
   "cell_type": "markdown",
   "id": "c878097d",
   "metadata": {},
   "source": [
    "## Añadir el título de categoría al DF principal"
   ]
  },
  {
   "cell_type": "code",
   "execution_count": 38,
   "id": "da409df5",
   "metadata": {},
   "outputs": [],
   "source": [
    "cat_description = pd.DataFrame(cat[\"title\"], index=cat.index)"
   ]
  },
  {
   "cell_type": "code",
   "execution_count": 39,
   "id": "a7b37195",
   "metadata": {},
   "outputs": [
    {
     "data": {
      "text/html": [
       "<div>\n",
       "<style scoped>\n",
       "    .dataframe tbody tr th:only-of-type {\n",
       "        vertical-align: middle;\n",
       "    }\n",
       "\n",
       "    .dataframe tbody tr th {\n",
       "        vertical-align: top;\n",
       "    }\n",
       "\n",
       "    .dataframe thead th {\n",
       "        text-align: right;\n",
       "    }\n",
       "</style>\n",
       "<table border=\"1\" class=\"dataframe\">\n",
       "  <thead>\n",
       "    <tr style=\"text-align: right;\">\n",
       "      <th></th>\n",
       "      <th>title</th>\n",
       "    </tr>\n",
       "    <tr>\n",
       "      <th>category_id</th>\n",
       "      <th></th>\n",
       "    </tr>\n",
       "  </thead>\n",
       "  <tbody>\n",
       "    <tr>\n",
       "      <th>1</th>\n",
       "      <td>Film &amp; Animation</td>\n",
       "    </tr>\n",
       "    <tr>\n",
       "      <th>2</th>\n",
       "      <td>Autos &amp; Vehicles</td>\n",
       "    </tr>\n",
       "    <tr>\n",
       "      <th>10</th>\n",
       "      <td>Music</td>\n",
       "    </tr>\n",
       "    <tr>\n",
       "      <th>15</th>\n",
       "      <td>Pets &amp; Animals</td>\n",
       "    </tr>\n",
       "    <tr>\n",
       "      <th>17</th>\n",
       "      <td>Sports</td>\n",
       "    </tr>\n",
       "  </tbody>\n",
       "</table>\n",
       "</div>"
      ],
      "text/plain": [
       "                        title\n",
       "category_id                  \n",
       "1            Film & Animation\n",
       "2            Autos & Vehicles\n",
       "10                      Music\n",
       "15             Pets & Animals\n",
       "17                     Sports"
      ]
     },
     "execution_count": 39,
     "metadata": {},
     "output_type": "execute_result"
    }
   ],
   "source": [
    "cat_description.head()"
   ]
  },
  {
   "cell_type": "code",
   "execution_count": 40,
   "id": "b311e5d6",
   "metadata": {},
   "outputs": [
    {
     "name": "stdout",
     "output_type": "stream",
     "text": [
      "<class 'pandas.core.frame.DataFrame'>\n",
      "Index: 31 entries, 1 to 44\n",
      "Data columns (total 1 columns):\n",
      " #   Column  Non-Null Count  Dtype \n",
      "---  ------  --------------  ----- \n",
      " 0   title   31 non-null     object\n",
      "dtypes: object(1)\n",
      "memory usage: 496.0+ bytes\n"
     ]
    }
   ],
   "source": [
    "cat_description.info()"
   ]
  },
  {
   "cell_type": "code",
   "execution_count": 41,
   "id": "d0634bcd",
   "metadata": {},
   "outputs": [],
   "source": [
    "cat_description.index = cat_description.index.astype(int)"
   ]
  },
  {
   "cell_type": "code",
   "execution_count": 42,
   "id": "72816711",
   "metadata": {},
   "outputs": [],
   "source": [
    "df[\"category_id\"] = df[\"category_id\"].astype(int)"
   ]
  },
  {
   "cell_type": "code",
   "execution_count": 43,
   "id": "8c03770b",
   "metadata": {},
   "outputs": [],
   "source": [
    "df = df.join(cat_description, how=\"left\", rsuffix=\"_category\", on=\"category_id\")"
   ]
  },
  {
   "cell_type": "code",
   "execution_count": 44,
   "id": "8f00ea70",
   "metadata": {},
   "outputs": [],
   "source": [
    "# del df[\"title_category\"]"
   ]
  },
  {
   "cell_type": "code",
   "execution_count": 45,
   "id": "957174e1",
   "metadata": {},
   "outputs": [
    {
     "data": {
      "text/html": [
       "<div>\n",
       "<style scoped>\n",
       "    .dataframe tbody tr th:only-of-type {\n",
       "        vertical-align: middle;\n",
       "    }\n",
       "\n",
       "    .dataframe tbody tr th {\n",
       "        vertical-align: top;\n",
       "    }\n",
       "\n",
       "    .dataframe thead th {\n",
       "        text-align: right;\n",
       "    }\n",
       "</style>\n",
       "<table border=\"1\" class=\"dataframe\">\n",
       "  <thead>\n",
       "    <tr style=\"text-align: right;\">\n",
       "      <th></th>\n",
       "      <th>category_id</th>\n",
       "      <th>title_category</th>\n",
       "    </tr>\n",
       "  </thead>\n",
       "  <tbody>\n",
       "    <tr>\n",
       "      <th>0</th>\n",
       "      <td>10</td>\n",
       "      <td>Music</td>\n",
       "    </tr>\n",
       "    <tr>\n",
       "      <th>1</th>\n",
       "      <td>23</td>\n",
       "      <td>Comedy</td>\n",
       "    </tr>\n",
       "    <tr>\n",
       "      <th>2</th>\n",
       "      <td>23</td>\n",
       "      <td>Comedy</td>\n",
       "    </tr>\n",
       "    <tr>\n",
       "      <th>3</th>\n",
       "      <td>24</td>\n",
       "      <td>Entertainment</td>\n",
       "    </tr>\n",
       "    <tr>\n",
       "      <th>4</th>\n",
       "      <td>10</td>\n",
       "      <td>Music</td>\n",
       "    </tr>\n",
       "  </tbody>\n",
       "</table>\n",
       "</div>"
      ],
      "text/plain": [
       "   category_id title_category\n",
       "0           10          Music\n",
       "1           23         Comedy\n",
       "2           23         Comedy\n",
       "3           24  Entertainment\n",
       "4           10          Music"
      ]
     },
     "execution_count": 45,
     "metadata": {},
     "output_type": "execute_result"
    }
   ],
   "source": [
    "df[[\"category_id\", \"title_category\"]].head()"
   ]
  },
  {
   "cell_type": "markdown",
   "id": "a7b62393",
   "metadata": {},
   "source": [
    "## Formatear las fechas correctamente (**limpieza**)"
   ]
  },
  {
   "cell_type": "code",
   "execution_count": 46,
   "id": "67911d58",
   "metadata": {},
   "outputs": [
    {
     "data": {
      "text/html": [
       "<div>\n",
       "<style scoped>\n",
       "    .dataframe tbody tr th:only-of-type {\n",
       "        vertical-align: middle;\n",
       "    }\n",
       "\n",
       "    .dataframe tbody tr th {\n",
       "        vertical-align: top;\n",
       "    }\n",
       "\n",
       "    .dataframe thead th {\n",
       "        text-align: right;\n",
       "    }\n",
       "</style>\n",
       "<table border=\"1\" class=\"dataframe\">\n",
       "  <thead>\n",
       "    <tr style=\"text-align: right;\">\n",
       "      <th></th>\n",
       "      <th>trending_date</th>\n",
       "      <th>publish_time</th>\n",
       "    </tr>\n",
       "  </thead>\n",
       "  <tbody>\n",
       "    <tr>\n",
       "      <th>0</th>\n",
       "      <td>17.14.11</td>\n",
       "      <td>2017-11-10T17:00:03.000Z</td>\n",
       "    </tr>\n",
       "    <tr>\n",
       "      <th>1</th>\n",
       "      <td>17.14.11</td>\n",
       "      <td>2017-11-13T17:00:00.000Z</td>\n",
       "    </tr>\n",
       "    <tr>\n",
       "      <th>2</th>\n",
       "      <td>17.14.11</td>\n",
       "      <td>2017-11-12T19:05:24.000Z</td>\n",
       "    </tr>\n",
       "    <tr>\n",
       "      <th>3</th>\n",
       "      <td>17.14.11</td>\n",
       "      <td>2017-11-12T18:01:41.000Z</td>\n",
       "    </tr>\n",
       "    <tr>\n",
       "      <th>4</th>\n",
       "      <td>17.14.11</td>\n",
       "      <td>2017-11-09T11:04:14.000Z</td>\n",
       "    </tr>\n",
       "  </tbody>\n",
       "</table>\n",
       "</div>"
      ],
      "text/plain": [
       "  trending_date              publish_time\n",
       "0      17.14.11  2017-11-10T17:00:03.000Z\n",
       "1      17.14.11  2017-11-13T17:00:00.000Z\n",
       "2      17.14.11  2017-11-12T19:05:24.000Z\n",
       "3      17.14.11  2017-11-12T18:01:41.000Z\n",
       "4      17.14.11  2017-11-09T11:04:14.000Z"
      ]
     },
     "execution_count": 46,
     "metadata": {},
     "output_type": "execute_result"
    }
   ],
   "source": [
    "df[[\"trending_date\", \"publish_time\"]].head()"
   ]
  },
  {
   "cell_type": "code",
   "execution_count": 47,
   "id": "5816426b",
   "metadata": {},
   "outputs": [
    {
     "name": "stdout",
     "output_type": "stream",
     "text": [
      "<class 'pandas.core.frame.DataFrame'>\n",
      "RangeIndex: 40881 entries, 0 to 40880\n",
      "Data columns (total 2 columns):\n",
      " #   Column         Non-Null Count  Dtype \n",
      "---  ------         --------------  ----- \n",
      " 0   trending_date  40881 non-null  object\n",
      " 1   publish_time   40881 non-null  object\n",
      "dtypes: object(2)\n",
      "memory usage: 638.9+ KB\n"
     ]
    }
   ],
   "source": [
    "df[[\"trending_date\", \"publish_time\"]].info()"
   ]
  },
  {
   "cell_type": "markdown",
   "id": "8b04b2da",
   "metadata": {},
   "source": [
    "Se identifican estos dos formatos divergentes:\n",
    "* **trending_date**: YY.DD.MM\n",
    "* **publish_time**: YYYY-MM-DD**T**00:00:00.000Z"
   ]
  },
  {
   "cell_type": "markdown",
   "id": "06594970",
   "metadata": {},
   "source": [
    "Se modificarán ambos registros a un único formato: **DD-MM-YYYY**"
   ]
  },
  {
   "cell_type": "markdown",
   "id": "da33619d",
   "metadata": {},
   "source": [
    "También se identifica que las columnas almacenan datos de tipo **objeto**, que deberán ser modificados a tipo **datetime**."
   ]
  },
  {
   "cell_type": "markdown",
   "id": "870b9c32",
   "metadata": {},
   "source": [
    "### Tests (not in-place)"
   ]
  },
  {
   "cell_type": "code",
   "execution_count": 48,
   "id": "fb454335",
   "metadata": {},
   "outputs": [
    {
     "data": {
      "text/plain": [
       "0    14-11-2017\n",
       "1    14-11-2017\n",
       "2    14-11-2017\n",
       "3    14-11-2017\n",
       "4    14-11-2017\n",
       "Name: trending_date, dtype: object"
      ]
     },
     "execution_count": 48,
     "metadata": {},
     "output_type": "execute_result"
    }
   ],
   "source": [
    "df[\"trending_date\"].apply(lambda date: date[3:5]+\"-\"+date[-2:]+\"-20\"+date[:2]).head()"
   ]
  },
  {
   "cell_type": "code",
   "execution_count": 49,
   "id": "a72650ac",
   "metadata": {},
   "outputs": [
    {
     "data": {
      "text/plain": [
       "0    10-11-2017\n",
       "1    13-11-2017\n",
       "2    12-11-2017\n",
       "3    12-11-2017\n",
       "4    09-11-2017\n",
       "Name: publish_time, dtype: object"
      ]
     },
     "execution_count": 49,
     "metadata": {},
     "output_type": "execute_result"
    }
   ],
   "source": [
    "df[\"publish_time\"].apply(lambda date: date[8:10]+date[4:7]+\"-\"+date[:4]).head()"
   ]
  },
  {
   "cell_type": "code",
   "execution_count": 50,
   "id": "c4bc3960",
   "metadata": {},
   "outputs": [
    {
     "data": {
      "text/plain": [
       "0    17:00:03\n",
       "1    17:00:00\n",
       "2    19:05:24\n",
       "3    18:01:41\n",
       "4    11:04:14\n",
       "Name: publish_time, dtype: object"
      ]
     },
     "execution_count": 50,
     "metadata": {},
     "output_type": "execute_result"
    }
   ],
   "source": [
    "# Se necesitará extraer también la hora de publicación.\n",
    "df[\"publish_time\"].apply(lambda datetime: datetime[11:-5]).head()"
   ]
  },
  {
   "cell_type": "markdown",
   "id": "29961b2f",
   "metadata": {},
   "source": [
    "## Formateando la fecha"
   ]
  },
  {
   "cell_type": "code",
   "execution_count": 51,
   "id": "6c2b348c",
   "metadata": {},
   "outputs": [],
   "source": [
    "df[\"trending_date\"] = df[\"trending_date\"].apply(lambda date: date[3:5]+\"-\"+date[-2:]+\"-20\"+date[:2])"
   ]
  },
  {
   "cell_type": "code",
   "execution_count": 52,
   "id": "0f10f7e2",
   "metadata": {},
   "outputs": [],
   "source": [
    "# Se necesitará extraer también la hora de publicación.\n",
    "df = df.rename(columns={\"publish_time\":\"publish_date\"})\n",
    "df[\"publish_time\"] = df[\"publish_date\"].apply(lambda datetime: datetime[11:-5])"
   ]
  },
  {
   "cell_type": "code",
   "execution_count": 53,
   "id": "8be5382c",
   "metadata": {},
   "outputs": [],
   "source": [
    "df[\"publish_date\"] = df[\"publish_date\"].apply(lambda date: date[8:10]+date[4:7]+\"-\"+date[:4])"
   ]
  },
  {
   "cell_type": "code",
   "execution_count": 54,
   "id": "30efcb99",
   "metadata": {},
   "outputs": [
    {
     "data": {
      "text/html": [
       "<div>\n",
       "<style scoped>\n",
       "    .dataframe tbody tr th:only-of-type {\n",
       "        vertical-align: middle;\n",
       "    }\n",
       "\n",
       "    .dataframe tbody tr th {\n",
       "        vertical-align: top;\n",
       "    }\n",
       "\n",
       "    .dataframe thead th {\n",
       "        text-align: right;\n",
       "    }\n",
       "</style>\n",
       "<table border=\"1\" class=\"dataframe\">\n",
       "  <thead>\n",
       "    <tr style=\"text-align: right;\">\n",
       "      <th></th>\n",
       "      <th>trending_date</th>\n",
       "      <th>publish_time</th>\n",
       "      <th>publish_date</th>\n",
       "    </tr>\n",
       "  </thead>\n",
       "  <tbody>\n",
       "    <tr>\n",
       "      <th>0</th>\n",
       "      <td>14-11-2017</td>\n",
       "      <td>17:00:03</td>\n",
       "      <td>10-11-2017</td>\n",
       "    </tr>\n",
       "    <tr>\n",
       "      <th>1</th>\n",
       "      <td>14-11-2017</td>\n",
       "      <td>17:00:00</td>\n",
       "      <td>13-11-2017</td>\n",
       "    </tr>\n",
       "    <tr>\n",
       "      <th>2</th>\n",
       "      <td>14-11-2017</td>\n",
       "      <td>19:05:24</td>\n",
       "      <td>12-11-2017</td>\n",
       "    </tr>\n",
       "    <tr>\n",
       "      <th>3</th>\n",
       "      <td>14-11-2017</td>\n",
       "      <td>18:01:41</td>\n",
       "      <td>12-11-2017</td>\n",
       "    </tr>\n",
       "    <tr>\n",
       "      <th>4</th>\n",
       "      <td>14-11-2017</td>\n",
       "      <td>11:04:14</td>\n",
       "      <td>09-11-2017</td>\n",
       "    </tr>\n",
       "  </tbody>\n",
       "</table>\n",
       "</div>"
      ],
      "text/plain": [
       "  trending_date publish_time publish_date\n",
       "0    14-11-2017     17:00:03   10-11-2017\n",
       "1    14-11-2017     17:00:00   13-11-2017\n",
       "2    14-11-2017     19:05:24   12-11-2017\n",
       "3    14-11-2017     18:01:41   12-11-2017\n",
       "4    14-11-2017     11:04:14   09-11-2017"
      ]
     },
     "execution_count": 54,
     "metadata": {},
     "output_type": "execute_result"
    }
   ],
   "source": [
    "df[[\"trending_date\", \"publish_time\", \"publish_date\"]].head()"
   ]
  },
  {
   "cell_type": "code",
   "execution_count": 55,
   "id": "328f54a4",
   "metadata": {},
   "outputs": [
    {
     "data": {
      "text/plain": [
       "trending_date    0\n",
       "publish_time     0\n",
       "publish_date     0\n",
       "dtype: int64"
      ]
     },
     "execution_count": 55,
     "metadata": {},
     "output_type": "execute_result"
    }
   ],
   "source": [
    "df[[\"trending_date\", \"publish_time\", \"publish_date\"]].isna().sum()"
   ]
  },
  {
   "cell_type": "markdown",
   "id": "cd0e0377",
   "metadata": {},
   "source": [
    "## Modificando el tipo de dato"
   ]
  },
  {
   "cell_type": "markdown",
   "id": "6c63eae1",
   "metadata": {},
   "source": [
    "Al realizar la modificación del tipo de dato, el dtype **datetime** tiene un formato YY-MM-DD o YYYY-MM-DD, por lo que se cambiará a este formato (también válido según la consigna) al realizar la modificación de tipo de dato."
   ]
  },
  {
   "cell_type": "code",
   "execution_count": 56,
   "id": "fa451fad",
   "metadata": {},
   "outputs": [],
   "source": [
    "df[\"trending_date\"] = pd.to_datetime(df[\"trending_date\"], format=\"%d-%m-%Y\")"
   ]
  },
  {
   "cell_type": "code",
   "execution_count": 57,
   "id": "6a7ac1d8",
   "metadata": {},
   "outputs": [],
   "source": [
    "df[\"publish_date\"] = pd.to_datetime(df[\"publish_date\"], format=\"%d-%m-%Y\")"
   ]
  },
  {
   "cell_type": "code",
   "execution_count": 58,
   "id": "e3e294b3",
   "metadata": {},
   "outputs": [
    {
     "name": "stdout",
     "output_type": "stream",
     "text": [
      "<class 'pandas.core.frame.DataFrame'>\n",
      "RangeIndex: 40881 entries, 0 to 40880\n",
      "Data columns (total 3 columns):\n",
      " #   Column         Non-Null Count  Dtype         \n",
      "---  ------         --------------  -----         \n",
      " 0   trending_date  40881 non-null  datetime64[ns]\n",
      " 1   publish_time   40881 non-null  object        \n",
      " 2   publish_date   40881 non-null  datetime64[ns]\n",
      "dtypes: datetime64[ns](2), object(1)\n",
      "memory usage: 958.3+ KB\n"
     ]
    }
   ],
   "source": [
    "df[[\"trending_date\", \"publish_time\", \"publish_date\"]].info()"
   ]
  },
  {
   "cell_type": "code",
   "execution_count": 59,
   "id": "2b1ae968",
   "metadata": {},
   "outputs": [
    {
     "data": {
      "text/plain": [
       "74"
      ]
     },
     "execution_count": 59,
     "metadata": {},
     "output_type": "execute_result"
    }
   ],
   "source": [
    "df[\"title_category\"].isna().sum()"
   ]
  },
  {
   "cell_type": "markdown",
   "id": "d618e530",
   "metadata": {},
   "source": [
    "Existen registros para los cuales no se encontró la categoría asociada dentro del dataset de categorías. Por ello, se tendrá que tomar el valor de estas categorías del dataset de EE.UU."
   ]
  },
  {
   "cell_type": "markdown",
   "id": "c3041ce2",
   "metadata": {},
   "source": [
    "# Tratado de datos faltantes"
   ]
  },
  {
   "cell_type": "code",
   "execution_count": 60,
   "id": "d570c9f1",
   "metadata": {},
   "outputs": [
    {
     "data": {
      "text/plain": [
       "description       1296\n",
       "title_category      74\n",
       "dtype: int64"
      ]
     },
     "execution_count": 60,
     "metadata": {},
     "output_type": "execute_result"
    }
   ],
   "source": [
    "df.isna().sum()[df.isna().sum() > 0]"
   ]
  },
  {
   "cell_type": "markdown",
   "id": "27051103",
   "metadata": {},
   "source": [
    "Tanto la descripción como el título de la categoría presentan valores faltantes. \n",
    "\n",
    "Se tratará cada caso individualmente."
   ]
  },
  {
   "cell_type": "markdown",
   "id": "c318b977",
   "metadata": {},
   "source": [
    "## Datos faltantes de título de categoría"
   ]
  },
  {
   "cell_type": "markdown",
   "id": "d00d3a59",
   "metadata": {},
   "source": [
    "### Obtener la información"
   ]
  },
  {
   "cell_type": "markdown",
   "id": "d66b7337",
   "metadata": {},
   "source": [
    "Se sabe que el documento .json de las categoría de EE.UU. debería contener la totalidad de categorías, por ello, se verificará si aquí se encuentra la(s) categoría(s) faltante(s)."
   ]
  },
  {
   "cell_type": "code",
   "execution_count": 61,
   "id": "6b948a98",
   "metadata": {},
   "outputs": [],
   "source": [
    "url = \"https://raw.githubusercontent.com/z3r0st/EB-2022-1-CC50/main/data/US_category_id.json\"\n",
    "categories_US = pd.read_json(url)"
   ]
  },
  {
   "cell_type": "code",
   "execution_count": 62,
   "id": "21d31c0b",
   "metadata": {},
   "outputs": [],
   "source": [
    "cat_US = pd.DataFrame(categories_US[\"items\"].values.tolist())\n",
    "cat_US[\"channelId\"] = pd.DataFrame(cat_US[\"snippet\"].values.tolist())[\"channelId\"]\n",
    "cat_US[\"title\"] = pd.DataFrame(cat_US[\"snippet\"].values.tolist())[\"title\"]\n",
    "cat_US[\"assignable\"] = pd.DataFrame(cat_US[\"snippet\"].values.tolist())[\"assignable\"]\n",
    "del cat_US[\"snippet\"]"
   ]
  },
  {
   "cell_type": "code",
   "execution_count": 63,
   "id": "8c752e50",
   "metadata": {},
   "outputs": [
    {
     "data": {
      "text/html": [
       "<div>\n",
       "<style scoped>\n",
       "    .dataframe tbody tr th:only-of-type {\n",
       "        vertical-align: middle;\n",
       "    }\n",
       "\n",
       "    .dataframe tbody tr th {\n",
       "        vertical-align: top;\n",
       "    }\n",
       "\n",
       "    .dataframe thead th {\n",
       "        text-align: right;\n",
       "    }\n",
       "</style>\n",
       "<table border=\"1\" class=\"dataframe\">\n",
       "  <thead>\n",
       "    <tr style=\"text-align: right;\">\n",
       "      <th></th>\n",
       "      <th>kind</th>\n",
       "      <th>etag</th>\n",
       "      <th>id</th>\n",
       "      <th>channelId</th>\n",
       "      <th>title</th>\n",
       "      <th>assignable</th>\n",
       "    </tr>\n",
       "  </thead>\n",
       "  <tbody>\n",
       "    <tr>\n",
       "      <th>0</th>\n",
       "      <td>youtube#videoCategory</td>\n",
       "      <td>\"m2yskBQFythfE4irbTIeOgYYfBU/Xy1mB4_yLrHy_BmKm...</td>\n",
       "      <td>1</td>\n",
       "      <td>UCBR8-60-B28hp2BmDPdntcQ</td>\n",
       "      <td>Film &amp; Animation</td>\n",
       "      <td>True</td>\n",
       "    </tr>\n",
       "    <tr>\n",
       "      <th>1</th>\n",
       "      <td>youtube#videoCategory</td>\n",
       "      <td>\"m2yskBQFythfE4irbTIeOgYYfBU/UZ1oLIIz2dxIhO45Z...</td>\n",
       "      <td>2</td>\n",
       "      <td>UCBR8-60-B28hp2BmDPdntcQ</td>\n",
       "      <td>Autos &amp; Vehicles</td>\n",
       "      <td>True</td>\n",
       "    </tr>\n",
       "    <tr>\n",
       "      <th>2</th>\n",
       "      <td>youtube#videoCategory</td>\n",
       "      <td>\"m2yskBQFythfE4irbTIeOgYYfBU/nqRIq97-xe5XRZTxb...</td>\n",
       "      <td>10</td>\n",
       "      <td>UCBR8-60-B28hp2BmDPdntcQ</td>\n",
       "      <td>Music</td>\n",
       "      <td>True</td>\n",
       "    </tr>\n",
       "    <tr>\n",
       "      <th>3</th>\n",
       "      <td>youtube#videoCategory</td>\n",
       "      <td>\"m2yskBQFythfE4irbTIeOgYYfBU/HwXKamM1Q20q9BN-o...</td>\n",
       "      <td>15</td>\n",
       "      <td>UCBR8-60-B28hp2BmDPdntcQ</td>\n",
       "      <td>Pets &amp; Animals</td>\n",
       "      <td>True</td>\n",
       "    </tr>\n",
       "    <tr>\n",
       "      <th>4</th>\n",
       "      <td>youtube#videoCategory</td>\n",
       "      <td>\"m2yskBQFythfE4irbTIeOgYYfBU/9GQMSRjrZdHeb1OEM...</td>\n",
       "      <td>17</td>\n",
       "      <td>UCBR8-60-B28hp2BmDPdntcQ</td>\n",
       "      <td>Sports</td>\n",
       "      <td>True</td>\n",
       "    </tr>\n",
       "  </tbody>\n",
       "</table>\n",
       "</div>"
      ],
      "text/plain": [
       "                    kind                                               etag  \\\n",
       "0  youtube#videoCategory  \"m2yskBQFythfE4irbTIeOgYYfBU/Xy1mB4_yLrHy_BmKm...   \n",
       "1  youtube#videoCategory  \"m2yskBQFythfE4irbTIeOgYYfBU/UZ1oLIIz2dxIhO45Z...   \n",
       "2  youtube#videoCategory  \"m2yskBQFythfE4irbTIeOgYYfBU/nqRIq97-xe5XRZTxb...   \n",
       "3  youtube#videoCategory  \"m2yskBQFythfE4irbTIeOgYYfBU/HwXKamM1Q20q9BN-o...   \n",
       "4  youtube#videoCategory  \"m2yskBQFythfE4irbTIeOgYYfBU/9GQMSRjrZdHeb1OEM...   \n",
       "\n",
       "   id                 channelId             title  assignable  \n",
       "0   1  UCBR8-60-B28hp2BmDPdntcQ  Film & Animation        True  \n",
       "1   2  UCBR8-60-B28hp2BmDPdntcQ  Autos & Vehicles        True  \n",
       "2  10  UCBR8-60-B28hp2BmDPdntcQ             Music        True  \n",
       "3  15  UCBR8-60-B28hp2BmDPdntcQ    Pets & Animals        True  \n",
       "4  17  UCBR8-60-B28hp2BmDPdntcQ            Sports        True  "
      ]
     },
     "execution_count": 63,
     "metadata": {},
     "output_type": "execute_result"
    }
   ],
   "source": [
    "cat_US.head()"
   ]
  },
  {
   "cell_type": "code",
   "execution_count": 64,
   "id": "d81486a9",
   "metadata": {},
   "outputs": [
    {
     "data": {
      "text/plain": [
       "31"
      ]
     },
     "execution_count": 64,
     "metadata": {},
     "output_type": "execute_result"
    }
   ],
   "source": [
    "cat_US[\"title\"].nunique()"
   ]
  },
  {
   "cell_type": "code",
   "execution_count": 65,
   "id": "e0da43e7",
   "metadata": {},
   "outputs": [
    {
     "data": {
      "text/plain": [
       "32"
      ]
     },
     "execution_count": 65,
     "metadata": {},
     "output_type": "execute_result"
    }
   ],
   "source": [
    "cat_US[\"title\"].count()"
   ]
  },
  {
   "cell_type": "markdown",
   "id": "3acb4bcf",
   "metadata": {},
   "source": [
    "Se identifica que el dataset de categorías de EE.UU. tiene 1 categoría más que el de Canadá. Se intuye que esta categoría es la correspondiente a los 74 registros faltantes."
   ]
  },
  {
   "cell_type": "markdown",
   "id": "58883158",
   "metadata": {},
   "source": [
    "### Comprobar que es la información faltante"
   ]
  },
  {
   "cell_type": "code",
   "execution_count": 66,
   "id": "c43303ab",
   "metadata": {},
   "outputs": [
    {
     "name": "stdout",
     "output_type": "stream",
     "text": [
      "Nonprofits & Activism\n"
     ]
    }
   ],
   "source": [
    "for categorie in cat_US[\"title\"].values.tolist():\n",
    "    if categorie not in cat[\"title\"].values.tolist():\n",
    "        print(categorie)"
   ]
  },
  {
   "cell_type": "code",
   "execution_count": 67,
   "id": "942e8a5c",
   "metadata": {},
   "outputs": [],
   "source": [
    "cat_US = cat_US.set_index(\"id\")\n",
    "cat_US.index = cat_US.index.astype(int)"
   ]
  },
  {
   "cell_type": "code",
   "execution_count": 68,
   "id": "fad65273",
   "metadata": {},
   "outputs": [
    {
     "data": {
      "text/plain": [
       "id\n",
       "29    Nonprofits & Activism\n",
       "Name: title, dtype: object"
      ]
     },
     "execution_count": 68,
     "metadata": {},
     "output_type": "execute_result"
    }
   ],
   "source": [
    "cat_US[cat_US[\"title\"] == \"Nonprofits & Activism\"][\"title\"]"
   ]
  },
  {
   "cell_type": "code",
   "execution_count": 69,
   "id": "b3b74181",
   "metadata": {},
   "outputs": [
    {
     "data": {
      "text/plain": [
       "29    74\n",
       "Name: category_id, dtype: int64"
      ]
     },
     "execution_count": 69,
     "metadata": {},
     "output_type": "execute_result"
    }
   ],
   "source": [
    "df[df[\"title_category\"].isna()][\"category_id\"].value_counts()"
   ]
  },
  {
   "cell_type": "markdown",
   "id": "5da25a22",
   "metadata": {},
   "source": [
    "Aquí se ha comprobado que efectivamente el valor de título en los registros del DataFrame es \"Nonprofits & Activism\""
   ]
  },
  {
   "cell_type": "markdown",
   "id": "deff9d6c",
   "metadata": {},
   "source": [
    "### Reemplazar los valores faltantes en el DataFrame"
   ]
  },
  {
   "cell_type": "markdown",
   "id": "e049f359",
   "metadata": {},
   "source": [
    "Ya que se ha verificado que se ha obtenido la información faltante de otra fuente relacionada, se puede reemplazar directamente con el valor hallado, sin necesidad de eliminar los registros ni aplicar una técnica de reemplazo (se están usando los valores reales, no unos simulados)."
   ]
  },
  {
   "cell_type": "code",
   "execution_count": 70,
   "id": "199c5193",
   "metadata": {},
   "outputs": [],
   "source": [
    "df[\"title_category\"].fillna(value=cat_US.loc[29][\"title\"], inplace=True)"
   ]
  },
  {
   "cell_type": "code",
   "execution_count": 71,
   "id": "72e70164",
   "metadata": {},
   "outputs": [
    {
     "data": {
      "text/plain": [
       "0"
      ]
     },
     "execution_count": 71,
     "metadata": {},
     "output_type": "execute_result"
    }
   ],
   "source": [
    "df[\"title_category\"].isna().sum()"
   ]
  },
  {
   "cell_type": "markdown",
   "id": "18a7fe55",
   "metadata": {},
   "source": [
    "Se llenó exitosamente la información de todas las categorías."
   ]
  },
  {
   "cell_type": "markdown",
   "id": "929a6256",
   "metadata": {},
   "source": [
    "## Datos faltantes en Descripción"
   ]
  },
  {
   "cell_type": "markdown",
   "id": "724202a7",
   "metadata": {},
   "source": [
    "### Explorando las características de los datos"
   ]
  },
  {
   "cell_type": "code",
   "execution_count": 72,
   "id": "18daae89",
   "metadata": {},
   "outputs": [
    {
     "data": {
      "text/plain": [
       "Index(['video_id', 'trending_date', 'title', 'channel_title', 'category_id',\n",
       "       'publish_date', 'tags', 'views', 'likes', 'dislikes', 'comment_count',\n",
       "       'thumbnail_link', 'comments_disabled', 'ratings_disabled',\n",
       "       'video_error_or_removed', 'description', 'state', 'lat', 'lon',\n",
       "       'geometry', 'title_category', 'publish_time'],\n",
       "      dtype='object')"
      ]
     },
     "execution_count": 72,
     "metadata": {},
     "output_type": "execute_result"
    }
   ],
   "source": [
    "df.columns"
   ]
  },
  {
   "cell_type": "code",
   "execution_count": 73,
   "id": "1205da53",
   "metadata": {},
   "outputs": [
    {
     "data": {
      "text/plain": [
       "0       Eminem's new track Walk on Water ft. Beyoncé i...\n",
       "214     Eminem's new track Walk on Water ft. Beyoncé i...\n",
       "498     Eminem's new track Walk on Water ft. Beyoncé i...\n",
       "791     Eminem's new track Walk on Water ft. Beyoncé i...\n",
       "1226    Eminem's official 2017 SNL performance.\\n \\nWa...\n",
       "Name: description, dtype: object"
      ]
     },
     "execution_count": 73,
     "metadata": {},
     "output_type": "execute_result"
    }
   ],
   "source": [
    "df[df[\"channel_title\"] == df.iloc[0][\"channel_title\"]][\"description\"].head()"
   ]
  },
  {
   "cell_type": "code",
   "execution_count": 74,
   "id": "7b5669b6",
   "metadata": {},
   "outputs": [
    {
     "data": {
      "text/plain": [
       "The View                        142\n",
       "The Real Daytime                 49\n",
       "Croton MEGA HIT 克頓傳媒2017爆款大劇     43\n",
       "Motion Station                   39\n",
       "Shalom Entertainment             38\n",
       "Name: channel_title, dtype: int64"
      ]
     },
     "execution_count": 74,
     "metadata": {},
     "output_type": "execute_result"
    }
   ],
   "source": [
    "df[df[\"description\"].isna()][\"channel_title\"].value_counts().head()"
   ]
  },
  {
   "cell_type": "code",
   "execution_count": 75,
   "id": "eb5710a4",
   "metadata": {},
   "outputs": [
    {
     "data": {
      "text/plain": [
       "149"
      ]
     },
     "execution_count": 75,
     "metadata": {},
     "output_type": "execute_result"
    }
   ],
   "source": [
    "df[df[\"channel_title\"] == \"The View\"][\"channel_title\"].count()"
   ]
  },
  {
   "cell_type": "markdown",
   "id": "cb9ff754",
   "metadata": {},
   "source": [
    "Para \"The View\", de 147 registros, 142 presentan descripción faltante.\n",
    "\n",
    "Esto nos indica, por un lado, que sí existen registros con descripción para el canal, lo cual significa que sería posible llenar estos faltantes con cierto grado de precisión."
   ]
  },
  {
   "cell_type": "code",
   "execution_count": 76,
   "id": "8b666178",
   "metadata": {},
   "outputs": [
    {
     "data": {
      "text/plain": [
       "470      The View co-hosts share their responses to tro...\n",
       "18382    “This is a show where we respect one another a...\n",
       "21427    The View co-hosts discuss whether the presiden...\n",
       "22175    Clinton joined The View to discuss what she'd ...\n",
       "28552             The word of the day in America is leaks.\n",
       "28833             The word of the day in America is leaks.\n",
       "33685    MORE FROM 'THE VIEW':Full episodes: http://abc...\n",
       "Name: description, dtype: object"
      ]
     },
     "execution_count": 76,
     "metadata": {},
     "output_type": "execute_result"
    }
   ],
   "source": [
    "df[(df[\"description\"].notna()) & (df[\"channel_title\"] == \"The View\")][\"description\"]"
   ]
  },
  {
   "cell_type": "markdown",
   "id": "b1298e49",
   "metadata": {},
   "source": [
    "También se analizará las características de los registros del segundo canal con mayor cantidad de registros faltantes."
   ]
  },
  {
   "cell_type": "code",
   "execution_count": 77,
   "id": "c7da7482",
   "metadata": {},
   "outputs": [
    {
     "data": {
      "text/plain": [
       "133"
      ]
     },
     "execution_count": 77,
     "metadata": {},
     "output_type": "execute_result"
    }
   ],
   "source": [
    "df[df[\"channel_title\"] == \"The Real Daytime\"][\"channel_title\"].count()"
   ]
  },
  {
   "cell_type": "markdown",
   "id": "22c0cb5a",
   "metadata": {},
   "source": [
    "Para \"The Real Daytime\", de 133 registros, 49 presentan descripción faltante.\n",
    "\n",
    "Esto nos indica, por un lado, que existen bastantes registros con descripción para el canal, lo cual significa que sería posible llenar estos faltantes, pero es necesario comprobar si siempre se usa la misma descripción o esta varía."
   ]
  },
  {
   "cell_type": "code",
   "execution_count": 78,
   "id": "beaaa897",
   "metadata": {},
   "outputs": [
    {
     "data": {
      "text/plain": [
       "For how long could you be celibate?                                                     3\n",
       "Do you think if a man truly loves his woman, another woman can take him away?           3\n",
       "What do you think of Fergie's  version of the National Anthem?                          2\n",
       "Do you think a child should automatically get the father's last name?                   2\n",
       "If you had reservations before getting married, would you still walk down the aisle?    2\n",
       "Name: description, dtype: int64"
      ]
     },
     "execution_count": 78,
     "metadata": {},
     "output_type": "execute_result"
    }
   ],
   "source": [
    "df[(df[\"description\"].notna()) & (df[\"channel_title\"] == \"The Real Daytime\")][\"description\"].value_counts().head()"
   ]
  },
  {
   "cell_type": "markdown",
   "id": "fedee63e",
   "metadata": {},
   "source": [
    "Como se puede visualizar, la moda tiene 3 apariciones, de un total de 84. De modo que no se presentan una descripción generalizada para el canal, es decir, la moda no es descriptiva del conjunto de descripciones. \n",
    "\n",
    "Por ello, se concluye como mejor estrategia, asignarle a las descripciones faltantes, el valor de una descripción del mismo canal escogida aleatoriamente."
   ]
  },
  {
   "cell_type": "markdown",
   "id": "29d0e5fc",
   "metadata": {},
   "source": [
    "### Reemplazo de valores faltantes de descripción"
   ]
  },
  {
   "cell_type": "code",
   "execution_count": 79,
   "id": "e69d8288",
   "metadata": {},
   "outputs": [],
   "source": [
    "import random"
   ]
  },
  {
   "cell_type": "code",
   "execution_count": 80,
   "id": "38574638",
   "metadata": {},
   "outputs": [],
   "source": [
    "for channel in set(df[df[\"description\"].isna()][\"channel_title\"].values.tolist()):\n",
    "    n = len(df[(df[\"description\"].notna()) & (df[\"channel_title\"] == channel)])\n",
    "    if n == 0: continue\n",
    "    N = len(df[(df[\"description\"].isna()) & (df[\"channel_title\"] == channel)])\n",
    "    \n",
    "    new_values = []\n",
    "    while(N > n):\n",
    "        new_values += random.sample(df[(df[\"description\"].notna()) & (df[\"channel_title\"] == channel)][\"description\"].values.tolist(), k=n)\n",
    "        N -= n\n",
    "    new_values += random.sample(df[(df[\"description\"].notna()) & (df[\"channel_title\"] == channel)][\"description\"].values.tolist(), k=N)\n",
    "    \n",
    "    new_values = pd.Series(data=new_values, index=df[(df[\"description\"].isna()) & (df[\"channel_title\"] == channel)].index)\n",
    "    for i in new_values.index:\n",
    "        df.loc[i, \"description\"] = new_values.loc[i]\n",
    "#     df[(df[\"description\"].isna()) & (df[\"channel_title\"] == channel)][\"description\"] = pd.Series(new_values)"
   ]
  },
  {
   "cell_type": "markdown",
   "id": "657c2342",
   "metadata": {},
   "source": [
    "### Revisión de casos donde se mantiene el valor faltante"
   ]
  },
  {
   "cell_type": "code",
   "execution_count": 81,
   "id": "c6689d75",
   "metadata": {},
   "outputs": [
    {
     "data": {
      "text/plain": [
       "722"
      ]
     },
     "execution_count": 81,
     "metadata": {},
     "output_type": "execute_result"
    }
   ],
   "source": [
    "df[\"description\"].isna().sum()"
   ]
  },
  {
   "cell_type": "code",
   "execution_count": 82,
   "id": "d85dba03",
   "metadata": {},
   "outputs": [
    {
     "name": "stdout",
     "output_type": "stream",
     "text": [
      "In total, 303 channels have videos registered without description, from which 303 haven't registered a description in any video\n"
     ]
    }
   ],
   "source": [
    "channel_count, without_description_count = 0, 0\n",
    "for channel in set(df[df[\"description\"].isna()][\"channel_title\"].values.tolist()):\n",
    "    channel_count += 1\n",
    "    without_description_count += 1 > sum(df[df[\"channel_title\"] == channel][\"description\"].notna())\n",
    "print(f\"In total, {channel_count} channels have videos registered without description, from which {without_description_count} haven't registered a description in any video\")"
   ]
  },
  {
   "cell_type": "markdown",
   "id": "3d059cd7",
   "metadata": {},
   "source": [
    "Todos los valores faltantes son de canales que no publican descripciones para ninguno de sus videos, por ello se considera apropiado dejar ese valor como faltante.\n",
    "\n",
    "No se ha decidido eliminar estos registros porque la descripción no es un dato importante para el conocimiento que buscamos obtener a partir de la exploración y procesamiento de los datos."
   ]
  },
  {
   "cell_type": "markdown",
   "id": "910b468a",
   "metadata": {},
   "source": [
    "## Filtrar los registros válidos"
   ]
  },
  {
   "cell_type": "markdown",
   "id": "c2006a5e",
   "metadata": {},
   "source": [
    "Se eliminarán los registros cuyos videos hayan sido eliminados o ya no sean accesibles, ya que el hecho de que se busca analizar los datos de aquellos videos que siguen en la plataforma."
   ]
  },
  {
   "cell_type": "code",
   "execution_count": 94,
   "id": "2a3d2a50",
   "metadata": {},
   "outputs": [
    {
     "data": {
      "text/plain": [
       "Index(['video_id', 'trending_date', 'title', 'channel_title', 'category_id',\n",
       "       'publish_date', 'tags', 'views', 'likes', 'dislikes', 'comment_count',\n",
       "       'thumbnail_link', 'comments_disabled', 'ratings_disabled',\n",
       "       'video_error_or_removed', 'description', 'state', 'lat', 'lon',\n",
       "       'geometry', 'title_category', 'publish_time'],\n",
       "      dtype='object')"
      ]
     },
     "execution_count": 94,
     "metadata": {},
     "output_type": "execute_result"
    }
   ],
   "source": [
    "df.columns"
   ]
  },
  {
   "cell_type": "code",
   "execution_count": 95,
   "id": "7c3ac49b",
   "metadata": {},
   "outputs": [
    {
     "data": {
      "text/plain": [
       "False    40854\n",
       "True        27\n",
       "Name: video_error_or_removed, dtype: int64"
      ]
     },
     "execution_count": 95,
     "metadata": {},
     "output_type": "execute_result"
    }
   ],
   "source": [
    "df[\"video_error_or_removed\"].value_counts()"
   ]
  },
  {
   "cell_type": "code",
   "execution_count": 96,
   "id": "6f8f603c",
   "metadata": {},
   "outputs": [],
   "source": [
    "df[df[\"video_error_or_removed\"] == True] = np.NaN"
   ]
  },
  {
   "cell_type": "code",
   "execution_count": 97,
   "id": "a97d11ad",
   "metadata": {},
   "outputs": [
    {
     "data": {
      "text/plain": [
       "False    40854\n",
       "Name: video_error_or_removed, dtype: int64"
      ]
     },
     "execution_count": 97,
     "metadata": {},
     "output_type": "execute_result"
    }
   ],
   "source": [
    "df[\"video_error_or_removed\"].value_counts()"
   ]
  },
  {
   "cell_type": "code",
   "execution_count": 98,
   "id": "bef3feb6",
   "metadata": {},
   "outputs": [
    {
     "data": {
      "text/plain": [
       "27"
      ]
     },
     "execution_count": 98,
     "metadata": {},
     "output_type": "execute_result"
    }
   ],
   "source": [
    "sum(df[\"video_error_or_removed\"].isna())"
   ]
  },
  {
   "cell_type": "markdown",
   "id": "74752601",
   "metadata": {},
   "source": [
    "Habiendo confirmado que no es un número significativo de registros, se decide eliminarlos para que no afecten la integridad de los resultados."
   ]
  },
  {
   "cell_type": "code",
   "execution_count": 102,
   "id": "62042c53",
   "metadata": {},
   "outputs": [],
   "source": [
    "df.dropna(subset=[\"video_error_or_removed\"], inplace=True)"
   ]
  },
  {
   "cell_type": "code",
   "execution_count": 103,
   "id": "c3246b94",
   "metadata": {},
   "outputs": [
    {
     "data": {
      "text/plain": [
       "0"
      ]
     },
     "execution_count": 103,
     "metadata": {},
     "output_type": "execute_result"
    }
   ],
   "source": [
    "sum(df[\"video_error_or_removed\"].isna())"
   ]
  },
  {
   "cell_type": "markdown",
   "id": "35c78bbf",
   "metadata": {},
   "source": [
    "# Datos atípicos (**outliers**)"
   ]
  },
  {
   "cell_type": "code",
   "execution_count": 83,
   "id": "79c0f825",
   "metadata": {},
   "outputs": [],
   "source": [
    "import matplotlib.pyplot as plt\n",
    "%matplotlib inline"
   ]
  },
  {
   "cell_type": "code",
   "execution_count": 84,
   "id": "6472fd08",
   "metadata": {},
   "outputs": [
    {
     "data": {
      "text/plain": [
       "1147035.9107898534"
      ]
     },
     "execution_count": 84,
     "metadata": {},
     "output_type": "execute_result"
    }
   ],
   "source": [
    "df[\"views\"].mean()"
   ]
  },
  {
   "cell_type": "code",
   "execution_count": 85,
   "id": "13211d36",
   "metadata": {},
   "outputs": [
    {
     "data": {
      "text/plain": [
       "{'whiskers': [<matplotlib.lines.Line2D at 0x7fc4d6e7c730>,\n",
       "  <matplotlib.lines.Line2D at 0x7fc4d6e7ca00>],\n",
       " 'caps': [<matplotlib.lines.Line2D at 0x7fc4d6e7cd90>,\n",
       "  <matplotlib.lines.Line2D at 0x7fc4d667d160>],\n",
       " 'boxes': [<matplotlib.patches.PathPatch at 0x7fc4d6e7c2b0>],\n",
       " 'medians': [<matplotlib.lines.Line2D at 0x7fc4d667d4f0>],\n",
       " 'fliers': [<matplotlib.lines.Line2D at 0x7fc4d667d880>],\n",
       " 'means': []}"
      ]
     },
     "execution_count": 85,
     "metadata": {},
     "output_type": "execute_result"
    },
    {
     "data": {
      "image/png": "[encoded data removed]",
      "text/plain": [
       "<Figure size 432x288 with 1 Axes>"
      ]
     },
     "metadata": {
      "needs_background": "light"
     },
     "output_type": "display_data"
    }
   ],
   "source": [
    "plt.boxplot(df[\"likes\"],vert=True,patch_artist=True, autorange=True)"
   ]
  },
  {
   "cell_type": "code",
   "execution_count": 86,
   "id": "c4b907b5",
   "metadata": {},
   "outputs": [],
   "source": [
    "import seaborn as sns"
   ]
  },
  {
   "cell_type": "code",
   "execution_count": 87,
   "id": "b956c82e",
   "metadata": {},
   "outputs": [
    {
     "data": {
      "text/plain": [
       "<AxesSubplot:>"
      ]
     },
     "execution_count": 87,
     "metadata": {},
     "output_type": "execute_result"
    },
    {
     "data": {
      "image/png": "[encoded data removed]",
      "text/plain": [
       "<Figure size 432x288 with 1 Axes>"
      ]
     },
     "metadata": {
      "needs_background": "light"
     },
     "output_type": "display_data"
    }
   ],
   "source": [
    "sns.boxplot(data=df, palette='coolwarm', orient='h')"
   ]
  },
  {
   "cell_type": "markdown",
   "id": "b451059e",
   "metadata": {},
   "source": [
    "La gran dispersión de los valores de \"vistas\" no permite apreciar con claridad la distribución de los valores de las otras categorías, además, existen ciertas categorías numéricas, como el id de categoría, latitud, longitud para las cuales no nos interesa tener un referente de su distribución o de valores atípicos."
   ]
  },
  {
   "cell_type": "code",
   "execution_count": 88,
   "id": "32deeb84",
   "metadata": {},
   "outputs": [
    {
     "data": {
      "text/plain": [
       "<AxesSubplot:>"
      ]
     },
     "execution_count": 88,
     "metadata": {},
     "output_type": "execute_result"
    },
    {
     "data": {
      "image/png": "[encoded data removed]",
      "text/plain": [
       "<Figure size 432x288 with 1 Axes>"
      ]
     },
     "metadata": {
      "needs_background": "light"
     },
     "output_type": "display_data"
    }
   ],
   "source": [
    "sns.boxplot(data=df[[\"likes\", \"dislikes\", \"comment_count\", \"comments_disabled\", \"ratings_disabled\", \"video_error_or_removed\"]], palette='coolwarm', orient='h')"
   ]
  },
  {
   "cell_type": "code",
   "execution_count": 89,
   "id": "d240ff56",
   "metadata": {},
   "outputs": [
    {
     "data": {
      "text/plain": [
       "<AxesSubplot:>"
      ]
     },
     "execution_count": 89,
     "metadata": {},
     "output_type": "execute_result"
    },
    {
     "data": {
      "image/png": "[encoded data removed]",
      "text/plain": [
       "<Figure size 864x504 with 1 Axes>"
      ]
     },
     "metadata": {
      "needs_background": "light"
     },
     "output_type": "display_data"
    }
   ],
   "source": [
    "plt.figure(figsize=(12, 7))\n",
    "sns.boxplot(data=df[df[\"views\"] < 2000000][[\"views\", \"likes\"]], palette=\"winter\")"
   ]
  },
  {
   "cell_type": "code",
   "execution_count": 90,
   "id": "196e74dd",
   "metadata": {},
   "outputs": [
    {
     "data": {
      "text/plain": [
       "<AxesSubplot:>"
      ]
     },
     "execution_count": 90,
     "metadata": {},
     "output_type": "execute_result"
    },
    {
     "data": {
      "image/png": "[encoded data removed]",
      "text/plain": [
       "<Figure size 864x504 with 1 Axes>"
      ]
     },
     "metadata": {
      "needs_background": "light"
     },
     "output_type": "display_data"
    }
   ],
   "source": [
    "plt.figure(figsize=(12, 7))\n",
    "sns.boxplot(data=df[df[\"views\"] < 2000000][[\"views\", \"dislikes\"]], palette=\"winter\")"
   ]
  },
  {
   "cell_type": "code",
   "execution_count": 91,
   "id": "1f2c3f6e",
   "metadata": {},
   "outputs": [
    {
     "data": {
      "text/plain": [
       "<AxesSubplot:>"
      ]
     },
     "execution_count": 91,
     "metadata": {},
     "output_type": "execute_result"
    },
    {
     "data": {
      "image/png": "[encoded data removed]",
      "text/plain": [
       "<Figure size 864x504 with 1 Axes>"
      ]
     },
     "metadata": {
      "needs_background": "light"
     },
     "output_type": "display_data"
    }
   ],
   "source": [
    "plt.figure(figsize=(12, 7))\n",
    "sns.boxplot(data=df[df[\"views\"] < 2000000][[\"views\", \"comment_count\"]], palette=\"winter\")"
   ]
  },
  {
   "cell_type": "markdown",
   "id": "ad024231",
   "metadata": {},
   "source": [
    "Se visualiza claramente que los \"me gusta\", \"no me gusta\" y cantidad de comentarios no presentan una tendencia central y presentan bastantes registros dispersos hacia la derecha."
   ]
  },
  {
   "cell_type": "code",
   "execution_count": 92,
   "id": "c6a43b13",
   "metadata": {},
   "outputs": [
    {
     "data": {
      "text/plain": [
       "<seaborn.axisgrid.JointGrid at 0x7fc4d2645ca0>"
      ]
     },
     "execution_count": 92,
     "metadata": {},
     "output_type": "execute_result"
    },
    {
     "data": {
      "image/png": "[encoded data removed]",
      "text/plain": [
       "<Figure size 432x432 with 3 Axes>"
      ]
     },
     "metadata": {
      "needs_background": "light"
     },
     "output_type": "display_data"
    }
   ],
   "source": [
    "sns.jointplot(x=\"likes\", y=\"views\", data=df, kind=\"reg\")"
   ]
  },
  {
   "cell_type": "code",
   "execution_count": 93,
   "id": "7b789c26",
   "metadata": {},
   "outputs": [
    {
     "data": {
      "text/html": [
       "<div>\n",
       "<style scoped>\n",
       "    .dataframe tbody tr th:only-of-type {\n",
       "        vertical-align: middle;\n",
       "    }\n",
       "\n",
       "    .dataframe tbody tr th {\n",
       "        vertical-align: top;\n",
       "    }\n",
       "\n",
       "    .dataframe thead th {\n",
       "        text-align: right;\n",
       "    }\n",
       "</style>\n",
       "<table border=\"1\" class=\"dataframe\">\n",
       "  <thead>\n",
       "    <tr style=\"text-align: right;\">\n",
       "      <th></th>\n",
       "      <th>views</th>\n",
       "      <th>likes</th>\n",
       "    </tr>\n",
       "  </thead>\n",
       "  <tbody>\n",
       "    <tr>\n",
       "      <th>views</th>\n",
       "      <td>1.000000</td>\n",
       "      <td>0.828964</td>\n",
       "    </tr>\n",
       "    <tr>\n",
       "      <th>likes</th>\n",
       "      <td>0.828964</td>\n",
       "      <td>1.000000</td>\n",
       "    </tr>\n",
       "  </tbody>\n",
       "</table>\n",
       "</div>"
      ],
      "text/plain": [
       "          views     likes\n",
       "views  1.000000  0.828964\n",
       "likes  0.828964  1.000000"
      ]
     },
     "execution_count": 93,
     "metadata": {},
     "output_type": "execute_result"
    }
   ],
   "source": [
    "df[[\"views\", \"likes\"]].corr()"
   ]
  },
  {
   "cell_type": "markdown",
   "id": "1e776a38",
   "metadata": {},
   "source": [
    "A partir de la gráfica y el resultado se puede observar que en líneas generales para que un video tenga muchos likes, debe tener necesariamente muchas vistas. No se presenta ningún caso alarmante donde se presente una cantidad exagerada de likes para la cantidad de vistas."
   ]
  },
  {
   "cell_type": "markdown",
   "id": "d5c614c9",
   "metadata": {},
   "source": [
    "De igual manera, es necesario validar metódicamente que no se produzca ningún registro con un ratio incorrecto entre views/(likes + dislikes). Este ratio solo es válido si es mayor o igual a 1, ya que cada persona registrada solo puede dar un like o dislike, pero puede visualizar el video múltiples veces."
   ]
  },
  {
   "cell_type": "code",
   "execution_count": 109,
   "id": "413f5582",
   "metadata": {},
   "outputs": [],
   "source": [
    "def check_view_feedback_ratio(cols):\n",
    "    views = cols[0]\n",
    "    likes = cols[1]\n",
    "    dislikes = cols[2]\n",
    "    if views < likes + dislikes:\n",
    "        views = \n",
    "    for register in cols:\n",
    "        if register[cols[0]] < register[cols[1]] + register[cols[2]]:\n",
    "            register[cols[0]] = np.NaN"
   ]
  },
  {
   "cell_type": "code",
   "execution_count": 117,
   "id": "b627c548",
   "metadata": {},
   "outputs": [],
   "source": [
    "df[df[\"views\"] < df[\"likes\"] + df[\"dislikes\"]][\"views\"] = np.NaN"
   ]
  },
  {
   "cell_type": "code",
   "execution_count": 120,
   "id": "8a3ed445",
   "metadata": {},
   "outputs": [
    {
     "data": {
      "text/plain": [
       "40854"
      ]
     },
     "execution_count": 120,
     "metadata": {},
     "output_type": "execute_result"
    }
   ],
   "source": [
    "df[df[\"views\"] > df[\"likes\"] + df[\"dislikes\"]][\"views\"].count()"
   ]
  },
  {
   "cell_type": "code",
   "execution_count": 119,
   "id": "55124a6c",
   "metadata": {},
   "outputs": [
    {
     "data": {
      "text/plain": [
       "0"
      ]
     },
     "execution_count": 119,
     "metadata": {},
     "output_type": "execute_result"
    }
   ],
   "source": [
    "sum(df[\"views\"].isna())"
   ]
  },
  {
   "cell_type": "markdown",
   "id": "974d07ba",
   "metadata": {},
   "source": [
    "Se ha comprobado que no existe ningún registro incorrecto donde la suma de likes y dislikes supera el número de vistas."
   ]
  },
  {
   "cell_type": "code",
   "execution_count": 121,
   "id": "ab7f2972",
   "metadata": {},
   "outputs": [
    {
     "data": {
      "text/plain": [
       "733.0"
      ]
     },
     "execution_count": 121,
     "metadata": {},
     "output_type": "execute_result"
    }
   ],
   "source": [
    "df[\"views\"].min()"
   ]
  },
  {
   "cell_type": "markdown",
   "id": "fab99a04",
   "metadata": {},
   "source": [
    "## Ordenar y organizar el DataFrame"
   ]
  },
  {
   "cell_type": "code",
   "execution_count": 122,
   "id": "0b86a20f",
   "metadata": {},
   "outputs": [
    {
     "data": {
      "text/plain": [
       "Index(['video_id', 'trending_date', 'title', 'channel_title', 'category_id',\n",
       "       'publish_date', 'tags', 'views', 'likes', 'dislikes', 'comment_count',\n",
       "       'thumbnail_link', 'comments_disabled', 'ratings_disabled',\n",
       "       'video_error_or_removed', 'description', 'state', 'lat', 'lon',\n",
       "       'geometry', 'title_category', 'publish_time'],\n",
       "      dtype='object')"
      ]
     },
     "execution_count": 122,
     "metadata": {},
     "output_type": "execute_result"
    }
   ],
   "source": [
    "df.columns"
   ]
  },
  {
   "cell_type": "code",
   "execution_count": 124,
   "id": "ea08ff9d",
   "metadata": {},
   "outputs": [
    {
     "name": "stdout",
     "output_type": "stream",
     "text": [
      "<class 'pandas.core.frame.DataFrame'>\n",
      "Int64Index: 40854 entries, 0 to 40880\n",
      "Data columns (total 22 columns):\n",
      " #   Column                  Non-Null Count  Dtype         \n",
      "---  ------                  --------------  -----         \n",
      " 0   video_id                40854 non-null  object        \n",
      " 1   trending_date           40854 non-null  datetime64[ns]\n",
      " 2   title                   40854 non-null  object        \n",
      " 3   channel_title           40854 non-null  object        \n",
      " 4   category_id             40854 non-null  float64       \n",
      " 5   publish_date            40854 non-null  datetime64[ns]\n",
      " 6   tags                    40854 non-null  object        \n",
      " 7   views                   40854 non-null  float64       \n",
      " 8   likes                   40854 non-null  float64       \n",
      " 9   dislikes                40854 non-null  float64       \n",
      " 10  comment_count           40854 non-null  float64       \n",
      " 11  thumbnail_link          40854 non-null  object        \n",
      " 12  comments_disabled       40854 non-null  object        \n",
      " 13  ratings_disabled        40854 non-null  object        \n",
      " 14  video_error_or_removed  40854 non-null  object        \n",
      " 15  description             40132 non-null  object        \n",
      " 16  state                   40854 non-null  object        \n",
      " 17  lat                     40854 non-null  float64       \n",
      " 18  lon                     40854 non-null  float64       \n",
      " 19  geometry                40854 non-null  object        \n",
      " 20  title_category          40854 non-null  object        \n",
      " 21  publish_time            40854 non-null  object        \n",
      "dtypes: datetime64[ns](2), float64(7), object(13)\n",
      "memory usage: 7.2+ MB\n"
     ]
    }
   ],
   "source": [
    "df.info()"
   ]
  },
  {
   "cell_type": "code",
   "execution_count": null,
   "id": "b18caa68",
   "metadata": {},
   "outputs": [],
   "source": [
    "j"
   ]
  }
 ],
 "metadata": {
  "kernelspec": {
   "display_name": "Python 3 (ipykernel)",
   "language": "python",
   "name": "python3"
  },
  "language_info": {
   "codemirror_mode": {
    "name": "ipython",
    "version": 3
   },
   "file_extension": ".py",
   "mimetype": "text/x-python",
   "name": "python",
   "nbconvert_exporter": "python",
   "pygments_lexer": "ipython3",
   "version": "3.9.7"
  }
 },
 "nbformat": 4,
 "nbformat_minor": 5
}
