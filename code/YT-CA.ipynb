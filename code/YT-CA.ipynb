{
 "cells": [
  {
   "cell_type": "markdown",
   "id": "e21492ef",
   "metadata": {},
   "source": [
    "# Cargar los datos"
   ]
  },
  {
   "cell_type": "code",
   "execution_count": 1,
   "id": "91fe243d",
   "metadata": {
    "scrolled": true
   },
   "outputs": [],
   "source": [
    "import pandas as pd, numpy as np"
   ]
  },
  {
   "cell_type": "code",
   "execution_count": 2,
   "id": "2feaefd9",
   "metadata": {},
   "outputs": [],
   "source": [
    "url = \"https://raw.githubusercontent.com/z3r0st/EB-2022-1-CC50/main/data/CAvideos_cc50.csv\"\n",
    "df = pd.read_csv(url)"
   ]
  },
  {
   "cell_type": "code",
   "execution_count": 3,
   "id": "2741bef7",
   "metadata": {},
   "outputs": [],
   "source": [
    "url = \"https://raw.githubusercontent.com/z3r0st/EB-2022-1-CC50/main/data/CA_category_id.json\"\n",
    "categories = pd.read_json(url)"
   ]
  },
  {
   "cell_type": "markdown",
   "id": "c1cfc085",
   "metadata": {},
   "source": [
    "# Inspección de los datos"
   ]
  },
  {
   "cell_type": "markdown",
   "id": "482f278d",
   "metadata": {},
   "source": [
    "## DataFrame Principal"
   ]
  },
  {
   "cell_type": "code",
   "execution_count": 4,
   "id": "ba03c351",
   "metadata": {},
   "outputs": [
    {
     "data": {
      "text/html": [
       "<div>\n",
       "<style scoped>\n",
       "    .dataframe tbody tr th:only-of-type {\n",
       "        vertical-align: middle;\n",
       "    }\n",
       "\n",
       "    .dataframe tbody tr th {\n",
       "        vertical-align: top;\n",
       "    }\n",
       "\n",
       "    .dataframe thead th {\n",
       "        text-align: right;\n",
       "    }\n",
       "</style>\n",
       "<table border=\"1\" class=\"dataframe\">\n",
       "  <thead>\n",
       "    <tr style=\"text-align: right;\">\n",
       "      <th></th>\n",
       "      <th>video_id</th>\n",
       "      <th>trending_date</th>\n",
       "      <th>title</th>\n",
       "      <th>channel_title</th>\n",
       "      <th>category_id</th>\n",
       "      <th>publish_time</th>\n",
       "      <th>tags</th>\n",
       "      <th>views</th>\n",
       "      <th>likes</th>\n",
       "      <th>dislikes</th>\n",
       "      <th>comment_count</th>\n",
       "      <th>thumbnail_link</th>\n",
       "      <th>comments_disabled</th>\n",
       "      <th>ratings_disabled</th>\n",
       "      <th>video_error_or_removed</th>\n",
       "      <th>description</th>\n",
       "      <th>state</th>\n",
       "      <th>lat</th>\n",
       "      <th>lon</th>\n",
       "      <th>geometry</th>\n",
       "    </tr>\n",
       "  </thead>\n",
       "  <tbody>\n",
       "    <tr>\n",
       "      <th>0</th>\n",
       "      <td>n1WpP7iowLc</td>\n",
       "      <td>17.14.11</td>\n",
       "      <td>Eminem - Walk On Water (Audio) ft. Beyoncé</td>\n",
       "      <td>EminemVEVO</td>\n",
       "      <td>10</td>\n",
       "      <td>2017-11-10T17:00:03.000Z</td>\n",
       "      <td>Eminem|\"Walk\"|\"On\"|\"Water\"|\"Aftermath/Shady/In...</td>\n",
       "      <td>17158579</td>\n",
       "      <td>787425</td>\n",
       "      <td>43420</td>\n",
       "      <td>125882</td>\n",
       "      <td>https://i.ytimg.com/vi/n1WpP7iowLc/default.jpg</td>\n",
       "      <td>False</td>\n",
       "      <td>False</td>\n",
       "      <td>False</td>\n",
       "      <td>Eminem's new track Walk on Water ft. Beyoncé i...</td>\n",
       "      <td>Manitoba</td>\n",
       "      <td>50.150025</td>\n",
       "      <td>-96.883322</td>\n",
       "      <td>POINT (-96.88332178 50.15002545)</td>\n",
       "    </tr>\n",
       "    <tr>\n",
       "      <th>1</th>\n",
       "      <td>0dBIkQ4Mz1M</td>\n",
       "      <td>17.14.11</td>\n",
       "      <td>PLUSH - Bad Unboxing Fan Mail</td>\n",
       "      <td>iDubbbzTV</td>\n",
       "      <td>23</td>\n",
       "      <td>2017-11-13T17:00:00.000Z</td>\n",
       "      <td>plush|\"bad unboxing\"|\"unboxing\"|\"fan mail\"|\"id...</td>\n",
       "      <td>1014651</td>\n",
       "      <td>127794</td>\n",
       "      <td>1688</td>\n",
       "      <td>13030</td>\n",
       "      <td>https://i.ytimg.com/vi/0dBIkQ4Mz1M/default.jpg</td>\n",
       "      <td>False</td>\n",
       "      <td>False</td>\n",
       "      <td>False</td>\n",
       "      <td>STill got a lot of packages. Probably will las...</td>\n",
       "      <td>British Columbia</td>\n",
       "      <td>49.099960</td>\n",
       "      <td>-116.516697</td>\n",
       "      <td>POINT (-116.516697 49.09996035)</td>\n",
       "    </tr>\n",
       "    <tr>\n",
       "      <th>2</th>\n",
       "      <td>5qpjK5DgCt4</td>\n",
       "      <td>17.14.11</td>\n",
       "      <td>Racist Superman | Rudy Mancuso, King Bach &amp; Le...</td>\n",
       "      <td>Rudy Mancuso</td>\n",
       "      <td>23</td>\n",
       "      <td>2017-11-12T19:05:24.000Z</td>\n",
       "      <td>racist superman|\"rudy\"|\"mancuso\"|\"king\"|\"bach\"...</td>\n",
       "      <td>3191434</td>\n",
       "      <td>146035</td>\n",
       "      <td>5339</td>\n",
       "      <td>8181</td>\n",
       "      <td>https://i.ytimg.com/vi/5qpjK5DgCt4/default.jpg</td>\n",
       "      <td>False</td>\n",
       "      <td>False</td>\n",
       "      <td>False</td>\n",
       "      <td>WATCH MY PREVIOUS VIDEO ▶ \\n\\nSUBSCRIBE ► http...</td>\n",
       "      <td>New Brunswick</td>\n",
       "      <td>45.267042</td>\n",
       "      <td>-66.076675</td>\n",
       "      <td>POINT (-66.07667505000001 45.26704185)</td>\n",
       "    </tr>\n",
       "    <tr>\n",
       "      <th>3</th>\n",
       "      <td>d380meD0W0M</td>\n",
       "      <td>17.14.11</td>\n",
       "      <td>I Dare You: GOING BALD!?</td>\n",
       "      <td>nigahiga</td>\n",
       "      <td>24</td>\n",
       "      <td>2017-11-12T18:01:41.000Z</td>\n",
       "      <td>ryan|\"higa\"|\"higatv\"|\"nigahiga\"|\"i dare you\"|\"...</td>\n",
       "      <td>2095828</td>\n",
       "      <td>132239</td>\n",
       "      <td>1989</td>\n",
       "      <td>17518</td>\n",
       "      <td>https://i.ytimg.com/vi/d380meD0W0M/default.jpg</td>\n",
       "      <td>False</td>\n",
       "      <td>False</td>\n",
       "      <td>False</td>\n",
       "      <td>I know it's been a while since we did this sho...</td>\n",
       "      <td>Saskatchewan</td>\n",
       "      <td>50.933311</td>\n",
       "      <td>-102.799989</td>\n",
       "      <td>POINT (-102.7999891 50.93331097)</td>\n",
       "    </tr>\n",
       "    <tr>\n",
       "      <th>4</th>\n",
       "      <td>2Vv-BfVoq4g</td>\n",
       "      <td>17.14.11</td>\n",
       "      <td>Ed Sheeran - Perfect (Official Music Video)</td>\n",
       "      <td>Ed Sheeran</td>\n",
       "      <td>10</td>\n",
       "      <td>2017-11-09T11:04:14.000Z</td>\n",
       "      <td>edsheeran|\"ed sheeran\"|\"acoustic\"|\"live\"|\"cove...</td>\n",
       "      <td>33523622</td>\n",
       "      <td>1634130</td>\n",
       "      <td>21082</td>\n",
       "      <td>85067</td>\n",
       "      <td>https://i.ytimg.com/vi/2Vv-BfVoq4g/default.jpg</td>\n",
       "      <td>False</td>\n",
       "      <td>False</td>\n",
       "      <td>False</td>\n",
       "      <td>🎧: https://ad.gt/yt-perfect\\n💰: https://atlant...</td>\n",
       "      <td>Alberta</td>\n",
       "      <td>53.016698</td>\n",
       "      <td>-112.816639</td>\n",
       "      <td>POINT (-112.8166386 53.01669802)</td>\n",
       "    </tr>\n",
       "  </tbody>\n",
       "</table>\n",
       "</div>"
      ],
      "text/plain": [
       "      video_id trending_date  \\\n",
       "0  n1WpP7iowLc      17.14.11   \n",
       "1  0dBIkQ4Mz1M      17.14.11   \n",
       "2  5qpjK5DgCt4      17.14.11   \n",
       "3  d380meD0W0M      17.14.11   \n",
       "4  2Vv-BfVoq4g      17.14.11   \n",
       "\n",
       "                                               title channel_title  \\\n",
       "0         Eminem - Walk On Water (Audio) ft. Beyoncé    EminemVEVO   \n",
       "1                      PLUSH - Bad Unboxing Fan Mail     iDubbbzTV   \n",
       "2  Racist Superman | Rudy Mancuso, King Bach & Le...  Rudy Mancuso   \n",
       "3                           I Dare You: GOING BALD!?      nigahiga   \n",
       "4        Ed Sheeran - Perfect (Official Music Video)    Ed Sheeran   \n",
       "\n",
       "   category_id              publish_time  \\\n",
       "0           10  2017-11-10T17:00:03.000Z   \n",
       "1           23  2017-11-13T17:00:00.000Z   \n",
       "2           23  2017-11-12T19:05:24.000Z   \n",
       "3           24  2017-11-12T18:01:41.000Z   \n",
       "4           10  2017-11-09T11:04:14.000Z   \n",
       "\n",
       "                                                tags     views    likes  \\\n",
       "0  Eminem|\"Walk\"|\"On\"|\"Water\"|\"Aftermath/Shady/In...  17158579   787425   \n",
       "1  plush|\"bad unboxing\"|\"unboxing\"|\"fan mail\"|\"id...   1014651   127794   \n",
       "2  racist superman|\"rudy\"|\"mancuso\"|\"king\"|\"bach\"...   3191434   146035   \n",
       "3  ryan|\"higa\"|\"higatv\"|\"nigahiga\"|\"i dare you\"|\"...   2095828   132239   \n",
       "4  edsheeran|\"ed sheeran\"|\"acoustic\"|\"live\"|\"cove...  33523622  1634130   \n",
       "\n",
       "   dislikes  comment_count                                  thumbnail_link  \\\n",
       "0     43420         125882  https://i.ytimg.com/vi/n1WpP7iowLc/default.jpg   \n",
       "1      1688          13030  https://i.ytimg.com/vi/0dBIkQ4Mz1M/default.jpg   \n",
       "2      5339           8181  https://i.ytimg.com/vi/5qpjK5DgCt4/default.jpg   \n",
       "3      1989          17518  https://i.ytimg.com/vi/d380meD0W0M/default.jpg   \n",
       "4     21082          85067  https://i.ytimg.com/vi/2Vv-BfVoq4g/default.jpg   \n",
       "\n",
       "   comments_disabled  ratings_disabled  video_error_or_removed  \\\n",
       "0              False             False                   False   \n",
       "1              False             False                   False   \n",
       "2              False             False                   False   \n",
       "3              False             False                   False   \n",
       "4              False             False                   False   \n",
       "\n",
       "                                         description             state  \\\n",
       "0  Eminem's new track Walk on Water ft. Beyoncé i...          Manitoba   \n",
       "1  STill got a lot of packages. Probably will las...  British Columbia   \n",
       "2  WATCH MY PREVIOUS VIDEO ▶ \\n\\nSUBSCRIBE ► http...     New Brunswick   \n",
       "3  I know it's been a while since we did this sho...      Saskatchewan   \n",
       "4  🎧: https://ad.gt/yt-perfect\\n💰: https://atlant...           Alberta   \n",
       "\n",
       "         lat         lon                                geometry  \n",
       "0  50.150025  -96.883322        POINT (-96.88332178 50.15002545)  \n",
       "1  49.099960 -116.516697         POINT (-116.516697 49.09996035)  \n",
       "2  45.267042  -66.076675  POINT (-66.07667505000001 45.26704185)  \n",
       "3  50.933311 -102.799989        POINT (-102.7999891 50.93331097)  \n",
       "4  53.016698 -112.816639        POINT (-112.8166386 53.01669802)  "
      ]
     },
     "execution_count": 4,
     "metadata": {},
     "output_type": "execute_result"
    }
   ],
   "source": [
    "df.head()"
   ]
  },
  {
   "cell_type": "code",
   "execution_count": 5,
   "id": "e3251136",
   "metadata": {},
   "outputs": [
    {
     "name": "stdout",
     "output_type": "stream",
     "text": [
      "<class 'pandas.core.frame.DataFrame'>\n",
      "RangeIndex: 40881 entries, 0 to 40880\n",
      "Data columns (total 20 columns):\n",
      " #   Column                  Non-Null Count  Dtype  \n",
      "---  ------                  --------------  -----  \n",
      " 0   video_id                40881 non-null  object \n",
      " 1   trending_date           40881 non-null  object \n",
      " 2   title                   40881 non-null  object \n",
      " 3   channel_title           40881 non-null  object \n",
      " 4   category_id             40881 non-null  int64  \n",
      " 5   publish_time            40881 non-null  object \n",
      " 6   tags                    40881 non-null  object \n",
      " 7   views                   40881 non-null  int64  \n",
      " 8   likes                   40881 non-null  int64  \n",
      " 9   dislikes                40881 non-null  int64  \n",
      " 10  comment_count           40881 non-null  int64  \n",
      " 11  thumbnail_link          40881 non-null  object \n",
      " 12  comments_disabled       40881 non-null  bool   \n",
      " 13  ratings_disabled        40881 non-null  bool   \n",
      " 14  video_error_or_removed  40881 non-null  bool   \n",
      " 15  description             39585 non-null  object \n",
      " 16  state                   40881 non-null  object \n",
      " 17  lat                     40881 non-null  float64\n",
      " 18  lon                     40881 non-null  float64\n",
      " 19  geometry                40881 non-null  object \n",
      "dtypes: bool(3), float64(2), int64(5), object(10)\n",
      "memory usage: 5.4+ MB\n"
     ]
    }
   ],
   "source": [
    "df.info()"
   ]
  },
  {
   "cell_type": "code",
   "execution_count": 6,
   "id": "57dcc87d",
   "metadata": {},
   "outputs": [
    {
     "data": {
      "text/plain": [
       "video_id                     0\n",
       "trending_date                0\n",
       "title                        0\n",
       "channel_title                0\n",
       "category_id                  0\n",
       "publish_time                 0\n",
       "tags                         0\n",
       "views                        0\n",
       "likes                        0\n",
       "dislikes                     0\n",
       "comment_count                0\n",
       "thumbnail_link               0\n",
       "comments_disabled            0\n",
       "ratings_disabled             0\n",
       "video_error_or_removed       0\n",
       "description               1296\n",
       "state                        0\n",
       "lat                          0\n",
       "lon                          0\n",
       "geometry                     0\n",
       "dtype: int64"
      ]
     },
     "execution_count": 6,
     "metadata": {},
     "output_type": "execute_result"
    }
   ],
   "source": [
    "df.isna().sum()"
   ]
  },
  {
   "cell_type": "markdown",
   "id": "48cf2fb3",
   "metadata": {},
   "source": [
    "## Categorías"
   ]
  },
  {
   "cell_type": "code",
   "execution_count": 7,
   "id": "257dd04b",
   "metadata": {},
   "outputs": [
    {
     "data": {
      "text/html": [
       "<div>\n",
       "<style scoped>\n",
       "    .dataframe tbody tr th:only-of-type {\n",
       "        vertical-align: middle;\n",
       "    }\n",
       "\n",
       "    .dataframe tbody tr th {\n",
       "        vertical-align: top;\n",
       "    }\n",
       "\n",
       "    .dataframe thead th {\n",
       "        text-align: right;\n",
       "    }\n",
       "</style>\n",
       "<table border=\"1\" class=\"dataframe\">\n",
       "  <thead>\n",
       "    <tr style=\"text-align: right;\">\n",
       "      <th></th>\n",
       "      <th>kind</th>\n",
       "      <th>etag</th>\n",
       "      <th>items</th>\n",
       "    </tr>\n",
       "  </thead>\n",
       "  <tbody>\n",
       "    <tr>\n",
       "      <th>0</th>\n",
       "      <td>youtube#videoCategoryListResponse</td>\n",
       "      <td>\"ld9biNPKjAjgjV7EZ4EKeEGrhao/1v2mrzYSYG6onNLt2...</td>\n",
       "      <td>{'kind': 'youtube#videoCategory', 'etag': '\"ld...</td>\n",
       "    </tr>\n",
       "    <tr>\n",
       "      <th>1</th>\n",
       "      <td>youtube#videoCategoryListResponse</td>\n",
       "      <td>\"ld9biNPKjAjgjV7EZ4EKeEGrhao/1v2mrzYSYG6onNLt2...</td>\n",
       "      <td>{'kind': 'youtube#videoCategory', 'etag': '\"ld...</td>\n",
       "    </tr>\n",
       "    <tr>\n",
       "      <th>2</th>\n",
       "      <td>youtube#videoCategoryListResponse</td>\n",
       "      <td>\"ld9biNPKjAjgjV7EZ4EKeEGrhao/1v2mrzYSYG6onNLt2...</td>\n",
       "      <td>{'kind': 'youtube#videoCategory', 'etag': '\"ld...</td>\n",
       "    </tr>\n",
       "    <tr>\n",
       "      <th>3</th>\n",
       "      <td>youtube#videoCategoryListResponse</td>\n",
       "      <td>\"ld9biNPKjAjgjV7EZ4EKeEGrhao/1v2mrzYSYG6onNLt2...</td>\n",
       "      <td>{'kind': 'youtube#videoCategory', 'etag': '\"ld...</td>\n",
       "    </tr>\n",
       "    <tr>\n",
       "      <th>4</th>\n",
       "      <td>youtube#videoCategoryListResponse</td>\n",
       "      <td>\"ld9biNPKjAjgjV7EZ4EKeEGrhao/1v2mrzYSYG6onNLt2...</td>\n",
       "      <td>{'kind': 'youtube#videoCategory', 'etag': '\"ld...</td>\n",
       "    </tr>\n",
       "  </tbody>\n",
       "</table>\n",
       "</div>"
      ],
      "text/plain": [
       "                                kind  \\\n",
       "0  youtube#videoCategoryListResponse   \n",
       "1  youtube#videoCategoryListResponse   \n",
       "2  youtube#videoCategoryListResponse   \n",
       "3  youtube#videoCategoryListResponse   \n",
       "4  youtube#videoCategoryListResponse   \n",
       "\n",
       "                                                etag  \\\n",
       "0  \"ld9biNPKjAjgjV7EZ4EKeEGrhao/1v2mrzYSYG6onNLt2...   \n",
       "1  \"ld9biNPKjAjgjV7EZ4EKeEGrhao/1v2mrzYSYG6onNLt2...   \n",
       "2  \"ld9biNPKjAjgjV7EZ4EKeEGrhao/1v2mrzYSYG6onNLt2...   \n",
       "3  \"ld9biNPKjAjgjV7EZ4EKeEGrhao/1v2mrzYSYG6onNLt2...   \n",
       "4  \"ld9biNPKjAjgjV7EZ4EKeEGrhao/1v2mrzYSYG6onNLt2...   \n",
       "\n",
       "                                               items  \n",
       "0  {'kind': 'youtube#videoCategory', 'etag': '\"ld...  \n",
       "1  {'kind': 'youtube#videoCategory', 'etag': '\"ld...  \n",
       "2  {'kind': 'youtube#videoCategory', 'etag': '\"ld...  \n",
       "3  {'kind': 'youtube#videoCategory', 'etag': '\"ld...  \n",
       "4  {'kind': 'youtube#videoCategory', 'etag': '\"ld...  "
      ]
     },
     "execution_count": 7,
     "metadata": {},
     "output_type": "execute_result"
    }
   ],
   "source": [
    "categories.head()"
   ]
  },
  {
   "cell_type": "code",
   "execution_count": 8,
   "id": "ac0e7042",
   "metadata": {},
   "outputs": [
    {
     "data": {
      "text/plain": [
       "RangeIndex(start=0, stop=31, step=1)"
      ]
     },
     "execution_count": 8,
     "metadata": {},
     "output_type": "execute_result"
    }
   ],
   "source": [
    "categories.index"
   ]
  },
  {
   "cell_type": "code",
   "execution_count": 9,
   "id": "08623316",
   "metadata": {},
   "outputs": [
    {
     "data": {
      "text/plain": [
       "Index(['kind', 'etag', 'items'], dtype='object')"
      ]
     },
     "execution_count": 9,
     "metadata": {},
     "output_type": "execute_result"
    }
   ],
   "source": [
    "categories.columns"
   ]
  },
  {
   "cell_type": "code",
   "execution_count": 10,
   "id": "8cc05da2",
   "metadata": {},
   "outputs": [
    {
     "data": {
      "text/plain": [
       "0    {'kind': 'youtube#videoCategory', 'etag': '\"ld...\n",
       "1    {'kind': 'youtube#videoCategory', 'etag': '\"ld...\n",
       "2    {'kind': 'youtube#videoCategory', 'etag': '\"ld...\n",
       "3    {'kind': 'youtube#videoCategory', 'etag': '\"ld...\n",
       "4    {'kind': 'youtube#videoCategory', 'etag': '\"ld...\n",
       "Name: items, dtype: object"
      ]
     },
     "execution_count": 10,
     "metadata": {},
     "output_type": "execute_result"
    }
   ],
   "source": [
    "categories[\"items\"].head()"
   ]
  },
  {
   "cell_type": "code",
   "execution_count": 11,
   "id": "a59c00e2",
   "metadata": {},
   "outputs": [
    {
     "name": "stdout",
     "output_type": "stream",
     "text": [
      "<class 'pandas.core.frame.DataFrame'>\n",
      "RangeIndex: 31 entries, 0 to 30\n",
      "Data columns (total 3 columns):\n",
      " #   Column  Non-Null Count  Dtype \n",
      "---  ------  --------------  ----- \n",
      " 0   kind    31 non-null     object\n",
      " 1   etag    31 non-null     object\n",
      " 2   items   31 non-null     object\n",
      "dtypes: object(3)\n",
      "memory usage: 872.0+ bytes\n"
     ]
    }
   ],
   "source": [
    "categories.info()"
   ]
  },
  {
   "cell_type": "code",
   "execution_count": 12,
   "id": "3ac15048",
   "metadata": {},
   "outputs": [
    {
     "data": {
      "text/plain": [
       "array([{'kind': 'youtube#videoCategory', 'etag': '\"ld9biNPKjAjgjV7EZ4EKeEGrhao/Xy1mB4_yLrHy_BmKmPBggty2mZQ\"', 'id': '1', 'snippet': {'channelId': 'UCBR8-60-B28hp2BmDPdntcQ', 'title': 'Film & Animation', 'assignable': True}},\n",
       "       {'kind': 'youtube#videoCategory', 'etag': '\"ld9biNPKjAjgjV7EZ4EKeEGrhao/UZ1oLIIz2dxIhO45ZTFR3a3NyTA\"', 'id': '2', 'snippet': {'channelId': 'UCBR8-60-B28hp2BmDPdntcQ', 'title': 'Autos & Vehicles', 'assignable': True}},\n",
       "       {'kind': 'youtube#videoCategory', 'etag': '\"ld9biNPKjAjgjV7EZ4EKeEGrhao/nqRIq97-xe5XRZTxbknKFVe5Lmg\"', 'id': '10', 'snippet': {'channelId': 'UCBR8-60-B28hp2BmDPdntcQ', 'title': 'Music', 'assignable': True}},\n",
       "       {'kind': 'youtube#videoCategory', 'etag': '\"ld9biNPKjAjgjV7EZ4EKeEGrhao/HwXKamM1Q20q9BN-oBJavSGkfDI\"', 'id': '15', 'snippet': {'channelId': 'UCBR8-60-B28hp2BmDPdntcQ', 'title': 'Pets & Animals', 'assignable': True}},\n",
       "       {'kind': 'youtube#videoCategory', 'etag': '\"ld9biNPKjAjgjV7EZ4EKeEGrhao/9GQMSRjrZdHeb1OEM1XVQ9zbGec\"', 'id': '17', 'snippet': {'channelId': 'UCBR8-60-B28hp2BmDPdntcQ', 'title': 'Sports', 'assignable': True}}],\n",
       "      dtype=object)"
      ]
     },
     "execution_count": 12,
     "metadata": {},
     "output_type": "execute_result"
    }
   ],
   "source": [
    "categories[\"items\"].values[:5]"
   ]
  },
  {
   "cell_type": "code",
   "execution_count": 13,
   "id": "2aa2a556",
   "metadata": {},
   "outputs": [
    {
     "data": {
      "text/plain": [
       "[{'kind': 'youtube#videoCategory',\n",
       "  'etag': '\"ld9biNPKjAjgjV7EZ4EKeEGrhao/Xy1mB4_yLrHy_BmKmPBggty2mZQ\"',\n",
       "  'id': '1',\n",
       "  'snippet': {'channelId': 'UCBR8-60-B28hp2BmDPdntcQ',\n",
       "   'title': 'Film & Animation',\n",
       "   'assignable': True}},\n",
       " {'kind': 'youtube#videoCategory',\n",
       "  'etag': '\"ld9biNPKjAjgjV7EZ4EKeEGrhao/UZ1oLIIz2dxIhO45ZTFR3a3NyTA\"',\n",
       "  'id': '2',\n",
       "  'snippet': {'channelId': 'UCBR8-60-B28hp2BmDPdntcQ',\n",
       "   'title': 'Autos & Vehicles',\n",
       "   'assignable': True}},\n",
       " {'kind': 'youtube#videoCategory',\n",
       "  'etag': '\"ld9biNPKjAjgjV7EZ4EKeEGrhao/nqRIq97-xe5XRZTxbknKFVe5Lmg\"',\n",
       "  'id': '10',\n",
       "  'snippet': {'channelId': 'UCBR8-60-B28hp2BmDPdntcQ',\n",
       "   'title': 'Music',\n",
       "   'assignable': True}},\n",
       " {'kind': 'youtube#videoCategory',\n",
       "  'etag': '\"ld9biNPKjAjgjV7EZ4EKeEGrhao/HwXKamM1Q20q9BN-oBJavSGkfDI\"',\n",
       "  'id': '15',\n",
       "  'snippet': {'channelId': 'UCBR8-60-B28hp2BmDPdntcQ',\n",
       "   'title': 'Pets & Animals',\n",
       "   'assignable': True}},\n",
       " {'kind': 'youtube#videoCategory',\n",
       "  'etag': '\"ld9biNPKjAjgjV7EZ4EKeEGrhao/9GQMSRjrZdHeb1OEM1XVQ9zbGec\"',\n",
       "  'id': '17',\n",
       "  'snippet': {'channelId': 'UCBR8-60-B28hp2BmDPdntcQ',\n",
       "   'title': 'Sports',\n",
       "   'assignable': True}}]"
      ]
     },
     "execution_count": 13,
     "metadata": {},
     "output_type": "execute_result"
    }
   ],
   "source": [
    "categories[\"items\"].values.tolist()[:5]"
   ]
  },
  {
   "cell_type": "markdown",
   "id": "81e0b303",
   "metadata": {},
   "source": [
    "### Visualizar valores de la columna items"
   ]
  },
  {
   "cell_type": "code",
   "execution_count": 14,
   "id": "34a58723",
   "metadata": {},
   "outputs": [],
   "source": [
    "import urllib.request, json"
   ]
  },
  {
   "cell_type": "code",
   "execution_count": 15,
   "id": "3f417288",
   "metadata": {},
   "outputs": [],
   "source": [
    "url = \"https://raw.githubusercontent.com/z3r0st/EB-2022-1-CC50/main/data/CA_category_id.json\"                   \n",
    "with urllib.request.urlopen(url) as file:\n",
    "    cat_data = json.loads(file.read().decode())\n",
    "items = pd.json_normalize(cat_data, \"items\", record_prefix=\"item_\")"
   ]
  },
  {
   "cell_type": "code",
   "execution_count": 16,
   "id": "04294f56",
   "metadata": {},
   "outputs": [
    {
     "data": {
      "text/html": [
       "<div>\n",
       "<style scoped>\n",
       "    .dataframe tbody tr th:only-of-type {\n",
       "        vertical-align: middle;\n",
       "    }\n",
       "\n",
       "    .dataframe tbody tr th {\n",
       "        vertical-align: top;\n",
       "    }\n",
       "\n",
       "    .dataframe thead th {\n",
       "        text-align: right;\n",
       "    }\n",
       "</style>\n",
       "<table border=\"1\" class=\"dataframe\">\n",
       "  <thead>\n",
       "    <tr style=\"text-align: right;\">\n",
       "      <th></th>\n",
       "      <th>item_kind</th>\n",
       "      <th>item_etag</th>\n",
       "      <th>item_id</th>\n",
       "      <th>item_snippet.channelId</th>\n",
       "      <th>item_snippet.title</th>\n",
       "      <th>item_snippet.assignable</th>\n",
       "    </tr>\n",
       "  </thead>\n",
       "  <tbody>\n",
       "    <tr>\n",
       "      <th>0</th>\n",
       "      <td>youtube#videoCategory</td>\n",
       "      <td>\"ld9biNPKjAjgjV7EZ4EKeEGrhao/Xy1mB4_yLrHy_BmKm...</td>\n",
       "      <td>1</td>\n",
       "      <td>UCBR8-60-B28hp2BmDPdntcQ</td>\n",
       "      <td>Film &amp; Animation</td>\n",
       "      <td>True</td>\n",
       "    </tr>\n",
       "    <tr>\n",
       "      <th>1</th>\n",
       "      <td>youtube#videoCategory</td>\n",
       "      <td>\"ld9biNPKjAjgjV7EZ4EKeEGrhao/UZ1oLIIz2dxIhO45Z...</td>\n",
       "      <td>2</td>\n",
       "      <td>UCBR8-60-B28hp2BmDPdntcQ</td>\n",
       "      <td>Autos &amp; Vehicles</td>\n",
       "      <td>True</td>\n",
       "    </tr>\n",
       "    <tr>\n",
       "      <th>2</th>\n",
       "      <td>youtube#videoCategory</td>\n",
       "      <td>\"ld9biNPKjAjgjV7EZ4EKeEGrhao/nqRIq97-xe5XRZTxb...</td>\n",
       "      <td>10</td>\n",
       "      <td>UCBR8-60-B28hp2BmDPdntcQ</td>\n",
       "      <td>Music</td>\n",
       "      <td>True</td>\n",
       "    </tr>\n",
       "    <tr>\n",
       "      <th>3</th>\n",
       "      <td>youtube#videoCategory</td>\n",
       "      <td>\"ld9biNPKjAjgjV7EZ4EKeEGrhao/HwXKamM1Q20q9BN-o...</td>\n",
       "      <td>15</td>\n",
       "      <td>UCBR8-60-B28hp2BmDPdntcQ</td>\n",
       "      <td>Pets &amp; Animals</td>\n",
       "      <td>True</td>\n",
       "    </tr>\n",
       "    <tr>\n",
       "      <th>4</th>\n",
       "      <td>youtube#videoCategory</td>\n",
       "      <td>\"ld9biNPKjAjgjV7EZ4EKeEGrhao/9GQMSRjrZdHeb1OEM...</td>\n",
       "      <td>17</td>\n",
       "      <td>UCBR8-60-B28hp2BmDPdntcQ</td>\n",
       "      <td>Sports</td>\n",
       "      <td>True</td>\n",
       "    </tr>\n",
       "  </tbody>\n",
       "</table>\n",
       "</div>"
      ],
      "text/plain": [
       "               item_kind                                          item_etag  \\\n",
       "0  youtube#videoCategory  \"ld9biNPKjAjgjV7EZ4EKeEGrhao/Xy1mB4_yLrHy_BmKm...   \n",
       "1  youtube#videoCategory  \"ld9biNPKjAjgjV7EZ4EKeEGrhao/UZ1oLIIz2dxIhO45Z...   \n",
       "2  youtube#videoCategory  \"ld9biNPKjAjgjV7EZ4EKeEGrhao/nqRIq97-xe5XRZTxb...   \n",
       "3  youtube#videoCategory  \"ld9biNPKjAjgjV7EZ4EKeEGrhao/HwXKamM1Q20q9BN-o...   \n",
       "4  youtube#videoCategory  \"ld9biNPKjAjgjV7EZ4EKeEGrhao/9GQMSRjrZdHeb1OEM...   \n",
       "\n",
       "  item_id    item_snippet.channelId item_snippet.title  \\\n",
       "0       1  UCBR8-60-B28hp2BmDPdntcQ   Film & Animation   \n",
       "1       2  UCBR8-60-B28hp2BmDPdntcQ   Autos & Vehicles   \n",
       "2      10  UCBR8-60-B28hp2BmDPdntcQ              Music   \n",
       "3      15  UCBR8-60-B28hp2BmDPdntcQ     Pets & Animals   \n",
       "4      17  UCBR8-60-B28hp2BmDPdntcQ             Sports   \n",
       "\n",
       "   item_snippet.assignable  \n",
       "0                     True  \n",
       "1                     True  \n",
       "2                     True  \n",
       "3                     True  \n",
       "4                     True  "
      ]
     },
     "execution_count": 16,
     "metadata": {},
     "output_type": "execute_result"
    }
   ],
   "source": [
    "items.head()"
   ]
  },
  {
   "cell_type": "markdown",
   "id": "65658fb3",
   "metadata": {},
   "source": [
    "# Pre-procesar los datos"
   ]
  },
  {
   "cell_type": "markdown",
   "id": "d62881d2",
   "metadata": {},
   "source": [
    "## Añadir la información de categorías"
   ]
  },
  {
   "cell_type": "markdown",
   "id": "4aec4685",
   "metadata": {},
   "source": [
    "Se debe mofificar la estructura del DataFrame cat (categories) ya que se deben extraer los atributos anidados en \"items\" y posteriormente, aquellos anidados en \"snippet\".\n",
    "\n",
    "De esta forma se obtiene el DataFrame que tiene en cada fila la información de una categoría."
   ]
  },
  {
   "cell_type": "code",
   "execution_count": 17,
   "id": "03c8abff",
   "metadata": {},
   "outputs": [],
   "source": [
    "cat = pd.DataFrame(categories[\"items\"].values.tolist())\n",
    "cat[\"channelId\"] = pd.DataFrame(cat[\"snippet\"].values.tolist())[\"channelId\"]\n",
    "cat[\"title\"] = pd.DataFrame(cat[\"snippet\"].values.tolist())[\"title\"]\n",
    "cat[\"assignable\"] = pd.DataFrame(cat[\"snippet\"].values.tolist())[\"assignable\"]\n",
    "del cat[\"snippet\"]"
   ]
  },
  {
   "cell_type": "code",
   "execution_count": 18,
   "id": "bc79b725",
   "metadata": {},
   "outputs": [
    {
     "data": {
      "text/html": [
       "<div>\n",
       "<style scoped>\n",
       "    .dataframe tbody tr th:only-of-type {\n",
       "        vertical-align: middle;\n",
       "    }\n",
       "\n",
       "    .dataframe tbody tr th {\n",
       "        vertical-align: top;\n",
       "    }\n",
       "\n",
       "    .dataframe thead th {\n",
       "        text-align: right;\n",
       "    }\n",
       "</style>\n",
       "<table border=\"1\" class=\"dataframe\">\n",
       "  <thead>\n",
       "    <tr style=\"text-align: right;\">\n",
       "      <th></th>\n",
       "      <th>kind</th>\n",
       "      <th>etag</th>\n",
       "      <th>id</th>\n",
       "      <th>channelId</th>\n",
       "      <th>title</th>\n",
       "      <th>assignable</th>\n",
       "    </tr>\n",
       "  </thead>\n",
       "  <tbody>\n",
       "    <tr>\n",
       "      <th>0</th>\n",
       "      <td>youtube#videoCategory</td>\n",
       "      <td>\"ld9biNPKjAjgjV7EZ4EKeEGrhao/Xy1mB4_yLrHy_BmKm...</td>\n",
       "      <td>1</td>\n",
       "      <td>UCBR8-60-B28hp2BmDPdntcQ</td>\n",
       "      <td>Film &amp; Animation</td>\n",
       "      <td>True</td>\n",
       "    </tr>\n",
       "    <tr>\n",
       "      <th>1</th>\n",
       "      <td>youtube#videoCategory</td>\n",
       "      <td>\"ld9biNPKjAjgjV7EZ4EKeEGrhao/UZ1oLIIz2dxIhO45Z...</td>\n",
       "      <td>2</td>\n",
       "      <td>UCBR8-60-B28hp2BmDPdntcQ</td>\n",
       "      <td>Autos &amp; Vehicles</td>\n",
       "      <td>True</td>\n",
       "    </tr>\n",
       "    <tr>\n",
       "      <th>2</th>\n",
       "      <td>youtube#videoCategory</td>\n",
       "      <td>\"ld9biNPKjAjgjV7EZ4EKeEGrhao/nqRIq97-xe5XRZTxb...</td>\n",
       "      <td>10</td>\n",
       "      <td>UCBR8-60-B28hp2BmDPdntcQ</td>\n",
       "      <td>Music</td>\n",
       "      <td>True</td>\n",
       "    </tr>\n",
       "    <tr>\n",
       "      <th>3</th>\n",
       "      <td>youtube#videoCategory</td>\n",
       "      <td>\"ld9biNPKjAjgjV7EZ4EKeEGrhao/HwXKamM1Q20q9BN-o...</td>\n",
       "      <td>15</td>\n",
       "      <td>UCBR8-60-B28hp2BmDPdntcQ</td>\n",
       "      <td>Pets &amp; Animals</td>\n",
       "      <td>True</td>\n",
       "    </tr>\n",
       "    <tr>\n",
       "      <th>4</th>\n",
       "      <td>youtube#videoCategory</td>\n",
       "      <td>\"ld9biNPKjAjgjV7EZ4EKeEGrhao/9GQMSRjrZdHeb1OEM...</td>\n",
       "      <td>17</td>\n",
       "      <td>UCBR8-60-B28hp2BmDPdntcQ</td>\n",
       "      <td>Sports</td>\n",
       "      <td>True</td>\n",
       "    </tr>\n",
       "  </tbody>\n",
       "</table>\n",
       "</div>"
      ],
      "text/plain": [
       "                    kind                                               etag  \\\n",
       "0  youtube#videoCategory  \"ld9biNPKjAjgjV7EZ4EKeEGrhao/Xy1mB4_yLrHy_BmKm...   \n",
       "1  youtube#videoCategory  \"ld9biNPKjAjgjV7EZ4EKeEGrhao/UZ1oLIIz2dxIhO45Z...   \n",
       "2  youtube#videoCategory  \"ld9biNPKjAjgjV7EZ4EKeEGrhao/nqRIq97-xe5XRZTxb...   \n",
       "3  youtube#videoCategory  \"ld9biNPKjAjgjV7EZ4EKeEGrhao/HwXKamM1Q20q9BN-o...   \n",
       "4  youtube#videoCategory  \"ld9biNPKjAjgjV7EZ4EKeEGrhao/9GQMSRjrZdHeb1OEM...   \n",
       "\n",
       "   id                 channelId             title  assignable  \n",
       "0   1  UCBR8-60-B28hp2BmDPdntcQ  Film & Animation        True  \n",
       "1   2  UCBR8-60-B28hp2BmDPdntcQ  Autos & Vehicles        True  \n",
       "2  10  UCBR8-60-B28hp2BmDPdntcQ             Music        True  \n",
       "3  15  UCBR8-60-B28hp2BmDPdntcQ    Pets & Animals        True  \n",
       "4  17  UCBR8-60-B28hp2BmDPdntcQ            Sports        True  "
      ]
     },
     "execution_count": 18,
     "metadata": {},
     "output_type": "execute_result"
    }
   ],
   "source": [
    "cat.head()"
   ]
  },
  {
   "cell_type": "code",
   "execution_count": 19,
   "id": "5f24caed",
   "metadata": {},
   "outputs": [
    {
     "data": {
      "text/html": [
       "<div>\n",
       "<style scoped>\n",
       "    .dataframe tbody tr th:only-of-type {\n",
       "        vertical-align: middle;\n",
       "    }\n",
       "\n",
       "    .dataframe tbody tr th {\n",
       "        vertical-align: top;\n",
       "    }\n",
       "\n",
       "    .dataframe thead th {\n",
       "        text-align: right;\n",
       "    }\n",
       "</style>\n",
       "<table border=\"1\" class=\"dataframe\">\n",
       "  <thead>\n",
       "    <tr style=\"text-align: right;\">\n",
       "      <th></th>\n",
       "      <th>title</th>\n",
       "      <th>assignable</th>\n",
       "      <th>channelId</th>\n",
       "      <th>etag</th>\n",
       "    </tr>\n",
       "  </thead>\n",
       "  <tbody>\n",
       "    <tr>\n",
       "      <th>0</th>\n",
       "      <td>Film &amp; Animation</td>\n",
       "      <td>True</td>\n",
       "      <td>UCBR8-60-B28hp2BmDPdntcQ</td>\n",
       "      <td>\"ld9biNPKjAjgjV7EZ4EKeEGrhao/Xy1mB4_yLrHy_BmKm...</td>\n",
       "    </tr>\n",
       "    <tr>\n",
       "      <th>1</th>\n",
       "      <td>Autos &amp; Vehicles</td>\n",
       "      <td>True</td>\n",
       "      <td>UCBR8-60-B28hp2BmDPdntcQ</td>\n",
       "      <td>\"ld9biNPKjAjgjV7EZ4EKeEGrhao/UZ1oLIIz2dxIhO45Z...</td>\n",
       "    </tr>\n",
       "    <tr>\n",
       "      <th>2</th>\n",
       "      <td>Music</td>\n",
       "      <td>True</td>\n",
       "      <td>UCBR8-60-B28hp2BmDPdntcQ</td>\n",
       "      <td>\"ld9biNPKjAjgjV7EZ4EKeEGrhao/nqRIq97-xe5XRZTxb...</td>\n",
       "    </tr>\n",
       "    <tr>\n",
       "      <th>3</th>\n",
       "      <td>Pets &amp; Animals</td>\n",
       "      <td>True</td>\n",
       "      <td>UCBR8-60-B28hp2BmDPdntcQ</td>\n",
       "      <td>\"ld9biNPKjAjgjV7EZ4EKeEGrhao/HwXKamM1Q20q9BN-o...</td>\n",
       "    </tr>\n",
       "    <tr>\n",
       "      <th>4</th>\n",
       "      <td>Sports</td>\n",
       "      <td>True</td>\n",
       "      <td>UCBR8-60-B28hp2BmDPdntcQ</td>\n",
       "      <td>\"ld9biNPKjAjgjV7EZ4EKeEGrhao/9GQMSRjrZdHeb1OEM...</td>\n",
       "    </tr>\n",
       "  </tbody>\n",
       "</table>\n",
       "</div>"
      ],
      "text/plain": [
       "              title  assignable                 channelId  \\\n",
       "0  Film & Animation        True  UCBR8-60-B28hp2BmDPdntcQ   \n",
       "1  Autos & Vehicles        True  UCBR8-60-B28hp2BmDPdntcQ   \n",
       "2             Music        True  UCBR8-60-B28hp2BmDPdntcQ   \n",
       "3    Pets & Animals        True  UCBR8-60-B28hp2BmDPdntcQ   \n",
       "4            Sports        True  UCBR8-60-B28hp2BmDPdntcQ   \n",
       "\n",
       "                                                etag  \n",
       "0  \"ld9biNPKjAjgjV7EZ4EKeEGrhao/Xy1mB4_yLrHy_BmKm...  \n",
       "1  \"ld9biNPKjAjgjV7EZ4EKeEGrhao/UZ1oLIIz2dxIhO45Z...  \n",
       "2  \"ld9biNPKjAjgjV7EZ4EKeEGrhao/nqRIq97-xe5XRZTxb...  \n",
       "3  \"ld9biNPKjAjgjV7EZ4EKeEGrhao/HwXKamM1Q20q9BN-o...  \n",
       "4  \"ld9biNPKjAjgjV7EZ4EKeEGrhao/9GQMSRjrZdHeb1OEM...  "
      ]
     },
     "execution_count": 19,
     "metadata": {},
     "output_type": "execute_result"
    }
   ],
   "source": [
    "cat[[\"title\", \"assignable\", \"channelId\", \"etag\"]].head()"
   ]
  },
  {
   "cell_type": "code",
   "execution_count": 20,
   "id": "f7e9e127",
   "metadata": {},
   "outputs": [],
   "source": [
    "cat.index = cat[\"id\"]\n",
    "# cat.set_index(\"id\")"
   ]
  },
  {
   "cell_type": "code",
   "execution_count": 21,
   "id": "06a4918c",
   "metadata": {},
   "outputs": [
    {
     "data": {
      "text/html": [
       "<div>\n",
       "<style scoped>\n",
       "    .dataframe tbody tr th:only-of-type {\n",
       "        vertical-align: middle;\n",
       "    }\n",
       "\n",
       "    .dataframe tbody tr th {\n",
       "        vertical-align: top;\n",
       "    }\n",
       "\n",
       "    .dataframe thead th {\n",
       "        text-align: right;\n",
       "    }\n",
       "</style>\n",
       "<table border=\"1\" class=\"dataframe\">\n",
       "  <thead>\n",
       "    <tr style=\"text-align: right;\">\n",
       "      <th></th>\n",
       "      <th>title</th>\n",
       "      <th>assignable</th>\n",
       "      <th>channelId</th>\n",
       "      <th>etag</th>\n",
       "    </tr>\n",
       "    <tr>\n",
       "      <th>id</th>\n",
       "      <th></th>\n",
       "      <th></th>\n",
       "      <th></th>\n",
       "      <th></th>\n",
       "    </tr>\n",
       "  </thead>\n",
       "  <tbody>\n",
       "    <tr>\n",
       "      <th>1</th>\n",
       "      <td>Film &amp; Animation</td>\n",
       "      <td>True</td>\n",
       "      <td>UCBR8-60-B28hp2BmDPdntcQ</td>\n",
       "      <td>\"ld9biNPKjAjgjV7EZ4EKeEGrhao/Xy1mB4_yLrHy_BmKm...</td>\n",
       "    </tr>\n",
       "    <tr>\n",
       "      <th>2</th>\n",
       "      <td>Autos &amp; Vehicles</td>\n",
       "      <td>True</td>\n",
       "      <td>UCBR8-60-B28hp2BmDPdntcQ</td>\n",
       "      <td>\"ld9biNPKjAjgjV7EZ4EKeEGrhao/UZ1oLIIz2dxIhO45Z...</td>\n",
       "    </tr>\n",
       "    <tr>\n",
       "      <th>10</th>\n",
       "      <td>Music</td>\n",
       "      <td>True</td>\n",
       "      <td>UCBR8-60-B28hp2BmDPdntcQ</td>\n",
       "      <td>\"ld9biNPKjAjgjV7EZ4EKeEGrhao/nqRIq97-xe5XRZTxb...</td>\n",
       "    </tr>\n",
       "    <tr>\n",
       "      <th>15</th>\n",
       "      <td>Pets &amp; Animals</td>\n",
       "      <td>True</td>\n",
       "      <td>UCBR8-60-B28hp2BmDPdntcQ</td>\n",
       "      <td>\"ld9biNPKjAjgjV7EZ4EKeEGrhao/HwXKamM1Q20q9BN-o...</td>\n",
       "    </tr>\n",
       "    <tr>\n",
       "      <th>17</th>\n",
       "      <td>Sports</td>\n",
       "      <td>True</td>\n",
       "      <td>UCBR8-60-B28hp2BmDPdntcQ</td>\n",
       "      <td>\"ld9biNPKjAjgjV7EZ4EKeEGrhao/9GQMSRjrZdHeb1OEM...</td>\n",
       "    </tr>\n",
       "  </tbody>\n",
       "</table>\n",
       "</div>"
      ],
      "text/plain": [
       "               title  assignable                 channelId  \\\n",
       "id                                                           \n",
       "1   Film & Animation        True  UCBR8-60-B28hp2BmDPdntcQ   \n",
       "2   Autos & Vehicles        True  UCBR8-60-B28hp2BmDPdntcQ   \n",
       "10             Music        True  UCBR8-60-B28hp2BmDPdntcQ   \n",
       "15    Pets & Animals        True  UCBR8-60-B28hp2BmDPdntcQ   \n",
       "17            Sports        True  UCBR8-60-B28hp2BmDPdntcQ   \n",
       "\n",
       "                                                 etag  \n",
       "id                                                     \n",
       "1   \"ld9biNPKjAjgjV7EZ4EKeEGrhao/Xy1mB4_yLrHy_BmKm...  \n",
       "2   \"ld9biNPKjAjgjV7EZ4EKeEGrhao/UZ1oLIIz2dxIhO45Z...  \n",
       "10  \"ld9biNPKjAjgjV7EZ4EKeEGrhao/nqRIq97-xe5XRZTxb...  \n",
       "15  \"ld9biNPKjAjgjV7EZ4EKeEGrhao/HwXKamM1Q20q9BN-o...  \n",
       "17  \"ld9biNPKjAjgjV7EZ4EKeEGrhao/9GQMSRjrZdHeb1OEM...  "
      ]
     },
     "execution_count": 21,
     "metadata": {},
     "output_type": "execute_result"
    }
   ],
   "source": [
    "cat[[\"title\", \"assignable\", \"channelId\", \"etag\"]].head()"
   ]
  },
  {
   "cell_type": "code",
   "execution_count": 22,
   "id": "b9a39a94",
   "metadata": {},
   "outputs": [],
   "source": [
    "cat = cat[[\"title\", \"assignable\", \"channelId\", \"etag\"]]"
   ]
  },
  {
   "cell_type": "code",
   "execution_count": 23,
   "id": "344a460a",
   "metadata": {},
   "outputs": [],
   "source": [
    "cat.index.names = [\"category_id\"]"
   ]
  },
  {
   "cell_type": "code",
   "execution_count": 24,
   "id": "88cd9be7",
   "metadata": {},
   "outputs": [
    {
     "data": {
      "text/html": [
       "<div>\n",
       "<style scoped>\n",
       "    .dataframe tbody tr th:only-of-type {\n",
       "        vertical-align: middle;\n",
       "    }\n",
       "\n",
       "    .dataframe tbody tr th {\n",
       "        vertical-align: top;\n",
       "    }\n",
       "\n",
       "    .dataframe thead th {\n",
       "        text-align: right;\n",
       "    }\n",
       "</style>\n",
       "<table border=\"1\" class=\"dataframe\">\n",
       "  <thead>\n",
       "    <tr style=\"text-align: right;\">\n",
       "      <th></th>\n",
       "      <th>title</th>\n",
       "      <th>assignable</th>\n",
       "      <th>channelId</th>\n",
       "      <th>etag</th>\n",
       "    </tr>\n",
       "    <tr>\n",
       "      <th>category_id</th>\n",
       "      <th></th>\n",
       "      <th></th>\n",
       "      <th></th>\n",
       "      <th></th>\n",
       "    </tr>\n",
       "  </thead>\n",
       "  <tbody>\n",
       "    <tr>\n",
       "      <th>1</th>\n",
       "      <td>Film &amp; Animation</td>\n",
       "      <td>True</td>\n",
       "      <td>UCBR8-60-B28hp2BmDPdntcQ</td>\n",
       "      <td>\"ld9biNPKjAjgjV7EZ4EKeEGrhao/Xy1mB4_yLrHy_BmKm...</td>\n",
       "    </tr>\n",
       "    <tr>\n",
       "      <th>2</th>\n",
       "      <td>Autos &amp; Vehicles</td>\n",
       "      <td>True</td>\n",
       "      <td>UCBR8-60-B28hp2BmDPdntcQ</td>\n",
       "      <td>\"ld9biNPKjAjgjV7EZ4EKeEGrhao/UZ1oLIIz2dxIhO45Z...</td>\n",
       "    </tr>\n",
       "    <tr>\n",
       "      <th>10</th>\n",
       "      <td>Music</td>\n",
       "      <td>True</td>\n",
       "      <td>UCBR8-60-B28hp2BmDPdntcQ</td>\n",
       "      <td>\"ld9biNPKjAjgjV7EZ4EKeEGrhao/nqRIq97-xe5XRZTxb...</td>\n",
       "    </tr>\n",
       "    <tr>\n",
       "      <th>15</th>\n",
       "      <td>Pets &amp; Animals</td>\n",
       "      <td>True</td>\n",
       "      <td>UCBR8-60-B28hp2BmDPdntcQ</td>\n",
       "      <td>\"ld9biNPKjAjgjV7EZ4EKeEGrhao/HwXKamM1Q20q9BN-o...</td>\n",
       "    </tr>\n",
       "    <tr>\n",
       "      <th>17</th>\n",
       "      <td>Sports</td>\n",
       "      <td>True</td>\n",
       "      <td>UCBR8-60-B28hp2BmDPdntcQ</td>\n",
       "      <td>\"ld9biNPKjAjgjV7EZ4EKeEGrhao/9GQMSRjrZdHeb1OEM...</td>\n",
       "    </tr>\n",
       "  </tbody>\n",
       "</table>\n",
       "</div>"
      ],
      "text/plain": [
       "                        title  assignable                 channelId  \\\n",
       "category_id                                                           \n",
       "1            Film & Animation        True  UCBR8-60-B28hp2BmDPdntcQ   \n",
       "2            Autos & Vehicles        True  UCBR8-60-B28hp2BmDPdntcQ   \n",
       "10                      Music        True  UCBR8-60-B28hp2BmDPdntcQ   \n",
       "15             Pets & Animals        True  UCBR8-60-B28hp2BmDPdntcQ   \n",
       "17                     Sports        True  UCBR8-60-B28hp2BmDPdntcQ   \n",
       "\n",
       "                                                          etag  \n",
       "category_id                                                     \n",
       "1            \"ld9biNPKjAjgjV7EZ4EKeEGrhao/Xy1mB4_yLrHy_BmKm...  \n",
       "2            \"ld9biNPKjAjgjV7EZ4EKeEGrhao/UZ1oLIIz2dxIhO45Z...  \n",
       "10           \"ld9biNPKjAjgjV7EZ4EKeEGrhao/nqRIq97-xe5XRZTxb...  \n",
       "15           \"ld9biNPKjAjgjV7EZ4EKeEGrhao/HwXKamM1Q20q9BN-o...  \n",
       "17           \"ld9biNPKjAjgjV7EZ4EKeEGrhao/9GQMSRjrZdHeb1OEM...  "
      ]
     },
     "execution_count": 24,
     "metadata": {},
     "output_type": "execute_result"
    }
   ],
   "source": [
    "cat.head()"
   ]
  },
  {
   "cell_type": "markdown",
   "id": "0c258324",
   "metadata": {},
   "source": [
    "### Verificar duplicados"
   ]
  },
  {
   "cell_type": "code",
   "execution_count": 25,
   "id": "790076af",
   "metadata": {},
   "outputs": [
    {
     "data": {
      "text/plain": [
       "30"
      ]
     },
     "execution_count": 25,
     "metadata": {},
     "output_type": "execute_result"
    }
   ],
   "source": [
    "cat[\"title\"].nunique()"
   ]
  },
  {
   "cell_type": "code",
   "execution_count": 26,
   "id": "64d23d0a",
   "metadata": {},
   "outputs": [
    {
     "data": {
      "text/plain": [
       "31"
      ]
     },
     "execution_count": 26,
     "metadata": {},
     "output_type": "execute_result"
    }
   ],
   "source": [
    "cat[\"title\"].count()"
   ]
  },
  {
   "cell_type": "code",
   "execution_count": 27,
   "id": "47918b64",
   "metadata": {},
   "outputs": [
    {
     "data": {
      "text/plain": [
       "array(['Film & Animation', 'Autos & Vehicles', 'Music', 'Pets & Animals',\n",
       "       'Sports', 'Short Movies', 'Travel & Events', 'Gaming',\n",
       "       'Videoblogging', 'People & Blogs', 'Comedy', 'Entertainment',\n",
       "       'News & Politics', 'Howto & Style', 'Education',\n",
       "       'Science & Technology', 'Movies', 'Anime/Animation',\n",
       "       'Action/Adventure', 'Classics', 'Documentary', 'Drama', 'Family',\n",
       "       'Foreign', 'Horror', 'Sci-Fi/Fantasy', 'Thriller', 'Shorts',\n",
       "       'Shows', 'Trailers'], dtype=object)"
      ]
     },
     "execution_count": 27,
     "metadata": {},
     "output_type": "execute_result"
    }
   ],
   "source": [
    "cat[\"title\"].unique()"
   ]
  },
  {
   "cell_type": "code",
   "execution_count": 28,
   "id": "40ed5abe",
   "metadata": {},
   "outputs": [
    {
     "data": {
      "text/plain": [
       "Comedy    2\n",
       "Name: title, dtype: int64"
      ]
     },
     "execution_count": 28,
     "metadata": {},
     "output_type": "execute_result"
    }
   ],
   "source": [
    "cat[\"title\"].value_counts()[cat[\"title\"].value_counts() > 1]"
   ]
  },
  {
   "cell_type": "code",
   "execution_count": 29,
   "id": "6b00f56e",
   "metadata": {},
   "outputs": [
    {
     "data": {
      "text/plain": [
       "category_id\n",
       "23    Comedy\n",
       "34    Comedy\n",
       "Name: title, dtype: object"
      ]
     },
     "execution_count": 29,
     "metadata": {},
     "output_type": "execute_result"
    }
   ],
   "source": [
    "cat[cat[\"title\"] == \"Comedy\"][\"title\"]"
   ]
  },
  {
   "cell_type": "markdown",
   "id": "e16357fe",
   "metadata": {},
   "source": [
    "### Duplicados: Conclusión\n",
    "Los dos registros asociados a Comedy no tienen el mismo id, por lo que no es recomendable eliminar uno, ya que en el DataFrame principal pueden existir registros con cualquiera de los dos ids y en ambos casos deberán ser vinculados con la categoría \"Comedy\"."
   ]
  },
  {
   "cell_type": "markdown",
   "id": "c878097d",
   "metadata": {},
   "source": [
    "## Añadir el título de categoría al DF principal"
   ]
  },
  {
   "cell_type": "code",
   "execution_count": 30,
   "id": "da409df5",
   "metadata": {},
   "outputs": [],
   "source": [
    "cat_description = pd.DataFrame(cat[\"title\"], index=cat.index)"
   ]
  },
  {
   "cell_type": "code",
   "execution_count": 31,
   "id": "a7b37195",
   "metadata": {},
   "outputs": [
    {
     "data": {
      "text/html": [
       "<div>\n",
       "<style scoped>\n",
       "    .dataframe tbody tr th:only-of-type {\n",
       "        vertical-align: middle;\n",
       "    }\n",
       "\n",
       "    .dataframe tbody tr th {\n",
       "        vertical-align: top;\n",
       "    }\n",
       "\n",
       "    .dataframe thead th {\n",
       "        text-align: right;\n",
       "    }\n",
       "</style>\n",
       "<table border=\"1\" class=\"dataframe\">\n",
       "  <thead>\n",
       "    <tr style=\"text-align: right;\">\n",
       "      <th></th>\n",
       "      <th>title</th>\n",
       "    </tr>\n",
       "    <tr>\n",
       "      <th>category_id</th>\n",
       "      <th></th>\n",
       "    </tr>\n",
       "  </thead>\n",
       "  <tbody>\n",
       "    <tr>\n",
       "      <th>1</th>\n",
       "      <td>Film &amp; Animation</td>\n",
       "    </tr>\n",
       "    <tr>\n",
       "      <th>2</th>\n",
       "      <td>Autos &amp; Vehicles</td>\n",
       "    </tr>\n",
       "    <tr>\n",
       "      <th>10</th>\n",
       "      <td>Music</td>\n",
       "    </tr>\n",
       "    <tr>\n",
       "      <th>15</th>\n",
       "      <td>Pets &amp; Animals</td>\n",
       "    </tr>\n",
       "    <tr>\n",
       "      <th>17</th>\n",
       "      <td>Sports</td>\n",
       "    </tr>\n",
       "  </tbody>\n",
       "</table>\n",
       "</div>"
      ],
      "text/plain": [
       "                        title\n",
       "category_id                  \n",
       "1            Film & Animation\n",
       "2            Autos & Vehicles\n",
       "10                      Music\n",
       "15             Pets & Animals\n",
       "17                     Sports"
      ]
     },
     "execution_count": 31,
     "metadata": {},
     "output_type": "execute_result"
    }
   ],
   "source": [
    "cat_description.head()"
   ]
  },
  {
   "cell_type": "code",
   "execution_count": 32,
   "id": "b311e5d6",
   "metadata": {},
   "outputs": [
    {
     "name": "stdout",
     "output_type": "stream",
     "text": [
      "<class 'pandas.core.frame.DataFrame'>\n",
      "Index: 31 entries, 1 to 44\n",
      "Data columns (total 1 columns):\n",
      " #   Column  Non-Null Count  Dtype \n",
      "---  ------  --------------  ----- \n",
      " 0   title   31 non-null     object\n",
      "dtypes: object(1)\n",
      "memory usage: 496.0+ bytes\n"
     ]
    }
   ],
   "source": [
    "cat_description.info()"
   ]
  },
  {
   "cell_type": "code",
   "execution_count": 33,
   "id": "d0634bcd",
   "metadata": {},
   "outputs": [],
   "source": [
    "cat_description.index = cat_description.index.astype(int)"
   ]
  },
  {
   "cell_type": "code",
   "execution_count": 34,
   "id": "72816711",
   "metadata": {},
   "outputs": [],
   "source": [
    "df[\"category_id\"] = df[\"category_id\"].astype(int)"
   ]
  },
  {
   "cell_type": "code",
   "execution_count": 35,
   "id": "8c03770b",
   "metadata": {},
   "outputs": [],
   "source": [
    "df = df.join(cat_description, how=\"left\", rsuffix=\"_category\", on=\"category_id\")"
   ]
  },
  {
   "cell_type": "code",
   "execution_count": 36,
   "id": "8f00ea70",
   "metadata": {},
   "outputs": [],
   "source": [
    "# del df[\"title_category\"]"
   ]
  },
  {
   "cell_type": "code",
   "execution_count": 37,
   "id": "957174e1",
   "metadata": {},
   "outputs": [
    {
     "data": {
      "text/html": [
       "<div>\n",
       "<style scoped>\n",
       "    .dataframe tbody tr th:only-of-type {\n",
       "        vertical-align: middle;\n",
       "    }\n",
       "\n",
       "    .dataframe tbody tr th {\n",
       "        vertical-align: top;\n",
       "    }\n",
       "\n",
       "    .dataframe thead th {\n",
       "        text-align: right;\n",
       "    }\n",
       "</style>\n",
       "<table border=\"1\" class=\"dataframe\">\n",
       "  <thead>\n",
       "    <tr style=\"text-align: right;\">\n",
       "      <th></th>\n",
       "      <th>category_id</th>\n",
       "      <th>title_category</th>\n",
       "    </tr>\n",
       "  </thead>\n",
       "  <tbody>\n",
       "    <tr>\n",
       "      <th>0</th>\n",
       "      <td>10</td>\n",
       "      <td>Music</td>\n",
       "    </tr>\n",
       "    <tr>\n",
       "      <th>1</th>\n",
       "      <td>23</td>\n",
       "      <td>Comedy</td>\n",
       "    </tr>\n",
       "    <tr>\n",
       "      <th>2</th>\n",
       "      <td>23</td>\n",
       "      <td>Comedy</td>\n",
       "    </tr>\n",
       "    <tr>\n",
       "      <th>3</th>\n",
       "      <td>24</td>\n",
       "      <td>Entertainment</td>\n",
       "    </tr>\n",
       "    <tr>\n",
       "      <th>4</th>\n",
       "      <td>10</td>\n",
       "      <td>Music</td>\n",
       "    </tr>\n",
       "  </tbody>\n",
       "</table>\n",
       "</div>"
      ],
      "text/plain": [
       "   category_id title_category\n",
       "0           10          Music\n",
       "1           23         Comedy\n",
       "2           23         Comedy\n",
       "3           24  Entertainment\n",
       "4           10          Music"
      ]
     },
     "execution_count": 37,
     "metadata": {},
     "output_type": "execute_result"
    }
   ],
   "source": [
    "df[[\"category_id\", \"title_category\"]].head()"
   ]
  },
  {
   "cell_type": "markdown",
   "id": "a7b62393",
   "metadata": {},
   "source": [
    "## Formatear las fechas correctamente (**limpieza**)"
   ]
  },
  {
   "cell_type": "code",
   "execution_count": 38,
   "id": "67911d58",
   "metadata": {},
   "outputs": [
    {
     "data": {
      "text/html": [
       "<div>\n",
       "<style scoped>\n",
       "    .dataframe tbody tr th:only-of-type {\n",
       "        vertical-align: middle;\n",
       "    }\n",
       "\n",
       "    .dataframe tbody tr th {\n",
       "        vertical-align: top;\n",
       "    }\n",
       "\n",
       "    .dataframe thead th {\n",
       "        text-align: right;\n",
       "    }\n",
       "</style>\n",
       "<table border=\"1\" class=\"dataframe\">\n",
       "  <thead>\n",
       "    <tr style=\"text-align: right;\">\n",
       "      <th></th>\n",
       "      <th>trending_date</th>\n",
       "      <th>publish_time</th>\n",
       "    </tr>\n",
       "  </thead>\n",
       "  <tbody>\n",
       "    <tr>\n",
       "      <th>0</th>\n",
       "      <td>17.14.11</td>\n",
       "      <td>2017-11-10T17:00:03.000Z</td>\n",
       "    </tr>\n",
       "    <tr>\n",
       "      <th>1</th>\n",
       "      <td>17.14.11</td>\n",
       "      <td>2017-11-13T17:00:00.000Z</td>\n",
       "    </tr>\n",
       "    <tr>\n",
       "      <th>2</th>\n",
       "      <td>17.14.11</td>\n",
       "      <td>2017-11-12T19:05:24.000Z</td>\n",
       "    </tr>\n",
       "    <tr>\n",
       "      <th>3</th>\n",
       "      <td>17.14.11</td>\n",
       "      <td>2017-11-12T18:01:41.000Z</td>\n",
       "    </tr>\n",
       "    <tr>\n",
       "      <th>4</th>\n",
       "      <td>17.14.11</td>\n",
       "      <td>2017-11-09T11:04:14.000Z</td>\n",
       "    </tr>\n",
       "  </tbody>\n",
       "</table>\n",
       "</div>"
      ],
      "text/plain": [
       "  trending_date              publish_time\n",
       "0      17.14.11  2017-11-10T17:00:03.000Z\n",
       "1      17.14.11  2017-11-13T17:00:00.000Z\n",
       "2      17.14.11  2017-11-12T19:05:24.000Z\n",
       "3      17.14.11  2017-11-12T18:01:41.000Z\n",
       "4      17.14.11  2017-11-09T11:04:14.000Z"
      ]
     },
     "execution_count": 38,
     "metadata": {},
     "output_type": "execute_result"
    }
   ],
   "source": [
    "df[[\"trending_date\", \"publish_time\"]].head()"
   ]
  },
  {
   "cell_type": "code",
   "execution_count": 39,
   "id": "5816426b",
   "metadata": {},
   "outputs": [
    {
     "name": "stdout",
     "output_type": "stream",
     "text": [
      "<class 'pandas.core.frame.DataFrame'>\n",
      "RangeIndex: 40881 entries, 0 to 40880\n",
      "Data columns (total 2 columns):\n",
      " #   Column         Non-Null Count  Dtype \n",
      "---  ------         --------------  ----- \n",
      " 0   trending_date  40881 non-null  object\n",
      " 1   publish_time   40881 non-null  object\n",
      "dtypes: object(2)\n",
      "memory usage: 638.9+ KB\n"
     ]
    }
   ],
   "source": [
    "df[[\"trending_date\", \"publish_time\"]].info()"
   ]
  },
  {
   "cell_type": "markdown",
   "id": "8b04b2da",
   "metadata": {},
   "source": [
    "Se identifican estos dos formatos divergentes:\n",
    "* **trending_date**: YY.DD.MM\n",
    "* **publish_time**: YYYY-MM-DD**T**00:00:00.000Z"
   ]
  },
  {
   "cell_type": "markdown",
   "id": "06594970",
   "metadata": {},
   "source": [
    "Se modificarán ambos registros a un único formato: **DD-MM-YYYY**"
   ]
  },
  {
   "cell_type": "markdown",
   "id": "da33619d",
   "metadata": {},
   "source": [
    "También se identifica que las columnas almacenan datos de tipo **objeto**, que deberán ser modificados a tipo **datetime**."
   ]
  },
  {
   "cell_type": "markdown",
   "id": "870b9c32",
   "metadata": {},
   "source": [
    "### Tests (not in-place)"
   ]
  },
  {
   "cell_type": "code",
   "execution_count": 40,
   "id": "fb454335",
   "metadata": {},
   "outputs": [
    {
     "data": {
      "text/plain": [
       "0    14-11-2017\n",
       "1    14-11-2017\n",
       "2    14-11-2017\n",
       "3    14-11-2017\n",
       "4    14-11-2017\n",
       "Name: trending_date, dtype: object"
      ]
     },
     "execution_count": 40,
     "metadata": {},
     "output_type": "execute_result"
    }
   ],
   "source": [
    "df[\"trending_date\"].apply(lambda date: date[3:5]+\"-\"+date[-2:]+\"-20\"+date[:2]).head()"
   ]
  },
  {
   "cell_type": "code",
   "execution_count": 41,
   "id": "a72650ac",
   "metadata": {},
   "outputs": [
    {
     "data": {
      "text/plain": [
       "0    10-11-2017\n",
       "1    13-11-2017\n",
       "2    12-11-2017\n",
       "3    12-11-2017\n",
       "4    09-11-2017\n",
       "Name: publish_time, dtype: object"
      ]
     },
     "execution_count": 41,
     "metadata": {},
     "output_type": "execute_result"
    }
   ],
   "source": [
    "df[\"publish_time\"].apply(lambda date: date[8:10]+date[4:7]+\"-\"+date[:4]).head()"
   ]
  },
  {
   "cell_type": "code",
   "execution_count": 42,
   "id": "c4bc3960",
   "metadata": {},
   "outputs": [
    {
     "data": {
      "text/plain": [
       "0    17:00:03\n",
       "1    17:00:00\n",
       "2    19:05:24\n",
       "3    18:01:41\n",
       "4    11:04:14\n",
       "Name: publish_time, dtype: object"
      ]
     },
     "execution_count": 42,
     "metadata": {},
     "output_type": "execute_result"
    }
   ],
   "source": [
    "# Se necesitará extraer también la hora de publicación.\n",
    "df[\"publish_time\"].apply(lambda datetime: datetime[11:-5]).head()"
   ]
  },
  {
   "cell_type": "markdown",
   "id": "29961b2f",
   "metadata": {},
   "source": [
    "## Formateando la fecha"
   ]
  },
  {
   "cell_type": "code",
   "execution_count": 43,
   "id": "6c2b348c",
   "metadata": {},
   "outputs": [],
   "source": [
    "df[\"trending_date\"] = df[\"trending_date\"].apply(lambda date: date[3:5]+\"-\"+date[-2:]+\"-20\"+date[:2])"
   ]
  },
  {
   "cell_type": "code",
   "execution_count": 44,
   "id": "0f10f7e2",
   "metadata": {},
   "outputs": [],
   "source": [
    "# Se necesitará extraer también la hora de publicación.\n",
    "df = df.rename(columns={\"publish_time\":\"publish_date\"})\n",
    "df[\"publish_time\"] = df[\"publish_date\"].apply(lambda datetime: datetime[11:-5])"
   ]
  },
  {
   "cell_type": "code",
   "execution_count": 45,
   "id": "8be5382c",
   "metadata": {},
   "outputs": [],
   "source": [
    "df[\"publish_date\"] = df[\"publish_date\"].apply(lambda date: date[8:10]+date[4:7]+\"-\"+date[:4])"
   ]
  },
  {
   "cell_type": "code",
   "execution_count": 46,
   "id": "30efcb99",
   "metadata": {},
   "outputs": [
    {
     "data": {
      "text/html": [
       "<div>\n",
       "<style scoped>\n",
       "    .dataframe tbody tr th:only-of-type {\n",
       "        vertical-align: middle;\n",
       "    }\n",
       "\n",
       "    .dataframe tbody tr th {\n",
       "        vertical-align: top;\n",
       "    }\n",
       "\n",
       "    .dataframe thead th {\n",
       "        text-align: right;\n",
       "    }\n",
       "</style>\n",
       "<table border=\"1\" class=\"dataframe\">\n",
       "  <thead>\n",
       "    <tr style=\"text-align: right;\">\n",
       "      <th></th>\n",
       "      <th>trending_date</th>\n",
       "      <th>publish_time</th>\n",
       "      <th>publish_date</th>\n",
       "    </tr>\n",
       "  </thead>\n",
       "  <tbody>\n",
       "    <tr>\n",
       "      <th>0</th>\n",
       "      <td>14-11-2017</td>\n",
       "      <td>17:00:03</td>\n",
       "      <td>10-11-2017</td>\n",
       "    </tr>\n",
       "    <tr>\n",
       "      <th>1</th>\n",
       "      <td>14-11-2017</td>\n",
       "      <td>17:00:00</td>\n",
       "      <td>13-11-2017</td>\n",
       "    </tr>\n",
       "    <tr>\n",
       "      <th>2</th>\n",
       "      <td>14-11-2017</td>\n",
       "      <td>19:05:24</td>\n",
       "      <td>12-11-2017</td>\n",
       "    </tr>\n",
       "    <tr>\n",
       "      <th>3</th>\n",
       "      <td>14-11-2017</td>\n",
       "      <td>18:01:41</td>\n",
       "      <td>12-11-2017</td>\n",
       "    </tr>\n",
       "    <tr>\n",
       "      <th>4</th>\n",
       "      <td>14-11-2017</td>\n",
       "      <td>11:04:14</td>\n",
       "      <td>09-11-2017</td>\n",
       "    </tr>\n",
       "  </tbody>\n",
       "</table>\n",
       "</div>"
      ],
      "text/plain": [
       "  trending_date publish_time publish_date\n",
       "0    14-11-2017     17:00:03   10-11-2017\n",
       "1    14-11-2017     17:00:00   13-11-2017\n",
       "2    14-11-2017     19:05:24   12-11-2017\n",
       "3    14-11-2017     18:01:41   12-11-2017\n",
       "4    14-11-2017     11:04:14   09-11-2017"
      ]
     },
     "execution_count": 46,
     "metadata": {},
     "output_type": "execute_result"
    }
   ],
   "source": [
    "df[[\"trending_date\", \"publish_time\", \"publish_date\"]].head()"
   ]
  },
  {
   "cell_type": "code",
   "execution_count": 47,
   "id": "328f54a4",
   "metadata": {},
   "outputs": [
    {
     "data": {
      "text/plain": [
       "trending_date    0\n",
       "publish_time     0\n",
       "publish_date     0\n",
       "dtype: int64"
      ]
     },
     "execution_count": 47,
     "metadata": {},
     "output_type": "execute_result"
    }
   ],
   "source": [
    "df[[\"trending_date\", \"publish_time\", \"publish_date\"]].isna().sum()"
   ]
  },
  {
   "cell_type": "markdown",
   "id": "cd0e0377",
   "metadata": {},
   "source": [
    "## Modificando el tipo de dato"
   ]
  },
  {
   "cell_type": "markdown",
   "id": "6c63eae1",
   "metadata": {},
   "source": [
    "Al realizar la modificación del tipo de dato, el dtype **datetime** tiene un formato YY-MM-DD o YYYY-MM-DD, por lo que se cambiará a este formato (también válido según la consigna) al realizar la modificación de tipo de dato."
   ]
  },
  {
   "cell_type": "code",
   "execution_count": 48,
   "id": "fa451fad",
   "metadata": {},
   "outputs": [],
   "source": [
    "df[\"trending_date\"] = pd.to_datetime(df[\"trending_date\"], format=\"%d-%m-%Y\")"
   ]
  },
  {
   "cell_type": "code",
   "execution_count": 49,
   "id": "6a7ac1d8",
   "metadata": {},
   "outputs": [],
   "source": [
    "df[\"publish_date\"] = pd.to_datetime(df[\"publish_date\"], format=\"%d-%m-%Y\")"
   ]
  },
  {
   "cell_type": "code",
   "execution_count": 50,
   "id": "e3e294b3",
   "metadata": {},
   "outputs": [
    {
     "name": "stdout",
     "output_type": "stream",
     "text": [
      "<class 'pandas.core.frame.DataFrame'>\n",
      "RangeIndex: 40881 entries, 0 to 40880\n",
      "Data columns (total 3 columns):\n",
      " #   Column         Non-Null Count  Dtype         \n",
      "---  ------         --------------  -----         \n",
      " 0   trending_date  40881 non-null  datetime64[ns]\n",
      " 1   publish_time   40881 non-null  object        \n",
      " 2   publish_date   40881 non-null  datetime64[ns]\n",
      "dtypes: datetime64[ns](2), object(1)\n",
      "memory usage: 958.3+ KB\n"
     ]
    }
   ],
   "source": [
    "df[[\"trending_date\", \"publish_time\", \"publish_date\"]].info()"
   ]
  },
  {
   "cell_type": "code",
   "execution_count": 51,
   "id": "2b1ae968",
   "metadata": {},
   "outputs": [
    {
     "data": {
      "text/plain": [
       "74"
      ]
     },
     "execution_count": 51,
     "metadata": {},
     "output_type": "execute_result"
    }
   ],
   "source": [
    "df[\"title_category\"].isna().sum()"
   ]
  },
  {
   "cell_type": "markdown",
   "id": "d618e530",
   "metadata": {},
   "source": [
    "Existen registros para los cuales no se encontró la categoría asociada dentro del dataset de categorías. Por ello, se tendrá que tomar el valor de estas categorías del dataset de EE.UU."
   ]
  },
  {
   "cell_type": "markdown",
   "id": "c3041ce2",
   "metadata": {},
   "source": [
    "# Tratado de datos faltantes"
   ]
  },
  {
   "cell_type": "code",
   "execution_count": 52,
   "id": "d570c9f1",
   "metadata": {},
   "outputs": [
    {
     "data": {
      "text/plain": [
       "description       1296\n",
       "title_category      74\n",
       "dtype: int64"
      ]
     },
     "execution_count": 52,
     "metadata": {},
     "output_type": "execute_result"
    }
   ],
   "source": [
    "df.isna().sum()[df.isna().sum() > 0]"
   ]
  },
  {
   "cell_type": "markdown",
   "id": "27051103",
   "metadata": {},
   "source": [
    "Tanto la descripción como el título de la categoría presentan valores faltantes. \n",
    "\n",
    "Se tratará cada caso individualmente."
   ]
  },
  {
   "cell_type": "markdown",
   "id": "c318b977",
   "metadata": {},
   "source": [
    "## Datos faltantes de título de categoría"
   ]
  },
  {
   "cell_type": "markdown",
   "id": "d00d3a59",
   "metadata": {},
   "source": [
    "### Obtener la información"
   ]
  },
  {
   "cell_type": "markdown",
   "id": "d66b7337",
   "metadata": {},
   "source": [
    "Se sabe que el documento .json de las categoría de EE.UU. debería contener la totalidad de categorías, por ello, se verificará si aquí se encuentra la(s) categoría(s) faltante(s)."
   ]
  },
  {
   "cell_type": "code",
   "execution_count": 53,
   "id": "6b948a98",
   "metadata": {},
   "outputs": [],
   "source": [
    "url = \"https://raw.githubusercontent.com/z3r0st/EB-2022-1-CC50/main/data/US_category_id.json\"\n",
    "categories_US = pd.read_json(url)"
   ]
  },
  {
   "cell_type": "code",
   "execution_count": 54,
   "id": "21d31c0b",
   "metadata": {},
   "outputs": [],
   "source": [
    "cat_US = pd.DataFrame(categories_US[\"items\"].values.tolist())\n",
    "cat_US[\"channelId\"] = pd.DataFrame(cat_US[\"snippet\"].values.tolist())[\"channelId\"]\n",
    "cat_US[\"title\"] = pd.DataFrame(cat_US[\"snippet\"].values.tolist())[\"title\"]\n",
    "cat_US[\"assignable\"] = pd.DataFrame(cat_US[\"snippet\"].values.tolist())[\"assignable\"]\n",
    "del cat_US[\"snippet\"]"
   ]
  },
  {
   "cell_type": "code",
   "execution_count": 55,
   "id": "8c752e50",
   "metadata": {},
   "outputs": [
    {
     "data": {
      "text/html": [
       "<div>\n",
       "<style scoped>\n",
       "    .dataframe tbody tr th:only-of-type {\n",
       "        vertical-align: middle;\n",
       "    }\n",
       "\n",
       "    .dataframe tbody tr th {\n",
       "        vertical-align: top;\n",
       "    }\n",
       "\n",
       "    .dataframe thead th {\n",
       "        text-align: right;\n",
       "    }\n",
       "</style>\n",
       "<table border=\"1\" class=\"dataframe\">\n",
       "  <thead>\n",
       "    <tr style=\"text-align: right;\">\n",
       "      <th></th>\n",
       "      <th>kind</th>\n",
       "      <th>etag</th>\n",
       "      <th>id</th>\n",
       "      <th>channelId</th>\n",
       "      <th>title</th>\n",
       "      <th>assignable</th>\n",
       "    </tr>\n",
       "  </thead>\n",
       "  <tbody>\n",
       "    <tr>\n",
       "      <th>0</th>\n",
       "      <td>youtube#videoCategory</td>\n",
       "      <td>\"m2yskBQFythfE4irbTIeOgYYfBU/Xy1mB4_yLrHy_BmKm...</td>\n",
       "      <td>1</td>\n",
       "      <td>UCBR8-60-B28hp2BmDPdntcQ</td>\n",
       "      <td>Film &amp; Animation</td>\n",
       "      <td>True</td>\n",
       "    </tr>\n",
       "    <tr>\n",
       "      <th>1</th>\n",
       "      <td>youtube#videoCategory</td>\n",
       "      <td>\"m2yskBQFythfE4irbTIeOgYYfBU/UZ1oLIIz2dxIhO45Z...</td>\n",
       "      <td>2</td>\n",
       "      <td>UCBR8-60-B28hp2BmDPdntcQ</td>\n",
       "      <td>Autos &amp; Vehicles</td>\n",
       "      <td>True</td>\n",
       "    </tr>\n",
       "    <tr>\n",
       "      <th>2</th>\n",
       "      <td>youtube#videoCategory</td>\n",
       "      <td>\"m2yskBQFythfE4irbTIeOgYYfBU/nqRIq97-xe5XRZTxb...</td>\n",
       "      <td>10</td>\n",
       "      <td>UCBR8-60-B28hp2BmDPdntcQ</td>\n",
       "      <td>Music</td>\n",
       "      <td>True</td>\n",
       "    </tr>\n",
       "    <tr>\n",
       "      <th>3</th>\n",
       "      <td>youtube#videoCategory</td>\n",
       "      <td>\"m2yskBQFythfE4irbTIeOgYYfBU/HwXKamM1Q20q9BN-o...</td>\n",
       "      <td>15</td>\n",
       "      <td>UCBR8-60-B28hp2BmDPdntcQ</td>\n",
       "      <td>Pets &amp; Animals</td>\n",
       "      <td>True</td>\n",
       "    </tr>\n",
       "    <tr>\n",
       "      <th>4</th>\n",
       "      <td>youtube#videoCategory</td>\n",
       "      <td>\"m2yskBQFythfE4irbTIeOgYYfBU/9GQMSRjrZdHeb1OEM...</td>\n",
       "      <td>17</td>\n",
       "      <td>UCBR8-60-B28hp2BmDPdntcQ</td>\n",
       "      <td>Sports</td>\n",
       "      <td>True</td>\n",
       "    </tr>\n",
       "  </tbody>\n",
       "</table>\n",
       "</div>"
      ],
      "text/plain": [
       "                    kind                                               etag  \\\n",
       "0  youtube#videoCategory  \"m2yskBQFythfE4irbTIeOgYYfBU/Xy1mB4_yLrHy_BmKm...   \n",
       "1  youtube#videoCategory  \"m2yskBQFythfE4irbTIeOgYYfBU/UZ1oLIIz2dxIhO45Z...   \n",
       "2  youtube#videoCategory  \"m2yskBQFythfE4irbTIeOgYYfBU/nqRIq97-xe5XRZTxb...   \n",
       "3  youtube#videoCategory  \"m2yskBQFythfE4irbTIeOgYYfBU/HwXKamM1Q20q9BN-o...   \n",
       "4  youtube#videoCategory  \"m2yskBQFythfE4irbTIeOgYYfBU/9GQMSRjrZdHeb1OEM...   \n",
       "\n",
       "   id                 channelId             title  assignable  \n",
       "0   1  UCBR8-60-B28hp2BmDPdntcQ  Film & Animation        True  \n",
       "1   2  UCBR8-60-B28hp2BmDPdntcQ  Autos & Vehicles        True  \n",
       "2  10  UCBR8-60-B28hp2BmDPdntcQ             Music        True  \n",
       "3  15  UCBR8-60-B28hp2BmDPdntcQ    Pets & Animals        True  \n",
       "4  17  UCBR8-60-B28hp2BmDPdntcQ            Sports        True  "
      ]
     },
     "execution_count": 55,
     "metadata": {},
     "output_type": "execute_result"
    }
   ],
   "source": [
    "cat_US.head()"
   ]
  },
  {
   "cell_type": "code",
   "execution_count": 56,
   "id": "d81486a9",
   "metadata": {},
   "outputs": [
    {
     "data": {
      "text/plain": [
       "31"
      ]
     },
     "execution_count": 56,
     "metadata": {},
     "output_type": "execute_result"
    }
   ],
   "source": [
    "cat_US[\"title\"].nunique()"
   ]
  },
  {
   "cell_type": "code",
   "execution_count": 57,
   "id": "e0da43e7",
   "metadata": {},
   "outputs": [
    {
     "data": {
      "text/plain": [
       "32"
      ]
     },
     "execution_count": 57,
     "metadata": {},
     "output_type": "execute_result"
    }
   ],
   "source": [
    "cat_US[\"title\"].count()"
   ]
  },
  {
   "cell_type": "markdown",
   "id": "3acb4bcf",
   "metadata": {},
   "source": [
    "Se identifica que el dataset de categorías de EE.UU. tiene 1 categoría más que el de Canadá. Se intuye que esta categoría es la correspondiente a los 74 registros faltantes."
   ]
  },
  {
   "cell_type": "markdown",
   "id": "58883158",
   "metadata": {},
   "source": [
    "### Comprobar que es la información faltante"
   ]
  },
  {
   "cell_type": "code",
   "execution_count": 58,
   "id": "c43303ab",
   "metadata": {},
   "outputs": [
    {
     "name": "stdout",
     "output_type": "stream",
     "text": [
      "Nonprofits & Activism\n"
     ]
    }
   ],
   "source": [
    "for categorie in cat_US[\"title\"].values.tolist():\n",
    "    if categorie not in cat[\"title\"].values.tolist():\n",
    "        print(categorie)"
   ]
  },
  {
   "cell_type": "code",
   "execution_count": 59,
   "id": "942e8a5c",
   "metadata": {},
   "outputs": [],
   "source": [
    "cat_US = cat_US.set_index(\"id\")\n",
    "cat_US.index = cat_US.index.astype(int)"
   ]
  },
  {
   "cell_type": "code",
   "execution_count": 60,
   "id": "fad65273",
   "metadata": {},
   "outputs": [
    {
     "data": {
      "text/plain": [
       "id\n",
       "29    Nonprofits & Activism\n",
       "Name: title, dtype: object"
      ]
     },
     "execution_count": 60,
     "metadata": {},
     "output_type": "execute_result"
    }
   ],
   "source": [
    "cat_US[cat_US[\"title\"] == \"Nonprofits & Activism\"][\"title\"]"
   ]
  },
  {
   "cell_type": "code",
   "execution_count": 61,
   "id": "b3b74181",
   "metadata": {},
   "outputs": [
    {
     "data": {
      "text/plain": [
       "29    74\n",
       "Name: category_id, dtype: int64"
      ]
     },
     "execution_count": 61,
     "metadata": {},
     "output_type": "execute_result"
    }
   ],
   "source": [
    "df[df[\"title_category\"].isna()][\"category_id\"].value_counts()"
   ]
  },
  {
   "cell_type": "markdown",
   "id": "5da25a22",
   "metadata": {},
   "source": [
    "Aquí se ha comprobado que efectivamente el valor de título en los registros del DataFrame es \"Nonprofits & Activism\""
   ]
  },
  {
   "cell_type": "markdown",
   "id": "deff9d6c",
   "metadata": {},
   "source": [
    "### Reemplazar los valores faltantes en el DataFrame"
   ]
  },
  {
   "cell_type": "markdown",
   "id": "e049f359",
   "metadata": {},
   "source": [
    "Ya que se ha verificado que se ha obtenido la información faltante de otra fuente relacionada, se puede reemplazar directamente con el valor hallado, sin necesidad de eliminar los registros ni aplicar una técnica de reemplazo (se están usando los valores reales, no unos simulados)."
   ]
  },
  {
   "cell_type": "code",
   "execution_count": 62,
   "id": "199c5193",
   "metadata": {},
   "outputs": [],
   "source": [
    "df[\"title_category\"].fillna(value=cat_US.loc[29][\"title\"], inplace=True)"
   ]
  },
  {
   "cell_type": "code",
   "execution_count": 63,
   "id": "72e70164",
   "metadata": {},
   "outputs": [
    {
     "data": {
      "text/plain": [
       "0"
      ]
     },
     "execution_count": 63,
     "metadata": {},
     "output_type": "execute_result"
    }
   ],
   "source": [
    "df[\"title_category\"].isna().sum()"
   ]
  },
  {
   "cell_type": "markdown",
   "id": "18a7fe55",
   "metadata": {},
   "source": [
    "Se llenó exitosamente la información de todas las categorías."
   ]
  },
  {
   "cell_type": "markdown",
   "id": "929a6256",
   "metadata": {},
   "source": [
    "## Datos faltantes en Descripción"
   ]
  },
  {
   "cell_type": "markdown",
   "id": "724202a7",
   "metadata": {},
   "source": [
    "### Explorando las características de los datos"
   ]
  },
  {
   "cell_type": "code",
   "execution_count": 64,
   "id": "18daae89",
   "metadata": {},
   "outputs": [
    {
     "data": {
      "text/plain": [
       "Index(['video_id', 'trending_date', 'title', 'channel_title', 'category_id',\n",
       "       'publish_date', 'tags', 'views', 'likes', 'dislikes', 'comment_count',\n",
       "       'thumbnail_link', 'comments_disabled', 'ratings_disabled',\n",
       "       'video_error_or_removed', 'description', 'state', 'lat', 'lon',\n",
       "       'geometry', 'title_category', 'publish_time'],\n",
       "      dtype='object')"
      ]
     },
     "execution_count": 64,
     "metadata": {},
     "output_type": "execute_result"
    }
   ],
   "source": [
    "df.columns"
   ]
  },
  {
   "cell_type": "code",
   "execution_count": 65,
   "id": "1205da53",
   "metadata": {},
   "outputs": [
    {
     "data": {
      "text/plain": [
       "0       Eminem's new track Walk on Water ft. Beyoncé i...\n",
       "214     Eminem's new track Walk on Water ft. Beyoncé i...\n",
       "498     Eminem's new track Walk on Water ft. Beyoncé i...\n",
       "791     Eminem's new track Walk on Water ft. Beyoncé i...\n",
       "1226    Eminem's official 2017 SNL performance.\\n \\nWa...\n",
       "Name: description, dtype: object"
      ]
     },
     "execution_count": 65,
     "metadata": {},
     "output_type": "execute_result"
    }
   ],
   "source": [
    "df[df[\"channel_title\"] == df.iloc[0][\"channel_title\"]][\"description\"].head()"
   ]
  },
  {
   "cell_type": "code",
   "execution_count": 66,
   "id": "7b5669b6",
   "metadata": {},
   "outputs": [
    {
     "data": {
      "text/plain": [
       "The View                        142\n",
       "The Real Daytime                 49\n",
       "Croton MEGA HIT 克頓傳媒2017爆款大劇     43\n",
       "Motion Station                   39\n",
       "Shalom Entertainment             38\n",
       "Name: channel_title, dtype: int64"
      ]
     },
     "execution_count": 66,
     "metadata": {},
     "output_type": "execute_result"
    }
   ],
   "source": [
    "df[df[\"description\"].isna()][\"channel_title\"].value_counts().head()"
   ]
  },
  {
   "cell_type": "code",
   "execution_count": 67,
   "id": "eb5710a4",
   "metadata": {},
   "outputs": [
    {
     "data": {
      "text/plain": [
       "149"
      ]
     },
     "execution_count": 67,
     "metadata": {},
     "output_type": "execute_result"
    }
   ],
   "source": [
    "df[df[\"channel_title\"] == \"The View\"][\"channel_title\"].count()"
   ]
  },
  {
   "cell_type": "markdown",
   "id": "cb9ff754",
   "metadata": {},
   "source": [
    "Para \"The View\", de 147 registros, 142 presentan descripción faltante.\n",
    "\n",
    "Esto nos indica, por un lado, que sí existen registros con descripción para el canal, lo cual significa que sería posible llenar estos faltantes con cierto grado de precisión."
   ]
  },
  {
   "cell_type": "code",
   "execution_count": 68,
   "id": "8b666178",
   "metadata": {},
   "outputs": [
    {
     "data": {
      "text/plain": [
       "470      The View co-hosts share their responses to tro...\n",
       "18382    “This is a show where we respect one another a...\n",
       "21427    The View co-hosts discuss whether the presiden...\n",
       "22175    Clinton joined The View to discuss what she'd ...\n",
       "28552             The word of the day in America is leaks.\n",
       "28833             The word of the day in America is leaks.\n",
       "33685    MORE FROM 'THE VIEW':Full episodes: http://abc...\n",
       "Name: description, dtype: object"
      ]
     },
     "execution_count": 68,
     "metadata": {},
     "output_type": "execute_result"
    }
   ],
   "source": [
    "df[(df[\"description\"].notna()) & (df[\"channel_title\"] == \"The View\")][\"description\"]"
   ]
  },
  {
   "cell_type": "markdown",
   "id": "b1298e49",
   "metadata": {},
   "source": [
    "También se analizará las características de los registros del segundo canal con mayor cantidad de registros faltantes."
   ]
  },
  {
   "cell_type": "code",
   "execution_count": 69,
   "id": "c7da7482",
   "metadata": {},
   "outputs": [
    {
     "data": {
      "text/plain": [
       "133"
      ]
     },
     "execution_count": 69,
     "metadata": {},
     "output_type": "execute_result"
    }
   ],
   "source": [
    "df[df[\"channel_title\"] == \"The Real Daytime\"][\"channel_title\"].count()"
   ]
  },
  {
   "cell_type": "markdown",
   "id": "22c0cb5a",
   "metadata": {},
   "source": [
    "Para \"The Real Daytime\", de 133 registros, 49 presentan descripción faltante.\n",
    "\n",
    "Esto nos indica, por un lado, que existen bastantes registros con descripción para el canal, lo cual significa que sería posible llenar estos faltantes, pero es necesario comprobar si siempre se usa la misma descripción o esta varía."
   ]
  },
  {
   "cell_type": "code",
   "execution_count": 70,
   "id": "beaaa897",
   "metadata": {},
   "outputs": [
    {
     "data": {
      "text/plain": [
       "For how long could you be celibate?                                                     3\n",
       "Do you think if a man truly loves his woman, another woman can take him away?           3\n",
       "What do you think of Fergie's  version of the National Anthem?                          2\n",
       "Do you think a child should automatically get the father's last name?                   2\n",
       "If you had reservations before getting married, would you still walk down the aisle?    2\n",
       "Name: description, dtype: int64"
      ]
     },
     "execution_count": 70,
     "metadata": {},
     "output_type": "execute_result"
    }
   ],
   "source": [
    "df[(df[\"description\"].notna()) & (df[\"channel_title\"] == \"The Real Daytime\")][\"description\"].value_counts().head()"
   ]
  },
  {
   "cell_type": "markdown",
   "id": "fedee63e",
   "metadata": {},
   "source": [
    "Como se puede visualizar, la moda tiene 3 apariciones, de un total de 84. De modo que no se presentan una descripción generalizada para el canal, es decir, la moda no es descriptiva del conjunto de descripciones. \n",
    "\n",
    "Por ello, se concluye como mejor estrategia, asignarle a las descripciones faltantes, el valor de una descripción del mismo canal escogida aleatoriamente."
   ]
  },
  {
   "cell_type": "markdown",
   "id": "29d0e5fc",
   "metadata": {},
   "source": [
    "### Reemplazo de valores faltantes de descripción"
   ]
  },
  {
   "cell_type": "code",
   "execution_count": 71,
   "id": "e69d8288",
   "metadata": {},
   "outputs": [],
   "source": [
    "import random"
   ]
  },
  {
   "cell_type": "code",
   "execution_count": 72,
   "id": "38574638",
   "metadata": {},
   "outputs": [],
   "source": [
    "for channel in set(df[df[\"description\"].isna()][\"channel_title\"].values.tolist()):\n",
    "    n = len(df[(df[\"description\"].notna()) & (df[\"channel_title\"] == channel)])\n",
    "    if n == 0: continue\n",
    "    N = len(df[(df[\"description\"].isna()) & (df[\"channel_title\"] == channel)])\n",
    "    \n",
    "    new_values = []\n",
    "    while(N > n):\n",
    "        new_values += random.sample(df[(df[\"description\"].notna()) & (df[\"channel_title\"] == channel)][\"description\"].values.tolist(), k=n)\n",
    "        N -= n\n",
    "    new_values += random.sample(df[(df[\"description\"].notna()) & (df[\"channel_title\"] == channel)][\"description\"].values.tolist(), k=N)\n",
    "    \n",
    "    new_values = pd.Series(data=new_values, index=df[(df[\"description\"].isna()) & (df[\"channel_title\"] == channel)].index)\n",
    "    for i in new_values.index:\n",
    "        df.loc[i, \"description\"] = new_values.loc[i]\n",
    "#     df[(df[\"description\"].isna()) & (df[\"channel_title\"] == channel)][\"description\"] = pd.Series(new_values)"
   ]
  },
  {
   "cell_type": "markdown",
   "id": "657c2342",
   "metadata": {},
   "source": [
    "### Revisión de casos donde se mantiene el valor faltante"
   ]
  },
  {
   "cell_type": "code",
   "execution_count": 73,
   "id": "c6689d75",
   "metadata": {},
   "outputs": [
    {
     "data": {
      "text/plain": [
       "722"
      ]
     },
     "execution_count": 73,
     "metadata": {},
     "output_type": "execute_result"
    }
   ],
   "source": [
    "df[\"description\"].isna().sum()"
   ]
  },
  {
   "cell_type": "code",
   "execution_count": 74,
   "id": "d85dba03",
   "metadata": {},
   "outputs": [
    {
     "name": "stdout",
     "output_type": "stream",
     "text": [
      "In total, 303 channels have videos registered without description, from which 303 haven't registered a description in any video\n"
     ]
    }
   ],
   "source": [
    "channel_count, without_description_count = 0, 0\n",
    "for channel in set(df[df[\"description\"].isna()][\"channel_title\"].values.tolist()):\n",
    "    channel_count += 1\n",
    "    without_description_count += 1 > sum(df[df[\"channel_title\"] == channel][\"description\"].notna())\n",
    "print(f\"In total, {channel_count} channels have videos registered without description, from which {without_description_count} haven't registered a description in any video\")"
   ]
  },
  {
   "cell_type": "markdown",
   "id": "3d059cd7",
   "metadata": {},
   "source": [
    "Todos los valores faltantes son de canales que no publican descripciones para ninguno de sus videos, por ello se considera apropiado dejar ese valor como faltante.\n",
    "\n",
    "No se ha decidido eliminar estos registros porque la descripción no es un dato importante para el conocimiento que buscamos obtener a partir de la exploración y procesamiento de los datos."
   ]
  },
  {
   "cell_type": "markdown",
   "id": "910b468a",
   "metadata": {},
   "source": [
    "## Filtrar los registros válidos"
   ]
  },
  {
   "cell_type": "markdown",
   "id": "c2006a5e",
   "metadata": {},
   "source": [
    "Se eliminarán los registros cuyos videos hayan sido eliminados o ya no sean accesibles, ya que el hecho de que se busca analizar los datos de aquellos videos que siguen en la plataforma."
   ]
  },
  {
   "cell_type": "code",
   "execution_count": 75,
   "id": "2a3d2a50",
   "metadata": {},
   "outputs": [
    {
     "data": {
      "text/plain": [
       "Index(['video_id', 'trending_date', 'title', 'channel_title', 'category_id',\n",
       "       'publish_date', 'tags', 'views', 'likes', 'dislikes', 'comment_count',\n",
       "       'thumbnail_link', 'comments_disabled', 'ratings_disabled',\n",
       "       'video_error_or_removed', 'description', 'state', 'lat', 'lon',\n",
       "       'geometry', 'title_category', 'publish_time'],\n",
       "      dtype='object')"
      ]
     },
     "execution_count": 75,
     "metadata": {},
     "output_type": "execute_result"
    }
   ],
   "source": [
    "df.columns"
   ]
  },
  {
   "cell_type": "code",
   "execution_count": 76,
   "id": "7c3ac49b",
   "metadata": {},
   "outputs": [
    {
     "data": {
      "text/plain": [
       "False    40854\n",
       "True        27\n",
       "Name: video_error_or_removed, dtype: int64"
      ]
     },
     "execution_count": 76,
     "metadata": {},
     "output_type": "execute_result"
    }
   ],
   "source": [
    "df[\"video_error_or_removed\"].value_counts()"
   ]
  },
  {
   "cell_type": "code",
   "execution_count": 77,
   "id": "6f8f603c",
   "metadata": {},
   "outputs": [],
   "source": [
    "df[df[\"video_error_or_removed\"] == True] = np.NaN"
   ]
  },
  {
   "cell_type": "code",
   "execution_count": 78,
   "id": "a97d11ad",
   "metadata": {},
   "outputs": [
    {
     "data": {
      "text/plain": [
       "False    40854\n",
       "Name: video_error_or_removed, dtype: int64"
      ]
     },
     "execution_count": 78,
     "metadata": {},
     "output_type": "execute_result"
    }
   ],
   "source": [
    "df[\"video_error_or_removed\"].value_counts()"
   ]
  },
  {
   "cell_type": "code",
   "execution_count": 79,
   "id": "bef3feb6",
   "metadata": {},
   "outputs": [
    {
     "data": {
      "text/plain": [
       "27"
      ]
     },
     "execution_count": 79,
     "metadata": {},
     "output_type": "execute_result"
    }
   ],
   "source": [
    "sum(df[\"video_error_or_removed\"].isna())"
   ]
  },
  {
   "cell_type": "markdown",
   "id": "74752601",
   "metadata": {},
   "source": [
    "Habiendo confirmado que no es un número significativo de registros, se decide eliminarlos para que no afecten la integridad de los resultados."
   ]
  },
  {
   "cell_type": "code",
   "execution_count": 80,
   "id": "62042c53",
   "metadata": {},
   "outputs": [],
   "source": [
    "df.dropna(subset=[\"video_error_or_removed\"], inplace=True)"
   ]
  },
  {
   "cell_type": "code",
   "execution_count": 81,
   "id": "c3246b94",
   "metadata": {},
   "outputs": [
    {
     "data": {
      "text/plain": [
       "0"
      ]
     },
     "execution_count": 81,
     "metadata": {},
     "output_type": "execute_result"
    }
   ],
   "source": [
    "sum(df[\"video_error_or_removed\"].isna())"
   ]
  },
  {
   "cell_type": "markdown",
   "id": "35c78bbf",
   "metadata": {},
   "source": [
    "# Datos atípicos (**outliers**)"
   ]
  },
  {
   "cell_type": "code",
   "execution_count": 82,
   "id": "79c0f825",
   "metadata": {},
   "outputs": [],
   "source": [
    "import matplotlib.pyplot as plt\n",
    "%matplotlib inline"
   ]
  },
  {
   "cell_type": "code",
   "execution_count": 83,
   "id": "6472fd08",
   "metadata": {},
   "outputs": [
    {
     "data": {
      "text/plain": [
       "1146867.812331718"
      ]
     },
     "execution_count": 83,
     "metadata": {},
     "output_type": "execute_result"
    }
   ],
   "source": [
    "df[\"views\"].mean()"
   ]
  },
  {
   "cell_type": "code",
   "execution_count": 84,
   "id": "13211d36",
   "metadata": {},
   "outputs": [
    {
     "data": {
      "text/plain": [
       "{'whiskers': [<matplotlib.lines.Line2D at 0x7fc3d292ed60>,\n",
       "  <matplotlib.lines.Line2D at 0x7fc3d2134070>],\n",
       " 'caps': [<matplotlib.lines.Line2D at 0x7fc3d2134400>,\n",
       "  <matplotlib.lines.Line2D at 0x7fc3d2134790>],\n",
       " 'boxes': [<matplotlib.patches.PathPatch at 0x7fc3d292e8e0>],\n",
       " 'medians': [<matplotlib.lines.Line2D at 0x7fc3d2134b20>],\n",
       " 'fliers': [<matplotlib.lines.Line2D at 0x7fc3d2134eb0>],\n",
       " 'means': []}"
      ]
     },
     "execution_count": 84,
     "metadata": {},
     "output_type": "execute_result"
    },
    {
     "data": {
      "image/png": "[encoded data removed]",
      "text/plain": [
       "<Figure size 432x288 with 1 Axes>"
      ]
     },
     "metadata": {
      "needs_background": "light"
     },
     "output_type": "display_data"
    }
   ],
   "source": [
    "plt.boxplot(df[\"likes\"],vert=True,patch_artist=True, autorange=True)"
   ]
  },
  {
   "cell_type": "code",
   "execution_count": 85,
   "id": "c4b907b5",
   "metadata": {},
   "outputs": [],
   "source": [
    "import seaborn as sns"
   ]
  },
  {
   "cell_type": "code",
   "execution_count": 86,
   "id": "b956c82e",
   "metadata": {},
   "outputs": [
    {
     "data": {
      "text/plain": [
       "<AxesSubplot:>"
      ]
     },
     "execution_count": 86,
     "metadata": {},
     "output_type": "execute_result"
    },
    {
     "data": {
      "image/png": "[encoded data removed]",
      "text/plain": [
       "<Figure size 432x288 with 1 Axes>"
      ]
     },
     "metadata": {
      "needs_background": "light"
     },
     "output_type": "display_data"
    }
   ],
   "source": [
    "sns.boxplot(data=df, palette='coolwarm', orient='h')"
   ]
  },
  {
   "cell_type": "markdown",
   "id": "b451059e",
   "metadata": {},
   "source": [
    "La gran dispersión de los valores de \"vistas\" no permite apreciar con claridad la distribución de los valores de las otras categorías, además, existen ciertas categorías numéricas, como el id de categoría, latitud, longitud para las cuales no nos interesa tener un referente de su distribución o de valores atípicos."
   ]
  },
  {
   "cell_type": "code",
   "execution_count": 87,
   "id": "32deeb84",
   "metadata": {},
   "outputs": [
    {
     "data": {
      "text/plain": [
       "<AxesSubplot:>"
      ]
     },
     "execution_count": 87,
     "metadata": {},
     "output_type": "execute_result"
    },
    {
     "data": {
      "image/png": "[encoded data removed]",
      "text/plain": [
       "<Figure size 432x288 with 1 Axes>"
      ]
     },
     "metadata": {
      "needs_background": "light"
     },
     "output_type": "display_data"
    }
   ],
   "source": [
    "sns.boxplot(data=df[[\"likes\", \"dislikes\", \"comment_count\", \"comments_disabled\", \"ratings_disabled\", \"video_error_or_removed\"]], palette='coolwarm', orient='h')"
   ]
  },
  {
   "cell_type": "code",
   "execution_count": 88,
   "id": "d240ff56",
   "metadata": {},
   "outputs": [
    {
     "data": {
      "text/plain": [
       "<AxesSubplot:>"
      ]
     },
     "execution_count": 88,
     "metadata": {},
     "output_type": "execute_result"
    },
    {
     "data": {
      "image/png": "[encoded data removed]",
      "text/plain": [
       "<Figure size 864x504 with 1 Axes>"
      ]
     },
     "metadata": {
      "needs_background": "light"
     },
     "output_type": "display_data"
    }
   ],
   "source": [
    "plt.figure(figsize=(12, 7))\n",
    "sns.boxplot(data=df[df[\"views\"] < 2000000][[\"views\", \"likes\"]], palette=\"winter\")"
   ]
  },
  {
   "cell_type": "code",
   "execution_count": 89,
   "id": "196e74dd",
   "metadata": {},
   "outputs": [
    {
     "data": {
      "text/plain": [
       "<AxesSubplot:>"
      ]
     },
     "execution_count": 89,
     "metadata": {},
     "output_type": "execute_result"
    },
    {
     "data": {
      "image/png": "[encoded data removed]",
      "text/plain": [
       "<Figure size 864x504 with 1 Axes>"
      ]
     },
     "metadata": {
      "needs_background": "light"
     },
     "output_type": "display_data"
    }
   ],
   "source": [
    "plt.figure(figsize=(12, 7))\n",
    "sns.boxplot(data=df[df[\"views\"] < 2000000][[\"views\", \"dislikes\"]], palette=\"winter\")"
   ]
  },
  {
   "cell_type": "code",
   "execution_count": 90,
   "id": "1f2c3f6e",
   "metadata": {},
   "outputs": [
    {
     "data": {
      "text/plain": [
       "<AxesSubplot:>"
      ]
     },
     "execution_count": 90,
     "metadata": {},
     "output_type": "execute_result"
    },
    {
     "data": {
      "image/png": "[encoded data removed]",
      "text/plain": [
       "<Figure size 864x504 with 1 Axes>"
      ]
     },
     "metadata": {
      "needs_background": "light"
     },
     "output_type": "display_data"
    }
   ],
   "source": [
    "plt.figure(figsize=(12, 7))\n",
    "sns.boxplot(data=df[df[\"views\"] < 2000000][[\"views\", \"comment_count\"]], palette=\"winter\")"
   ]
  },
  {
   "cell_type": "markdown",
   "id": "ad024231",
   "metadata": {},
   "source": [
    "Se visualiza claramente que los \"me gusta\", \"no me gusta\" y cantidad de comentarios no presentan una tendencia central y presentan bastantes registros dispersos hacia la derecha."
   ]
  },
  {
   "cell_type": "code",
   "execution_count": 91,
   "id": "c6a43b13",
   "metadata": {},
   "outputs": [
    {
     "data": {
      "text/plain": [
       "<seaborn.axisgrid.JointGrid at 0x7fc3ce09f400>"
      ]
     },
     "execution_count": 91,
     "metadata": {},
     "output_type": "execute_result"
    },
    {
     "data": {
      "image/png": "[encoded data removed]",
      "text/plain": [
       "<Figure size 432x432 with 3 Axes>"
      ]
     },
     "metadata": {
      "needs_background": "light"
     },
     "output_type": "display_data"
    }
   ],
   "source": [
    "sns.jointplot(x=\"likes\", y=\"views\", data=df, kind=\"reg\")"
   ]
  },
  {
   "cell_type": "code",
   "execution_count": 92,
   "id": "7b789c26",
   "metadata": {},
   "outputs": [
    {
     "data": {
      "text/html": [
       "<div>\n",
       "<style scoped>\n",
       "    .dataframe tbody tr th:only-of-type {\n",
       "        vertical-align: middle;\n",
       "    }\n",
       "\n",
       "    .dataframe tbody tr th {\n",
       "        vertical-align: top;\n",
       "    }\n",
       "\n",
       "    .dataframe thead th {\n",
       "        text-align: right;\n",
       "    }\n",
       "</style>\n",
       "<table border=\"1\" class=\"dataframe\">\n",
       "  <thead>\n",
       "    <tr style=\"text-align: right;\">\n",
       "      <th></th>\n",
       "      <th>views</th>\n",
       "      <th>likes</th>\n",
       "    </tr>\n",
       "  </thead>\n",
       "  <tbody>\n",
       "    <tr>\n",
       "      <th>views</th>\n",
       "      <td>1.000000</td>\n",
       "      <td>0.828982</td>\n",
       "    </tr>\n",
       "    <tr>\n",
       "      <th>likes</th>\n",
       "      <td>0.828982</td>\n",
       "      <td>1.000000</td>\n",
       "    </tr>\n",
       "  </tbody>\n",
       "</table>\n",
       "</div>"
      ],
      "text/plain": [
       "          views     likes\n",
       "views  1.000000  0.828982\n",
       "likes  0.828982  1.000000"
      ]
     },
     "execution_count": 92,
     "metadata": {},
     "output_type": "execute_result"
    }
   ],
   "source": [
    "df[[\"views\", \"likes\"]].corr()"
   ]
  },
  {
   "cell_type": "markdown",
   "id": "1e776a38",
   "metadata": {},
   "source": [
    "A partir de la gráfica y el resultado se puede observar que en líneas generales para que un video tenga muchos likes, debe tener necesariamente muchas vistas. No se presenta ningún caso alarmante donde se presente una cantidad exagerada de likes para la cantidad de vistas."
   ]
  },
  {
   "cell_type": "markdown",
   "id": "d5c614c9",
   "metadata": {},
   "source": [
    "De igual manera, es necesario validar metódicamente que no se produzca ningún registro con un ratio incorrecto entre views/(likes + dislikes). Este ratio solo es válido si es mayor o igual a 1, ya que cada persona registrada solo puede dar un like o dislike, pero puede visualizar el video múltiples veces."
   ]
  },
  {
   "cell_type": "code",
   "execution_count": 94,
   "id": "b627c548",
   "metadata": {},
   "outputs": [],
   "source": [
    "df[df[\"views\"] < df[\"likes\"] + df[\"dislikes\"]][\"views\"] = np.NaN"
   ]
  },
  {
   "cell_type": "code",
   "execution_count": 95,
   "id": "8a3ed445",
   "metadata": {},
   "outputs": [
    {
     "data": {
      "text/plain": [
       "40854"
      ]
     },
     "execution_count": 95,
     "metadata": {},
     "output_type": "execute_result"
    }
   ],
   "source": [
    "df[df[\"views\"] >= df[\"likes\"] + df[\"dislikes\"]][\"views\"].count()"
   ]
  },
  {
   "cell_type": "code",
   "execution_count": 96,
   "id": "55124a6c",
   "metadata": {},
   "outputs": [
    {
     "data": {
      "text/plain": [
       "0"
      ]
     },
     "execution_count": 96,
     "metadata": {},
     "output_type": "execute_result"
    }
   ],
   "source": [
    "sum(df[\"views\"].isna())"
   ]
  },
  {
   "cell_type": "markdown",
   "id": "974d07ba",
   "metadata": {},
   "source": [
    "Se ha comprobado que no existe ningún registro incorrecto donde la suma de likes y dislikes supera el número de vistas."
   ]
  },
  {
   "cell_type": "markdown",
   "id": "fab99a04",
   "metadata": {},
   "source": [
    "## Ordenar y organizar el DataFrame"
   ]
  },
  {
   "cell_type": "code",
   "execution_count": 97,
   "id": "0b86a20f",
   "metadata": {},
   "outputs": [
    {
     "data": {
      "text/plain": [
       "Index(['video_id', 'trending_date', 'title', 'channel_title', 'category_id',\n",
       "       'publish_date', 'tags', 'views', 'likes', 'dislikes', 'comment_count',\n",
       "       'thumbnail_link', 'comments_disabled', 'ratings_disabled',\n",
       "       'video_error_or_removed', 'description', 'state', 'lat', 'lon',\n",
       "       'geometry', 'title_category', 'publish_time'],\n",
       "      dtype='object')"
      ]
     },
     "execution_count": 97,
     "metadata": {},
     "output_type": "execute_result"
    }
   ],
   "source": [
    "df.columns"
   ]
  },
  {
   "cell_type": "code",
   "execution_count": 98,
   "id": "ea08ff9d",
   "metadata": {},
   "outputs": [
    {
     "name": "stdout",
     "output_type": "stream",
     "text": [
      "<class 'pandas.core.frame.DataFrame'>\n",
      "Int64Index: 40854 entries, 0 to 40880\n",
      "Data columns (total 22 columns):\n",
      " #   Column                  Non-Null Count  Dtype         \n",
      "---  ------                  --------------  -----         \n",
      " 0   video_id                40854 non-null  object        \n",
      " 1   trending_date           40854 non-null  datetime64[ns]\n",
      " 2   title                   40854 non-null  object        \n",
      " 3   channel_title           40854 non-null  object        \n",
      " 4   category_id             40854 non-null  float64       \n",
      " 5   publish_date            40854 non-null  datetime64[ns]\n",
      " 6   tags                    40854 non-null  object        \n",
      " 7   views                   40854 non-null  float64       \n",
      " 8   likes                   40854 non-null  float64       \n",
      " 9   dislikes                40854 non-null  float64       \n",
      " 10  comment_count           40854 non-null  float64       \n",
      " 11  thumbnail_link          40854 non-null  object        \n",
      " 12  comments_disabled       40854 non-null  object        \n",
      " 13  ratings_disabled        40854 non-null  object        \n",
      " 14  video_error_or_removed  40854 non-null  object        \n",
      " 15  description             40132 non-null  object        \n",
      " 16  state                   40854 non-null  object        \n",
      " 17  lat                     40854 non-null  float64       \n",
      " 18  lon                     40854 non-null  float64       \n",
      " 19  geometry                40854 non-null  object        \n",
      " 20  title_category          40854 non-null  object        \n",
      " 21  publish_time            40854 non-null  object        \n",
      "dtypes: datetime64[ns](2), float64(7), object(13)\n",
      "memory usage: 7.2+ MB\n"
     ]
    }
   ],
   "source": [
    "df.info()"
   ]
  },
  {
   "cell_type": "markdown",
   "id": "dc4737b9",
   "metadata": {},
   "source": [
    "Para la exploración de los datos, nos interesa trabajar con las categorías, la cantidad de \"vistas\", \"me gusta\", \"no me gusta\", \"comentarios\" y el factor tiempo. Respecto al tiempo, se busca evaluar cómo ha evolucionado el volumen de videos de tendencia a lo largo del tiempo, por lo que nos interesa la fecha en la que el video ingresó a tendencias y no la fecha de publicación. A partir de ello, se filtrarán las columnas para tener un DataFrame que contenga únicamente los datos pertinentes para la exploración."
   ]
  },
  {
   "cell_type": "code",
   "execution_count": 106,
   "id": "926f13e6",
   "metadata": {},
   "outputs": [],
   "source": [
    "videos = df[[\"title_category\", \"views\", \"likes\", \"dislikes\", \"comment_count\", \"comments_disabled\", \"trending_date\"]]"
   ]
  },
  {
   "cell_type": "code",
   "execution_count": 103,
   "id": "aa9aab9d",
   "metadata": {},
   "outputs": [
    {
     "data": {
      "text/html": [
       "<div>\n",
       "<style scoped>\n",
       "    .dataframe tbody tr th:only-of-type {\n",
       "        vertical-align: middle;\n",
       "    }\n",
       "\n",
       "    .dataframe tbody tr th {\n",
       "        vertical-align: top;\n",
       "    }\n",
       "\n",
       "    .dataframe thead th {\n",
       "        text-align: right;\n",
       "    }\n",
       "</style>\n",
       "<table border=\"1\" class=\"dataframe\">\n",
       "  <thead>\n",
       "    <tr style=\"text-align: right;\">\n",
       "      <th></th>\n",
       "      <th>title_category</th>\n",
       "      <th>views</th>\n",
       "      <th>likes</th>\n",
       "      <th>dislikes</th>\n",
       "      <th>comment_count</th>\n",
       "      <th>comments_disabled</th>\n",
       "      <th>trending_date</th>\n",
       "    </tr>\n",
       "  </thead>\n",
       "  <tbody>\n",
       "    <tr>\n",
       "      <th>0</th>\n",
       "      <td>Music</td>\n",
       "      <td>17158579.0</td>\n",
       "      <td>787425.0</td>\n",
       "      <td>43420.0</td>\n",
       "      <td>125882.0</td>\n",
       "      <td>False</td>\n",
       "      <td>2017-11-14</td>\n",
       "    </tr>\n",
       "    <tr>\n",
       "      <th>1</th>\n",
       "      <td>Comedy</td>\n",
       "      <td>1014651.0</td>\n",
       "      <td>127794.0</td>\n",
       "      <td>1688.0</td>\n",
       "      <td>13030.0</td>\n",
       "      <td>False</td>\n",
       "      <td>2017-11-14</td>\n",
       "    </tr>\n",
       "    <tr>\n",
       "      <th>2</th>\n",
       "      <td>Comedy</td>\n",
       "      <td>3191434.0</td>\n",
       "      <td>146035.0</td>\n",
       "      <td>5339.0</td>\n",
       "      <td>8181.0</td>\n",
       "      <td>False</td>\n",
       "      <td>2017-11-14</td>\n",
       "    </tr>\n",
       "    <tr>\n",
       "      <th>3</th>\n",
       "      <td>Entertainment</td>\n",
       "      <td>2095828.0</td>\n",
       "      <td>132239.0</td>\n",
       "      <td>1989.0</td>\n",
       "      <td>17518.0</td>\n",
       "      <td>False</td>\n",
       "      <td>2017-11-14</td>\n",
       "    </tr>\n",
       "    <tr>\n",
       "      <th>4</th>\n",
       "      <td>Music</td>\n",
       "      <td>33523622.0</td>\n",
       "      <td>1634130.0</td>\n",
       "      <td>21082.0</td>\n",
       "      <td>85067.0</td>\n",
       "      <td>False</td>\n",
       "      <td>2017-11-14</td>\n",
       "    </tr>\n",
       "  </tbody>\n",
       "</table>\n",
       "</div>"
      ],
      "text/plain": [
       "  title_category       views      likes  dislikes  comment_count  \\\n",
       "0          Music  17158579.0   787425.0   43420.0       125882.0   \n",
       "1         Comedy   1014651.0   127794.0    1688.0        13030.0   \n",
       "2         Comedy   3191434.0   146035.0    5339.0         8181.0   \n",
       "3  Entertainment   2095828.0   132239.0    1989.0        17518.0   \n",
       "4          Music  33523622.0  1634130.0   21082.0        85067.0   \n",
       "\n",
       "  comments_disabled trending_date  \n",
       "0             False    2017-11-14  \n",
       "1             False    2017-11-14  \n",
       "2             False    2017-11-14  \n",
       "3             False    2017-11-14  \n",
       "4             False    2017-11-14  "
      ]
     },
     "execution_count": 103,
     "metadata": {},
     "output_type": "execute_result"
    }
   ],
   "source": [
    "videos.head()"
   ]
  },
  {
   "cell_type": "code",
   "execution_count": 107,
   "id": "1006080c",
   "metadata": {},
   "outputs": [],
   "source": [
    "videos = videos.rename(columns={\"title_category\":\"category\"})"
   ]
  },
  {
   "cell_type": "code",
   "execution_count": 108,
   "id": "ee33c11a",
   "metadata": {},
   "outputs": [],
   "source": [
    "videos = videos.rename(columns={\"comment_count\":\"comments\"})"
   ]
  },
  {
   "cell_type": "code",
   "execution_count": 109,
   "id": "11e2c371",
   "metadata": {},
   "outputs": [
    {
     "data": {
      "text/html": [
       "<div>\n",
       "<style scoped>\n",
       "    .dataframe tbody tr th:only-of-type {\n",
       "        vertical-align: middle;\n",
       "    }\n",
       "\n",
       "    .dataframe tbody tr th {\n",
       "        vertical-align: top;\n",
       "    }\n",
       "\n",
       "    .dataframe thead th {\n",
       "        text-align: right;\n",
       "    }\n",
       "</style>\n",
       "<table border=\"1\" class=\"dataframe\">\n",
       "  <thead>\n",
       "    <tr style=\"text-align: right;\">\n",
       "      <th></th>\n",
       "      <th>category</th>\n",
       "      <th>views</th>\n",
       "      <th>likes</th>\n",
       "      <th>dislikes</th>\n",
       "      <th>comments</th>\n",
       "      <th>comments_disabled</th>\n",
       "      <th>trending_date</th>\n",
       "    </tr>\n",
       "  </thead>\n",
       "  <tbody>\n",
       "    <tr>\n",
       "      <th>0</th>\n",
       "      <td>Music</td>\n",
       "      <td>17158579.0</td>\n",
       "      <td>787425.0</td>\n",
       "      <td>43420.0</td>\n",
       "      <td>125882.0</td>\n",
       "      <td>False</td>\n",
       "      <td>2017-11-14</td>\n",
       "    </tr>\n",
       "    <tr>\n",
       "      <th>1</th>\n",
       "      <td>Comedy</td>\n",
       "      <td>1014651.0</td>\n",
       "      <td>127794.0</td>\n",
       "      <td>1688.0</td>\n",
       "      <td>13030.0</td>\n",
       "      <td>False</td>\n",
       "      <td>2017-11-14</td>\n",
       "    </tr>\n",
       "    <tr>\n",
       "      <th>2</th>\n",
       "      <td>Comedy</td>\n",
       "      <td>3191434.0</td>\n",
       "      <td>146035.0</td>\n",
       "      <td>5339.0</td>\n",
       "      <td>8181.0</td>\n",
       "      <td>False</td>\n",
       "      <td>2017-11-14</td>\n",
       "    </tr>\n",
       "    <tr>\n",
       "      <th>3</th>\n",
       "      <td>Entertainment</td>\n",
       "      <td>2095828.0</td>\n",
       "      <td>132239.0</td>\n",
       "      <td>1989.0</td>\n",
       "      <td>17518.0</td>\n",
       "      <td>False</td>\n",
       "      <td>2017-11-14</td>\n",
       "    </tr>\n",
       "    <tr>\n",
       "      <th>4</th>\n",
       "      <td>Music</td>\n",
       "      <td>33523622.0</td>\n",
       "      <td>1634130.0</td>\n",
       "      <td>21082.0</td>\n",
       "      <td>85067.0</td>\n",
       "      <td>False</td>\n",
       "      <td>2017-11-14</td>\n",
       "    </tr>\n",
       "  </tbody>\n",
       "</table>\n",
       "</div>"
      ],
      "text/plain": [
       "        category       views      likes  dislikes  comments comments_disabled  \\\n",
       "0          Music  17158579.0   787425.0   43420.0  125882.0             False   \n",
       "1         Comedy   1014651.0   127794.0    1688.0   13030.0             False   \n",
       "2         Comedy   3191434.0   146035.0    5339.0    8181.0             False   \n",
       "3  Entertainment   2095828.0   132239.0    1989.0   17518.0             False   \n",
       "4          Music  33523622.0  1634130.0   21082.0   85067.0             False   \n",
       "\n",
       "  trending_date  \n",
       "0    2017-11-14  \n",
       "1    2017-11-14  \n",
       "2    2017-11-14  \n",
       "3    2017-11-14  \n",
       "4    2017-11-14  "
      ]
     },
     "execution_count": 109,
     "metadata": {},
     "output_type": "execute_result"
    }
   ],
   "source": [
    "videos.head()"
   ]
  },
  {
   "cell_type": "markdown",
   "id": "a92a4b8d",
   "metadata": {},
   "source": [
    "Ahora se tiene un DataFrame limpio y con únicamente la información pertinente para el objetivo del estudio."
   ]
  },
  {
   "cell_type": "markdown",
   "id": "f019ab6d",
   "metadata": {},
   "source": [
    "# Exploración de los datos"
   ]
  },
  {
   "cell_type": "markdown",
   "id": "bd74ceba",
   "metadata": {},
   "source": [
    "##  4. ¿Qué categorías de videos tienen la mejor proporción (ratio) de “Vistas” / “Comentarios”?"
   ]
  },
  {
   "cell_type": "code",
   "execution_count": 158,
   "id": "4afb1897",
   "metadata": {},
   "outputs": [
    {
     "data": {
      "text/plain": [
       "17"
      ]
     },
     "execution_count": 158,
     "metadata": {},
     "output_type": "execute_result"
    }
   ],
   "source": [
    "videos[\"category\"].nunique()"
   ]
  },
  {
   "cell_type": "markdown",
   "id": "d82629fe",
   "metadata": {},
   "source": [
    "Partiendo de un **total de 17 categorías**, nos interesa obtener el **top 5** de categorías según este ratio."
   ]
  },
  {
   "cell_type": "code",
   "execution_count": 113,
   "id": "d8d5a745",
   "metadata": {},
   "outputs": [],
   "source": [
    "views = videos.groupby(\"category\")[\"views\"].mean()\n",
    "comments = videos[videos[\"comments_disabled\"] == False].groupby(\"category\")[\"comments\"].mean()"
   ]
  },
  {
   "cell_type": "code",
   "execution_count": 114,
   "id": "1ff1b9a5",
   "metadata": {},
   "outputs": [
    {
     "data": {
      "text/plain": [
       "category\n",
       "Autos & Vehicles    5.677843e+05\n",
       "Comedy              9.822481e+05\n",
       "Education           5.366028e+05\n",
       "Entertainment       1.016742e+06\n",
       "Film & Animation    1.425656e+06\n",
       "Name: views, dtype: float64"
      ]
     },
     "execution_count": 114,
     "metadata": {},
     "output_type": "execute_result"
    }
   ],
   "source": [
    "views.head()"
   ]
  },
  {
   "cell_type": "code",
   "execution_count": 115,
   "id": "6147901e",
   "metadata": {},
   "outputs": [
    {
     "data": {
      "text/plain": [
       "category\n",
       "Autos & Vehicles    2902.788571\n",
       "Comedy              5211.740298\n",
       "Education           3004.469636\n",
       "Entertainment       4180.797399\n",
       "Film & Animation    4890.456735\n",
       "Name: comments, dtype: float64"
      ]
     },
     "execution_count": 115,
     "metadata": {},
     "output_type": "execute_result"
    }
   ],
   "source": [
    "comments.head()"
   ]
  },
  {
   "cell_type": "markdown",
   "id": "5be4e8f3",
   "metadata": {},
   "source": [
    "### Primer método de exploración\n",
    "Lo primero que se realizará es obtener directamente el top 5 de categorías, para ello se creará un nuevo DataFrame, agrupado por categoría y que tenga como atributos las vistas y comentarios, que serán los promedios de vistas y comentarios para la categoría."
   ]
  },
  {
   "cell_type": "code",
   "execution_count": 171,
   "id": "515b6bd8",
   "metadata": {},
   "outputs": [],
   "source": [
    "videos_engagement_per_cat = pd.DataFrame([videos.groupby(\"category\")[\"views\"].mean(), videos.groupby(\"category\")[\"comments\"].mean()])"
   ]
  },
  {
   "cell_type": "code",
   "execution_count": 172,
   "id": "e48d925c",
   "metadata": {},
   "outputs": [
    {
     "data": {
      "text/html": [
       "<div>\n",
       "<style scoped>\n",
       "    .dataframe tbody tr th:only-of-type {\n",
       "        vertical-align: middle;\n",
       "    }\n",
       "\n",
       "    .dataframe tbody tr th {\n",
       "        vertical-align: top;\n",
       "    }\n",
       "\n",
       "    .dataframe thead th {\n",
       "        text-align: right;\n",
       "    }\n",
       "</style>\n",
       "<table border=\"1\" class=\"dataframe\">\n",
       "  <thead>\n",
       "    <tr style=\"text-align: right;\">\n",
       "      <th>category</th>\n",
       "      <th>Autos &amp; Vehicles</th>\n",
       "      <th>Comedy</th>\n",
       "      <th>Education</th>\n",
       "      <th>Entertainment</th>\n",
       "      <th>Film &amp; Animation</th>\n",
       "      <th>Gaming</th>\n",
       "      <th>Howto &amp; Style</th>\n",
       "      <th>Movies</th>\n",
       "      <th>Music</th>\n",
       "      <th>News &amp; Politics</th>\n",
       "      <th>Nonprofits &amp; Activism</th>\n",
       "      <th>People &amp; Blogs</th>\n",
       "      <th>Pets &amp; Animals</th>\n",
       "      <th>Science &amp; Technology</th>\n",
       "      <th>Shows</th>\n",
       "      <th>Sports</th>\n",
       "      <th>Travel &amp; Events</th>\n",
       "    </tr>\n",
       "  </thead>\n",
       "  <tbody>\n",
       "    <tr>\n",
       "      <th>views</th>\n",
       "      <td>567784.284091</td>\n",
       "      <td>982248.076637</td>\n",
       "      <td>536602.767911</td>\n",
       "      <td>1.016742e+06</td>\n",
       "      <td>1.425656e+06</td>\n",
       "      <td>923759.215030</td>\n",
       "      <td>781356.949651</td>\n",
       "      <td>2.853415e+06</td>\n",
       "      <td>3.531199e+06</td>\n",
       "      <td>388220.736475</td>\n",
       "      <td>1.562184e+06</td>\n",
       "      <td>786733.562272</td>\n",
       "      <td>638461.173442</td>\n",
       "      <td>1.233845e+06</td>\n",
       "      <td>577012.161290</td>\n",
       "      <td>1.075964e+06</td>\n",
       "      <td>366701.408163</td>\n",
       "    </tr>\n",
       "    <tr>\n",
       "      <th>comments</th>\n",
       "      <td>2886.295455</td>\n",
       "      <td>5199.301777</td>\n",
       "      <td>2995.374369</td>\n",
       "      <td>4.113932e+03</td>\n",
       "      <td>4.854655e+03</td>\n",
       "      <td>7191.136161</td>\n",
       "      <td>4158.057827</td>\n",
       "      <td>2.329833e+03</td>\n",
       "      <td>1.405173e+04</td>\n",
       "      <td>2226.445780</td>\n",
       "      <td>4.354785e+04</td>\n",
       "      <td>4098.667073</td>\n",
       "      <td>4941.837398</td>\n",
       "      <td>6.241748e+03</td>\n",
       "      <td>622.927419</td>\n",
       "      <td>2.749927e+03</td>\n",
       "      <td>1556.002551</td>\n",
       "    </tr>\n",
       "  </tbody>\n",
       "</table>\n",
       "</div>"
      ],
      "text/plain": [
       "category  Autos & Vehicles         Comedy      Education  Entertainment  \\\n",
       "views        567784.284091  982248.076637  536602.767911   1.016742e+06   \n",
       "comments       2886.295455    5199.301777    2995.374369   4.113932e+03   \n",
       "\n",
       "category  Film & Animation         Gaming  Howto & Style        Movies  \\\n",
       "views         1.425656e+06  923759.215030  781356.949651  2.853415e+06   \n",
       "comments      4.854655e+03    7191.136161    4158.057827  2.329833e+03   \n",
       "\n",
       "category         Music  News & Politics  Nonprofits & Activism  \\\n",
       "views     3.531199e+06    388220.736475           1.562184e+06   \n",
       "comments  1.405173e+04      2226.445780           4.354785e+04   \n",
       "\n",
       "category  People & Blogs  Pets & Animals  Science & Technology          Shows  \\\n",
       "views      786733.562272   638461.173442          1.233845e+06  577012.161290   \n",
       "comments     4098.667073     4941.837398          6.241748e+03     622.927419   \n",
       "\n",
       "category        Sports  Travel & Events  \n",
       "views     1.075964e+06    366701.408163  \n",
       "comments  2.749927e+03      1556.002551  "
      ]
     },
     "execution_count": 172,
     "metadata": {},
     "output_type": "execute_result"
    }
   ],
   "source": [
    "videos_engagement_per_cat.head()"
   ]
  },
  {
   "cell_type": "code",
   "execution_count": 176,
   "id": "46f49c3c",
   "metadata": {},
   "outputs": [],
   "source": [
    "videos_engagement_per_cat = videos_engagement_per_cat.transpose()"
   ]
  },
  {
   "cell_type": "code",
   "execution_count": 177,
   "id": "2d3edc4d",
   "metadata": {},
   "outputs": [
    {
     "data": {
      "text/html": [
       "<div>\n",
       "<style scoped>\n",
       "    .dataframe tbody tr th:only-of-type {\n",
       "        vertical-align: middle;\n",
       "    }\n",
       "\n",
       "    .dataframe tbody tr th {\n",
       "        vertical-align: top;\n",
       "    }\n",
       "\n",
       "    .dataframe thead th {\n",
       "        text-align: right;\n",
       "    }\n",
       "</style>\n",
       "<table border=\"1\" class=\"dataframe\">\n",
       "  <thead>\n",
       "    <tr style=\"text-align: right;\">\n",
       "      <th></th>\n",
       "      <th>views</th>\n",
       "      <th>comments</th>\n",
       "    </tr>\n",
       "    <tr>\n",
       "      <th>category</th>\n",
       "      <th></th>\n",
       "      <th></th>\n",
       "    </tr>\n",
       "  </thead>\n",
       "  <tbody>\n",
       "    <tr>\n",
       "      <th>Autos &amp; Vehicles</th>\n",
       "      <td>5.677843e+05</td>\n",
       "      <td>2886.295455</td>\n",
       "    </tr>\n",
       "    <tr>\n",
       "      <th>Comedy</th>\n",
       "      <td>9.822481e+05</td>\n",
       "      <td>5199.301777</td>\n",
       "    </tr>\n",
       "    <tr>\n",
       "      <th>Education</th>\n",
       "      <td>5.366028e+05</td>\n",
       "      <td>2995.374369</td>\n",
       "    </tr>\n",
       "    <tr>\n",
       "      <th>Entertainment</th>\n",
       "      <td>1.016742e+06</td>\n",
       "      <td>4113.932009</td>\n",
       "    </tr>\n",
       "    <tr>\n",
       "      <th>Film &amp; Animation</th>\n",
       "      <td>1.425656e+06</td>\n",
       "      <td>4854.655442</td>\n",
       "    </tr>\n",
       "  </tbody>\n",
       "</table>\n",
       "</div>"
      ],
      "text/plain": [
       "                         views     comments\n",
       "category                                   \n",
       "Autos & Vehicles  5.677843e+05  2886.295455\n",
       "Comedy            9.822481e+05  5199.301777\n",
       "Education         5.366028e+05  2995.374369\n",
       "Entertainment     1.016742e+06  4113.932009\n",
       "Film & Animation  1.425656e+06  4854.655442"
      ]
     },
     "execution_count": 177,
     "metadata": {},
     "output_type": "execute_result"
    }
   ],
   "source": [
    "videos_engagement_per_cat.head()"
   ]
  },
  {
   "cell_type": "markdown",
   "id": "04a6018a",
   "metadata": {},
   "source": [
    "Al DataFrame se el añade el atributo ratio, para poder ordenarlo según el objetivo de esta exploración."
   ]
  },
  {
   "cell_type": "code",
   "execution_count": 178,
   "id": "dfcdf52d",
   "metadata": {},
   "outputs": [],
   "source": [
    "videos_engagement_per_cat[\"ratio\"] = videos_engagement_per_cat[\"views\"]/videos_engagement_per_cat[\"comments\"]"
   ]
  },
  {
   "cell_type": "code",
   "execution_count": 182,
   "id": "41a2f1f0",
   "metadata": {},
   "outputs": [
    {
     "data": {
      "text/html": [
       "<div>\n",
       "<style scoped>\n",
       "    .dataframe tbody tr th:only-of-type {\n",
       "        vertical-align: middle;\n",
       "    }\n",
       "\n",
       "    .dataframe tbody tr th {\n",
       "        vertical-align: top;\n",
       "    }\n",
       "\n",
       "    .dataframe thead th {\n",
       "        text-align: right;\n",
       "    }\n",
       "</style>\n",
       "<table border=\"1\" class=\"dataframe\">\n",
       "  <thead>\n",
       "    <tr style=\"text-align: right;\">\n",
       "      <th></th>\n",
       "      <th>views</th>\n",
       "      <th>comments</th>\n",
       "      <th>ratio</th>\n",
       "    </tr>\n",
       "    <tr>\n",
       "      <th>category</th>\n",
       "      <th></th>\n",
       "      <th></th>\n",
       "      <th></th>\n",
       "    </tr>\n",
       "  </thead>\n",
       "  <tbody>\n",
       "    <tr>\n",
       "      <th>Movies</th>\n",
       "      <td>2.853415e+06</td>\n",
       "      <td>2329.833333</td>\n",
       "      <td>1224.729237</td>\n",
       "    </tr>\n",
       "    <tr>\n",
       "      <th>Shows</th>\n",
       "      <td>5.770122e+05</td>\n",
       "      <td>622.927419</td>\n",
       "      <td>926.291159</td>\n",
       "    </tr>\n",
       "    <tr>\n",
       "      <th>Sports</th>\n",
       "      <td>1.075964e+06</td>\n",
       "      <td>2749.927136</td>\n",
       "      <td>391.269860</td>\n",
       "    </tr>\n",
       "    <tr>\n",
       "      <th>Film &amp; Animation</th>\n",
       "      <td>1.425656e+06</td>\n",
       "      <td>4854.655442</td>\n",
       "      <td>293.667764</td>\n",
       "    </tr>\n",
       "    <tr>\n",
       "      <th>Music</th>\n",
       "      <td>3.531199e+06</td>\n",
       "      <td>14051.734048</td>\n",
       "      <td>251.299859</td>\n",
       "    </tr>\n",
       "  </tbody>\n",
       "</table>\n",
       "</div>"
      ],
      "text/plain": [
       "                         views      comments        ratio\n",
       "category                                                 \n",
       "Movies            2.853415e+06   2329.833333  1224.729237\n",
       "Shows             5.770122e+05    622.927419   926.291159\n",
       "Sports            1.075964e+06   2749.927136   391.269860\n",
       "Film & Animation  1.425656e+06   4854.655442   293.667764\n",
       "Music             3.531199e+06  14051.734048   251.299859"
      ]
     },
     "execution_count": 182,
     "metadata": {},
     "output_type": "execute_result"
    }
   ],
   "source": [
    "videos_engagement_per_cat.sort_values(by=[\"ratio\"], ascending=False).head()"
   ]
  },
  {
   "cell_type": "markdown",
   "id": "fb43694c",
   "metadata": {},
   "source": [
    "Se tiene el top 5 con los valores pertinentes para la información que se pretende obtener."
   ]
  },
  {
   "cell_type": "markdown",
   "id": "4bedbce6",
   "metadata": {},
   "source": [
    "### Gráfico de barras apilado"
   ]
  },
  {
   "cell_type": "code",
   "execution_count": 234,
   "id": "60f4a13c",
   "metadata": {},
   "outputs": [
    {
     "data": {
      "text/plain": [
       "<AxesSubplot:xlabel='category'>"
      ]
     },
     "execution_count": 234,
     "metadata": {},
     "output_type": "execute_result"
    },
    {
     "data": {
      "image/png": "[encoded data removed]",
      "text/plain": [
       "<Figure size 432x288 with 1 Axes>"
      ]
     },
     "metadata": {
      "needs_background": "light"
     },
     "output_type": "display_data"
    }
   ],
   "source": [
    "videos_engagement_per_cat.drop(\"ratio\", axis=1).plot.bar(stacked=True)"
   ]
  },
  {
   "cell_type": "markdown",
   "id": "ff36eb5e",
   "metadata": {},
   "source": [
    "Es difícil distinguir la magnitud de la cantidad de comentarios, se probará a continuación solo para el top 5."
   ]
  },
  {
   "cell_type": "code",
   "execution_count": 235,
   "id": "c61d496d",
   "metadata": {},
   "outputs": [
    {
     "data": {
      "text/plain": [
       "<AxesSubplot:xlabel='category'>"
      ]
     },
     "execution_count": 235,
     "metadata": {},
     "output_type": "execute_result"
    },
    {
     "data": {
      "image/png": "[encoded data removed]",
      "text/plain": [
       "<Figure size 432x288 with 1 Axes>"
      ]
     },
     "metadata": {
      "needs_background": "light"
     },
     "output_type": "display_data"
    }
   ],
   "source": [
    "videos_engagement_per_cat.sort_values(by=[\"ratio\"], ascending=False).head().drop(\"ratio\", axis=1).plot.bar(stacked=True)"
   ]
  },
  {
   "cell_type": "markdown",
   "id": "10ec1293",
   "metadata": {},
   "source": [
    "Si bien un gráfico de barras apilado sería ideal para un análisis de ratio, en este caso particular, la diferencia de magnitud entre las vistas y los comentarios es tan grande que no resulta una buena herramienta, por lo que se pasará a generar un gráfico de dispersión (scatterplot)."
   ]
  },
  {
   "cell_type": "markdown",
   "id": "5d162e8a",
   "metadata": {},
   "source": [
    "### Seaborn\n",
    "Primero se graficará la distribución de todas las categorías, tomando en el eje de las abcisas el valor de la cantidad de comentarios promedio y en el eje de las ordenadas el valor de la cantidad de vistas promedio. Se toman los promedios para reducir la dispersión de los resultados, manteniendo la integridad de los mismos."
   ]
  },
  {
   "cell_type": "code",
   "execution_count": 205,
   "id": "373f8505",
   "metadata": {},
   "outputs": [
    {
     "data": {
      "text/plain": [
       "<seaborn.axisgrid.JointGrid at 0x7fc3a2e99c10>"
      ]
     },
     "execution_count": 205,
     "metadata": {},
     "output_type": "execute_result"
    },
    {
     "data": {
      "image/png": "[encoded data removed]",
      "text/plain": [
       "<Figure size 432x432 with 3 Axes>"
      ]
     },
     "metadata": {
      "needs_background": "light"
     },
     "output_type": "display_data"
    }
   ],
   "source": [
    "sns.jointplot(x=\"comments\", y=\"views\", data=videos_engagement_per_cat, hue=\"category\", palette=\"coolwarm\")"
   ]
  },
  {
   "cell_type": "markdown",
   "id": "041408b4",
   "metadata": {},
   "source": [
    "Al realizarlo con la librería seaborn, se presentó un problema con el posicionamiento de la leyenda, por lo cual se prefirió realizarlo de manera más manual y personalizada con matplotlib."
   ]
  },
  {
   "cell_type": "markdown",
   "id": "5a1cf79e",
   "metadata": {},
   "source": [
    "### Matplotlib"
   ]
  },
  {
   "cell_type": "code",
   "execution_count": 320,
   "id": "2541c2fa",
   "metadata": {},
   "outputs": [
    {
     "data": {
      "image/png": "[encoded data removed]",
      "text/plain": [
       "<Figure size 864x360 with 1 Axes>"
      ]
     },
     "metadata": {
      "needs_background": "light"
     },
     "output_type": "display_data"
    }
   ],
   "source": [
    "fig = plt.figure(figsize=(12, 5))\n",
    "ax1 = fig.add_axes([0, 0, 1, 1])\n",
    "ax1.scatter(comments, views, color=\"blue\")\n",
    "ax1.set_xlabel(\"Comentarios\")\n",
    "ax1.set_ylabel(\"Vistas\")\n",
    "ax1.set_title(\"N° Vistas vs N° Comentarios\")\n",
    "\n",
    "for cat in comments.index:\n",
    "    plt.text(x=comments.loc[cat]*1.02, y=views.loc[cat]*1.02, s=f\"{cat} {views.loc[cat]/comments.loc[cat]:.0f}\",\n",
    "    fontdict=dict(color='green', size=8), bbox=dict(facecolor='yellow',alpha=0.3))"
   ]
  },
  {
   "cell_type": "markdown",
   "id": "729c6f39",
   "metadata": {},
   "source": [
    "La gráfica no muestra los resultados con la suficiente claridad, debido al estiramiento en el eje x producido por la categoría \"Nonprofits & Activism\". Sin embargo, podemos distinguir fácilmente que esta categoría es la que cuenta con el peor ratio vistas/comentarios, por lo que la podemos excluir de la visualización."
   ]
  },
  {
   "cell_type": "code",
   "execution_count": 319,
   "id": "367397fb",
   "metadata": {},
   "outputs": [
    {
     "data": {
      "image/png": "[encoded data removed]",
      "text/plain": [
       "<Figure size 864x360 with 1 Axes>"
      ]
     },
     "metadata": {
      "needs_background": "light"
     },
     "output_type": "display_data"
    }
   ],
   "source": [
    "fig = plt.figure(figsize=(12, 5))\n",
    "ax1 = fig.add_axes([0, 0, 1, 1])\n",
    "ax1.scatter(comments.drop(\"Nonprofits & Activism\"), views.drop(\"Nonprofits & Activism\"), color=\"orange\")\n",
    "ax1.set_xlabel(\"Comentarios\")\n",
    "ax1.set_ylabel(\"Vistas\")\n",
    "ax1.set_title(\"N° Vistas vs N° Comentarios\")\n",
    "\n",
    "for cat in comments.drop(\"Nonprofits & Activism\").index:\n",
    "    plt.text(x=comments.loc[cat]*1.01, y=views.loc[cat]*1.01, \n",
    "             s=f\"{cat}: {views.loc[cat]/comments.loc[cat]:.0f}\",\n",
    "             fontdict=dict(color='blue', size=9))"
   ]
  },
  {
   "cell_type": "markdown",
   "id": "1dd4bca6",
   "metadata": {},
   "source": [
    "Esta visualización nos provee de mayor claridad en la visualización, pero no la suficiente. Sin embargo, es posible ya identificar el top 5 de categorías según el ratio vistas/comentarios:\n",
    "1. Movies: 1225 vistas por comentario\n",
    "2. Shows: 926 vistas por comentario\n",
    "3. Sports: 389 vistas por comentario\n",
    "4. Film & Animation: 292 vistas por comentario\n",
    "5. Music: 250 vistas por comentario"
   ]
  },
  {
   "cell_type": "markdown",
   "id": "bade912f",
   "metadata": {},
   "source": [
    "Para poder apreciar mejor la distribución de las categorías con valores cercanos, se graficará sin la categoría Music."
   ]
  },
  {
   "cell_type": "code",
   "execution_count": 318,
   "id": "46620ae8",
   "metadata": {},
   "outputs": [
    {
     "data": {
      "image/png": "[encoded data removed]",
      "text/plain": [
       "<Figure size 864x360 with 1 Axes>"
      ]
     },
     "metadata": {
      "needs_background": "light"
     },
     "output_type": "display_data"
    }
   ],
   "source": [
    "fig = plt.figure(figsize=(12, 5))\n",
    "ax1 = fig.add_axes([0, 0, 1, 1])\n",
    "ax1.scatter(comments.drop([\"Nonprofits & Activism\", \"Music\"]), views.drop([\"Nonprofits & Activism\", \"Music\"]), color=\"orange\")\n",
    "ax1.set_xlabel(\"Comentarios\")\n",
    "ax1.set_ylabel(\"Vistas\")\n",
    "ax1.set_title(\"N° Vistas vs N° Comentarios\")\n",
    "\n",
    "for cat in comments.drop([\"Nonprofits & Activism\", \"Music\"]).index:\n",
    "    xmod = 1.01\n",
    "    ymod = 1\n",
    "    if cat == \"Autos & Vehicles\": ymod += 0.08\n",
    "    elif cat == \"News & Politics\": ymod -= 0.1\n",
    "    elif cat == \"Travel & Events\": \n",
    "        ymod += 0.18 \n",
    "        xmod -= 0.06\n",
    "    elif cat == \"People & Blogs\": ymod += 0.04\n",
    "    elif cat == \"Howto & Style\": ymod -= 0.05\n",
    "    elif cat == \"Gaming\": \n",
    "        xmod -= 0.05\n",
    "        ymod += 0.05\n",
    "    plt.text(x=comments.loc[cat]*xmod, y=views.loc[cat]*ymod,\n",
    "             s=f\"{cat}: {views.loc[cat]/comments.loc[cat]:.0f}\",\n",
    "             fontdict=dict(color='black', size=10))"
   ]
  },
  {
   "cell_type": "markdown",
   "id": "a6e90dca",
   "metadata": {},
   "source": [
    "A partir de este proceso, se ha visualizado gráficamente los ratios vistas/comentarios de todas las categorías y confirmado el top 5 obtenido al inicio."
   ]
  },
  {
   "cell_type": "markdown",
   "id": "87e5a559",
   "metadata": {},
   "source": [
    "### 5. ¿Cómo ha cambiado el volumen de los videos en tendencia a lo largo del tiempo?"
   ]
  },
  {
   "cell_type": "markdown",
   "id": "180c24eb",
   "metadata": {},
   "source": [
    "Primero, resulta necesario identificar el rango de fechas que comprende el dataset, para determinar la unidad temporal sobre la cual se partirá la data."
   ]
  },
  {
   "cell_type": "code",
   "execution_count": 238,
   "id": "1148c74d",
   "metadata": {},
   "outputs": [
    {
     "data": {
      "text/html": [
       "<div>\n",
       "<style scoped>\n",
       "    .dataframe tbody tr th:only-of-type {\n",
       "        vertical-align: middle;\n",
       "    }\n",
       "\n",
       "    .dataframe tbody tr th {\n",
       "        vertical-align: top;\n",
       "    }\n",
       "\n",
       "    .dataframe thead th {\n",
       "        text-align: right;\n",
       "    }\n",
       "</style>\n",
       "<table border=\"1\" class=\"dataframe\">\n",
       "  <thead>\n",
       "    <tr style=\"text-align: right;\">\n",
       "      <th></th>\n",
       "      <th>category</th>\n",
       "      <th>views</th>\n",
       "      <th>likes</th>\n",
       "      <th>dislikes</th>\n",
       "      <th>comments</th>\n",
       "      <th>comments_disabled</th>\n",
       "      <th>trending_date</th>\n",
       "    </tr>\n",
       "  </thead>\n",
       "  <tbody>\n",
       "    <tr>\n",
       "      <th>40880</th>\n",
       "      <td>Entertainment</td>\n",
       "      <td>107392.0</td>\n",
       "      <td>300.0</td>\n",
       "      <td>62.0</td>\n",
       "      <td>251.0</td>\n",
       "      <td>False</td>\n",
       "      <td>2018-06-14</td>\n",
       "    </tr>\n",
       "    <tr>\n",
       "      <th>40743</th>\n",
       "      <td>Entertainment</td>\n",
       "      <td>3854712.0</td>\n",
       "      <td>524135.0</td>\n",
       "      <td>14650.0</td>\n",
       "      <td>55735.0</td>\n",
       "      <td>False</td>\n",
       "      <td>2018-06-14</td>\n",
       "    </tr>\n",
       "    <tr>\n",
       "      <th>40753</th>\n",
       "      <td>News &amp; Politics</td>\n",
       "      <td>88173.0</td>\n",
       "      <td>937.0</td>\n",
       "      <td>41.0</td>\n",
       "      <td>299.0</td>\n",
       "      <td>False</td>\n",
       "      <td>2018-06-14</td>\n",
       "    </tr>\n",
       "    <tr>\n",
       "      <th>40752</th>\n",
       "      <td>Film &amp; Animation</td>\n",
       "      <td>93447.0</td>\n",
       "      <td>760.0</td>\n",
       "      <td>27.0</td>\n",
       "      <td>167.0</td>\n",
       "      <td>False</td>\n",
       "      <td>2018-06-14</td>\n",
       "    </tr>\n",
       "    <tr>\n",
       "      <th>40751</th>\n",
       "      <td>Howto &amp; Style</td>\n",
       "      <td>358052.0</td>\n",
       "      <td>21199.0</td>\n",
       "      <td>338.0</td>\n",
       "      <td>3239.0</td>\n",
       "      <td>False</td>\n",
       "      <td>2018-06-14</td>\n",
       "    </tr>\n",
       "  </tbody>\n",
       "</table>\n",
       "</div>"
      ],
      "text/plain": [
       "               category      views     likes  dislikes  comments  \\\n",
       "40880     Entertainment   107392.0     300.0      62.0     251.0   \n",
       "40743     Entertainment  3854712.0  524135.0   14650.0   55735.0   \n",
       "40753   News & Politics    88173.0     937.0      41.0     299.0   \n",
       "40752  Film & Animation    93447.0     760.0      27.0     167.0   \n",
       "40751     Howto & Style   358052.0   21199.0     338.0    3239.0   \n",
       "\n",
       "      comments_disabled trending_date  \n",
       "40880             False    2018-06-14  \n",
       "40743             False    2018-06-14  \n",
       "40753             False    2018-06-14  \n",
       "40752             False    2018-06-14  \n",
       "40751             False    2018-06-14  "
      ]
     },
     "execution_count": 238,
     "metadata": {},
     "output_type": "execute_result"
    }
   ],
   "source": [
    "videos.sort_values(by=\"trending_date\", ascending=False).head()"
   ]
  },
  {
   "cell_type": "code",
   "execution_count": 239,
   "id": "45ab566b",
   "metadata": {},
   "outputs": [
    {
     "data": {
      "text/html": [
       "<div>\n",
       "<style scoped>\n",
       "    .dataframe tbody tr th:only-of-type {\n",
       "        vertical-align: middle;\n",
       "    }\n",
       "\n",
       "    .dataframe tbody tr th {\n",
       "        vertical-align: top;\n",
       "    }\n",
       "\n",
       "    .dataframe thead th {\n",
       "        text-align: right;\n",
       "    }\n",
       "</style>\n",
       "<table border=\"1\" class=\"dataframe\">\n",
       "  <thead>\n",
       "    <tr style=\"text-align: right;\">\n",
       "      <th></th>\n",
       "      <th>category</th>\n",
       "      <th>views</th>\n",
       "      <th>likes</th>\n",
       "      <th>dislikes</th>\n",
       "      <th>comments</th>\n",
       "      <th>comments_disabled</th>\n",
       "      <th>trending_date</th>\n",
       "    </tr>\n",
       "  </thead>\n",
       "  <tbody>\n",
       "    <tr>\n",
       "      <th>0</th>\n",
       "      <td>Music</td>\n",
       "      <td>17158579.0</td>\n",
       "      <td>787425.0</td>\n",
       "      <td>43420.0</td>\n",
       "      <td>125882.0</td>\n",
       "      <td>False</td>\n",
       "      <td>2017-11-14</td>\n",
       "    </tr>\n",
       "    <tr>\n",
       "      <th>127</th>\n",
       "      <td>Pets &amp; Animals</td>\n",
       "      <td>152118.0</td>\n",
       "      <td>9642.0</td>\n",
       "      <td>129.0</td>\n",
       "      <td>6095.0</td>\n",
       "      <td>False</td>\n",
       "      <td>2017-11-14</td>\n",
       "    </tr>\n",
       "    <tr>\n",
       "      <th>128</th>\n",
       "      <td>News &amp; Politics</td>\n",
       "      <td>72253.0</td>\n",
       "      <td>1217.0</td>\n",
       "      <td>146.0</td>\n",
       "      <td>569.0</td>\n",
       "      <td>False</td>\n",
       "      <td>2017-11-14</td>\n",
       "    </tr>\n",
       "    <tr>\n",
       "      <th>129</th>\n",
       "      <td>News &amp; Politics</td>\n",
       "      <td>100394.0</td>\n",
       "      <td>1619.0</td>\n",
       "      <td>907.0</td>\n",
       "      <td>1595.0</td>\n",
       "      <td>False</td>\n",
       "      <td>2017-11-14</td>\n",
       "    </tr>\n",
       "    <tr>\n",
       "      <th>130</th>\n",
       "      <td>People &amp; Blogs</td>\n",
       "      <td>30001.0</td>\n",
       "      <td>221.0</td>\n",
       "      <td>7.0</td>\n",
       "      <td>101.0</td>\n",
       "      <td>False</td>\n",
       "      <td>2017-11-14</td>\n",
       "    </tr>\n",
       "  </tbody>\n",
       "</table>\n",
       "</div>"
      ],
      "text/plain": [
       "            category       views     likes  dislikes  comments  \\\n",
       "0              Music  17158579.0  787425.0   43420.0  125882.0   \n",
       "127   Pets & Animals    152118.0    9642.0     129.0    6095.0   \n",
       "128  News & Politics     72253.0    1217.0     146.0     569.0   \n",
       "129  News & Politics    100394.0    1619.0     907.0    1595.0   \n",
       "130   People & Blogs     30001.0     221.0       7.0     101.0   \n",
       "\n",
       "    comments_disabled trending_date  \n",
       "0               False    2017-11-14  \n",
       "127             False    2017-11-14  \n",
       "128             False    2017-11-14  \n",
       "129             False    2017-11-14  \n",
       "130             False    2017-11-14  "
      ]
     },
     "execution_count": 239,
     "metadata": {},
     "output_type": "execute_result"
    }
   ],
   "source": [
    "videos.sort_values(by=\"trending_date\").head()"
   ]
  },
  {
   "cell_type": "markdown",
   "id": "5a8e472b",
   "metadata": {},
   "source": [
    "Se concluye que el dataset contiene los videos en tendencia entre noviembre de 2017 y junio de 2018. Por ello, se considera oportuno realizar una división por mes, teniendo un total de 8 meses."
   ]
  },
  {
   "cell_type": "code",
   "execution_count": 290,
   "id": "7da166fb",
   "metadata": {},
   "outputs": [],
   "source": [
    "trending_videos_volume_over_time = videos[[\"category\", \"trending_date\"]]"
   ]
  },
  {
   "cell_type": "code",
   "execution_count": 245,
   "id": "8feca895",
   "metadata": {},
   "outputs": [],
   "source": [
    "import datetime"
   ]
  },
  {
   "cell_type": "code",
   "execution_count": 267,
   "id": "a6d76a8e",
   "metadata": {},
   "outputs": [
    {
     "data": {
      "text/plain": [
       "0   2017-11-14\n",
       "1   2017-11-14\n",
       "2   2017-11-14\n",
       "3   2017-11-14\n",
       "4   2017-11-14\n",
       "Name: trending_date, dtype: datetime64[ns]"
      ]
     },
     "execution_count": 267,
     "metadata": {},
     "output_type": "execute_result"
    }
   ],
   "source": [
    "trending_videos_volume_over_time[\"trending_date\"].head()"
   ]
  },
  {
   "cell_type": "markdown",
   "id": "fdb768cb",
   "metadata": {},
   "source": [
    "Se crea una nueva columna que almacena el mes en el cual el video estuvo en tendencias."
   ]
  },
  {
   "cell_type": "code",
   "execution_count": 291,
   "id": "0d3dd4be",
   "metadata": {},
   "outputs": [],
   "source": [
    "trending_videos_volume_over_time.loc[:,\"trending_month\"] = [m%12 + 1 for m in trending_videos_volume_over_time[\"trending_date\"].values.astype(\"datetime64[M]\").astype(int)]"
   ]
  },
  {
   "cell_type": "code",
   "execution_count": 292,
   "id": "f6945f82",
   "metadata": {},
   "outputs": [],
   "source": [
    "trending_videos_volume_over_time.loc[:,\"trending_year\"] = [y + 1970 for y in trending_videos_volume_over_time[\"trending_date\"].values.astype(\"datetime64[Y]\").astype(int)]"
   ]
  },
  {
   "cell_type": "code",
   "execution_count": 293,
   "id": "1a419692",
   "metadata": {},
   "outputs": [
    {
     "data": {
      "text/html": [
       "<div>\n",
       "<style scoped>\n",
       "    .dataframe tbody tr th:only-of-type {\n",
       "        vertical-align: middle;\n",
       "    }\n",
       "\n",
       "    .dataframe tbody tr th {\n",
       "        vertical-align: top;\n",
       "    }\n",
       "\n",
       "    .dataframe thead th {\n",
       "        text-align: right;\n",
       "    }\n",
       "</style>\n",
       "<table border=\"1\" class=\"dataframe\">\n",
       "  <thead>\n",
       "    <tr style=\"text-align: right;\">\n",
       "      <th></th>\n",
       "      <th>category</th>\n",
       "      <th>trending_date</th>\n",
       "      <th>trending_month</th>\n",
       "      <th>trending_year</th>\n",
       "    </tr>\n",
       "  </thead>\n",
       "  <tbody>\n",
       "    <tr>\n",
       "      <th>0</th>\n",
       "      <td>Music</td>\n",
       "      <td>2017-11-14</td>\n",
       "      <td>11</td>\n",
       "      <td>2017</td>\n",
       "    </tr>\n",
       "    <tr>\n",
       "      <th>1</th>\n",
       "      <td>Comedy</td>\n",
       "      <td>2017-11-14</td>\n",
       "      <td>11</td>\n",
       "      <td>2017</td>\n",
       "    </tr>\n",
       "    <tr>\n",
       "      <th>2</th>\n",
       "      <td>Comedy</td>\n",
       "      <td>2017-11-14</td>\n",
       "      <td>11</td>\n",
       "      <td>2017</td>\n",
       "    </tr>\n",
       "    <tr>\n",
       "      <th>3</th>\n",
       "      <td>Entertainment</td>\n",
       "      <td>2017-11-14</td>\n",
       "      <td>11</td>\n",
       "      <td>2017</td>\n",
       "    </tr>\n",
       "    <tr>\n",
       "      <th>4</th>\n",
       "      <td>Music</td>\n",
       "      <td>2017-11-14</td>\n",
       "      <td>11</td>\n",
       "      <td>2017</td>\n",
       "    </tr>\n",
       "  </tbody>\n",
       "</table>\n",
       "</div>"
      ],
      "text/plain": [
       "        category trending_date  trending_month  trending_year\n",
       "0          Music    2017-11-14              11           2017\n",
       "1         Comedy    2017-11-14              11           2017\n",
       "2         Comedy    2017-11-14              11           2017\n",
       "3  Entertainment    2017-11-14              11           2017\n",
       "4          Music    2017-11-14              11           2017"
      ]
     },
     "execution_count": 293,
     "metadata": {},
     "output_type": "execute_result"
    }
   ],
   "source": [
    "trending_videos_volume_over_time.head()"
   ]
  },
  {
   "cell_type": "code",
   "execution_count": 294,
   "id": "e7b6960f",
   "metadata": {},
   "outputs": [
    {
     "data": {
      "text/html": [
       "<div>\n",
       "<style scoped>\n",
       "    .dataframe tbody tr th:only-of-type {\n",
       "        vertical-align: middle;\n",
       "    }\n",
       "\n",
       "    .dataframe tbody tr th {\n",
       "        vertical-align: top;\n",
       "    }\n",
       "\n",
       "    .dataframe thead th {\n",
       "        text-align: right;\n",
       "    }\n",
       "</style>\n",
       "<table border=\"1\" class=\"dataframe\">\n",
       "  <thead>\n",
       "    <tr style=\"text-align: right;\">\n",
       "      <th></th>\n",
       "      <th>category</th>\n",
       "      <th>trending_date</th>\n",
       "      <th>trending_month</th>\n",
       "      <th>trending_year</th>\n",
       "    </tr>\n",
       "  </thead>\n",
       "  <tbody>\n",
       "    <tr>\n",
       "      <th>40880</th>\n",
       "      <td>Entertainment</td>\n",
       "      <td>2018-06-14</td>\n",
       "      <td>6</td>\n",
       "      <td>2018</td>\n",
       "    </tr>\n",
       "    <tr>\n",
       "      <th>40743</th>\n",
       "      <td>Entertainment</td>\n",
       "      <td>2018-06-14</td>\n",
       "      <td>6</td>\n",
       "      <td>2018</td>\n",
       "    </tr>\n",
       "    <tr>\n",
       "      <th>40753</th>\n",
       "      <td>News &amp; Politics</td>\n",
       "      <td>2018-06-14</td>\n",
       "      <td>6</td>\n",
       "      <td>2018</td>\n",
       "    </tr>\n",
       "    <tr>\n",
       "      <th>40752</th>\n",
       "      <td>Film &amp; Animation</td>\n",
       "      <td>2018-06-14</td>\n",
       "      <td>6</td>\n",
       "      <td>2018</td>\n",
       "    </tr>\n",
       "    <tr>\n",
       "      <th>40751</th>\n",
       "      <td>Howto &amp; Style</td>\n",
       "      <td>2018-06-14</td>\n",
       "      <td>6</td>\n",
       "      <td>2018</td>\n",
       "    </tr>\n",
       "  </tbody>\n",
       "</table>\n",
       "</div>"
      ],
      "text/plain": [
       "               category trending_date  trending_month  trending_year\n",
       "40880     Entertainment    2018-06-14               6           2018\n",
       "40743     Entertainment    2018-06-14               6           2018\n",
       "40753   News & Politics    2018-06-14               6           2018\n",
       "40752  Film & Animation    2018-06-14               6           2018\n",
       "40751     Howto & Style    2018-06-14               6           2018"
      ]
     },
     "execution_count": 294,
     "metadata": {},
     "output_type": "execute_result"
    }
   ],
   "source": [
    "trending_videos_volume_over_time.sort_values(by=\"trending_date\", ascending=False).head()"
   ]
  },
  {
   "cell_type": "code",
   "execution_count": 339,
   "id": "988c24df",
   "metadata": {},
   "outputs": [
    {
     "data": {
      "text/html": [
       "<div>\n",
       "<style scoped>\n",
       "    .dataframe tbody tr th:only-of-type {\n",
       "        vertical-align: middle;\n",
       "    }\n",
       "\n",
       "    .dataframe tbody tr th {\n",
       "        vertical-align: top;\n",
       "    }\n",
       "\n",
       "    .dataframe thead th {\n",
       "        text-align: right;\n",
       "    }\n",
       "</style>\n",
       "<table border=\"1\" class=\"dataframe\">\n",
       "  <thead>\n",
       "    <tr style=\"text-align: right;\">\n",
       "      <th></th>\n",
       "      <th></th>\n",
       "      <th>category</th>\n",
       "      <th>trending_date</th>\n",
       "    </tr>\n",
       "    <tr>\n",
       "      <th>trending_year</th>\n",
       "      <th>trending_month</th>\n",
       "      <th></th>\n",
       "      <th></th>\n",
       "    </tr>\n",
       "  </thead>\n",
       "  <tbody>\n",
       "    <tr>\n",
       "      <th rowspan=\"2\" valign=\"top\">2017</th>\n",
       "      <th>11</th>\n",
       "      <td>3398</td>\n",
       "      <td>3398</td>\n",
       "    </tr>\n",
       "    <tr>\n",
       "      <th>12</th>\n",
       "      <td>6193</td>\n",
       "      <td>6193</td>\n",
       "    </tr>\n",
       "    <tr>\n",
       "      <th rowspan=\"6\" valign=\"top\">2018</th>\n",
       "      <th>1</th>\n",
       "      <td>5780</td>\n",
       "      <td>5780</td>\n",
       "    </tr>\n",
       "    <tr>\n",
       "      <th>2</th>\n",
       "      <td>5550</td>\n",
       "      <td>5550</td>\n",
       "    </tr>\n",
       "    <tr>\n",
       "      <th>3</th>\n",
       "      <td>6186</td>\n",
       "      <td>6186</td>\n",
       "    </tr>\n",
       "    <tr>\n",
       "      <th>4</th>\n",
       "      <td>4787</td>\n",
       "      <td>4787</td>\n",
       "    </tr>\n",
       "    <tr>\n",
       "      <th>5</th>\n",
       "      <td>6160</td>\n",
       "      <td>6160</td>\n",
       "    </tr>\n",
       "    <tr>\n",
       "      <th>6</th>\n",
       "      <td>2800</td>\n",
       "      <td>2800</td>\n",
       "    </tr>\n",
       "  </tbody>\n",
       "</table>\n",
       "</div>"
      ],
      "text/plain": [
       "                              category  trending_date\n",
       "trending_year trending_month                         \n",
       "2017          11                  3398           3398\n",
       "              12                  6193           6193\n",
       "2018          1                   5780           5780\n",
       "              2                   5550           5550\n",
       "              3                   6186           6186\n",
       "              4                   4787           4787\n",
       "              5                   6160           6160\n",
       "              6                   2800           2800"
      ]
     },
     "execution_count": 339,
     "metadata": {},
     "output_type": "execute_result"
    }
   ],
   "source": [
    "trending_videos_volume_over_time.groupby([\"trending_year\", \"trending_month\"]).count()"
   ]
  },
  {
   "cell_type": "markdown",
   "id": "7e11e1a2",
   "metadata": {},
   "source": [
    "Se comprueba que el total de videos al sumar los subtotales por mes sea igual al total de videos del dataset limpio original (videos)."
   ]
  },
  {
   "cell_type": "code",
   "execution_count": 332,
   "id": "13c35cba",
   "metadata": {},
   "outputs": [],
   "source": [
    "assert sum(trending_videos_volume_over_time.groupby([\"trending_year\", \"trending_month\"])[\"trending_date\"].count()) == len(videos)"
   ]
  },
  {
   "cell_type": "code",
   "execution_count": 340,
   "id": "f5fe6bd9",
   "metadata": {},
   "outputs": [],
   "source": [
    "trending_videos_volume_per_month = trending_videos_volume_over_time.rename(columns={\"trending_year\":\"Año\", \"trending_month\":\"Mes\"}).groupby([\"Año\", \"Mes\"])[\"trending_date\"].count()"
   ]
  },
  {
   "cell_type": "code",
   "execution_count": 341,
   "id": "7acf2661",
   "metadata": {},
   "outputs": [
    {
     "data": {
      "text/plain": [
       "Año   Mes\n",
       "2017  11     3398\n",
       "      12     6193\n",
       "2018  1      5780\n",
       "      2      5550\n",
       "      3      6186\n",
       "      4      4787\n",
       "      5      6160\n",
       "      6      2800\n",
       "Name: trending_date, dtype: int64"
      ]
     },
     "execution_count": 341,
     "metadata": {},
     "output_type": "execute_result"
    }
   ],
   "source": [
    "trending_videos_volume_per_month"
   ]
  },
  {
   "cell_type": "code",
   "execution_count": 345,
   "id": "10c68a4c",
   "metadata": {},
   "outputs": [],
   "source": [
    "indeces = trending_videos_volume_over_time.rename(columns={\"trending_year\":\"Año\", \"trending_month\":\"Mes\"}).groupby([\"Año\", \"Mes\"])[\"trending_date\"].count().index"
   ]
  },
  {
   "cell_type": "code",
   "execution_count": 351,
   "id": "aa9a84cb",
   "metadata": {},
   "outputs": [
    {
     "data": {
      "text/plain": [
       "8"
      ]
     },
     "execution_count": 351,
     "metadata": {},
     "output_type": "execute_result"
    }
   ],
   "source": [
    "len(indeces)"
   ]
  },
  {
   "cell_type": "code",
   "execution_count": 357,
   "id": "ce308f1c",
   "metadata": {},
   "outputs": [
    {
     "data": {
      "image/png": "[encoded data removed]",
      "text/plain": [
       "<Figure size 864x288 with 1 Axes>"
      ]
     },
     "metadata": {},
     "output_type": "display_data"
    }
   ],
   "source": [
    "plt.figure(figsize=(12,4))\n",
    "trending_videos_volume_per_month.plot.bar()\n",
    "plt.ylabel(\"Cantidad de videos\")\n",
    "plt.title(\"Volumen de videos en tendencia según el mes y año\")\n",
    "plt.ylim([0, 7000])\n",
    "plt.style.use('ggplot')\n",
    "plt.rcParams[\"axes.grid.axis\"] =\"y\"\n",
    "plt.rcParams[\"axes.grid\"] = True\n",
    "for i in range(len(indeces)):\n",
    "    plt.text(x=i-0.15, y=trending_videos_volume_per_month.iloc[i]*1.03, s=trending_videos_volume_per_month.iloc[i])"
   ]
  },
  {
   "cell_type": "markdown",
   "id": "09499e54",
   "metadata": {},
   "source": [
    "Se determina que la tendencia no siguió una tendencia definida en el intervalo temporal comprendido en el dataset. Se puede afirmar que el mayor volumen de tendencia se presenta en Diciembre, seguido de cerca por Marzo y Mayo. Por otra parte, el volumen más bajo se registra en los meses de noviembre y junio."
   ]
  },
  {
   "cell_type": "markdown",
   "id": "672255b1",
   "metadata": {},
   "source": [
    "### Considerando muestra"
   ]
  },
  {
   "cell_type": "code",
   "execution_count": 293,
   "id": "4cc04184",
   "metadata": {},
   "outputs": [
    {
     "data": {
      "text/html": [
       "<div>\n",
       "<style scoped>\n",
       "    .dataframe tbody tr th:only-of-type {\n",
       "        vertical-align: middle;\n",
       "    }\n",
       "\n",
       "    .dataframe tbody tr th {\n",
       "        vertical-align: top;\n",
       "    }\n",
       "\n",
       "    .dataframe thead th {\n",
       "        text-align: right;\n",
       "    }\n",
       "</style>\n",
       "<table border=\"1\" class=\"dataframe\">\n",
       "  <thead>\n",
       "    <tr style=\"text-align: right;\">\n",
       "      <th></th>\n",
       "      <th>category</th>\n",
       "      <th>trending_date</th>\n",
       "      <th>trending_month</th>\n",
       "      <th>trending_year</th>\n",
       "    </tr>\n",
       "  </thead>\n",
       "  <tbody>\n",
       "    <tr>\n",
       "      <th>0</th>\n",
       "      <td>Music</td>\n",
       "      <td>2017-11-14</td>\n",
       "      <td>11</td>\n",
       "      <td>2017</td>\n",
       "    </tr>\n",
       "    <tr>\n",
       "      <th>1</th>\n",
       "      <td>Comedy</td>\n",
       "      <td>2017-11-14</td>\n",
       "      <td>11</td>\n",
       "      <td>2017</td>\n",
       "    </tr>\n",
       "    <tr>\n",
       "      <th>2</th>\n",
       "      <td>Comedy</td>\n",
       "      <td>2017-11-14</td>\n",
       "      <td>11</td>\n",
       "      <td>2017</td>\n",
       "    </tr>\n",
       "    <tr>\n",
       "      <th>3</th>\n",
       "      <td>Entertainment</td>\n",
       "      <td>2017-11-14</td>\n",
       "      <td>11</td>\n",
       "      <td>2017</td>\n",
       "    </tr>\n",
       "    <tr>\n",
       "      <th>4</th>\n",
       "      <td>Music</td>\n",
       "      <td>2017-11-14</td>\n",
       "      <td>11</td>\n",
       "      <td>2017</td>\n",
       "    </tr>\n",
       "  </tbody>\n",
       "</table>\n",
       "</div>"
      ],
      "text/plain": [
       "        category trending_date  trending_month  trending_year\n",
       "0          Music    2017-11-14              11           2017\n",
       "1         Comedy    2017-11-14              11           2017\n",
       "2         Comedy    2017-11-14              11           2017\n",
       "3  Entertainment    2017-11-14              11           2017\n",
       "4          Music    2017-11-14              11           2017"
      ]
     },
     "execution_count": 293,
     "metadata": {},
     "output_type": "execute_result"
    }
   ],
   "source": [
    "trending_videos_volume_over_time.head()"
   ]
  },
  {
   "cell_type": "code",
   "execution_count": 294,
   "id": "a99d0f3a",
   "metadata": {},
   "outputs": [
    {
     "data": {
      "text/html": [
       "<div>\n",
       "<style scoped>\n",
       "    .dataframe tbody tr th:only-of-type {\n",
       "        vertical-align: middle;\n",
       "    }\n",
       "\n",
       "    .dataframe tbody tr th {\n",
       "        vertical-align: top;\n",
       "    }\n",
       "\n",
       "    .dataframe thead th {\n",
       "        text-align: right;\n",
       "    }\n",
       "</style>\n",
       "<table border=\"1\" class=\"dataframe\">\n",
       "  <thead>\n",
       "    <tr style=\"text-align: right;\">\n",
       "      <th></th>\n",
       "      <th>category</th>\n",
       "      <th>trending_date</th>\n",
       "      <th>trending_month</th>\n",
       "      <th>trending_year</th>\n",
       "    </tr>\n",
       "  </thead>\n",
       "  <tbody>\n",
       "    <tr>\n",
       "      <th>40880</th>\n",
       "      <td>Entertainment</td>\n",
       "      <td>2018-06-14</td>\n",
       "      <td>6</td>\n",
       "      <td>2018</td>\n",
       "    </tr>\n",
       "    <tr>\n",
       "      <th>40743</th>\n",
       "      <td>Entertainment</td>\n",
       "      <td>2018-06-14</td>\n",
       "      <td>6</td>\n",
       "      <td>2018</td>\n",
       "    </tr>\n",
       "    <tr>\n",
       "      <th>40753</th>\n",
       "      <td>News &amp; Politics</td>\n",
       "      <td>2018-06-14</td>\n",
       "      <td>6</td>\n",
       "      <td>2018</td>\n",
       "    </tr>\n",
       "    <tr>\n",
       "      <th>40752</th>\n",
       "      <td>Film &amp; Animation</td>\n",
       "      <td>2018-06-14</td>\n",
       "      <td>6</td>\n",
       "      <td>2018</td>\n",
       "    </tr>\n",
       "    <tr>\n",
       "      <th>40751</th>\n",
       "      <td>Howto &amp; Style</td>\n",
       "      <td>2018-06-14</td>\n",
       "      <td>6</td>\n",
       "      <td>2018</td>\n",
       "    </tr>\n",
       "  </tbody>\n",
       "</table>\n",
       "</div>"
      ],
      "text/plain": [
       "               category trending_date  trending_month  trending_year\n",
       "40880     Entertainment    2018-06-14               6           2018\n",
       "40743     Entertainment    2018-06-14               6           2018\n",
       "40753   News & Politics    2018-06-14               6           2018\n",
       "40752  Film & Animation    2018-06-14               6           2018\n",
       "40751     Howto & Style    2018-06-14               6           2018"
      ]
     },
     "execution_count": 294,
     "metadata": {},
     "output_type": "execute_result"
    }
   ],
   "source": [
    "trending_videos_volume_over_time.sort_values(by=\"trending_date\", ascending=False).head()"
   ]
  },
  {
   "cell_type": "markdown",
   "id": "81dff33a",
   "metadata": {},
   "source": [
    "En las dos tablas previas se puede visualizar que la recopilación de datos para el mes inicial (noviembre 2017) y para el mes final (junio 2018), no están completas. Se recopiló los datos solo hasta la mitad del mes. Por ello, el volumen de videos es notoriamente menor en ambos meses. Debido a que se recopiló en ambos casos una cantidad de días que equivale aproximadamente a la mitad del mes, se duplicarán ambos valores."
   ]
  },
  {
   "cell_type": "code",
   "execution_count": 358,
   "id": "0f125f60",
   "metadata": {},
   "outputs": [],
   "source": [
    "edited_trending_videos_volume_per_month = trending_videos_volume_per_month\n",
    "edited_trending_videos_volume_per_month.iloc[0] *= 2\n",
    "edited_trending_videos_volume_per_month.iloc[7] *= 2"
   ]
  },
  {
   "cell_type": "code",
   "execution_count": 360,
   "id": "784812b0",
   "metadata": {},
   "outputs": [
    {
     "data": {
      "image/png": "[encoded data removed]",
      "text/plain": [
       "<Figure size 864x288 with 1 Axes>"
      ]
     },
     "metadata": {},
     "output_type": "display_data"
    }
   ],
   "source": [
    "plt.figure(figsize=(12,4))\n",
    "edited_trending_videos_volume_per_month.plot.bar()\n",
    "plt.ylabel(\"Cantidad de videos\")\n",
    "plt.title(\"Volumen de videos en tendencia según el mes y año\")\n",
    "plt.ylim([0, 7500])\n",
    "plt.style.use('ggplot')\n",
    "plt.rcParams[\"axes.grid.axis\"] =\"y\"\n",
    "plt.rcParams[\"axes.grid\"] = True\n",
    "for i in range(len(indeces)):\n",
    "    plt.text(x=i-0.15, y=trending_videos_volume_per_month.iloc[i]*1.03, s=trending_videos_volume_per_month.iloc[i])"
   ]
  },
  {
   "cell_type": "markdown",
   "id": "a3f7fbeb",
   "metadata": {},
   "source": [
    "Con las modificaciones, sigue sin presentarse una tendencia clara con el paso del tiempo, pero se identifica a noviembre como mes con mayor volumen y a abril con el mes con menor volumen. Esto se verá de forma más clara en la siguiente tabla:"
   ]
  },
  {
   "cell_type": "code",
   "execution_count": 362,
   "id": "821158bb",
   "metadata": {},
   "outputs": [
    {
     "data": {
      "text/plain": [
       "Año   Mes\n",
       "2017  11     6796\n",
       "      12     6193\n",
       "2018  3      6186\n",
       "      5      6160\n",
       "      1      5780\n",
       "      6      5600\n",
       "      2      5550\n",
       "      4      4787\n",
       "Name: trending_date, dtype: int64"
      ]
     },
     "execution_count": 362,
     "metadata": {},
     "output_type": "execute_result"
    }
   ],
   "source": [
    "edited_trending_videos_volume_per_month.sort_values(ascending=False)"
   ]
  }
 ],
 "metadata": {
  "kernelspec": {
   "display_name": "Python 3 (ipykernel)",
   "language": "python",
   "name": "python3"
  },
  "language_info": {
   "codemirror_mode": {
    "name": "ipython",
    "version": 3
   },
   "file_extension": ".py",
   "mimetype": "text/x-python",
   "name": "python",
   "nbconvert_exporter": "python",
   "pygments_lexer": "ipython3",
   "version": "3.9.7"
  }
 },
 "nbformat": 4,
 "nbformat_minor": 5
}
