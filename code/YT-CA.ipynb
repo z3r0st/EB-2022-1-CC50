{
 "cells": [
  {
   "cell_type": "markdown",
   "id": "e21492ef",
   "metadata": {},
   "source": [
    "# Cargar los datos"
   ]
  },
  {
   "cell_type": "code",
   "execution_count": 1,
   "id": "91fe243d",
   "metadata": {},
   "outputs": [],
   "source": [
    "import pandas as pd, numpy as np"
   ]
  },
  {
   "cell_type": "code",
   "execution_count": 2,
   "id": "2feaefd9",
   "metadata": {},
   "outputs": [],
   "source": [
    "url = \"https://raw.githubusercontent.com/z3r0st/EB-2022-1-CC50/main/data/CAvideos_cc50.csv\"\n",
    "df = pd.read_csv(url)"
   ]
  },
  {
   "cell_type": "code",
   "execution_count": 3,
   "id": "2741bef7",
   "metadata": {},
   "outputs": [],
   "source": [
    "url = \"https://raw.githubusercontent.com/z3r0st/EB-2022-1-CC50/main/data/CA_category_id.json\"\n",
    "categories = pd.read_json(url)"
   ]
  },
  {
   "cell_type": "markdown",
   "id": "c1cfc085",
   "metadata": {},
   "source": [
    "# Inspección de los datos"
   ]
  },
  {
   "cell_type": "markdown",
   "id": "9f0a0682",
   "metadata": {},
   "source": [
    "## DataFrame Principal"
   ]
  },
  {
   "cell_type": "code",
   "execution_count": 4,
   "id": "ba03c351",
   "metadata": {},
   "outputs": [
    {
     "data": {
      "text/html": [
       "<div>\n",
       "<style scoped>\n",
       "    .dataframe tbody tr th:only-of-type {\n",
       "        vertical-align: middle;\n",
       "    }\n",
       "\n",
       "    .dataframe tbody tr th {\n",
       "        vertical-align: top;\n",
       "    }\n",
       "\n",
       "    .dataframe thead th {\n",
       "        text-align: right;\n",
       "    }\n",
       "</style>\n",
       "<table border=\"1\" class=\"dataframe\">\n",
       "  <thead>\n",
       "    <tr style=\"text-align: right;\">\n",
       "      <th></th>\n",
       "      <th>video_id</th>\n",
       "      <th>trending_date</th>\n",
       "      <th>title</th>\n",
       "      <th>channel_title</th>\n",
       "      <th>category_id</th>\n",
       "      <th>publish_time</th>\n",
       "      <th>tags</th>\n",
       "      <th>views</th>\n",
       "      <th>likes</th>\n",
       "      <th>dislikes</th>\n",
       "      <th>comment_count</th>\n",
       "      <th>thumbnail_link</th>\n",
       "      <th>comments_disabled</th>\n",
       "      <th>ratings_disabled</th>\n",
       "      <th>video_error_or_removed</th>\n",
       "      <th>description</th>\n",
       "      <th>state</th>\n",
       "      <th>lat</th>\n",
       "      <th>lon</th>\n",
       "      <th>geometry</th>\n",
       "    </tr>\n",
       "  </thead>\n",
       "  <tbody>\n",
       "    <tr>\n",
       "      <th>0</th>\n",
       "      <td>n1WpP7iowLc</td>\n",
       "      <td>17.14.11</td>\n",
       "      <td>Eminem - Walk On Water (Audio) ft. Beyoncé</td>\n",
       "      <td>EminemVEVO</td>\n",
       "      <td>10</td>\n",
       "      <td>2017-11-10T17:00:03.000Z</td>\n",
       "      <td>Eminem|\"Walk\"|\"On\"|\"Water\"|\"Aftermath/Shady/In...</td>\n",
       "      <td>17158579</td>\n",
       "      <td>787425</td>\n",
       "      <td>43420</td>\n",
       "      <td>125882</td>\n",
       "      <td>https://i.ytimg.com/vi/n1WpP7iowLc/default.jpg</td>\n",
       "      <td>False</td>\n",
       "      <td>False</td>\n",
       "      <td>False</td>\n",
       "      <td>Eminem's new track Walk on Water ft. Beyoncé i...</td>\n",
       "      <td>Manitoba</td>\n",
       "      <td>50.150025</td>\n",
       "      <td>-96.883322</td>\n",
       "      <td>POINT (-96.88332178 50.15002545)</td>\n",
       "    </tr>\n",
       "    <tr>\n",
       "      <th>1</th>\n",
       "      <td>0dBIkQ4Mz1M</td>\n",
       "      <td>17.14.11</td>\n",
       "      <td>PLUSH - Bad Unboxing Fan Mail</td>\n",
       "      <td>iDubbbzTV</td>\n",
       "      <td>23</td>\n",
       "      <td>2017-11-13T17:00:00.000Z</td>\n",
       "      <td>plush|\"bad unboxing\"|\"unboxing\"|\"fan mail\"|\"id...</td>\n",
       "      <td>1014651</td>\n",
       "      <td>127794</td>\n",
       "      <td>1688</td>\n",
       "      <td>13030</td>\n",
       "      <td>https://i.ytimg.com/vi/0dBIkQ4Mz1M/default.jpg</td>\n",
       "      <td>False</td>\n",
       "      <td>False</td>\n",
       "      <td>False</td>\n",
       "      <td>STill got a lot of packages. Probably will las...</td>\n",
       "      <td>British Columbia</td>\n",
       "      <td>49.099960</td>\n",
       "      <td>-116.516697</td>\n",
       "      <td>POINT (-116.516697 49.09996035)</td>\n",
       "    </tr>\n",
       "    <tr>\n",
       "      <th>2</th>\n",
       "      <td>5qpjK5DgCt4</td>\n",
       "      <td>17.14.11</td>\n",
       "      <td>Racist Superman | Rudy Mancuso, King Bach &amp; Le...</td>\n",
       "      <td>Rudy Mancuso</td>\n",
       "      <td>23</td>\n",
       "      <td>2017-11-12T19:05:24.000Z</td>\n",
       "      <td>racist superman|\"rudy\"|\"mancuso\"|\"king\"|\"bach\"...</td>\n",
       "      <td>3191434</td>\n",
       "      <td>146035</td>\n",
       "      <td>5339</td>\n",
       "      <td>8181</td>\n",
       "      <td>https://i.ytimg.com/vi/5qpjK5DgCt4/default.jpg</td>\n",
       "      <td>False</td>\n",
       "      <td>False</td>\n",
       "      <td>False</td>\n",
       "      <td>WATCH MY PREVIOUS VIDEO ▶ \\n\\nSUBSCRIBE ► http...</td>\n",
       "      <td>New Brunswick</td>\n",
       "      <td>45.267042</td>\n",
       "      <td>-66.076675</td>\n",
       "      <td>POINT (-66.07667505000001 45.26704185)</td>\n",
       "    </tr>\n",
       "    <tr>\n",
       "      <th>3</th>\n",
       "      <td>d380meD0W0M</td>\n",
       "      <td>17.14.11</td>\n",
       "      <td>I Dare You: GOING BALD!?</td>\n",
       "      <td>nigahiga</td>\n",
       "      <td>24</td>\n",
       "      <td>2017-11-12T18:01:41.000Z</td>\n",
       "      <td>ryan|\"higa\"|\"higatv\"|\"nigahiga\"|\"i dare you\"|\"...</td>\n",
       "      <td>2095828</td>\n",
       "      <td>132239</td>\n",
       "      <td>1989</td>\n",
       "      <td>17518</td>\n",
       "      <td>https://i.ytimg.com/vi/d380meD0W0M/default.jpg</td>\n",
       "      <td>False</td>\n",
       "      <td>False</td>\n",
       "      <td>False</td>\n",
       "      <td>I know it's been a while since we did this sho...</td>\n",
       "      <td>Saskatchewan</td>\n",
       "      <td>50.933311</td>\n",
       "      <td>-102.799989</td>\n",
       "      <td>POINT (-102.7999891 50.93331097)</td>\n",
       "    </tr>\n",
       "    <tr>\n",
       "      <th>4</th>\n",
       "      <td>2Vv-BfVoq4g</td>\n",
       "      <td>17.14.11</td>\n",
       "      <td>Ed Sheeran - Perfect (Official Music Video)</td>\n",
       "      <td>Ed Sheeran</td>\n",
       "      <td>10</td>\n",
       "      <td>2017-11-09T11:04:14.000Z</td>\n",
       "      <td>edsheeran|\"ed sheeran\"|\"acoustic\"|\"live\"|\"cove...</td>\n",
       "      <td>33523622</td>\n",
       "      <td>1634130</td>\n",
       "      <td>21082</td>\n",
       "      <td>85067</td>\n",
       "      <td>https://i.ytimg.com/vi/2Vv-BfVoq4g/default.jpg</td>\n",
       "      <td>False</td>\n",
       "      <td>False</td>\n",
       "      <td>False</td>\n",
       "      <td>🎧: https://ad.gt/yt-perfect\\n💰: https://atlant...</td>\n",
       "      <td>Alberta</td>\n",
       "      <td>53.016698</td>\n",
       "      <td>-112.816639</td>\n",
       "      <td>POINT (-112.8166386 53.01669802)</td>\n",
       "    </tr>\n",
       "  </tbody>\n",
       "</table>\n",
       "</div>"
      ],
      "text/plain": [
       "      video_id trending_date  \\\n",
       "0  n1WpP7iowLc      17.14.11   \n",
       "1  0dBIkQ4Mz1M      17.14.11   \n",
       "2  5qpjK5DgCt4      17.14.11   \n",
       "3  d380meD0W0M      17.14.11   \n",
       "4  2Vv-BfVoq4g      17.14.11   \n",
       "\n",
       "                                               title channel_title  \\\n",
       "0         Eminem - Walk On Water (Audio) ft. Beyoncé    EminemVEVO   \n",
       "1                      PLUSH - Bad Unboxing Fan Mail     iDubbbzTV   \n",
       "2  Racist Superman | Rudy Mancuso, King Bach & Le...  Rudy Mancuso   \n",
       "3                           I Dare You: GOING BALD!?      nigahiga   \n",
       "4        Ed Sheeran - Perfect (Official Music Video)    Ed Sheeran   \n",
       "\n",
       "   category_id              publish_time  \\\n",
       "0           10  2017-11-10T17:00:03.000Z   \n",
       "1           23  2017-11-13T17:00:00.000Z   \n",
       "2           23  2017-11-12T19:05:24.000Z   \n",
       "3           24  2017-11-12T18:01:41.000Z   \n",
       "4           10  2017-11-09T11:04:14.000Z   \n",
       "\n",
       "                                                tags     views    likes  \\\n",
       "0  Eminem|\"Walk\"|\"On\"|\"Water\"|\"Aftermath/Shady/In...  17158579   787425   \n",
       "1  plush|\"bad unboxing\"|\"unboxing\"|\"fan mail\"|\"id...   1014651   127794   \n",
       "2  racist superman|\"rudy\"|\"mancuso\"|\"king\"|\"bach\"...   3191434   146035   \n",
       "3  ryan|\"higa\"|\"higatv\"|\"nigahiga\"|\"i dare you\"|\"...   2095828   132239   \n",
       "4  edsheeran|\"ed sheeran\"|\"acoustic\"|\"live\"|\"cove...  33523622  1634130   \n",
       "\n",
       "   dislikes  comment_count                                  thumbnail_link  \\\n",
       "0     43420         125882  https://i.ytimg.com/vi/n1WpP7iowLc/default.jpg   \n",
       "1      1688          13030  https://i.ytimg.com/vi/0dBIkQ4Mz1M/default.jpg   \n",
       "2      5339           8181  https://i.ytimg.com/vi/5qpjK5DgCt4/default.jpg   \n",
       "3      1989          17518  https://i.ytimg.com/vi/d380meD0W0M/default.jpg   \n",
       "4     21082          85067  https://i.ytimg.com/vi/2Vv-BfVoq4g/default.jpg   \n",
       "\n",
       "   comments_disabled  ratings_disabled  video_error_or_removed  \\\n",
       "0              False             False                   False   \n",
       "1              False             False                   False   \n",
       "2              False             False                   False   \n",
       "3              False             False                   False   \n",
       "4              False             False                   False   \n",
       "\n",
       "                                         description             state  \\\n",
       "0  Eminem's new track Walk on Water ft. Beyoncé i...          Manitoba   \n",
       "1  STill got a lot of packages. Probably will las...  British Columbia   \n",
       "2  WATCH MY PREVIOUS VIDEO ▶ \\n\\nSUBSCRIBE ► http...     New Brunswick   \n",
       "3  I know it's been a while since we did this sho...      Saskatchewan   \n",
       "4  🎧: https://ad.gt/yt-perfect\\n💰: https://atlant...           Alberta   \n",
       "\n",
       "         lat         lon                                geometry  \n",
       "0  50.150025  -96.883322        POINT (-96.88332178 50.15002545)  \n",
       "1  49.099960 -116.516697         POINT (-116.516697 49.09996035)  \n",
       "2  45.267042  -66.076675  POINT (-66.07667505000001 45.26704185)  \n",
       "3  50.933311 -102.799989        POINT (-102.7999891 50.93331097)  \n",
       "4  53.016698 -112.816639        POINT (-112.8166386 53.01669802)  "
      ]
     },
     "execution_count": 4,
     "metadata": {},
     "output_type": "execute_result"
    }
   ],
   "source": [
    "df.head()"
   ]
  },
  {
   "cell_type": "code",
   "execution_count": 5,
   "id": "e3251136",
   "metadata": {},
   "outputs": [
    {
     "name": "stdout",
     "output_type": "stream",
     "text": [
      "<class 'pandas.core.frame.DataFrame'>\n",
      "RangeIndex: 40881 entries, 0 to 40880\n",
      "Data columns (total 20 columns):\n",
      " #   Column                  Non-Null Count  Dtype  \n",
      "---  ------                  --------------  -----  \n",
      " 0   video_id                40881 non-null  object \n",
      " 1   trending_date           40881 non-null  object \n",
      " 2   title                   40881 non-null  object \n",
      " 3   channel_title           40881 non-null  object \n",
      " 4   category_id             40881 non-null  int64  \n",
      " 5   publish_time            40881 non-null  object \n",
      " 6   tags                    40881 non-null  object \n",
      " 7   views                   40881 non-null  int64  \n",
      " 8   likes                   40881 non-null  int64  \n",
      " 9   dislikes                40881 non-null  int64  \n",
      " 10  comment_count           40881 non-null  int64  \n",
      " 11  thumbnail_link          40881 non-null  object \n",
      " 12  comments_disabled       40881 non-null  bool   \n",
      " 13  ratings_disabled        40881 non-null  bool   \n",
      " 14  video_error_or_removed  40881 non-null  bool   \n",
      " 15  description             39585 non-null  object \n",
      " 16  state                   40881 non-null  object \n",
      " 17  lat                     40881 non-null  float64\n",
      " 18  lon                     40881 non-null  float64\n",
      " 19  geometry                40881 non-null  object \n",
      "dtypes: bool(3), float64(2), int64(5), object(10)\n",
      "memory usage: 5.4+ MB\n"
     ]
    }
   ],
   "source": [
    "df.info()"
   ]
  },
  {
   "cell_type": "code",
   "execution_count": 6,
   "id": "965a1937",
   "metadata": {},
   "outputs": [
    {
     "data": {
      "text/plain": [
       "video_id                     0\n",
       "trending_date                0\n",
       "title                        0\n",
       "channel_title                0\n",
       "category_id                  0\n",
       "publish_time                 0\n",
       "tags                         0\n",
       "views                        0\n",
       "likes                        0\n",
       "dislikes                     0\n",
       "comment_count                0\n",
       "thumbnail_link               0\n",
       "comments_disabled            0\n",
       "ratings_disabled             0\n",
       "video_error_or_removed       0\n",
       "description               1296\n",
       "state                        0\n",
       "lat                          0\n",
       "lon                          0\n",
       "geometry                     0\n",
       "dtype: int64"
      ]
     },
     "execution_count": 6,
     "metadata": {},
     "output_type": "execute_result"
    }
   ],
   "source": [
    "df.isna().sum()"
   ]
  },
  {
   "cell_type": "markdown",
   "id": "c4b599a9",
   "metadata": {},
   "source": [
    "## Categorías"
   ]
  },
  {
   "cell_type": "code",
   "execution_count": 7,
   "id": "257dd04b",
   "metadata": {},
   "outputs": [
    {
     "data": {
      "text/html": [
       "<div>\n",
       "<style scoped>\n",
       "    .dataframe tbody tr th:only-of-type {\n",
       "        vertical-align: middle;\n",
       "    }\n",
       "\n",
       "    .dataframe tbody tr th {\n",
       "        vertical-align: top;\n",
       "    }\n",
       "\n",
       "    .dataframe thead th {\n",
       "        text-align: right;\n",
       "    }\n",
       "</style>\n",
       "<table border=\"1\" class=\"dataframe\">\n",
       "  <thead>\n",
       "    <tr style=\"text-align: right;\">\n",
       "      <th></th>\n",
       "      <th>kind</th>\n",
       "      <th>etag</th>\n",
       "      <th>items</th>\n",
       "    </tr>\n",
       "  </thead>\n",
       "  <tbody>\n",
       "    <tr>\n",
       "      <th>0</th>\n",
       "      <td>youtube#videoCategoryListResponse</td>\n",
       "      <td>\"ld9biNPKjAjgjV7EZ4EKeEGrhao/1v2mrzYSYG6onNLt2...</td>\n",
       "      <td>{'kind': 'youtube#videoCategory', 'etag': '\"ld...</td>\n",
       "    </tr>\n",
       "    <tr>\n",
       "      <th>1</th>\n",
       "      <td>youtube#videoCategoryListResponse</td>\n",
       "      <td>\"ld9biNPKjAjgjV7EZ4EKeEGrhao/1v2mrzYSYG6onNLt2...</td>\n",
       "      <td>{'kind': 'youtube#videoCategory', 'etag': '\"ld...</td>\n",
       "    </tr>\n",
       "    <tr>\n",
       "      <th>2</th>\n",
       "      <td>youtube#videoCategoryListResponse</td>\n",
       "      <td>\"ld9biNPKjAjgjV7EZ4EKeEGrhao/1v2mrzYSYG6onNLt2...</td>\n",
       "      <td>{'kind': 'youtube#videoCategory', 'etag': '\"ld...</td>\n",
       "    </tr>\n",
       "    <tr>\n",
       "      <th>3</th>\n",
       "      <td>youtube#videoCategoryListResponse</td>\n",
       "      <td>\"ld9biNPKjAjgjV7EZ4EKeEGrhao/1v2mrzYSYG6onNLt2...</td>\n",
       "      <td>{'kind': 'youtube#videoCategory', 'etag': '\"ld...</td>\n",
       "    </tr>\n",
       "    <tr>\n",
       "      <th>4</th>\n",
       "      <td>youtube#videoCategoryListResponse</td>\n",
       "      <td>\"ld9biNPKjAjgjV7EZ4EKeEGrhao/1v2mrzYSYG6onNLt2...</td>\n",
       "      <td>{'kind': 'youtube#videoCategory', 'etag': '\"ld...</td>\n",
       "    </tr>\n",
       "  </tbody>\n",
       "</table>\n",
       "</div>"
      ],
      "text/plain": [
       "                                kind  \\\n",
       "0  youtube#videoCategoryListResponse   \n",
       "1  youtube#videoCategoryListResponse   \n",
       "2  youtube#videoCategoryListResponse   \n",
       "3  youtube#videoCategoryListResponse   \n",
       "4  youtube#videoCategoryListResponse   \n",
       "\n",
       "                                                etag  \\\n",
       "0  \"ld9biNPKjAjgjV7EZ4EKeEGrhao/1v2mrzYSYG6onNLt2...   \n",
       "1  \"ld9biNPKjAjgjV7EZ4EKeEGrhao/1v2mrzYSYG6onNLt2...   \n",
       "2  \"ld9biNPKjAjgjV7EZ4EKeEGrhao/1v2mrzYSYG6onNLt2...   \n",
       "3  \"ld9biNPKjAjgjV7EZ4EKeEGrhao/1v2mrzYSYG6onNLt2...   \n",
       "4  \"ld9biNPKjAjgjV7EZ4EKeEGrhao/1v2mrzYSYG6onNLt2...   \n",
       "\n",
       "                                               items  \n",
       "0  {'kind': 'youtube#videoCategory', 'etag': '\"ld...  \n",
       "1  {'kind': 'youtube#videoCategory', 'etag': '\"ld...  \n",
       "2  {'kind': 'youtube#videoCategory', 'etag': '\"ld...  \n",
       "3  {'kind': 'youtube#videoCategory', 'etag': '\"ld...  \n",
       "4  {'kind': 'youtube#videoCategory', 'etag': '\"ld...  "
      ]
     },
     "execution_count": 7,
     "metadata": {},
     "output_type": "execute_result"
    }
   ],
   "source": [
    "categories.head()"
   ]
  },
  {
   "cell_type": "code",
   "execution_count": 8,
   "id": "6ce993b4",
   "metadata": {},
   "outputs": [
    {
     "data": {
      "text/plain": [
       "RangeIndex(start=0, stop=31, step=1)"
      ]
     },
     "execution_count": 8,
     "metadata": {},
     "output_type": "execute_result"
    }
   ],
   "source": [
    "categories.index"
   ]
  },
  {
   "cell_type": "code",
   "execution_count": 9,
   "id": "3306212e",
   "metadata": {},
   "outputs": [
    {
     "data": {
      "text/plain": [
       "Index(['kind', 'etag', 'items'], dtype='object')"
      ]
     },
     "execution_count": 9,
     "metadata": {},
     "output_type": "execute_result"
    }
   ],
   "source": [
    "categories.columns"
   ]
  },
  {
   "cell_type": "code",
   "execution_count": 10,
   "id": "9fb8606d",
   "metadata": {},
   "outputs": [
    {
     "data": {
      "text/plain": [
       "0    {'kind': 'youtube#videoCategory', 'etag': '\"ld...\n",
       "1    {'kind': 'youtube#videoCategory', 'etag': '\"ld...\n",
       "2    {'kind': 'youtube#videoCategory', 'etag': '\"ld...\n",
       "3    {'kind': 'youtube#videoCategory', 'etag': '\"ld...\n",
       "4    {'kind': 'youtube#videoCategory', 'etag': '\"ld...\n",
       "Name: items, dtype: object"
      ]
     },
     "execution_count": 10,
     "metadata": {},
     "output_type": "execute_result"
    }
   ],
   "source": [
    "categories[\"items\"].head()"
   ]
  },
  {
   "cell_type": "code",
   "execution_count": 11,
   "id": "a59c00e2",
   "metadata": {},
   "outputs": [
    {
     "name": "stdout",
     "output_type": "stream",
     "text": [
      "<class 'pandas.core.frame.DataFrame'>\n",
      "RangeIndex: 31 entries, 0 to 30\n",
      "Data columns (total 3 columns):\n",
      " #   Column  Non-Null Count  Dtype \n",
      "---  ------  --------------  ----- \n",
      " 0   kind    31 non-null     object\n",
      " 1   etag    31 non-null     object\n",
      " 2   items   31 non-null     object\n",
      "dtypes: object(3)\n",
      "memory usage: 872.0+ bytes\n"
     ]
    }
   ],
   "source": [
    "categories.info()"
   ]
  },
  {
   "cell_type": "code",
   "execution_count": 12,
   "id": "a1b624bc",
   "metadata": {
    "collapsed": true
   },
   "outputs": [
    {
     "data": {
      "text/plain": [
       "array([{'kind': 'youtube#videoCategory', 'etag': '\"ld9biNPKjAjgjV7EZ4EKeEGrhao/Xy1mB4_yLrHy_BmKmPBggty2mZQ\"', 'id': '1', 'snippet': {'channelId': 'UCBR8-60-B28hp2BmDPdntcQ', 'title': 'Film & Animation', 'assignable': True}},\n",
       "       {'kind': 'youtube#videoCategory', 'etag': '\"ld9biNPKjAjgjV7EZ4EKeEGrhao/UZ1oLIIz2dxIhO45ZTFR3a3NyTA\"', 'id': '2', 'snippet': {'channelId': 'UCBR8-60-B28hp2BmDPdntcQ', 'title': 'Autos & Vehicles', 'assignable': True}},\n",
       "       {'kind': 'youtube#videoCategory', 'etag': '\"ld9biNPKjAjgjV7EZ4EKeEGrhao/nqRIq97-xe5XRZTxbknKFVe5Lmg\"', 'id': '10', 'snippet': {'channelId': 'UCBR8-60-B28hp2BmDPdntcQ', 'title': 'Music', 'assignable': True}},\n",
       "       {'kind': 'youtube#videoCategory', 'etag': '\"ld9biNPKjAjgjV7EZ4EKeEGrhao/HwXKamM1Q20q9BN-oBJavSGkfDI\"', 'id': '15', 'snippet': {'channelId': 'UCBR8-60-B28hp2BmDPdntcQ', 'title': 'Pets & Animals', 'assignable': True}},\n",
       "       {'kind': 'youtube#videoCategory', 'etag': '\"ld9biNPKjAjgjV7EZ4EKeEGrhao/9GQMSRjrZdHeb1OEM1XVQ9zbGec\"', 'id': '17', 'snippet': {'channelId': 'UCBR8-60-B28hp2BmDPdntcQ', 'title': 'Sports', 'assignable': True}},\n",
       "       {'kind': 'youtube#videoCategory', 'etag': '\"ld9biNPKjAjgjV7EZ4EKeEGrhao/FJwVpGCVZ1yiJrqZbpqe68Sy_OE\"', 'id': '18', 'snippet': {'channelId': 'UCBR8-60-B28hp2BmDPdntcQ', 'title': 'Short Movies', 'assignable': False}},\n",
       "       {'kind': 'youtube#videoCategory', 'etag': '\"ld9biNPKjAjgjV7EZ4EKeEGrhao/M-3iD9dwK7YJCafRf_DkLN8CouA\"', 'id': '19', 'snippet': {'channelId': 'UCBR8-60-B28hp2BmDPdntcQ', 'title': 'Travel & Events', 'assignable': True}},\n",
       "       {'kind': 'youtube#videoCategory', 'etag': '\"ld9biNPKjAjgjV7EZ4EKeEGrhao/WmA0qYEfjWsAoyJFSw2zinhn2wM\"', 'id': '20', 'snippet': {'channelId': 'UCBR8-60-B28hp2BmDPdntcQ', 'title': 'Gaming', 'assignable': True}},\n",
       "       {'kind': 'youtube#videoCategory', 'etag': '\"ld9biNPKjAjgjV7EZ4EKeEGrhao/EapFaGYG7K0StIXVf8aba249tdM\"', 'id': '21', 'snippet': {'channelId': 'UCBR8-60-B28hp2BmDPdntcQ', 'title': 'Videoblogging', 'assignable': False}},\n",
       "       {'kind': 'youtube#videoCategory', 'etag': '\"ld9biNPKjAjgjV7EZ4EKeEGrhao/xId8RX7vRN8rqkbYZbNIytUQDRo\"', 'id': '22', 'snippet': {'channelId': 'UCBR8-60-B28hp2BmDPdntcQ', 'title': 'People & Blogs', 'assignable': True}},\n",
       "       {'kind': 'youtube#videoCategory', 'etag': '\"ld9biNPKjAjgjV7EZ4EKeEGrhao/G9LHzQmx44rX2S5yaga_Aqtwz8M\"', 'id': '23', 'snippet': {'channelId': 'UCBR8-60-B28hp2BmDPdntcQ', 'title': 'Comedy', 'assignable': True}},\n",
       "       {'kind': 'youtube#videoCategory', 'etag': '\"ld9biNPKjAjgjV7EZ4EKeEGrhao/UVB9oxX2Bvqa_w_y3vXSLVK5E_s\"', 'id': '24', 'snippet': {'channelId': 'UCBR8-60-B28hp2BmDPdntcQ', 'title': 'Entertainment', 'assignable': True}},\n",
       "       {'kind': 'youtube#videoCategory', 'etag': '\"ld9biNPKjAjgjV7EZ4EKeEGrhao/QiLK0ZIrFoORdk_g2l_XR_ECjDc\"', 'id': '25', 'snippet': {'channelId': 'UCBR8-60-B28hp2BmDPdntcQ', 'title': 'News & Politics', 'assignable': True}},\n",
       "       {'kind': 'youtube#videoCategory', 'etag': '\"ld9biNPKjAjgjV7EZ4EKeEGrhao/r6Ck6Z0_L0rG37VJQR200SGNA_w\"', 'id': '26', 'snippet': {'channelId': 'UCBR8-60-B28hp2BmDPdntcQ', 'title': 'Howto & Style', 'assignable': True}},\n",
       "       {'kind': 'youtube#videoCategory', 'etag': '\"ld9biNPKjAjgjV7EZ4EKeEGrhao/EoYkczo9I3RCf96RveKTOgOPkUM\"', 'id': '27', 'snippet': {'channelId': 'UCBR8-60-B28hp2BmDPdntcQ', 'title': 'Education', 'assignable': True}},\n",
       "       {'kind': 'youtube#videoCategory', 'etag': '\"ld9biNPKjAjgjV7EZ4EKeEGrhao/w5HjcTD82G_XA3xBctS30zS-JpQ\"', 'id': '28', 'snippet': {'channelId': 'UCBR8-60-B28hp2BmDPdntcQ', 'title': 'Science & Technology', 'assignable': True}},\n",
       "       {'kind': 'youtube#videoCategory', 'etag': '\"ld9biNPKjAjgjV7EZ4EKeEGrhao/lL7uWDr_071CHxifjYG1tJrp4Uo\"', 'id': '30', 'snippet': {'channelId': 'UCBR8-60-B28hp2BmDPdntcQ', 'title': 'Movies', 'assignable': False}},\n",
       "       {'kind': 'youtube#videoCategory', 'etag': '\"ld9biNPKjAjgjV7EZ4EKeEGrhao/WnuVfjO-PyFLO7NTRQIbrGE62nk\"', 'id': '31', 'snippet': {'channelId': 'UCBR8-60-B28hp2BmDPdntcQ', 'title': 'Anime/Animation', 'assignable': False}},\n",
       "       {'kind': 'youtube#videoCategory', 'etag': '\"ld9biNPKjAjgjV7EZ4EKeEGrhao/ctpH2hGA_UZ3volJT_FTlOg9M00\"', 'id': '32', 'snippet': {'channelId': 'UCBR8-60-B28hp2BmDPdntcQ', 'title': 'Action/Adventure', 'assignable': False}},\n",
       "       {'kind': 'youtube#videoCategory', 'etag': '\"ld9biNPKjAjgjV7EZ4EKeEGrhao/L0kR3-g1BAo5UD1PLVbQ7LkkDtQ\"', 'id': '33', 'snippet': {'channelId': 'UCBR8-60-B28hp2BmDPdntcQ', 'title': 'Classics', 'assignable': False}},\n",
       "       {'kind': 'youtube#videoCategory', 'etag': '\"ld9biNPKjAjgjV7EZ4EKeEGrhao/pUZOAC_s9sfiwar639qr_wAB-aI\"', 'id': '34', 'snippet': {'channelId': 'UCBR8-60-B28hp2BmDPdntcQ', 'title': 'Comedy', 'assignable': False}},\n",
       "       {'kind': 'youtube#videoCategory', 'etag': '\"ld9biNPKjAjgjV7EZ4EKeEGrhao/Xb5JLhtyNRN3AQq021Ds-OV50Jk\"', 'id': '35', 'snippet': {'channelId': 'UCBR8-60-B28hp2BmDPdntcQ', 'title': 'Documentary', 'assignable': False}},\n",
       "       {'kind': 'youtube#videoCategory', 'etag': '\"ld9biNPKjAjgjV7EZ4EKeEGrhao/u8WXzF4HIhtEi805__sqjuA4lEk\"', 'id': '36', 'snippet': {'channelId': 'UCBR8-60-B28hp2BmDPdntcQ', 'title': 'Drama', 'assignable': False}},\n",
       "       {'kind': 'youtube#videoCategory', 'etag': '\"ld9biNPKjAjgjV7EZ4EKeEGrhao/D04PP4Gr7wc4IV_O9G66Z4A8KWQ\"', 'id': '37', 'snippet': {'channelId': 'UCBR8-60-B28hp2BmDPdntcQ', 'title': 'Family', 'assignable': False}},\n",
       "       {'kind': 'youtube#videoCategory', 'etag': '\"ld9biNPKjAjgjV7EZ4EKeEGrhao/i5-_AceGXQCEEMWU0V8CcQm_vLQ\"', 'id': '38', 'snippet': {'channelId': 'UCBR8-60-B28hp2BmDPdntcQ', 'title': 'Foreign', 'assignable': False}},\n",
       "       {'kind': 'youtube#videoCategory', 'etag': '\"ld9biNPKjAjgjV7EZ4EKeEGrhao/rtlxd0zOixA9QHdIZB26-St5qgQ\"', 'id': '39', 'snippet': {'channelId': 'UCBR8-60-B28hp2BmDPdntcQ', 'title': 'Horror', 'assignable': False}},\n",
       "       {'kind': 'youtube#videoCategory', 'etag': '\"ld9biNPKjAjgjV7EZ4EKeEGrhao/N1TrDFLRppxZgBowCJfJCvh0Dpg\"', 'id': '40', 'snippet': {'channelId': 'UCBR8-60-B28hp2BmDPdntcQ', 'title': 'Sci-Fi/Fantasy', 'assignable': False}},\n",
       "       {'kind': 'youtube#videoCategory', 'etag': '\"ld9biNPKjAjgjV7EZ4EKeEGrhao/7UMGi6zRySqXopr_rv4sZq6Za2E\"', 'id': '41', 'snippet': {'channelId': 'UCBR8-60-B28hp2BmDPdntcQ', 'title': 'Thriller', 'assignable': False}},\n",
       "       {'kind': 'youtube#videoCategory', 'etag': '\"ld9biNPKjAjgjV7EZ4EKeEGrhao/RScXhi324h8usyIetreAVb-uKeM\"', 'id': '42', 'snippet': {'channelId': 'UCBR8-60-B28hp2BmDPdntcQ', 'title': 'Shorts', 'assignable': False}},\n",
       "       {'kind': 'youtube#videoCategory', 'etag': '\"ld9biNPKjAjgjV7EZ4EKeEGrhao/0n9MJVCDLpA8q7aiGVrFsuFsd0A\"', 'id': '43', 'snippet': {'channelId': 'UCBR8-60-B28hp2BmDPdntcQ', 'title': 'Shows', 'assignable': False}},\n",
       "       {'kind': 'youtube#videoCategory', 'etag': '\"ld9biNPKjAjgjV7EZ4EKeEGrhao/x5NxSf5fz8hn4loSN4rvhwzD_pY\"', 'id': '44', 'snippet': {'channelId': 'UCBR8-60-B28hp2BmDPdntcQ', 'title': 'Trailers', 'assignable': False}}],\n",
       "      dtype=object)"
      ]
     },
     "execution_count": 12,
     "metadata": {},
     "output_type": "execute_result"
    }
   ],
   "source": [
    "categories[\"items\"].values"
   ]
  },
  {
   "cell_type": "code",
   "execution_count": 13,
   "id": "80084b9b",
   "metadata": {
    "collapsed": true
   },
   "outputs": [
    {
     "data": {
      "text/plain": [
       "[{'kind': 'youtube#videoCategory',\n",
       "  'etag': '\"ld9biNPKjAjgjV7EZ4EKeEGrhao/Xy1mB4_yLrHy_BmKmPBggty2mZQ\"',\n",
       "  'id': '1',\n",
       "  'snippet': {'channelId': 'UCBR8-60-B28hp2BmDPdntcQ',\n",
       "   'title': 'Film & Animation',\n",
       "   'assignable': True}},\n",
       " {'kind': 'youtube#videoCategory',\n",
       "  'etag': '\"ld9biNPKjAjgjV7EZ4EKeEGrhao/UZ1oLIIz2dxIhO45ZTFR3a3NyTA\"',\n",
       "  'id': '2',\n",
       "  'snippet': {'channelId': 'UCBR8-60-B28hp2BmDPdntcQ',\n",
       "   'title': 'Autos & Vehicles',\n",
       "   'assignable': True}},\n",
       " {'kind': 'youtube#videoCategory',\n",
       "  'etag': '\"ld9biNPKjAjgjV7EZ4EKeEGrhao/nqRIq97-xe5XRZTxbknKFVe5Lmg\"',\n",
       "  'id': '10',\n",
       "  'snippet': {'channelId': 'UCBR8-60-B28hp2BmDPdntcQ',\n",
       "   'title': 'Music',\n",
       "   'assignable': True}},\n",
       " {'kind': 'youtube#videoCategory',\n",
       "  'etag': '\"ld9biNPKjAjgjV7EZ4EKeEGrhao/HwXKamM1Q20q9BN-oBJavSGkfDI\"',\n",
       "  'id': '15',\n",
       "  'snippet': {'channelId': 'UCBR8-60-B28hp2BmDPdntcQ',\n",
       "   'title': 'Pets & Animals',\n",
       "   'assignable': True}},\n",
       " {'kind': 'youtube#videoCategory',\n",
       "  'etag': '\"ld9biNPKjAjgjV7EZ4EKeEGrhao/9GQMSRjrZdHeb1OEM1XVQ9zbGec\"',\n",
       "  'id': '17',\n",
       "  'snippet': {'channelId': 'UCBR8-60-B28hp2BmDPdntcQ',\n",
       "   'title': 'Sports',\n",
       "   'assignable': True}},\n",
       " {'kind': 'youtube#videoCategory',\n",
       "  'etag': '\"ld9biNPKjAjgjV7EZ4EKeEGrhao/FJwVpGCVZ1yiJrqZbpqe68Sy_OE\"',\n",
       "  'id': '18',\n",
       "  'snippet': {'channelId': 'UCBR8-60-B28hp2BmDPdntcQ',\n",
       "   'title': 'Short Movies',\n",
       "   'assignable': False}},\n",
       " {'kind': 'youtube#videoCategory',\n",
       "  'etag': '\"ld9biNPKjAjgjV7EZ4EKeEGrhao/M-3iD9dwK7YJCafRf_DkLN8CouA\"',\n",
       "  'id': '19',\n",
       "  'snippet': {'channelId': 'UCBR8-60-B28hp2BmDPdntcQ',\n",
       "   'title': 'Travel & Events',\n",
       "   'assignable': True}},\n",
       " {'kind': 'youtube#videoCategory',\n",
       "  'etag': '\"ld9biNPKjAjgjV7EZ4EKeEGrhao/WmA0qYEfjWsAoyJFSw2zinhn2wM\"',\n",
       "  'id': '20',\n",
       "  'snippet': {'channelId': 'UCBR8-60-B28hp2BmDPdntcQ',\n",
       "   'title': 'Gaming',\n",
       "   'assignable': True}},\n",
       " {'kind': 'youtube#videoCategory',\n",
       "  'etag': '\"ld9biNPKjAjgjV7EZ4EKeEGrhao/EapFaGYG7K0StIXVf8aba249tdM\"',\n",
       "  'id': '21',\n",
       "  'snippet': {'channelId': 'UCBR8-60-B28hp2BmDPdntcQ',\n",
       "   'title': 'Videoblogging',\n",
       "   'assignable': False}},\n",
       " {'kind': 'youtube#videoCategory',\n",
       "  'etag': '\"ld9biNPKjAjgjV7EZ4EKeEGrhao/xId8RX7vRN8rqkbYZbNIytUQDRo\"',\n",
       "  'id': '22',\n",
       "  'snippet': {'channelId': 'UCBR8-60-B28hp2BmDPdntcQ',\n",
       "   'title': 'People & Blogs',\n",
       "   'assignable': True}},\n",
       " {'kind': 'youtube#videoCategory',\n",
       "  'etag': '\"ld9biNPKjAjgjV7EZ4EKeEGrhao/G9LHzQmx44rX2S5yaga_Aqtwz8M\"',\n",
       "  'id': '23',\n",
       "  'snippet': {'channelId': 'UCBR8-60-B28hp2BmDPdntcQ',\n",
       "   'title': 'Comedy',\n",
       "   'assignable': True}},\n",
       " {'kind': 'youtube#videoCategory',\n",
       "  'etag': '\"ld9biNPKjAjgjV7EZ4EKeEGrhao/UVB9oxX2Bvqa_w_y3vXSLVK5E_s\"',\n",
       "  'id': '24',\n",
       "  'snippet': {'channelId': 'UCBR8-60-B28hp2BmDPdntcQ',\n",
       "   'title': 'Entertainment',\n",
       "   'assignable': True}},\n",
       " {'kind': 'youtube#videoCategory',\n",
       "  'etag': '\"ld9biNPKjAjgjV7EZ4EKeEGrhao/QiLK0ZIrFoORdk_g2l_XR_ECjDc\"',\n",
       "  'id': '25',\n",
       "  'snippet': {'channelId': 'UCBR8-60-B28hp2BmDPdntcQ',\n",
       "   'title': 'News & Politics',\n",
       "   'assignable': True}},\n",
       " {'kind': 'youtube#videoCategory',\n",
       "  'etag': '\"ld9biNPKjAjgjV7EZ4EKeEGrhao/r6Ck6Z0_L0rG37VJQR200SGNA_w\"',\n",
       "  'id': '26',\n",
       "  'snippet': {'channelId': 'UCBR8-60-B28hp2BmDPdntcQ',\n",
       "   'title': 'Howto & Style',\n",
       "   'assignable': True}},\n",
       " {'kind': 'youtube#videoCategory',\n",
       "  'etag': '\"ld9biNPKjAjgjV7EZ4EKeEGrhao/EoYkczo9I3RCf96RveKTOgOPkUM\"',\n",
       "  'id': '27',\n",
       "  'snippet': {'channelId': 'UCBR8-60-B28hp2BmDPdntcQ',\n",
       "   'title': 'Education',\n",
       "   'assignable': True}},\n",
       " {'kind': 'youtube#videoCategory',\n",
       "  'etag': '\"ld9biNPKjAjgjV7EZ4EKeEGrhao/w5HjcTD82G_XA3xBctS30zS-JpQ\"',\n",
       "  'id': '28',\n",
       "  'snippet': {'channelId': 'UCBR8-60-B28hp2BmDPdntcQ',\n",
       "   'title': 'Science & Technology',\n",
       "   'assignable': True}},\n",
       " {'kind': 'youtube#videoCategory',\n",
       "  'etag': '\"ld9biNPKjAjgjV7EZ4EKeEGrhao/lL7uWDr_071CHxifjYG1tJrp4Uo\"',\n",
       "  'id': '30',\n",
       "  'snippet': {'channelId': 'UCBR8-60-B28hp2BmDPdntcQ',\n",
       "   'title': 'Movies',\n",
       "   'assignable': False}},\n",
       " {'kind': 'youtube#videoCategory',\n",
       "  'etag': '\"ld9biNPKjAjgjV7EZ4EKeEGrhao/WnuVfjO-PyFLO7NTRQIbrGE62nk\"',\n",
       "  'id': '31',\n",
       "  'snippet': {'channelId': 'UCBR8-60-B28hp2BmDPdntcQ',\n",
       "   'title': 'Anime/Animation',\n",
       "   'assignable': False}},\n",
       " {'kind': 'youtube#videoCategory',\n",
       "  'etag': '\"ld9biNPKjAjgjV7EZ4EKeEGrhao/ctpH2hGA_UZ3volJT_FTlOg9M00\"',\n",
       "  'id': '32',\n",
       "  'snippet': {'channelId': 'UCBR8-60-B28hp2BmDPdntcQ',\n",
       "   'title': 'Action/Adventure',\n",
       "   'assignable': False}},\n",
       " {'kind': 'youtube#videoCategory',\n",
       "  'etag': '\"ld9biNPKjAjgjV7EZ4EKeEGrhao/L0kR3-g1BAo5UD1PLVbQ7LkkDtQ\"',\n",
       "  'id': '33',\n",
       "  'snippet': {'channelId': 'UCBR8-60-B28hp2BmDPdntcQ',\n",
       "   'title': 'Classics',\n",
       "   'assignable': False}},\n",
       " {'kind': 'youtube#videoCategory',\n",
       "  'etag': '\"ld9biNPKjAjgjV7EZ4EKeEGrhao/pUZOAC_s9sfiwar639qr_wAB-aI\"',\n",
       "  'id': '34',\n",
       "  'snippet': {'channelId': 'UCBR8-60-B28hp2BmDPdntcQ',\n",
       "   'title': 'Comedy',\n",
       "   'assignable': False}},\n",
       " {'kind': 'youtube#videoCategory',\n",
       "  'etag': '\"ld9biNPKjAjgjV7EZ4EKeEGrhao/Xb5JLhtyNRN3AQq021Ds-OV50Jk\"',\n",
       "  'id': '35',\n",
       "  'snippet': {'channelId': 'UCBR8-60-B28hp2BmDPdntcQ',\n",
       "   'title': 'Documentary',\n",
       "   'assignable': False}},\n",
       " {'kind': 'youtube#videoCategory',\n",
       "  'etag': '\"ld9biNPKjAjgjV7EZ4EKeEGrhao/u8WXzF4HIhtEi805__sqjuA4lEk\"',\n",
       "  'id': '36',\n",
       "  'snippet': {'channelId': 'UCBR8-60-B28hp2BmDPdntcQ',\n",
       "   'title': 'Drama',\n",
       "   'assignable': False}},\n",
       " {'kind': 'youtube#videoCategory',\n",
       "  'etag': '\"ld9biNPKjAjgjV7EZ4EKeEGrhao/D04PP4Gr7wc4IV_O9G66Z4A8KWQ\"',\n",
       "  'id': '37',\n",
       "  'snippet': {'channelId': 'UCBR8-60-B28hp2BmDPdntcQ',\n",
       "   'title': 'Family',\n",
       "   'assignable': False}},\n",
       " {'kind': 'youtube#videoCategory',\n",
       "  'etag': '\"ld9biNPKjAjgjV7EZ4EKeEGrhao/i5-_AceGXQCEEMWU0V8CcQm_vLQ\"',\n",
       "  'id': '38',\n",
       "  'snippet': {'channelId': 'UCBR8-60-B28hp2BmDPdntcQ',\n",
       "   'title': 'Foreign',\n",
       "   'assignable': False}},\n",
       " {'kind': 'youtube#videoCategory',\n",
       "  'etag': '\"ld9biNPKjAjgjV7EZ4EKeEGrhao/rtlxd0zOixA9QHdIZB26-St5qgQ\"',\n",
       "  'id': '39',\n",
       "  'snippet': {'channelId': 'UCBR8-60-B28hp2BmDPdntcQ',\n",
       "   'title': 'Horror',\n",
       "   'assignable': False}},\n",
       " {'kind': 'youtube#videoCategory',\n",
       "  'etag': '\"ld9biNPKjAjgjV7EZ4EKeEGrhao/N1TrDFLRppxZgBowCJfJCvh0Dpg\"',\n",
       "  'id': '40',\n",
       "  'snippet': {'channelId': 'UCBR8-60-B28hp2BmDPdntcQ',\n",
       "   'title': 'Sci-Fi/Fantasy',\n",
       "   'assignable': False}},\n",
       " {'kind': 'youtube#videoCategory',\n",
       "  'etag': '\"ld9biNPKjAjgjV7EZ4EKeEGrhao/7UMGi6zRySqXopr_rv4sZq6Za2E\"',\n",
       "  'id': '41',\n",
       "  'snippet': {'channelId': 'UCBR8-60-B28hp2BmDPdntcQ',\n",
       "   'title': 'Thriller',\n",
       "   'assignable': False}},\n",
       " {'kind': 'youtube#videoCategory',\n",
       "  'etag': '\"ld9biNPKjAjgjV7EZ4EKeEGrhao/RScXhi324h8usyIetreAVb-uKeM\"',\n",
       "  'id': '42',\n",
       "  'snippet': {'channelId': 'UCBR8-60-B28hp2BmDPdntcQ',\n",
       "   'title': 'Shorts',\n",
       "   'assignable': False}},\n",
       " {'kind': 'youtube#videoCategory',\n",
       "  'etag': '\"ld9biNPKjAjgjV7EZ4EKeEGrhao/0n9MJVCDLpA8q7aiGVrFsuFsd0A\"',\n",
       "  'id': '43',\n",
       "  'snippet': {'channelId': 'UCBR8-60-B28hp2BmDPdntcQ',\n",
       "   'title': 'Shows',\n",
       "   'assignable': False}},\n",
       " {'kind': 'youtube#videoCategory',\n",
       "  'etag': '\"ld9biNPKjAjgjV7EZ4EKeEGrhao/x5NxSf5fz8hn4loSN4rvhwzD_pY\"',\n",
       "  'id': '44',\n",
       "  'snippet': {'channelId': 'UCBR8-60-B28hp2BmDPdntcQ',\n",
       "   'title': 'Trailers',\n",
       "   'assignable': False}}]"
      ]
     },
     "execution_count": 13,
     "metadata": {},
     "output_type": "execute_result"
    }
   ],
   "source": [
    "categories[\"items\"].values.tolist()"
   ]
  },
  {
   "cell_type": "markdown",
   "id": "487558f6",
   "metadata": {},
   "source": [
    "### Visualizar valores de la columna items"
   ]
  },
  {
   "cell_type": "code",
   "execution_count": 14,
   "id": "7a6a4c33",
   "metadata": {},
   "outputs": [],
   "source": [
    "import urllib.request, json"
   ]
  },
  {
   "cell_type": "code",
   "execution_count": 15,
   "id": "a7febec9",
   "metadata": {},
   "outputs": [],
   "source": [
    "url = \"https://raw.githubusercontent.com/z3r0st/EB-2022-1-CC50/main/data/CA_category_id.json\"                   \n",
    "with urllib.request.urlopen(url) as file:\n",
    "    cat_data = json.loads(file.read().decode())\n",
    "items = pd.json_normalize(cat_data, \"items\", record_prefix=\"item_\")"
   ]
  },
  {
   "cell_type": "code",
   "execution_count": 16,
   "id": "d3acf5bb",
   "metadata": {},
   "outputs": [
    {
     "data": {
      "text/html": [
       "<div>\n",
       "<style scoped>\n",
       "    .dataframe tbody tr th:only-of-type {\n",
       "        vertical-align: middle;\n",
       "    }\n",
       "\n",
       "    .dataframe tbody tr th {\n",
       "        vertical-align: top;\n",
       "    }\n",
       "\n",
       "    .dataframe thead th {\n",
       "        text-align: right;\n",
       "    }\n",
       "</style>\n",
       "<table border=\"1\" class=\"dataframe\">\n",
       "  <thead>\n",
       "    <tr style=\"text-align: right;\">\n",
       "      <th></th>\n",
       "      <th>item_kind</th>\n",
       "      <th>item_etag</th>\n",
       "      <th>item_id</th>\n",
       "      <th>item_snippet.channelId</th>\n",
       "      <th>item_snippet.title</th>\n",
       "      <th>item_snippet.assignable</th>\n",
       "    </tr>\n",
       "  </thead>\n",
       "  <tbody>\n",
       "    <tr>\n",
       "      <th>0</th>\n",
       "      <td>youtube#videoCategory</td>\n",
       "      <td>\"ld9biNPKjAjgjV7EZ4EKeEGrhao/Xy1mB4_yLrHy_BmKm...</td>\n",
       "      <td>1</td>\n",
       "      <td>UCBR8-60-B28hp2BmDPdntcQ</td>\n",
       "      <td>Film &amp; Animation</td>\n",
       "      <td>True</td>\n",
       "    </tr>\n",
       "    <tr>\n",
       "      <th>1</th>\n",
       "      <td>youtube#videoCategory</td>\n",
       "      <td>\"ld9biNPKjAjgjV7EZ4EKeEGrhao/UZ1oLIIz2dxIhO45Z...</td>\n",
       "      <td>2</td>\n",
       "      <td>UCBR8-60-B28hp2BmDPdntcQ</td>\n",
       "      <td>Autos &amp; Vehicles</td>\n",
       "      <td>True</td>\n",
       "    </tr>\n",
       "    <tr>\n",
       "      <th>2</th>\n",
       "      <td>youtube#videoCategory</td>\n",
       "      <td>\"ld9biNPKjAjgjV7EZ4EKeEGrhao/nqRIq97-xe5XRZTxb...</td>\n",
       "      <td>10</td>\n",
       "      <td>UCBR8-60-B28hp2BmDPdntcQ</td>\n",
       "      <td>Music</td>\n",
       "      <td>True</td>\n",
       "    </tr>\n",
       "    <tr>\n",
       "      <th>3</th>\n",
       "      <td>youtube#videoCategory</td>\n",
       "      <td>\"ld9biNPKjAjgjV7EZ4EKeEGrhao/HwXKamM1Q20q9BN-o...</td>\n",
       "      <td>15</td>\n",
       "      <td>UCBR8-60-B28hp2BmDPdntcQ</td>\n",
       "      <td>Pets &amp; Animals</td>\n",
       "      <td>True</td>\n",
       "    </tr>\n",
       "    <tr>\n",
       "      <th>4</th>\n",
       "      <td>youtube#videoCategory</td>\n",
       "      <td>\"ld9biNPKjAjgjV7EZ4EKeEGrhao/9GQMSRjrZdHeb1OEM...</td>\n",
       "      <td>17</td>\n",
       "      <td>UCBR8-60-B28hp2BmDPdntcQ</td>\n",
       "      <td>Sports</td>\n",
       "      <td>True</td>\n",
       "    </tr>\n",
       "  </tbody>\n",
       "</table>\n",
       "</div>"
      ],
      "text/plain": [
       "               item_kind                                          item_etag  \\\n",
       "0  youtube#videoCategory  \"ld9biNPKjAjgjV7EZ4EKeEGrhao/Xy1mB4_yLrHy_BmKm...   \n",
       "1  youtube#videoCategory  \"ld9biNPKjAjgjV7EZ4EKeEGrhao/UZ1oLIIz2dxIhO45Z...   \n",
       "2  youtube#videoCategory  \"ld9biNPKjAjgjV7EZ4EKeEGrhao/nqRIq97-xe5XRZTxb...   \n",
       "3  youtube#videoCategory  \"ld9biNPKjAjgjV7EZ4EKeEGrhao/HwXKamM1Q20q9BN-o...   \n",
       "4  youtube#videoCategory  \"ld9biNPKjAjgjV7EZ4EKeEGrhao/9GQMSRjrZdHeb1OEM...   \n",
       "\n",
       "  item_id    item_snippet.channelId item_snippet.title  \\\n",
       "0       1  UCBR8-60-B28hp2BmDPdntcQ   Film & Animation   \n",
       "1       2  UCBR8-60-B28hp2BmDPdntcQ   Autos & Vehicles   \n",
       "2      10  UCBR8-60-B28hp2BmDPdntcQ              Music   \n",
       "3      15  UCBR8-60-B28hp2BmDPdntcQ     Pets & Animals   \n",
       "4      17  UCBR8-60-B28hp2BmDPdntcQ             Sports   \n",
       "\n",
       "   item_snippet.assignable  \n",
       "0                     True  \n",
       "1                     True  \n",
       "2                     True  \n",
       "3                     True  \n",
       "4                     True  "
      ]
     },
     "execution_count": 16,
     "metadata": {},
     "output_type": "execute_result"
    }
   ],
   "source": [
    "items.head()"
   ]
  },
  {
   "cell_type": "markdown",
   "id": "65658fb3",
   "metadata": {},
   "source": [
    "# Pre-procesar los datos"
   ]
  },
  {
   "cell_type": "markdown",
   "id": "7938f868",
   "metadata": {},
   "source": [
    "## Añadir la información de categorías"
   ]
  },
  {
   "cell_type": "markdown",
   "id": "ec6c3dda",
   "metadata": {},
   "source": [
    "Se debe mofificar la estructura del DataFrame cat (categories) ya que se deben extraer los atributos anidados en \"items\" y posteriormente, aquellos anidados en \"snippet\".\n",
    "\n",
    "De esta forma se obtiene el DataFrame que tiene en cada fila la información de una categoría."
   ]
  },
  {
   "cell_type": "code",
   "execution_count": 17,
   "id": "03c8abff",
   "metadata": {},
   "outputs": [],
   "source": [
    "cat = pd.DataFrame(categories[\"items\"].values.tolist())\n",
    "cat[\"channelId\"] = pd.DataFrame(cat[\"snippet\"].values.tolist())[\"channelId\"]\n",
    "cat[\"title\"] = pd.DataFrame(cat[\"snippet\"].values.tolist())[\"title\"]\n",
    "cat[\"assignable\"] = pd.DataFrame(cat[\"snippet\"].values.tolist())[\"assignable\"]\n",
    "del cat[\"snippet\"]"
   ]
  },
  {
   "cell_type": "code",
   "execution_count": 18,
   "id": "4a55c1cf",
   "metadata": {},
   "outputs": [
    {
     "data": {
      "text/html": [
       "<div>\n",
       "<style scoped>\n",
       "    .dataframe tbody tr th:only-of-type {\n",
       "        vertical-align: middle;\n",
       "    }\n",
       "\n",
       "    .dataframe tbody tr th {\n",
       "        vertical-align: top;\n",
       "    }\n",
       "\n",
       "    .dataframe thead th {\n",
       "        text-align: right;\n",
       "    }\n",
       "</style>\n",
       "<table border=\"1\" class=\"dataframe\">\n",
       "  <thead>\n",
       "    <tr style=\"text-align: right;\">\n",
       "      <th></th>\n",
       "      <th>kind</th>\n",
       "      <th>etag</th>\n",
       "      <th>id</th>\n",
       "      <th>channelId</th>\n",
       "      <th>title</th>\n",
       "      <th>assignable</th>\n",
       "    </tr>\n",
       "  </thead>\n",
       "  <tbody>\n",
       "    <tr>\n",
       "      <th>0</th>\n",
       "      <td>youtube#videoCategory</td>\n",
       "      <td>\"ld9biNPKjAjgjV7EZ4EKeEGrhao/Xy1mB4_yLrHy_BmKm...</td>\n",
       "      <td>1</td>\n",
       "      <td>UCBR8-60-B28hp2BmDPdntcQ</td>\n",
       "      <td>Film &amp; Animation</td>\n",
       "      <td>True</td>\n",
       "    </tr>\n",
       "    <tr>\n",
       "      <th>1</th>\n",
       "      <td>youtube#videoCategory</td>\n",
       "      <td>\"ld9biNPKjAjgjV7EZ4EKeEGrhao/UZ1oLIIz2dxIhO45Z...</td>\n",
       "      <td>2</td>\n",
       "      <td>UCBR8-60-B28hp2BmDPdntcQ</td>\n",
       "      <td>Autos &amp; Vehicles</td>\n",
       "      <td>True</td>\n",
       "    </tr>\n",
       "    <tr>\n",
       "      <th>2</th>\n",
       "      <td>youtube#videoCategory</td>\n",
       "      <td>\"ld9biNPKjAjgjV7EZ4EKeEGrhao/nqRIq97-xe5XRZTxb...</td>\n",
       "      <td>10</td>\n",
       "      <td>UCBR8-60-B28hp2BmDPdntcQ</td>\n",
       "      <td>Music</td>\n",
       "      <td>True</td>\n",
       "    </tr>\n",
       "    <tr>\n",
       "      <th>3</th>\n",
       "      <td>youtube#videoCategory</td>\n",
       "      <td>\"ld9biNPKjAjgjV7EZ4EKeEGrhao/HwXKamM1Q20q9BN-o...</td>\n",
       "      <td>15</td>\n",
       "      <td>UCBR8-60-B28hp2BmDPdntcQ</td>\n",
       "      <td>Pets &amp; Animals</td>\n",
       "      <td>True</td>\n",
       "    </tr>\n",
       "    <tr>\n",
       "      <th>4</th>\n",
       "      <td>youtube#videoCategory</td>\n",
       "      <td>\"ld9biNPKjAjgjV7EZ4EKeEGrhao/9GQMSRjrZdHeb1OEM...</td>\n",
       "      <td>17</td>\n",
       "      <td>UCBR8-60-B28hp2BmDPdntcQ</td>\n",
       "      <td>Sports</td>\n",
       "      <td>True</td>\n",
       "    </tr>\n",
       "  </tbody>\n",
       "</table>\n",
       "</div>"
      ],
      "text/plain": [
       "                    kind                                               etag  \\\n",
       "0  youtube#videoCategory  \"ld9biNPKjAjgjV7EZ4EKeEGrhao/Xy1mB4_yLrHy_BmKm...   \n",
       "1  youtube#videoCategory  \"ld9biNPKjAjgjV7EZ4EKeEGrhao/UZ1oLIIz2dxIhO45Z...   \n",
       "2  youtube#videoCategory  \"ld9biNPKjAjgjV7EZ4EKeEGrhao/nqRIq97-xe5XRZTxb...   \n",
       "3  youtube#videoCategory  \"ld9biNPKjAjgjV7EZ4EKeEGrhao/HwXKamM1Q20q9BN-o...   \n",
       "4  youtube#videoCategory  \"ld9biNPKjAjgjV7EZ4EKeEGrhao/9GQMSRjrZdHeb1OEM...   \n",
       "\n",
       "   id                 channelId             title  assignable  \n",
       "0   1  UCBR8-60-B28hp2BmDPdntcQ  Film & Animation        True  \n",
       "1   2  UCBR8-60-B28hp2BmDPdntcQ  Autos & Vehicles        True  \n",
       "2  10  UCBR8-60-B28hp2BmDPdntcQ             Music        True  \n",
       "3  15  UCBR8-60-B28hp2BmDPdntcQ    Pets & Animals        True  \n",
       "4  17  UCBR8-60-B28hp2BmDPdntcQ            Sports        True  "
      ]
     },
     "execution_count": 18,
     "metadata": {},
     "output_type": "execute_result"
    }
   ],
   "source": [
    "cat.head()"
   ]
  },
  {
   "cell_type": "code",
   "execution_count": 19,
   "id": "5a906c73",
   "metadata": {},
   "outputs": [
    {
     "data": {
      "text/html": [
       "<div>\n",
       "<style scoped>\n",
       "    .dataframe tbody tr th:only-of-type {\n",
       "        vertical-align: middle;\n",
       "    }\n",
       "\n",
       "    .dataframe tbody tr th {\n",
       "        vertical-align: top;\n",
       "    }\n",
       "\n",
       "    .dataframe thead th {\n",
       "        text-align: right;\n",
       "    }\n",
       "</style>\n",
       "<table border=\"1\" class=\"dataframe\">\n",
       "  <thead>\n",
       "    <tr style=\"text-align: right;\">\n",
       "      <th></th>\n",
       "      <th>title</th>\n",
       "      <th>assignable</th>\n",
       "      <th>channelId</th>\n",
       "      <th>etag</th>\n",
       "    </tr>\n",
       "  </thead>\n",
       "  <tbody>\n",
       "    <tr>\n",
       "      <th>0</th>\n",
       "      <td>Film &amp; Animation</td>\n",
       "      <td>True</td>\n",
       "      <td>UCBR8-60-B28hp2BmDPdntcQ</td>\n",
       "      <td>\"ld9biNPKjAjgjV7EZ4EKeEGrhao/Xy1mB4_yLrHy_BmKm...</td>\n",
       "    </tr>\n",
       "    <tr>\n",
       "      <th>1</th>\n",
       "      <td>Autos &amp; Vehicles</td>\n",
       "      <td>True</td>\n",
       "      <td>UCBR8-60-B28hp2BmDPdntcQ</td>\n",
       "      <td>\"ld9biNPKjAjgjV7EZ4EKeEGrhao/UZ1oLIIz2dxIhO45Z...</td>\n",
       "    </tr>\n",
       "    <tr>\n",
       "      <th>2</th>\n",
       "      <td>Music</td>\n",
       "      <td>True</td>\n",
       "      <td>UCBR8-60-B28hp2BmDPdntcQ</td>\n",
       "      <td>\"ld9biNPKjAjgjV7EZ4EKeEGrhao/nqRIq97-xe5XRZTxb...</td>\n",
       "    </tr>\n",
       "    <tr>\n",
       "      <th>3</th>\n",
       "      <td>Pets &amp; Animals</td>\n",
       "      <td>True</td>\n",
       "      <td>UCBR8-60-B28hp2BmDPdntcQ</td>\n",
       "      <td>\"ld9biNPKjAjgjV7EZ4EKeEGrhao/HwXKamM1Q20q9BN-o...</td>\n",
       "    </tr>\n",
       "    <tr>\n",
       "      <th>4</th>\n",
       "      <td>Sports</td>\n",
       "      <td>True</td>\n",
       "      <td>UCBR8-60-B28hp2BmDPdntcQ</td>\n",
       "      <td>\"ld9biNPKjAjgjV7EZ4EKeEGrhao/9GQMSRjrZdHeb1OEM...</td>\n",
       "    </tr>\n",
       "  </tbody>\n",
       "</table>\n",
       "</div>"
      ],
      "text/plain": [
       "              title  assignable                 channelId  \\\n",
       "0  Film & Animation        True  UCBR8-60-B28hp2BmDPdntcQ   \n",
       "1  Autos & Vehicles        True  UCBR8-60-B28hp2BmDPdntcQ   \n",
       "2             Music        True  UCBR8-60-B28hp2BmDPdntcQ   \n",
       "3    Pets & Animals        True  UCBR8-60-B28hp2BmDPdntcQ   \n",
       "4            Sports        True  UCBR8-60-B28hp2BmDPdntcQ   \n",
       "\n",
       "                                                etag  \n",
       "0  \"ld9biNPKjAjgjV7EZ4EKeEGrhao/Xy1mB4_yLrHy_BmKm...  \n",
       "1  \"ld9biNPKjAjgjV7EZ4EKeEGrhao/UZ1oLIIz2dxIhO45Z...  \n",
       "2  \"ld9biNPKjAjgjV7EZ4EKeEGrhao/nqRIq97-xe5XRZTxb...  \n",
       "3  \"ld9biNPKjAjgjV7EZ4EKeEGrhao/HwXKamM1Q20q9BN-o...  \n",
       "4  \"ld9biNPKjAjgjV7EZ4EKeEGrhao/9GQMSRjrZdHeb1OEM...  "
      ]
     },
     "execution_count": 19,
     "metadata": {},
     "output_type": "execute_result"
    }
   ],
   "source": [
    "cat[[\"title\", \"assignable\", \"channelId\", \"etag\"]].head()"
   ]
  },
  {
   "cell_type": "code",
   "execution_count": 20,
   "id": "441d12cc",
   "metadata": {},
   "outputs": [],
   "source": [
    "cat.index = cat[\"id\"]\n",
    "# cat.set_index(\"id\")"
   ]
  },
  {
   "cell_type": "code",
   "execution_count": 21,
   "id": "3eabb559",
   "metadata": {},
   "outputs": [
    {
     "data": {
      "text/html": [
       "<div>\n",
       "<style scoped>\n",
       "    .dataframe tbody tr th:only-of-type {\n",
       "        vertical-align: middle;\n",
       "    }\n",
       "\n",
       "    .dataframe tbody tr th {\n",
       "        vertical-align: top;\n",
       "    }\n",
       "\n",
       "    .dataframe thead th {\n",
       "        text-align: right;\n",
       "    }\n",
       "</style>\n",
       "<table border=\"1\" class=\"dataframe\">\n",
       "  <thead>\n",
       "    <tr style=\"text-align: right;\">\n",
       "      <th></th>\n",
       "      <th>title</th>\n",
       "      <th>assignable</th>\n",
       "      <th>channelId</th>\n",
       "      <th>etag</th>\n",
       "    </tr>\n",
       "    <tr>\n",
       "      <th>id</th>\n",
       "      <th></th>\n",
       "      <th></th>\n",
       "      <th></th>\n",
       "      <th></th>\n",
       "    </tr>\n",
       "  </thead>\n",
       "  <tbody>\n",
       "    <tr>\n",
       "      <th>1</th>\n",
       "      <td>Film &amp; Animation</td>\n",
       "      <td>True</td>\n",
       "      <td>UCBR8-60-B28hp2BmDPdntcQ</td>\n",
       "      <td>\"ld9biNPKjAjgjV7EZ4EKeEGrhao/Xy1mB4_yLrHy_BmKm...</td>\n",
       "    </tr>\n",
       "    <tr>\n",
       "      <th>2</th>\n",
       "      <td>Autos &amp; Vehicles</td>\n",
       "      <td>True</td>\n",
       "      <td>UCBR8-60-B28hp2BmDPdntcQ</td>\n",
       "      <td>\"ld9biNPKjAjgjV7EZ4EKeEGrhao/UZ1oLIIz2dxIhO45Z...</td>\n",
       "    </tr>\n",
       "    <tr>\n",
       "      <th>10</th>\n",
       "      <td>Music</td>\n",
       "      <td>True</td>\n",
       "      <td>UCBR8-60-B28hp2BmDPdntcQ</td>\n",
       "      <td>\"ld9biNPKjAjgjV7EZ4EKeEGrhao/nqRIq97-xe5XRZTxb...</td>\n",
       "    </tr>\n",
       "    <tr>\n",
       "      <th>15</th>\n",
       "      <td>Pets &amp; Animals</td>\n",
       "      <td>True</td>\n",
       "      <td>UCBR8-60-B28hp2BmDPdntcQ</td>\n",
       "      <td>\"ld9biNPKjAjgjV7EZ4EKeEGrhao/HwXKamM1Q20q9BN-o...</td>\n",
       "    </tr>\n",
       "    <tr>\n",
       "      <th>17</th>\n",
       "      <td>Sports</td>\n",
       "      <td>True</td>\n",
       "      <td>UCBR8-60-B28hp2BmDPdntcQ</td>\n",
       "      <td>\"ld9biNPKjAjgjV7EZ4EKeEGrhao/9GQMSRjrZdHeb1OEM...</td>\n",
       "    </tr>\n",
       "  </tbody>\n",
       "</table>\n",
       "</div>"
      ],
      "text/plain": [
       "               title  assignable                 channelId  \\\n",
       "id                                                           \n",
       "1   Film & Animation        True  UCBR8-60-B28hp2BmDPdntcQ   \n",
       "2   Autos & Vehicles        True  UCBR8-60-B28hp2BmDPdntcQ   \n",
       "10             Music        True  UCBR8-60-B28hp2BmDPdntcQ   \n",
       "15    Pets & Animals        True  UCBR8-60-B28hp2BmDPdntcQ   \n",
       "17            Sports        True  UCBR8-60-B28hp2BmDPdntcQ   \n",
       "\n",
       "                                                 etag  \n",
       "id                                                     \n",
       "1   \"ld9biNPKjAjgjV7EZ4EKeEGrhao/Xy1mB4_yLrHy_BmKm...  \n",
       "2   \"ld9biNPKjAjgjV7EZ4EKeEGrhao/UZ1oLIIz2dxIhO45Z...  \n",
       "10  \"ld9biNPKjAjgjV7EZ4EKeEGrhao/nqRIq97-xe5XRZTxb...  \n",
       "15  \"ld9biNPKjAjgjV7EZ4EKeEGrhao/HwXKamM1Q20q9BN-o...  \n",
       "17  \"ld9biNPKjAjgjV7EZ4EKeEGrhao/9GQMSRjrZdHeb1OEM...  "
      ]
     },
     "execution_count": 21,
     "metadata": {},
     "output_type": "execute_result"
    }
   ],
   "source": [
    "cat[[\"title\", \"assignable\", \"channelId\", \"etag\"]].head()"
   ]
  },
  {
   "cell_type": "code",
   "execution_count": 22,
   "id": "befd5375",
   "metadata": {},
   "outputs": [],
   "source": [
    "cat = cat[[\"title\", \"assignable\", \"channelId\", \"etag\"]]"
   ]
  },
  {
   "cell_type": "code",
   "execution_count": 23,
   "id": "ae1cfdc2",
   "metadata": {},
   "outputs": [],
   "source": [
    "cat.index.names = [\"category_id\"]"
   ]
  },
  {
   "cell_type": "code",
   "execution_count": 24,
   "id": "416f26d7",
   "metadata": {},
   "outputs": [
    {
     "data": {
      "text/html": [
       "<div>\n",
       "<style scoped>\n",
       "    .dataframe tbody tr th:only-of-type {\n",
       "        vertical-align: middle;\n",
       "    }\n",
       "\n",
       "    .dataframe tbody tr th {\n",
       "        vertical-align: top;\n",
       "    }\n",
       "\n",
       "    .dataframe thead th {\n",
       "        text-align: right;\n",
       "    }\n",
       "</style>\n",
       "<table border=\"1\" class=\"dataframe\">\n",
       "  <thead>\n",
       "    <tr style=\"text-align: right;\">\n",
       "      <th></th>\n",
       "      <th>title</th>\n",
       "      <th>assignable</th>\n",
       "      <th>channelId</th>\n",
       "      <th>etag</th>\n",
       "    </tr>\n",
       "    <tr>\n",
       "      <th>category_id</th>\n",
       "      <th></th>\n",
       "      <th></th>\n",
       "      <th></th>\n",
       "      <th></th>\n",
       "    </tr>\n",
       "  </thead>\n",
       "  <tbody>\n",
       "    <tr>\n",
       "      <th>1</th>\n",
       "      <td>Film &amp; Animation</td>\n",
       "      <td>True</td>\n",
       "      <td>UCBR8-60-B28hp2BmDPdntcQ</td>\n",
       "      <td>\"ld9biNPKjAjgjV7EZ4EKeEGrhao/Xy1mB4_yLrHy_BmKm...</td>\n",
       "    </tr>\n",
       "    <tr>\n",
       "      <th>2</th>\n",
       "      <td>Autos &amp; Vehicles</td>\n",
       "      <td>True</td>\n",
       "      <td>UCBR8-60-B28hp2BmDPdntcQ</td>\n",
       "      <td>\"ld9biNPKjAjgjV7EZ4EKeEGrhao/UZ1oLIIz2dxIhO45Z...</td>\n",
       "    </tr>\n",
       "    <tr>\n",
       "      <th>10</th>\n",
       "      <td>Music</td>\n",
       "      <td>True</td>\n",
       "      <td>UCBR8-60-B28hp2BmDPdntcQ</td>\n",
       "      <td>\"ld9biNPKjAjgjV7EZ4EKeEGrhao/nqRIq97-xe5XRZTxb...</td>\n",
       "    </tr>\n",
       "    <tr>\n",
       "      <th>15</th>\n",
       "      <td>Pets &amp; Animals</td>\n",
       "      <td>True</td>\n",
       "      <td>UCBR8-60-B28hp2BmDPdntcQ</td>\n",
       "      <td>\"ld9biNPKjAjgjV7EZ4EKeEGrhao/HwXKamM1Q20q9BN-o...</td>\n",
       "    </tr>\n",
       "    <tr>\n",
       "      <th>17</th>\n",
       "      <td>Sports</td>\n",
       "      <td>True</td>\n",
       "      <td>UCBR8-60-B28hp2BmDPdntcQ</td>\n",
       "      <td>\"ld9biNPKjAjgjV7EZ4EKeEGrhao/9GQMSRjrZdHeb1OEM...</td>\n",
       "    </tr>\n",
       "  </tbody>\n",
       "</table>\n",
       "</div>"
      ],
      "text/plain": [
       "                        title  assignable                 channelId  \\\n",
       "category_id                                                           \n",
       "1            Film & Animation        True  UCBR8-60-B28hp2BmDPdntcQ   \n",
       "2            Autos & Vehicles        True  UCBR8-60-B28hp2BmDPdntcQ   \n",
       "10                      Music        True  UCBR8-60-B28hp2BmDPdntcQ   \n",
       "15             Pets & Animals        True  UCBR8-60-B28hp2BmDPdntcQ   \n",
       "17                     Sports        True  UCBR8-60-B28hp2BmDPdntcQ   \n",
       "\n",
       "                                                          etag  \n",
       "category_id                                                     \n",
       "1            \"ld9biNPKjAjgjV7EZ4EKeEGrhao/Xy1mB4_yLrHy_BmKm...  \n",
       "2            \"ld9biNPKjAjgjV7EZ4EKeEGrhao/UZ1oLIIz2dxIhO45Z...  \n",
       "10           \"ld9biNPKjAjgjV7EZ4EKeEGrhao/nqRIq97-xe5XRZTxb...  \n",
       "15           \"ld9biNPKjAjgjV7EZ4EKeEGrhao/HwXKamM1Q20q9BN-o...  \n",
       "17           \"ld9biNPKjAjgjV7EZ4EKeEGrhao/9GQMSRjrZdHeb1OEM...  "
      ]
     },
     "execution_count": 24,
     "metadata": {},
     "output_type": "execute_result"
    }
   ],
   "source": [
    "cat.head()"
   ]
  },
  {
   "cell_type": "markdown",
   "id": "f4a828ff",
   "metadata": {},
   "source": [
    "### Verificar duplicados"
   ]
  },
  {
   "cell_type": "code",
   "execution_count": 25,
   "id": "a0d93f05",
   "metadata": {},
   "outputs": [
    {
     "data": {
      "text/plain": [
       "30"
      ]
     },
     "execution_count": 25,
     "metadata": {},
     "output_type": "execute_result"
    }
   ],
   "source": [
    "cat[\"title\"].nunique()"
   ]
  },
  {
   "cell_type": "code",
   "execution_count": 26,
   "id": "73fff4dc",
   "metadata": {},
   "outputs": [
    {
     "data": {
      "text/plain": [
       "31"
      ]
     },
     "execution_count": 26,
     "metadata": {},
     "output_type": "execute_result"
    }
   ],
   "source": [
    "cat[\"title\"].count()"
   ]
  },
  {
   "cell_type": "code",
   "execution_count": 27,
   "id": "10ed6f91",
   "metadata": {},
   "outputs": [
    {
     "data": {
      "text/plain": [
       "array(['Film & Animation', 'Autos & Vehicles', 'Music', 'Pets & Animals',\n",
       "       'Sports', 'Short Movies', 'Travel & Events', 'Gaming',\n",
       "       'Videoblogging', 'People & Blogs', 'Comedy', 'Entertainment',\n",
       "       'News & Politics', 'Howto & Style', 'Education',\n",
       "       'Science & Technology', 'Movies', 'Anime/Animation',\n",
       "       'Action/Adventure', 'Classics', 'Documentary', 'Drama', 'Family',\n",
       "       'Foreign', 'Horror', 'Sci-Fi/Fantasy', 'Thriller', 'Shorts',\n",
       "       'Shows', 'Trailers'], dtype=object)"
      ]
     },
     "execution_count": 27,
     "metadata": {},
     "output_type": "execute_result"
    }
   ],
   "source": [
    "cat[\"title\"].unique()"
   ]
  },
  {
   "cell_type": "code",
   "execution_count": 28,
   "id": "b3a1a5b2",
   "metadata": {},
   "outputs": [
    {
     "data": {
      "text/plain": [
       "Comedy    2\n",
       "Name: title, dtype: int64"
      ]
     },
     "execution_count": 28,
     "metadata": {},
     "output_type": "execute_result"
    }
   ],
   "source": [
    "cat[\"title\"].value_counts()[cat[\"title\"].value_counts() > 1]"
   ]
  },
  {
   "cell_type": "code",
   "execution_count": 29,
   "id": "fec67784",
   "metadata": {},
   "outputs": [
    {
     "data": {
      "text/plain": [
       "category_id\n",
       "23    Comedy\n",
       "34    Comedy\n",
       "Name: title, dtype: object"
      ]
     },
     "execution_count": 29,
     "metadata": {},
     "output_type": "execute_result"
    }
   ],
   "source": [
    "cat[cat[\"title\"] == \"Comedy\"][\"title\"]"
   ]
  },
  {
   "cell_type": "markdown",
   "id": "7deec1b3",
   "metadata": {},
   "source": [
    "### Duplicados: Conclusión\n",
    "Los dos registros asociados a Comedy no tienen el mismo id, por lo que no es recomendable eliminar uno, ya que en el DataFrame principal pueden existir registros con cualquiera de los dos ids y en ambos casos deberán ser vinculados con la categoría \"Comedy\"."
   ]
  },
  {
   "cell_type": "markdown",
   "id": "c7922857",
   "metadata": {},
   "source": [
    "## Añadir el título de categoría al DF principal"
   ]
  },
  {
   "cell_type": "code",
   "execution_count": 30,
   "id": "517aab14",
   "metadata": {},
   "outputs": [],
   "source": [
    "cat_description = pd.DataFrame(cat[\"title\"], index=cat.index)"
   ]
  },
  {
   "cell_type": "code",
   "execution_count": 31,
   "id": "dad3b881",
   "metadata": {},
   "outputs": [
    {
     "data": {
      "text/html": [
       "<div>\n",
       "<style scoped>\n",
       "    .dataframe tbody tr th:only-of-type {\n",
       "        vertical-align: middle;\n",
       "    }\n",
       "\n",
       "    .dataframe tbody tr th {\n",
       "        vertical-align: top;\n",
       "    }\n",
       "\n",
       "    .dataframe thead th {\n",
       "        text-align: right;\n",
       "    }\n",
       "</style>\n",
       "<table border=\"1\" class=\"dataframe\">\n",
       "  <thead>\n",
       "    <tr style=\"text-align: right;\">\n",
       "      <th></th>\n",
       "      <th>title</th>\n",
       "    </tr>\n",
       "    <tr>\n",
       "      <th>category_id</th>\n",
       "      <th></th>\n",
       "    </tr>\n",
       "  </thead>\n",
       "  <tbody>\n",
       "    <tr>\n",
       "      <th>1</th>\n",
       "      <td>Film &amp; Animation</td>\n",
       "    </tr>\n",
       "    <tr>\n",
       "      <th>2</th>\n",
       "      <td>Autos &amp; Vehicles</td>\n",
       "    </tr>\n",
       "    <tr>\n",
       "      <th>10</th>\n",
       "      <td>Music</td>\n",
       "    </tr>\n",
       "    <tr>\n",
       "      <th>15</th>\n",
       "      <td>Pets &amp; Animals</td>\n",
       "    </tr>\n",
       "    <tr>\n",
       "      <th>17</th>\n",
       "      <td>Sports</td>\n",
       "    </tr>\n",
       "  </tbody>\n",
       "</table>\n",
       "</div>"
      ],
      "text/plain": [
       "                        title\n",
       "category_id                  \n",
       "1            Film & Animation\n",
       "2            Autos & Vehicles\n",
       "10                      Music\n",
       "15             Pets & Animals\n",
       "17                     Sports"
      ]
     },
     "execution_count": 31,
     "metadata": {},
     "output_type": "execute_result"
    }
   ],
   "source": [
    "cat_description.head()"
   ]
  },
  {
   "cell_type": "code",
   "execution_count": 32,
   "id": "7d9aa041",
   "metadata": {},
   "outputs": [
    {
     "name": "stdout",
     "output_type": "stream",
     "text": [
      "<class 'pandas.core.frame.DataFrame'>\n",
      "Index: 31 entries, 1 to 44\n",
      "Data columns (total 1 columns):\n",
      " #   Column  Non-Null Count  Dtype \n",
      "---  ------  --------------  ----- \n",
      " 0   title   31 non-null     object\n",
      "dtypes: object(1)\n",
      "memory usage: 496.0+ bytes\n"
     ]
    }
   ],
   "source": [
    "cat_description.info()"
   ]
  },
  {
   "cell_type": "code",
   "execution_count": 33,
   "id": "775e8090",
   "metadata": {},
   "outputs": [],
   "source": [
    "cat_description.index = cat_description.index.astype(int)"
   ]
  },
  {
   "cell_type": "code",
   "execution_count": 34,
   "id": "58fed148",
   "metadata": {},
   "outputs": [],
   "source": [
    "df[\"category_id\"] = df[\"category_id\"].astype(int)"
   ]
  },
  {
   "cell_type": "code",
   "execution_count": 35,
   "id": "5839eb12",
   "metadata": {},
   "outputs": [],
   "source": [
    "df = df.join(cat_description, how=\"left\", rsuffix=\"_category\", on=\"category_id\")"
   ]
  },
  {
   "cell_type": "code",
   "execution_count": 36,
   "id": "93d257f9",
   "metadata": {},
   "outputs": [],
   "source": [
    "# del df[\"title_category\"]"
   ]
  },
  {
   "cell_type": "code",
   "execution_count": 37,
   "id": "8ccb3dcd",
   "metadata": {},
   "outputs": [
    {
     "data": {
      "text/html": [
       "<div>\n",
       "<style scoped>\n",
       "    .dataframe tbody tr th:only-of-type {\n",
       "        vertical-align: middle;\n",
       "    }\n",
       "\n",
       "    .dataframe tbody tr th {\n",
       "        vertical-align: top;\n",
       "    }\n",
       "\n",
       "    .dataframe thead th {\n",
       "        text-align: right;\n",
       "    }\n",
       "</style>\n",
       "<table border=\"1\" class=\"dataframe\">\n",
       "  <thead>\n",
       "    <tr style=\"text-align: right;\">\n",
       "      <th></th>\n",
       "      <th>category_id</th>\n",
       "      <th>title_category</th>\n",
       "    </tr>\n",
       "  </thead>\n",
       "  <tbody>\n",
       "    <tr>\n",
       "      <th>0</th>\n",
       "      <td>10</td>\n",
       "      <td>Music</td>\n",
       "    </tr>\n",
       "    <tr>\n",
       "      <th>1</th>\n",
       "      <td>23</td>\n",
       "      <td>Comedy</td>\n",
       "    </tr>\n",
       "    <tr>\n",
       "      <th>2</th>\n",
       "      <td>23</td>\n",
       "      <td>Comedy</td>\n",
       "    </tr>\n",
       "    <tr>\n",
       "      <th>3</th>\n",
       "      <td>24</td>\n",
       "      <td>Entertainment</td>\n",
       "    </tr>\n",
       "    <tr>\n",
       "      <th>4</th>\n",
       "      <td>10</td>\n",
       "      <td>Music</td>\n",
       "    </tr>\n",
       "  </tbody>\n",
       "</table>\n",
       "</div>"
      ],
      "text/plain": [
       "   category_id title_category\n",
       "0           10          Music\n",
       "1           23         Comedy\n",
       "2           23         Comedy\n",
       "3           24  Entertainment\n",
       "4           10          Music"
      ]
     },
     "execution_count": 37,
     "metadata": {},
     "output_type": "execute_result"
    }
   ],
   "source": [
    "df[[\"category_id\", \"title_category\"]].head()"
   ]
  },
  {
   "cell_type": "markdown",
   "id": "5a26fce0",
   "metadata": {},
   "source": [
    "## Formatear las fechas correctamente (**limpieza**)"
   ]
  },
  {
   "cell_type": "code",
   "execution_count": 38,
   "id": "526bddc8",
   "metadata": {},
   "outputs": [
    {
     "data": {
      "text/html": [
       "<div>\n",
       "<style scoped>\n",
       "    .dataframe tbody tr th:only-of-type {\n",
       "        vertical-align: middle;\n",
       "    }\n",
       "\n",
       "    .dataframe tbody tr th {\n",
       "        vertical-align: top;\n",
       "    }\n",
       "\n",
       "    .dataframe thead th {\n",
       "        text-align: right;\n",
       "    }\n",
       "</style>\n",
       "<table border=\"1\" class=\"dataframe\">\n",
       "  <thead>\n",
       "    <tr style=\"text-align: right;\">\n",
       "      <th></th>\n",
       "      <th>trending_date</th>\n",
       "      <th>publish_time</th>\n",
       "    </tr>\n",
       "  </thead>\n",
       "  <tbody>\n",
       "    <tr>\n",
       "      <th>0</th>\n",
       "      <td>17.14.11</td>\n",
       "      <td>2017-11-10T17:00:03.000Z</td>\n",
       "    </tr>\n",
       "    <tr>\n",
       "      <th>1</th>\n",
       "      <td>17.14.11</td>\n",
       "      <td>2017-11-13T17:00:00.000Z</td>\n",
       "    </tr>\n",
       "    <tr>\n",
       "      <th>2</th>\n",
       "      <td>17.14.11</td>\n",
       "      <td>2017-11-12T19:05:24.000Z</td>\n",
       "    </tr>\n",
       "    <tr>\n",
       "      <th>3</th>\n",
       "      <td>17.14.11</td>\n",
       "      <td>2017-11-12T18:01:41.000Z</td>\n",
       "    </tr>\n",
       "    <tr>\n",
       "      <th>4</th>\n",
       "      <td>17.14.11</td>\n",
       "      <td>2017-11-09T11:04:14.000Z</td>\n",
       "    </tr>\n",
       "  </tbody>\n",
       "</table>\n",
       "</div>"
      ],
      "text/plain": [
       "  trending_date              publish_time\n",
       "0      17.14.11  2017-11-10T17:00:03.000Z\n",
       "1      17.14.11  2017-11-13T17:00:00.000Z\n",
       "2      17.14.11  2017-11-12T19:05:24.000Z\n",
       "3      17.14.11  2017-11-12T18:01:41.000Z\n",
       "4      17.14.11  2017-11-09T11:04:14.000Z"
      ]
     },
     "execution_count": 38,
     "metadata": {},
     "output_type": "execute_result"
    }
   ],
   "source": [
    "df[[\"trending_date\", \"publish_time\"]].head()"
   ]
  },
  {
   "cell_type": "code",
   "execution_count": 39,
   "id": "145deac7",
   "metadata": {},
   "outputs": [
    {
     "name": "stdout",
     "output_type": "stream",
     "text": [
      "<class 'pandas.core.frame.DataFrame'>\n",
      "RangeIndex: 40881 entries, 0 to 40880\n",
      "Data columns (total 2 columns):\n",
      " #   Column         Non-Null Count  Dtype \n",
      "---  ------         --------------  ----- \n",
      " 0   trending_date  40881 non-null  object\n",
      " 1   publish_time   40881 non-null  object\n",
      "dtypes: object(2)\n",
      "memory usage: 638.9+ KB\n"
     ]
    }
   ],
   "source": [
    "df[[\"trending_date\", \"publish_time\"]].info()"
   ]
  },
  {
   "cell_type": "markdown",
   "id": "ce091862",
   "metadata": {},
   "source": [
    "Se identifican estos dos formatos divergentes:\n",
    "* **trending_date**: YY.DD.MM\n",
    "* **publish_time**: YYYY-MM-DD**T**00:00:00.000Z"
   ]
  },
  {
   "cell_type": "markdown",
   "id": "71ab88ff",
   "metadata": {},
   "source": [
    "Se modificarán ambos registros a un único formato: **DD-MM-YYYY**"
   ]
  },
  {
   "cell_type": "markdown",
   "id": "88855a88",
   "metadata": {},
   "source": [
    "También se identifica que las columnas almacenan datos de tipo **objeto**, que deberán ser modificados a tipo **datetime**."
   ]
  },
  {
   "cell_type": "markdown",
   "id": "e40f7ccf",
   "metadata": {},
   "source": [
    "### Tests (not in-place)"
   ]
  },
  {
   "cell_type": "code",
   "execution_count": 40,
   "id": "f33130ae",
   "metadata": {},
   "outputs": [
    {
     "data": {
      "text/plain": [
       "0    14-11-2017\n",
       "1    14-11-2017\n",
       "2    14-11-2017\n",
       "3    14-11-2017\n",
       "4    14-11-2017\n",
       "Name: trending_date, dtype: object"
      ]
     },
     "execution_count": 40,
     "metadata": {},
     "output_type": "execute_result"
    }
   ],
   "source": [
    "df[\"trending_date\"].apply(lambda date: date[3:5]+\"-\"+date[-2:]+\"-20\"+date[:2]).head()"
   ]
  },
  {
   "cell_type": "code",
   "execution_count": 41,
   "id": "172041be",
   "metadata": {},
   "outputs": [
    {
     "data": {
      "text/plain": [
       "0    10-11-2017\n",
       "1    13-11-2017\n",
       "2    12-11-2017\n",
       "3    12-11-2017\n",
       "4    09-11-2017\n",
       "Name: publish_time, dtype: object"
      ]
     },
     "execution_count": 41,
     "metadata": {},
     "output_type": "execute_result"
    }
   ],
   "source": [
    "df[\"publish_time\"].apply(lambda date: date[8:10]+date[4:7]+\"-\"+date[:4]).head()"
   ]
  },
  {
   "cell_type": "code",
   "execution_count": 42,
   "id": "88a4b52f",
   "metadata": {},
   "outputs": [
    {
     "data": {
      "text/plain": [
       "0    17:00:03\n",
       "1    17:00:00\n",
       "2    19:05:24\n",
       "3    18:01:41\n",
       "4    11:04:14\n",
       "Name: publish_time, dtype: object"
      ]
     },
     "execution_count": 42,
     "metadata": {},
     "output_type": "execute_result"
    }
   ],
   "source": [
    "# Se necesitará extraer también la hora de publicación.\n",
    "df[\"publish_time\"].apply(lambda datetime: datetime[11:-5]).head()"
   ]
  },
  {
   "cell_type": "markdown",
   "id": "f929aca5",
   "metadata": {},
   "source": [
    "## Formateando la fecha"
   ]
  },
  {
   "cell_type": "code",
   "execution_count": 43,
   "id": "41869ab2",
   "metadata": {},
   "outputs": [],
   "source": [
    "df[\"trending_date\"] = df[\"trending_date\"].apply(lambda date: date[3:5]+\"-\"+date[-2:]+\"-20\"+date[:2])"
   ]
  },
  {
   "cell_type": "code",
   "execution_count": 44,
   "id": "b1fd0a56",
   "metadata": {},
   "outputs": [],
   "source": [
    "# Se necesitará extraer también la hora de publicación.\n",
    "df = df.rename(columns={\"publish_time\":\"publish_date\"})\n",
    "df[\"publish_time\"] = df[\"publish_date\"].apply(lambda datetime: datetime[11:-5])"
   ]
  },
  {
   "cell_type": "code",
   "execution_count": 45,
   "id": "45c8e6d1",
   "metadata": {},
   "outputs": [],
   "source": [
    "df[\"publish_date\"] = df[\"publish_date\"].apply(lambda date: date[8:10]+date[4:7]+\"-\"+date[:4])"
   ]
  },
  {
   "cell_type": "code",
   "execution_count": 46,
   "id": "77c73e16",
   "metadata": {},
   "outputs": [
    {
     "data": {
      "text/html": [
       "<div>\n",
       "<style scoped>\n",
       "    .dataframe tbody tr th:only-of-type {\n",
       "        vertical-align: middle;\n",
       "    }\n",
       "\n",
       "    .dataframe tbody tr th {\n",
       "        vertical-align: top;\n",
       "    }\n",
       "\n",
       "    .dataframe thead th {\n",
       "        text-align: right;\n",
       "    }\n",
       "</style>\n",
       "<table border=\"1\" class=\"dataframe\">\n",
       "  <thead>\n",
       "    <tr style=\"text-align: right;\">\n",
       "      <th></th>\n",
       "      <th>trending_date</th>\n",
       "      <th>publish_time</th>\n",
       "      <th>publish_date</th>\n",
       "    </tr>\n",
       "  </thead>\n",
       "  <tbody>\n",
       "    <tr>\n",
       "      <th>0</th>\n",
       "      <td>14-11-2017</td>\n",
       "      <td>17:00:03</td>\n",
       "      <td>10-11-2017</td>\n",
       "    </tr>\n",
       "    <tr>\n",
       "      <th>1</th>\n",
       "      <td>14-11-2017</td>\n",
       "      <td>17:00:00</td>\n",
       "      <td>13-11-2017</td>\n",
       "    </tr>\n",
       "    <tr>\n",
       "      <th>2</th>\n",
       "      <td>14-11-2017</td>\n",
       "      <td>19:05:24</td>\n",
       "      <td>12-11-2017</td>\n",
       "    </tr>\n",
       "    <tr>\n",
       "      <th>3</th>\n",
       "      <td>14-11-2017</td>\n",
       "      <td>18:01:41</td>\n",
       "      <td>12-11-2017</td>\n",
       "    </tr>\n",
       "    <tr>\n",
       "      <th>4</th>\n",
       "      <td>14-11-2017</td>\n",
       "      <td>11:04:14</td>\n",
       "      <td>09-11-2017</td>\n",
       "    </tr>\n",
       "  </tbody>\n",
       "</table>\n",
       "</div>"
      ],
      "text/plain": [
       "  trending_date publish_time publish_date\n",
       "0    14-11-2017     17:00:03   10-11-2017\n",
       "1    14-11-2017     17:00:00   13-11-2017\n",
       "2    14-11-2017     19:05:24   12-11-2017\n",
       "3    14-11-2017     18:01:41   12-11-2017\n",
       "4    14-11-2017     11:04:14   09-11-2017"
      ]
     },
     "execution_count": 46,
     "metadata": {},
     "output_type": "execute_result"
    }
   ],
   "source": [
    "df[[\"trending_date\", \"publish_time\", \"publish_date\"]].head()"
   ]
  },
  {
   "cell_type": "code",
   "execution_count": 47,
   "id": "1c73fbce",
   "metadata": {},
   "outputs": [
    {
     "data": {
      "text/plain": [
       "trending_date    0\n",
       "publish_time     0\n",
       "publish_date     0\n",
       "dtype: int64"
      ]
     },
     "execution_count": 47,
     "metadata": {},
     "output_type": "execute_result"
    }
   ],
   "source": [
    "df[[\"trending_date\", \"publish_time\", \"publish_date\"]].isna().sum()"
   ]
  },
  {
   "cell_type": "markdown",
   "id": "88ec1807",
   "metadata": {},
   "source": [
    "## Modificando el tipo de dato"
   ]
  },
  {
   "cell_type": "markdown",
   "id": "ddf2c26c",
   "metadata": {},
   "source": [
    "Al realizar la modificación del tipo de dato, el dtype **datetime** tiene un formato YY-MM-DD o YYYY-MM-DD, por lo que se cambiará a este formato (también válido según la consigna) al realizar la modificación de tipo de dato."
   ]
  },
  {
   "cell_type": "code",
   "execution_count": 48,
   "id": "9d753444",
   "metadata": {},
   "outputs": [],
   "source": [
    "df[\"trending_date\"] = pd.to_datetime(df[\"trending_date\"], format=\"%d-%m-%Y\")"
   ]
  },
  {
   "cell_type": "code",
   "execution_count": 49,
   "id": "5ece449b",
   "metadata": {},
   "outputs": [],
   "source": [
    "df[\"publish_date\"] = pd.to_datetime(df[\"publish_date\"], format=\"%d-%m-%Y\")"
   ]
  },
  {
   "cell_type": "code",
   "execution_count": 50,
   "id": "141ee29a",
   "metadata": {},
   "outputs": [
    {
     "name": "stdout",
     "output_type": "stream",
     "text": [
      "<class 'pandas.core.frame.DataFrame'>\n",
      "RangeIndex: 40881 entries, 0 to 40880\n",
      "Data columns (total 3 columns):\n",
      " #   Column         Non-Null Count  Dtype         \n",
      "---  ------         --------------  -----         \n",
      " 0   trending_date  40881 non-null  datetime64[ns]\n",
      " 1   publish_time   40881 non-null  object        \n",
      " 2   publish_date   40881 non-null  datetime64[ns]\n",
      "dtypes: datetime64[ns](2), object(1)\n",
      "memory usage: 958.3+ KB\n"
     ]
    }
   ],
   "source": [
    "df[[\"trending_date\", \"publish_time\", \"publish_date\"]].info()"
   ]
  },
  {
   "cell_type": "code",
   "execution_count": 51,
   "id": "fb7eb7ec",
   "metadata": {},
   "outputs": [
    {
     "data": {
      "text/plain": [
       "74"
      ]
     },
     "execution_count": 51,
     "metadata": {},
     "output_type": "execute_result"
    }
   ],
   "source": [
    "df[\"title_category\"].isna().sum()"
   ]
  },
  {
   "cell_type": "markdown",
   "id": "35f2f7d8",
   "metadata": {},
   "source": [
    "Existen registros para los cuales no se encontró la categoría asociada dentro del dataset de categorías. Por ello, se tendrá que tomar el valor de estas categorías del dataset de EE.UU."
   ]
  },
  {
   "cell_type": "markdown",
   "id": "12101c65",
   "metadata": {},
   "source": [
    "# Tratado de datos faltantes"
   ]
  },
  {
   "cell_type": "code",
   "execution_count": 52,
   "id": "6c2a23fc",
   "metadata": {},
   "outputs": [
    {
     "data": {
      "text/plain": [
       "description       1296\n",
       "title_category      74\n",
       "dtype: int64"
      ]
     },
     "execution_count": 52,
     "metadata": {},
     "output_type": "execute_result"
    }
   ],
   "source": [
    "df.isna().sum()[df.isna().sum() > 0]"
   ]
  },
  {
   "cell_type": "markdown",
   "id": "e0220f7c",
   "metadata": {},
   "source": [
    "Tanto la descripción como el título de la categoría presentan valores faltantes. \n",
    "\n",
    "Se tratará cada caso individualmente."
   ]
  },
  {
   "cell_type": "markdown",
   "id": "513b3d80",
   "metadata": {},
   "source": [
    "## Datos faltantes de título de categoría"
   ]
  },
  {
   "cell_type": "markdown",
   "id": "a334843a",
   "metadata": {},
   "source": [
    "### Obtener la información"
   ]
  },
  {
   "cell_type": "markdown",
   "id": "50e831a6",
   "metadata": {},
   "source": [
    "Se sabe que el documento .json de las categoría de EE.UU. debería contener la totalidad de categorías, por ello, se verificará si aquí se encuentra la(s) categoría(s) faltante(s)."
   ]
  },
  {
   "cell_type": "code",
   "execution_count": 53,
   "id": "3cfc2a1c",
   "metadata": {},
   "outputs": [],
   "source": [
    "url = \"https://raw.githubusercontent.com/z3r0st/EB-2022-1-CC50/main/data/US_category_id.json\"\n",
    "categories_US = pd.read_json(url)"
   ]
  },
  {
   "cell_type": "code",
   "execution_count": 54,
   "id": "947744bc",
   "metadata": {},
   "outputs": [],
   "source": [
    "cat_US = pd.DataFrame(categories_US[\"items\"].values.tolist())\n",
    "cat_US[\"channelId\"] = pd.DataFrame(cat_US[\"snippet\"].values.tolist())[\"channelId\"]\n",
    "cat_US[\"title\"] = pd.DataFrame(cat_US[\"snippet\"].values.tolist())[\"title\"]\n",
    "cat_US[\"assignable\"] = pd.DataFrame(cat_US[\"snippet\"].values.tolist())[\"assignable\"]\n",
    "del cat_US[\"snippet\"]"
   ]
  },
  {
   "cell_type": "code",
   "execution_count": 55,
   "id": "0f30444d",
   "metadata": {},
   "outputs": [
    {
     "data": {
      "text/html": [
       "<div>\n",
       "<style scoped>\n",
       "    .dataframe tbody tr th:only-of-type {\n",
       "        vertical-align: middle;\n",
       "    }\n",
       "\n",
       "    .dataframe tbody tr th {\n",
       "        vertical-align: top;\n",
       "    }\n",
       "\n",
       "    .dataframe thead th {\n",
       "        text-align: right;\n",
       "    }\n",
       "</style>\n",
       "<table border=\"1\" class=\"dataframe\">\n",
       "  <thead>\n",
       "    <tr style=\"text-align: right;\">\n",
       "      <th></th>\n",
       "      <th>kind</th>\n",
       "      <th>etag</th>\n",
       "      <th>id</th>\n",
       "      <th>channelId</th>\n",
       "      <th>title</th>\n",
       "      <th>assignable</th>\n",
       "    </tr>\n",
       "  </thead>\n",
       "  <tbody>\n",
       "    <tr>\n",
       "      <th>0</th>\n",
       "      <td>youtube#videoCategory</td>\n",
       "      <td>\"m2yskBQFythfE4irbTIeOgYYfBU/Xy1mB4_yLrHy_BmKm...</td>\n",
       "      <td>1</td>\n",
       "      <td>UCBR8-60-B28hp2BmDPdntcQ</td>\n",
       "      <td>Film &amp; Animation</td>\n",
       "      <td>True</td>\n",
       "    </tr>\n",
       "    <tr>\n",
       "      <th>1</th>\n",
       "      <td>youtube#videoCategory</td>\n",
       "      <td>\"m2yskBQFythfE4irbTIeOgYYfBU/UZ1oLIIz2dxIhO45Z...</td>\n",
       "      <td>2</td>\n",
       "      <td>UCBR8-60-B28hp2BmDPdntcQ</td>\n",
       "      <td>Autos &amp; Vehicles</td>\n",
       "      <td>True</td>\n",
       "    </tr>\n",
       "    <tr>\n",
       "      <th>2</th>\n",
       "      <td>youtube#videoCategory</td>\n",
       "      <td>\"m2yskBQFythfE4irbTIeOgYYfBU/nqRIq97-xe5XRZTxb...</td>\n",
       "      <td>10</td>\n",
       "      <td>UCBR8-60-B28hp2BmDPdntcQ</td>\n",
       "      <td>Music</td>\n",
       "      <td>True</td>\n",
       "    </tr>\n",
       "    <tr>\n",
       "      <th>3</th>\n",
       "      <td>youtube#videoCategory</td>\n",
       "      <td>\"m2yskBQFythfE4irbTIeOgYYfBU/HwXKamM1Q20q9BN-o...</td>\n",
       "      <td>15</td>\n",
       "      <td>UCBR8-60-B28hp2BmDPdntcQ</td>\n",
       "      <td>Pets &amp; Animals</td>\n",
       "      <td>True</td>\n",
       "    </tr>\n",
       "    <tr>\n",
       "      <th>4</th>\n",
       "      <td>youtube#videoCategory</td>\n",
       "      <td>\"m2yskBQFythfE4irbTIeOgYYfBU/9GQMSRjrZdHeb1OEM...</td>\n",
       "      <td>17</td>\n",
       "      <td>UCBR8-60-B28hp2BmDPdntcQ</td>\n",
       "      <td>Sports</td>\n",
       "      <td>True</td>\n",
       "    </tr>\n",
       "  </tbody>\n",
       "</table>\n",
       "</div>"
      ],
      "text/plain": [
       "                    kind                                               etag  \\\n",
       "0  youtube#videoCategory  \"m2yskBQFythfE4irbTIeOgYYfBU/Xy1mB4_yLrHy_BmKm...   \n",
       "1  youtube#videoCategory  \"m2yskBQFythfE4irbTIeOgYYfBU/UZ1oLIIz2dxIhO45Z...   \n",
       "2  youtube#videoCategory  \"m2yskBQFythfE4irbTIeOgYYfBU/nqRIq97-xe5XRZTxb...   \n",
       "3  youtube#videoCategory  \"m2yskBQFythfE4irbTIeOgYYfBU/HwXKamM1Q20q9BN-o...   \n",
       "4  youtube#videoCategory  \"m2yskBQFythfE4irbTIeOgYYfBU/9GQMSRjrZdHeb1OEM...   \n",
       "\n",
       "   id                 channelId             title  assignable  \n",
       "0   1  UCBR8-60-B28hp2BmDPdntcQ  Film & Animation        True  \n",
       "1   2  UCBR8-60-B28hp2BmDPdntcQ  Autos & Vehicles        True  \n",
       "2  10  UCBR8-60-B28hp2BmDPdntcQ             Music        True  \n",
       "3  15  UCBR8-60-B28hp2BmDPdntcQ    Pets & Animals        True  \n",
       "4  17  UCBR8-60-B28hp2BmDPdntcQ            Sports        True  "
      ]
     },
     "execution_count": 55,
     "metadata": {},
     "output_type": "execute_result"
    }
   ],
   "source": [
    "cat_US.head()"
   ]
  },
  {
   "cell_type": "code",
   "execution_count": 56,
   "id": "5285ea60",
   "metadata": {},
   "outputs": [
    {
     "data": {
      "text/plain": [
       "31"
      ]
     },
     "execution_count": 56,
     "metadata": {},
     "output_type": "execute_result"
    }
   ],
   "source": [
    "cat_US[\"title\"].nunique()"
   ]
  },
  {
   "cell_type": "code",
   "execution_count": 57,
   "id": "3b455007",
   "metadata": {},
   "outputs": [
    {
     "data": {
      "text/plain": [
       "32"
      ]
     },
     "execution_count": 57,
     "metadata": {},
     "output_type": "execute_result"
    }
   ],
   "source": [
    "cat_US[\"title\"].count()"
   ]
  },
  {
   "cell_type": "markdown",
   "id": "fb7d8a02",
   "metadata": {},
   "source": [
    "Se identifica que el dataset de categorías de EE.UU. tiene 1 categoría más que el de Canadá. Se intuye que esta categoría es la correspondiente a los 74 registros faltantes."
   ]
  },
  {
   "cell_type": "markdown",
   "id": "e278f524",
   "metadata": {},
   "source": [
    "### Comprobar que es la información faltante"
   ]
  },
  {
   "cell_type": "code",
   "execution_count": 58,
   "id": "6e99d163",
   "metadata": {},
   "outputs": [
    {
     "name": "stdout",
     "output_type": "stream",
     "text": [
      "Nonprofits & Activism\n"
     ]
    }
   ],
   "source": [
    "for categorie in cat_US[\"title\"].values.tolist():\n",
    "    if categorie not in cat[\"title\"].values.tolist():\n",
    "        print(categorie)"
   ]
  },
  {
   "cell_type": "code",
   "execution_count": 59,
   "id": "261189ab",
   "metadata": {},
   "outputs": [],
   "source": [
    "cat_US = cat_US.set_index(\"id\")\n",
    "cat_US.index = cat_US.index.astype(int)"
   ]
  },
  {
   "cell_type": "code",
   "execution_count": 60,
   "id": "3ddb2e8d",
   "metadata": {},
   "outputs": [
    {
     "data": {
      "text/plain": [
       "id\n",
       "29    Nonprofits & Activism\n",
       "Name: title, dtype: object"
      ]
     },
     "execution_count": 60,
     "metadata": {},
     "output_type": "execute_result"
    }
   ],
   "source": [
    "cat_US[cat_US[\"title\"] == \"Nonprofits & Activism\"][\"title\"]"
   ]
  },
  {
   "cell_type": "code",
   "execution_count": 61,
   "id": "e4967b51",
   "metadata": {},
   "outputs": [
    {
     "data": {
      "text/plain": [
       "29    74\n",
       "Name: category_id, dtype: int64"
      ]
     },
     "execution_count": 61,
     "metadata": {},
     "output_type": "execute_result"
    }
   ],
   "source": [
    "df[df[\"title_category\"].isna()][\"category_id\"].value_counts()"
   ]
  },
  {
   "cell_type": "markdown",
   "id": "356ece28",
   "metadata": {},
   "source": [
    "Aquí se ha comprobado que efectivamente el valor de título en los registros del DataFrame es \"Nonprofits & Activism\""
   ]
  },
  {
   "cell_type": "markdown",
   "id": "e8947a5f",
   "metadata": {},
   "source": [
    "### Reemplazar los valores faltantes en el DataFrame"
   ]
  },
  {
   "cell_type": "markdown",
   "id": "0aff4c1b",
   "metadata": {},
   "source": [
    "Ya que se ha verificado que se ha obtenido la información faltante de otra fuente relacionada, se puede reemplazar directamente con el valor hallado, sin necesidad de eliminar los registros ni aplicar una técnica de reemplazo (se están usando los valores reales, no unos simulados)."
   ]
  },
  {
   "cell_type": "code",
   "execution_count": 62,
   "id": "c4515fb5",
   "metadata": {},
   "outputs": [],
   "source": [
    "df[\"title_category\"].fillna(value=cat_US.loc[29][\"title\"], inplace=True)"
   ]
  },
  {
   "cell_type": "code",
   "execution_count": 63,
   "id": "2e605786",
   "metadata": {},
   "outputs": [
    {
     "data": {
      "text/plain": [
       "0"
      ]
     },
     "execution_count": 63,
     "metadata": {},
     "output_type": "execute_result"
    }
   ],
   "source": [
    "df[\"title_category\"].isna().sum()"
   ]
  },
  {
   "cell_type": "markdown",
   "id": "56dbf68f",
   "metadata": {},
   "source": [
    "Se llenó exitosamente la información de todas las categorías."
   ]
  },
  {
   "cell_type": "markdown",
   "id": "7f4f2919",
   "metadata": {},
   "source": [
    "## Datos faltantes en Descripción"
   ]
  },
  {
   "cell_type": "code",
   "execution_count": 64,
   "id": "50acc67d",
   "metadata": {},
   "outputs": [
    {
     "data": {
      "text/plain": [
       "Index(['video_id', 'trending_date', 'title', 'channel_title', 'category_id',\n",
       "       'publish_date', 'tags', 'views', 'likes', 'dislikes', 'comment_count',\n",
       "       'thumbnail_link', 'comments_disabled', 'ratings_disabled',\n",
       "       'video_error_or_removed', 'description', 'state', 'lat', 'lon',\n",
       "       'geometry', 'title_category', 'publish_time'],\n",
       "      dtype='object')"
      ]
     },
     "execution_count": 64,
     "metadata": {},
     "output_type": "execute_result"
    }
   ],
   "source": [
    "df.columns"
   ]
  },
  {
   "cell_type": "code",
   "execution_count": 100,
   "id": "bf36e3c7",
   "metadata": {},
   "outputs": [
    {
     "data": {
      "text/plain": [
       "0       Eminem's new track Walk on Water ft. Beyoncé i...\n",
       "214     Eminem's new track Walk on Water ft. Beyoncé i...\n",
       "498     Eminem's new track Walk on Water ft. Beyoncé i...\n",
       "791     Eminem's new track Walk on Water ft. Beyoncé i...\n",
       "1226    Eminem's official 2017 SNL performance.\\n \\nWa...\n",
       "Name: description, dtype: object"
      ]
     },
     "execution_count": 100,
     "metadata": {},
     "output_type": "execute_result"
    }
   ],
   "source": [
    "df[df[\"channel_title\"] == df.iloc[0][\"channel_title\"]][\"description\"].head()"
   ]
  },
  {
   "cell_type": "code",
   "execution_count": 66,
   "id": "b41111ed",
   "metadata": {},
   "outputs": [
    {
     "data": {
      "text/plain": [
       "The View                        142\n",
       "The Real Daytime                 49\n",
       "Croton MEGA HIT 克頓傳媒2017爆款大劇     43\n",
       "Motion Station                   39\n",
       "Shalom Entertainment             38\n",
       "Name: channel_title, dtype: int64"
      ]
     },
     "execution_count": 66,
     "metadata": {},
     "output_type": "execute_result"
    }
   ],
   "source": [
    "df[df[\"description\"].isna()][\"channel_title\"].value_counts().head()"
   ]
  },
  {
   "cell_type": "code",
   "execution_count": 67,
   "id": "5322a65a",
   "metadata": {},
   "outputs": [
    {
     "data": {
      "text/plain": [
       "149"
      ]
     },
     "execution_count": 67,
     "metadata": {},
     "output_type": "execute_result"
    }
   ],
   "source": [
    "df[df[\"channel_title\"] == \"The View\"][\"channel_title\"].count()"
   ]
  },
  {
   "cell_type": "markdown",
   "id": "3efb2fa5",
   "metadata": {},
   "source": [
    "Para \"The View\", de 147 registros, 142 presentan descripción faltante.\n",
    "\n",
    "Esto nos indica, por un lado, que sí existen registros con descripción para el canal, lo cual significa que sería posible llenar estos faltantes con cierto grado de precisión."
   ]
  },
  {
   "cell_type": "code",
   "execution_count": 68,
   "id": "158a3b7f",
   "metadata": {},
   "outputs": [
    {
     "data": {
      "text/plain": [
       "470      The View co-hosts share their responses to tro...\n",
       "18382    “This is a show where we respect one another a...\n",
       "21427    The View co-hosts discuss whether the presiden...\n",
       "22175    Clinton joined The View to discuss what she'd ...\n",
       "28552             The word of the day in America is leaks.\n",
       "28833             The word of the day in America is leaks.\n",
       "33685    MORE FROM 'THE VIEW':Full episodes: http://abc...\n",
       "Name: description, dtype: object"
      ]
     },
     "execution_count": 68,
     "metadata": {},
     "output_type": "execute_result"
    }
   ],
   "source": [
    "df[(df[\"description\"].notna()) & (df[\"channel_title\"] == \"The View\")][\"description\"]"
   ]
  },
  {
   "cell_type": "markdown",
   "id": "bb773127",
   "metadata": {},
   "source": [
    "También se analizará las características de los registros del segundo canal con mayor cantidad de registros faltantes."
   ]
  },
  {
   "cell_type": "code",
   "execution_count": 69,
   "id": "1d82bb80",
   "metadata": {},
   "outputs": [
    {
     "data": {
      "text/plain": [
       "133"
      ]
     },
     "execution_count": 69,
     "metadata": {},
     "output_type": "execute_result"
    }
   ],
   "source": [
    "df[df[\"channel_title\"] == \"The Real Daytime\"][\"channel_title\"].count()"
   ]
  },
  {
   "cell_type": "markdown",
   "id": "5a96c282",
   "metadata": {},
   "source": [
    "Para \"The Real Daytime\", de 133 registros, 49 presentan descripción faltante.\n",
    "\n",
    "Esto nos indica, por un lado, que existen bastantes registros con descripción para el canal, lo cual significa que sería posible llenar estos faltantes, pero es necesario comprobar si siempre se usa la misma descripción o esta varía."
   ]
  },
  {
   "cell_type": "code",
   "execution_count": 70,
   "id": "483f195e",
   "metadata": {},
   "outputs": [
    {
     "data": {
      "text/plain": [
       "For how long could you be celibate?                                                     3\n",
       "Do you think if a man truly loves his woman, another woman can take him away?           3\n",
       "What do you think of Fergie's  version of the National Anthem?                          2\n",
       "Do you think a child should automatically get the father's last name?                   2\n",
       "If you had reservations before getting married, would you still walk down the aisle?    2\n",
       "Name: description, dtype: int64"
      ]
     },
     "execution_count": 70,
     "metadata": {},
     "output_type": "execute_result"
    }
   ],
   "source": [
    "df[(df[\"description\"].notna()) & (df[\"channel_title\"] == \"The Real Daytime\")][\"description\"].value_counts().head()"
   ]
  },
  {
   "cell_type": "markdown",
   "id": "9311888b",
   "metadata": {},
   "source": [
    "Como se puede visualizar, la moda tiene 3 apariciones, de un total de 84. De modo que no se presentan una descripción generalizada para el canal, es decir, la moda no es descriptiva del conjunto de descripciones. \n",
    "\n",
    "Por ello, se concluye como mejor estrategia, asignarle a las descripciones faltantes, el valor de una descripción del mismo canal escogida aleatoriamente."
   ]
  },
  {
   "cell_type": "code",
   "execution_count": 85,
   "id": "c2145bf3",
   "metadata": {},
   "outputs": [],
   "source": [
    "import random"
   ]
  },
  {
   "cell_type": "code",
   "execution_count": 92,
   "id": "3d1b893a",
   "metadata": {},
   "outputs": [],
   "source": [
    "for channel in set(df[df[\"description\"].isna()][\"channel_title\"].values.tolist()):\n",
    "    n = len(df[(df[\"description\"].notna()) & (df[\"channel_title\"] == channel)])\n",
    "    if n == 0: continue\n",
    "    N = len(df[(df[\"description\"].isna()) & (df[\"channel_title\"] == channel)])\n",
    "    \n",
    "    new_values = []\n",
    "    while(N > n):\n",
    "        new_values += random.sample(df[(df[\"description\"].notna()) & (df[\"channel_title\"] == channel)][\"description\"].values.tolist(), k=n)\n",
    "        N -= n\n",
    "    new_values += random.sample(df[(df[\"description\"].notna()) & (df[\"channel_title\"] == channel)][\"description\"].values.tolist(), k=N)\n",
    "    \n",
    "    new_values = pd.Series(data=new_values, index=df[(df[\"description\"].isna()) & (df[\"channel_title\"] == channel)].index)\n",
    "    for i in new_values.index:\n",
    "        df.loc[i, \"description\"] = new_values.loc[i]\n",
    "#     df[(df[\"description\"].isna()) & (df[\"channel_title\"] == channel)][\"description\"] = pd.Series(new_values)"
   ]
  },
  {
   "cell_type": "code",
   "execution_count": 101,
   "id": "25184dd1",
   "metadata": {},
   "outputs": [
    {
     "data": {
      "text/plain": [
       "722"
      ]
     },
     "execution_count": 101,
     "metadata": {},
     "output_type": "execute_result"
    }
   ],
   "source": [
    "df[\"description\"].isna().sum()"
   ]
  },
  {
   "cell_type": "code",
   "execution_count": 99,
   "id": "a07a3879",
   "metadata": {},
   "outputs": [
    {
     "name": "stdout",
     "output_type": "stream",
     "text": [
      "In total, 303 channels have videos registered without description, from which 303 haven't registered a description in any video\n"
     ]
    }
   ],
   "source": [
    "channel_count, without_description_count = 0, 0\n",
    "for channel in set(df[df[\"description\"].isna()][\"channel_title\"].values.tolist()):\n",
    "    channel_count += 1\n",
    "    without_description_count += 1 > sum(df[df[\"channel_title\"] == channel][\"description\"].notna())\n",
    "print(f\"In total, {channel_count} channels have videos registered without description, from which {without_description_count} haven't registered a description in any video\")"
   ]
  },
  {
   "cell_type": "markdown",
   "id": "b4d4a17b",
   "metadata": {},
   "source": [
    "Todos los valores faltantes son de canales que no publican descripciones para ninguno de sus videos, por ello se considera apropiado dejar ese valor como faltante.\n",
    "\n",
    "No se ha decidido eliminar estos registros porque la descripción no es un dato importante para el conocimiento que buscamos obtener a partir de la exploración y procesamiento de los datos."
   ]
  },
  {
   "cell_type": "markdown",
   "id": "bf8997b8",
   "metadata": {},
   "source": [
    "## Ordenar y organizar el DataFrame"
   ]
  },
  {
   "cell_type": "code",
   "execution_count": null,
   "id": "ab93317b",
   "metadata": {},
   "outputs": [],
   "source": []
  }
 ],
 "metadata": {
  "kernelspec": {
   "display_name": "Python 3 (ipykernel)",
   "language": "python",
   "name": "python3"
  },
  "language_info": {
   "codemirror_mode": {
    "name": "ipython",
    "version": 3
   },
   "file_extension": ".py",
   "mimetype": "text/x-python",
   "name": "python",
   "nbconvert_exporter": "python",
   "pygments_lexer": "ipython3",
   "version": "3.9.7"
  }
 },
 "nbformat": 4,
 "nbformat_minor": 5
}
